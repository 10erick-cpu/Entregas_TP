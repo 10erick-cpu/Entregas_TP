{
  "nbformat": 4,
  "nbformat_minor": 0,
  "metadata": {
    "colab": {
      "provenance": [],
      "authorship_tag": "ABX9TyNmjjGBlIhcjlYz7P0Q+qcb",
      "include_colab_link": true
    },
    "kernelspec": {
      "name": "python3",
      "display_name": "Python 3"
    },
    "language_info": {
      "name": "python"
    }
  },
  "cells": [
    {
      "cell_type": "markdown",
      "metadata": {
        "id": "view-in-github",
        "colab_type": "text"
      },
      "source": [
        "<a href=\"https://colab.research.google.com/github/10erick-cpu/Entregas_TP/blob/main/TP6/TP6__Regresi%C3%B3n_Lineal_.ipynb\" target=\"_parent\"><img src=\"https://colab.research.google.com/assets/colab-badge.svg\" alt=\"Open In Colab\"/></a>"
      ]
    },
    {
      "cell_type": "markdown",
      "source": [
        "# **Trabajo Práctico VI - Regresión Lineal**"
      ],
      "metadata": {
        "id": "4-shn83HLiec"
      }
    },
    {
      "cell_type": "markdown",
      "source": [
        "### **Alumno** : Erick Macote Yparraguirre\n",
        "### **mail** : leonelerick59@gmail.com\n",
        "### **Profesor** : Ing. Valentin Barcos\n"
      ],
      "metadata": {
        "id": "Q1E4r-SS38v0"
      }
    },
    {
      "cell_type": "markdown",
      "metadata": {
        "id": "D97rWl-xKSZD"
      },
      "source": [
        "# **Librerias Usadas**"
      ]
    },
    {
      "cell_type": "code",
      "source": [
        "import pandas as pd\n",
        "import numpy as np\n",
        "import seaborn as sns\n",
        "import seaborn\n",
        "import matplotlib.pyplot as plt\n",
        "from matplotlib.colors import ListedColormap\n",
        "\n",
        "import statsmodels.api as sm\n",
        "\n",
        "from matplotlib import pyplot as plt\n",
        "from matplotlib.pyplot import figure\n",
        "\n",
        "from matplotlib import style\n",
        "style.use('ggplot') or plt.style.use('ggplot')\n",
        "\n",
        "from scipy.stats import norm\n",
        "from sklearn.preprocessing import StandardScaler\n",
        "from sklearn.model_selection import train_test_split\n",
        "from sklearn.linear_model import LinearRegression\n",
        "from sklearn.ensemble import RandomForestRegressor\n",
        "from sklearn.metrics import mean_squared_error, r2_score\n",
        "from sklearn.linear_model import Lasso, LassoCV\n",
        "from sklearn.linear_model import Ridge, RidgeCV\n",
        "from sklearn.linear_model import ElasticNet, ElasticNetCV\n",
        "from sklearn.preprocessing import normalize\n",
        "\n",
        "import warnings\n",
        "warnings.filterwarnings('ignore')"
      ],
      "metadata": {
        "id": "o7g_4y3vO7v3"
      },
      "execution_count": 1,
      "outputs": []
    },
    {
      "cell_type": "markdown",
      "source": [
        "# **Ejercicio**"
      ],
      "metadata": {
        "id": "8NR2G8jdRdnO"
      }
    },
    {
      "cell_type": "markdown",
      "source": [
        "Elegir uno de entre los siguientes proyectos sugeridos y aplicar regresión\n",
        "para resolverlo. Cada proyecto tiene datasets de diferentes características\n",
        "y dificultad (indicada con el semaforito).Para los más sencillos trabajar individualmente y aplicar más de unmétodo de regresión, utilizar diferentes parámetros, compararevaluaciones. Para los más complejos, trabajar en grupos de dos personas y aplicar un único modelo.\n",
        "\n",
        "Si encuentran algún otro caso de regresión (que no esté totalmente\n",
        "resuelto) lo pueden proponer para negociarlo con la cátedra."
      ],
      "metadata": {
        "id": "36eZoxNUQnja"
      }
    },
    {
      "cell_type": "markdown",
      "source": [
        "# **Boston Housing Prices**\n",
        "\n",
        "\n",
        "El dataset contiene 506 observaciones de 14 variables y precios de venta de propiedades en la ciudad de Boston. El objetivo es conocer la influencia de cada variable y elaborar un modelo que prediga precios de venta.\n",
        "\n",
        "**Notebook Asociado** :\n",
        "\n",
        "https://github.com/manlio99/Materia-deaprendizaje/tree/master/3_MidtermProjects/ProjectBHP\n",
        "\n"
      ],
      "metadata": {
        "id": "X3r3kD3ESWw5"
      }
    },
    {
      "cell_type": "markdown",
      "source": [
        "# **Dataset a utilizar - Boston Housing Prices**"
      ],
      "metadata": {
        "id": "X18x84WmXKqW"
      }
    },
    {
      "cell_type": "code",
      "source": [
        "df = pd.read_csv(\"https://raw.githubusercontent.com/emmanueliarussi/DataScienceCapstone/master/3_MidtermProjects/ProjectBHP/data/housing_data.csv\")\n",
        "df.head(30)\n"
      ],
      "metadata": {
        "colab": {
          "base_uri": "https://localhost:8080/",
          "height": 990
        },
        "id": "w5TYrTWYVdnR",
        "outputId": "08f90d22-8419-47b5-b279-a594701cf409"
      },
      "execution_count": 2,
      "outputs": [
        {
          "output_type": "execute_result",
          "data": {
            "text/plain": [
              "       CRIM    ZN  INDUS  CHAS    NOX     RM    AGE     DIS  RAD  TAX  \\\n",
              "0   0.00632  18.0   2.31   0.0  0.538  6.575   65.2  4.0900    1  296   \n",
              "1   0.02731   0.0   7.07   0.0  0.469  6.421   78.9  4.9671    2  242   \n",
              "2   0.02729   0.0   7.07   0.0  0.469  7.185   61.1  4.9671    2  242   \n",
              "3   0.03237   0.0   2.18   0.0  0.458  6.998   45.8  6.0622    3  222   \n",
              "4   0.06905   0.0   2.18   0.0  0.458  7.147   54.2  6.0622    3  222   \n",
              "5   0.02985   0.0   2.18   0.0  0.458  6.430   58.7  6.0622    3  222   \n",
              "6   0.08829  12.5   7.87   NaN  0.524  6.012   66.6  5.5605    5  311   \n",
              "7   0.14455  12.5   7.87   0.0  0.524  6.172   96.1  5.9505    5  311   \n",
              "8   0.21124  12.5   7.87   0.0  0.524  5.631  100.0  6.0821    5  311   \n",
              "9   0.17004  12.5   7.87   NaN  0.524  6.004   85.9  6.5921    5  311   \n",
              "10  0.22489  12.5   7.87   0.0  0.524  6.377   94.3  6.3467    5  311   \n",
              "11  0.11747  12.5   7.87   0.0  0.524  6.009   82.9  6.2267    5  311   \n",
              "12  0.09378  12.5   7.87   0.0  0.524  5.889   39.0  5.4509    5  311   \n",
              "13  0.62976   0.0   8.14   0.0  0.538  5.949   61.8  4.7075    4  307   \n",
              "14  0.63796   0.0   8.14   NaN  0.538  6.096   84.5  4.4619    4  307   \n",
              "15  0.62739   0.0   8.14   0.0  0.538  5.834   56.5  4.4986    4  307   \n",
              "16  1.05393   0.0   8.14   0.0  0.538  5.935   29.3  4.4986    4  307   \n",
              "17  0.78420   0.0   8.14   0.0  0.538  5.990   81.7  4.2579    4  307   \n",
              "18  0.80271   0.0   8.14   0.0  0.538  5.456   36.6  3.7965    4  307   \n",
              "19  0.72580   0.0   8.14   0.0  0.538  5.727   69.5  3.7965    4  307   \n",
              "20  1.25179   0.0   8.14   0.0  0.538  5.570   98.1  3.7979    4  307   \n",
              "21  0.85204   0.0   8.14   0.0  0.538  5.965   89.2  4.0123    4  307   \n",
              "22  1.23247   0.0   8.14   0.0  0.538  6.142   91.7  3.9769    4  307   \n",
              "23  0.98843   0.0   8.14   0.0  0.538  5.813  100.0  4.0952    4  307   \n",
              "24  0.75026   0.0   8.14   0.0  0.538  5.924   94.1  4.3996    4  307   \n",
              "25  0.84054   0.0   8.14   0.0  0.538  5.599   85.7  4.4546    4  307   \n",
              "26  0.67191   0.0   8.14   0.0  0.538  5.813   90.3  4.6820    4  307   \n",
              "27  0.95577   0.0   8.14   0.0  0.538  6.047   88.8  4.4534    4  307   \n",
              "28  0.77299   0.0   8.14   0.0  0.538  6.495   94.4  4.4547    4  307   \n",
              "29  1.00245   0.0   8.14   0.0  0.538  6.674   87.3  4.2390    4  307   \n",
              "\n",
              "    PTRATIO       B  LSTAT  MEDV  \n",
              "0      15.3  396.90   4.98  24.0  \n",
              "1      17.8  396.90   9.14  21.6  \n",
              "2      17.8  392.83   4.03  34.7  \n",
              "3      18.7  394.63   2.94  33.4  \n",
              "4      18.7  396.90    NaN  36.2  \n",
              "5      18.7  394.12   5.21  28.7  \n",
              "6      15.2  395.60  12.43  22.9  \n",
              "7      15.2  396.90  19.15  27.1  \n",
              "8      15.2  386.63  29.93  16.5  \n",
              "9      15.2  386.71  17.10  18.9  \n",
              "10     15.2  392.52  20.45  15.0  \n",
              "11     15.2  396.90  13.27  18.9  \n",
              "12     15.2  390.50  15.71  21.7  \n",
              "13     21.0  396.90   8.26  20.4  \n",
              "14     21.0  380.02  10.26  18.2  \n",
              "15     21.0  395.62   8.47  19.9  \n",
              "16     21.0  386.85   6.58  23.1  \n",
              "17     21.0  386.75  14.67  17.5  \n",
              "18     21.0  288.99  11.69  20.2  \n",
              "19     21.0  390.95  11.28  18.2  \n",
              "20     21.0  376.57  21.02  13.6  \n",
              "21     21.0  392.53  13.83  19.6  \n",
              "22     21.0  396.90  18.72  15.2  \n",
              "23     21.0  394.54  19.88  14.5  \n",
              "24     21.0  394.33  16.30  15.6  \n",
              "25     21.0  303.42  16.51  13.9  \n",
              "26     21.0  376.88  14.81  16.6  \n",
              "27     21.0  306.38  17.28  14.8  \n",
              "28     21.0  387.94  12.80  18.4  \n",
              "29     21.0  380.23  11.98  21.0  "
            ],
            "text/html": [
              "\n",
              "  <div id=\"df-01f1c7e1-89e5-4289-a497-6ef51db8580e\">\n",
              "    <div class=\"colab-df-container\">\n",
              "      <div>\n",
              "<style scoped>\n",
              "    .dataframe tbody tr th:only-of-type {\n",
              "        vertical-align: middle;\n",
              "    }\n",
              "\n",
              "    .dataframe tbody tr th {\n",
              "        vertical-align: top;\n",
              "    }\n",
              "\n",
              "    .dataframe thead th {\n",
              "        text-align: right;\n",
              "    }\n",
              "</style>\n",
              "<table border=\"1\" class=\"dataframe\">\n",
              "  <thead>\n",
              "    <tr style=\"text-align: right;\">\n",
              "      <th></th>\n",
              "      <th>CRIM</th>\n",
              "      <th>ZN</th>\n",
              "      <th>INDUS</th>\n",
              "      <th>CHAS</th>\n",
              "      <th>NOX</th>\n",
              "      <th>RM</th>\n",
              "      <th>AGE</th>\n",
              "      <th>DIS</th>\n",
              "      <th>RAD</th>\n",
              "      <th>TAX</th>\n",
              "      <th>PTRATIO</th>\n",
              "      <th>B</th>\n",
              "      <th>LSTAT</th>\n",
              "      <th>MEDV</th>\n",
              "    </tr>\n",
              "  </thead>\n",
              "  <tbody>\n",
              "    <tr>\n",
              "      <th>0</th>\n",
              "      <td>0.00632</td>\n",
              "      <td>18.0</td>\n",
              "      <td>2.31</td>\n",
              "      <td>0.0</td>\n",
              "      <td>0.538</td>\n",
              "      <td>6.575</td>\n",
              "      <td>65.2</td>\n",
              "      <td>4.0900</td>\n",
              "      <td>1</td>\n",
              "      <td>296</td>\n",
              "      <td>15.3</td>\n",
              "      <td>396.90</td>\n",
              "      <td>4.98</td>\n",
              "      <td>24.0</td>\n",
              "    </tr>\n",
              "    <tr>\n",
              "      <th>1</th>\n",
              "      <td>0.02731</td>\n",
              "      <td>0.0</td>\n",
              "      <td>7.07</td>\n",
              "      <td>0.0</td>\n",
              "      <td>0.469</td>\n",
              "      <td>6.421</td>\n",
              "      <td>78.9</td>\n",
              "      <td>4.9671</td>\n",
              "      <td>2</td>\n",
              "      <td>242</td>\n",
              "      <td>17.8</td>\n",
              "      <td>396.90</td>\n",
              "      <td>9.14</td>\n",
              "      <td>21.6</td>\n",
              "    </tr>\n",
              "    <tr>\n",
              "      <th>2</th>\n",
              "      <td>0.02729</td>\n",
              "      <td>0.0</td>\n",
              "      <td>7.07</td>\n",
              "      <td>0.0</td>\n",
              "      <td>0.469</td>\n",
              "      <td>7.185</td>\n",
              "      <td>61.1</td>\n",
              "      <td>4.9671</td>\n",
              "      <td>2</td>\n",
              "      <td>242</td>\n",
              "      <td>17.8</td>\n",
              "      <td>392.83</td>\n",
              "      <td>4.03</td>\n",
              "      <td>34.7</td>\n",
              "    </tr>\n",
              "    <tr>\n",
              "      <th>3</th>\n",
              "      <td>0.03237</td>\n",
              "      <td>0.0</td>\n",
              "      <td>2.18</td>\n",
              "      <td>0.0</td>\n",
              "      <td>0.458</td>\n",
              "      <td>6.998</td>\n",
              "      <td>45.8</td>\n",
              "      <td>6.0622</td>\n",
              "      <td>3</td>\n",
              "      <td>222</td>\n",
              "      <td>18.7</td>\n",
              "      <td>394.63</td>\n",
              "      <td>2.94</td>\n",
              "      <td>33.4</td>\n",
              "    </tr>\n",
              "    <tr>\n",
              "      <th>4</th>\n",
              "      <td>0.06905</td>\n",
              "      <td>0.0</td>\n",
              "      <td>2.18</td>\n",
              "      <td>0.0</td>\n",
              "      <td>0.458</td>\n",
              "      <td>7.147</td>\n",
              "      <td>54.2</td>\n",
              "      <td>6.0622</td>\n",
              "      <td>3</td>\n",
              "      <td>222</td>\n",
              "      <td>18.7</td>\n",
              "      <td>396.90</td>\n",
              "      <td>NaN</td>\n",
              "      <td>36.2</td>\n",
              "    </tr>\n",
              "    <tr>\n",
              "      <th>5</th>\n",
              "      <td>0.02985</td>\n",
              "      <td>0.0</td>\n",
              "      <td>2.18</td>\n",
              "      <td>0.0</td>\n",
              "      <td>0.458</td>\n",
              "      <td>6.430</td>\n",
              "      <td>58.7</td>\n",
              "      <td>6.0622</td>\n",
              "      <td>3</td>\n",
              "      <td>222</td>\n",
              "      <td>18.7</td>\n",
              "      <td>394.12</td>\n",
              "      <td>5.21</td>\n",
              "      <td>28.7</td>\n",
              "    </tr>\n",
              "    <tr>\n",
              "      <th>6</th>\n",
              "      <td>0.08829</td>\n",
              "      <td>12.5</td>\n",
              "      <td>7.87</td>\n",
              "      <td>NaN</td>\n",
              "      <td>0.524</td>\n",
              "      <td>6.012</td>\n",
              "      <td>66.6</td>\n",
              "      <td>5.5605</td>\n",
              "      <td>5</td>\n",
              "      <td>311</td>\n",
              "      <td>15.2</td>\n",
              "      <td>395.60</td>\n",
              "      <td>12.43</td>\n",
              "      <td>22.9</td>\n",
              "    </tr>\n",
              "    <tr>\n",
              "      <th>7</th>\n",
              "      <td>0.14455</td>\n",
              "      <td>12.5</td>\n",
              "      <td>7.87</td>\n",
              "      <td>0.0</td>\n",
              "      <td>0.524</td>\n",
              "      <td>6.172</td>\n",
              "      <td>96.1</td>\n",
              "      <td>5.9505</td>\n",
              "      <td>5</td>\n",
              "      <td>311</td>\n",
              "      <td>15.2</td>\n",
              "      <td>396.90</td>\n",
              "      <td>19.15</td>\n",
              "      <td>27.1</td>\n",
              "    </tr>\n",
              "    <tr>\n",
              "      <th>8</th>\n",
              "      <td>0.21124</td>\n",
              "      <td>12.5</td>\n",
              "      <td>7.87</td>\n",
              "      <td>0.0</td>\n",
              "      <td>0.524</td>\n",
              "      <td>5.631</td>\n",
              "      <td>100.0</td>\n",
              "      <td>6.0821</td>\n",
              "      <td>5</td>\n",
              "      <td>311</td>\n",
              "      <td>15.2</td>\n",
              "      <td>386.63</td>\n",
              "      <td>29.93</td>\n",
              "      <td>16.5</td>\n",
              "    </tr>\n",
              "    <tr>\n",
              "      <th>9</th>\n",
              "      <td>0.17004</td>\n",
              "      <td>12.5</td>\n",
              "      <td>7.87</td>\n",
              "      <td>NaN</td>\n",
              "      <td>0.524</td>\n",
              "      <td>6.004</td>\n",
              "      <td>85.9</td>\n",
              "      <td>6.5921</td>\n",
              "      <td>5</td>\n",
              "      <td>311</td>\n",
              "      <td>15.2</td>\n",
              "      <td>386.71</td>\n",
              "      <td>17.10</td>\n",
              "      <td>18.9</td>\n",
              "    </tr>\n",
              "    <tr>\n",
              "      <th>10</th>\n",
              "      <td>0.22489</td>\n",
              "      <td>12.5</td>\n",
              "      <td>7.87</td>\n",
              "      <td>0.0</td>\n",
              "      <td>0.524</td>\n",
              "      <td>6.377</td>\n",
              "      <td>94.3</td>\n",
              "      <td>6.3467</td>\n",
              "      <td>5</td>\n",
              "      <td>311</td>\n",
              "      <td>15.2</td>\n",
              "      <td>392.52</td>\n",
              "      <td>20.45</td>\n",
              "      <td>15.0</td>\n",
              "    </tr>\n",
              "    <tr>\n",
              "      <th>11</th>\n",
              "      <td>0.11747</td>\n",
              "      <td>12.5</td>\n",
              "      <td>7.87</td>\n",
              "      <td>0.0</td>\n",
              "      <td>0.524</td>\n",
              "      <td>6.009</td>\n",
              "      <td>82.9</td>\n",
              "      <td>6.2267</td>\n",
              "      <td>5</td>\n",
              "      <td>311</td>\n",
              "      <td>15.2</td>\n",
              "      <td>396.90</td>\n",
              "      <td>13.27</td>\n",
              "      <td>18.9</td>\n",
              "    </tr>\n",
              "    <tr>\n",
              "      <th>12</th>\n",
              "      <td>0.09378</td>\n",
              "      <td>12.5</td>\n",
              "      <td>7.87</td>\n",
              "      <td>0.0</td>\n",
              "      <td>0.524</td>\n",
              "      <td>5.889</td>\n",
              "      <td>39.0</td>\n",
              "      <td>5.4509</td>\n",
              "      <td>5</td>\n",
              "      <td>311</td>\n",
              "      <td>15.2</td>\n",
              "      <td>390.50</td>\n",
              "      <td>15.71</td>\n",
              "      <td>21.7</td>\n",
              "    </tr>\n",
              "    <tr>\n",
              "      <th>13</th>\n",
              "      <td>0.62976</td>\n",
              "      <td>0.0</td>\n",
              "      <td>8.14</td>\n",
              "      <td>0.0</td>\n",
              "      <td>0.538</td>\n",
              "      <td>5.949</td>\n",
              "      <td>61.8</td>\n",
              "      <td>4.7075</td>\n",
              "      <td>4</td>\n",
              "      <td>307</td>\n",
              "      <td>21.0</td>\n",
              "      <td>396.90</td>\n",
              "      <td>8.26</td>\n",
              "      <td>20.4</td>\n",
              "    </tr>\n",
              "    <tr>\n",
              "      <th>14</th>\n",
              "      <td>0.63796</td>\n",
              "      <td>0.0</td>\n",
              "      <td>8.14</td>\n",
              "      <td>NaN</td>\n",
              "      <td>0.538</td>\n",
              "      <td>6.096</td>\n",
              "      <td>84.5</td>\n",
              "      <td>4.4619</td>\n",
              "      <td>4</td>\n",
              "      <td>307</td>\n",
              "      <td>21.0</td>\n",
              "      <td>380.02</td>\n",
              "      <td>10.26</td>\n",
              "      <td>18.2</td>\n",
              "    </tr>\n",
              "    <tr>\n",
              "      <th>15</th>\n",
              "      <td>0.62739</td>\n",
              "      <td>0.0</td>\n",
              "      <td>8.14</td>\n",
              "      <td>0.0</td>\n",
              "      <td>0.538</td>\n",
              "      <td>5.834</td>\n",
              "      <td>56.5</td>\n",
              "      <td>4.4986</td>\n",
              "      <td>4</td>\n",
              "      <td>307</td>\n",
              "      <td>21.0</td>\n",
              "      <td>395.62</td>\n",
              "      <td>8.47</td>\n",
              "      <td>19.9</td>\n",
              "    </tr>\n",
              "    <tr>\n",
              "      <th>16</th>\n",
              "      <td>1.05393</td>\n",
              "      <td>0.0</td>\n",
              "      <td>8.14</td>\n",
              "      <td>0.0</td>\n",
              "      <td>0.538</td>\n",
              "      <td>5.935</td>\n",
              "      <td>29.3</td>\n",
              "      <td>4.4986</td>\n",
              "      <td>4</td>\n",
              "      <td>307</td>\n",
              "      <td>21.0</td>\n",
              "      <td>386.85</td>\n",
              "      <td>6.58</td>\n",
              "      <td>23.1</td>\n",
              "    </tr>\n",
              "    <tr>\n",
              "      <th>17</th>\n",
              "      <td>0.78420</td>\n",
              "      <td>0.0</td>\n",
              "      <td>8.14</td>\n",
              "      <td>0.0</td>\n",
              "      <td>0.538</td>\n",
              "      <td>5.990</td>\n",
              "      <td>81.7</td>\n",
              "      <td>4.2579</td>\n",
              "      <td>4</td>\n",
              "      <td>307</td>\n",
              "      <td>21.0</td>\n",
              "      <td>386.75</td>\n",
              "      <td>14.67</td>\n",
              "      <td>17.5</td>\n",
              "    </tr>\n",
              "    <tr>\n",
              "      <th>18</th>\n",
              "      <td>0.80271</td>\n",
              "      <td>0.0</td>\n",
              "      <td>8.14</td>\n",
              "      <td>0.0</td>\n",
              "      <td>0.538</td>\n",
              "      <td>5.456</td>\n",
              "      <td>36.6</td>\n",
              "      <td>3.7965</td>\n",
              "      <td>4</td>\n",
              "      <td>307</td>\n",
              "      <td>21.0</td>\n",
              "      <td>288.99</td>\n",
              "      <td>11.69</td>\n",
              "      <td>20.2</td>\n",
              "    </tr>\n",
              "    <tr>\n",
              "      <th>19</th>\n",
              "      <td>0.72580</td>\n",
              "      <td>0.0</td>\n",
              "      <td>8.14</td>\n",
              "      <td>0.0</td>\n",
              "      <td>0.538</td>\n",
              "      <td>5.727</td>\n",
              "      <td>69.5</td>\n",
              "      <td>3.7965</td>\n",
              "      <td>4</td>\n",
              "      <td>307</td>\n",
              "      <td>21.0</td>\n",
              "      <td>390.95</td>\n",
              "      <td>11.28</td>\n",
              "      <td>18.2</td>\n",
              "    </tr>\n",
              "    <tr>\n",
              "      <th>20</th>\n",
              "      <td>1.25179</td>\n",
              "      <td>0.0</td>\n",
              "      <td>8.14</td>\n",
              "      <td>0.0</td>\n",
              "      <td>0.538</td>\n",
              "      <td>5.570</td>\n",
              "      <td>98.1</td>\n",
              "      <td>3.7979</td>\n",
              "      <td>4</td>\n",
              "      <td>307</td>\n",
              "      <td>21.0</td>\n",
              "      <td>376.57</td>\n",
              "      <td>21.02</td>\n",
              "      <td>13.6</td>\n",
              "    </tr>\n",
              "    <tr>\n",
              "      <th>21</th>\n",
              "      <td>0.85204</td>\n",
              "      <td>0.0</td>\n",
              "      <td>8.14</td>\n",
              "      <td>0.0</td>\n",
              "      <td>0.538</td>\n",
              "      <td>5.965</td>\n",
              "      <td>89.2</td>\n",
              "      <td>4.0123</td>\n",
              "      <td>4</td>\n",
              "      <td>307</td>\n",
              "      <td>21.0</td>\n",
              "      <td>392.53</td>\n",
              "      <td>13.83</td>\n",
              "      <td>19.6</td>\n",
              "    </tr>\n",
              "    <tr>\n",
              "      <th>22</th>\n",
              "      <td>1.23247</td>\n",
              "      <td>0.0</td>\n",
              "      <td>8.14</td>\n",
              "      <td>0.0</td>\n",
              "      <td>0.538</td>\n",
              "      <td>6.142</td>\n",
              "      <td>91.7</td>\n",
              "      <td>3.9769</td>\n",
              "      <td>4</td>\n",
              "      <td>307</td>\n",
              "      <td>21.0</td>\n",
              "      <td>396.90</td>\n",
              "      <td>18.72</td>\n",
              "      <td>15.2</td>\n",
              "    </tr>\n",
              "    <tr>\n",
              "      <th>23</th>\n",
              "      <td>0.98843</td>\n",
              "      <td>0.0</td>\n",
              "      <td>8.14</td>\n",
              "      <td>0.0</td>\n",
              "      <td>0.538</td>\n",
              "      <td>5.813</td>\n",
              "      <td>100.0</td>\n",
              "      <td>4.0952</td>\n",
              "      <td>4</td>\n",
              "      <td>307</td>\n",
              "      <td>21.0</td>\n",
              "      <td>394.54</td>\n",
              "      <td>19.88</td>\n",
              "      <td>14.5</td>\n",
              "    </tr>\n",
              "    <tr>\n",
              "      <th>24</th>\n",
              "      <td>0.75026</td>\n",
              "      <td>0.0</td>\n",
              "      <td>8.14</td>\n",
              "      <td>0.0</td>\n",
              "      <td>0.538</td>\n",
              "      <td>5.924</td>\n",
              "      <td>94.1</td>\n",
              "      <td>4.3996</td>\n",
              "      <td>4</td>\n",
              "      <td>307</td>\n",
              "      <td>21.0</td>\n",
              "      <td>394.33</td>\n",
              "      <td>16.30</td>\n",
              "      <td>15.6</td>\n",
              "    </tr>\n",
              "    <tr>\n",
              "      <th>25</th>\n",
              "      <td>0.84054</td>\n",
              "      <td>0.0</td>\n",
              "      <td>8.14</td>\n",
              "      <td>0.0</td>\n",
              "      <td>0.538</td>\n",
              "      <td>5.599</td>\n",
              "      <td>85.7</td>\n",
              "      <td>4.4546</td>\n",
              "      <td>4</td>\n",
              "      <td>307</td>\n",
              "      <td>21.0</td>\n",
              "      <td>303.42</td>\n",
              "      <td>16.51</td>\n",
              "      <td>13.9</td>\n",
              "    </tr>\n",
              "    <tr>\n",
              "      <th>26</th>\n",
              "      <td>0.67191</td>\n",
              "      <td>0.0</td>\n",
              "      <td>8.14</td>\n",
              "      <td>0.0</td>\n",
              "      <td>0.538</td>\n",
              "      <td>5.813</td>\n",
              "      <td>90.3</td>\n",
              "      <td>4.6820</td>\n",
              "      <td>4</td>\n",
              "      <td>307</td>\n",
              "      <td>21.0</td>\n",
              "      <td>376.88</td>\n",
              "      <td>14.81</td>\n",
              "      <td>16.6</td>\n",
              "    </tr>\n",
              "    <tr>\n",
              "      <th>27</th>\n",
              "      <td>0.95577</td>\n",
              "      <td>0.0</td>\n",
              "      <td>8.14</td>\n",
              "      <td>0.0</td>\n",
              "      <td>0.538</td>\n",
              "      <td>6.047</td>\n",
              "      <td>88.8</td>\n",
              "      <td>4.4534</td>\n",
              "      <td>4</td>\n",
              "      <td>307</td>\n",
              "      <td>21.0</td>\n",
              "      <td>306.38</td>\n",
              "      <td>17.28</td>\n",
              "      <td>14.8</td>\n",
              "    </tr>\n",
              "    <tr>\n",
              "      <th>28</th>\n",
              "      <td>0.77299</td>\n",
              "      <td>0.0</td>\n",
              "      <td>8.14</td>\n",
              "      <td>0.0</td>\n",
              "      <td>0.538</td>\n",
              "      <td>6.495</td>\n",
              "      <td>94.4</td>\n",
              "      <td>4.4547</td>\n",
              "      <td>4</td>\n",
              "      <td>307</td>\n",
              "      <td>21.0</td>\n",
              "      <td>387.94</td>\n",
              "      <td>12.80</td>\n",
              "      <td>18.4</td>\n",
              "    </tr>\n",
              "    <tr>\n",
              "      <th>29</th>\n",
              "      <td>1.00245</td>\n",
              "      <td>0.0</td>\n",
              "      <td>8.14</td>\n",
              "      <td>0.0</td>\n",
              "      <td>0.538</td>\n",
              "      <td>6.674</td>\n",
              "      <td>87.3</td>\n",
              "      <td>4.2390</td>\n",
              "      <td>4</td>\n",
              "      <td>307</td>\n",
              "      <td>21.0</td>\n",
              "      <td>380.23</td>\n",
              "      <td>11.98</td>\n",
              "      <td>21.0</td>\n",
              "    </tr>\n",
              "  </tbody>\n",
              "</table>\n",
              "</div>\n",
              "      <button class=\"colab-df-convert\" onclick=\"convertToInteractive('df-01f1c7e1-89e5-4289-a497-6ef51db8580e')\"\n",
              "              title=\"Convert this dataframe to an interactive table.\"\n",
              "              style=\"display:none;\">\n",
              "        \n",
              "  <svg xmlns=\"http://www.w3.org/2000/svg\" height=\"24px\"viewBox=\"0 0 24 24\"\n",
              "       width=\"24px\">\n",
              "    <path d=\"M0 0h24v24H0V0z\" fill=\"none\"/>\n",
              "    <path d=\"M18.56 5.44l.94 2.06.94-2.06 2.06-.94-2.06-.94-.94-2.06-.94 2.06-2.06.94zm-11 1L8.5 8.5l.94-2.06 2.06-.94-2.06-.94L8.5 2.5l-.94 2.06-2.06.94zm10 10l.94 2.06.94-2.06 2.06-.94-2.06-.94-.94-2.06-.94 2.06-2.06.94z\"/><path d=\"M17.41 7.96l-1.37-1.37c-.4-.4-.92-.59-1.43-.59-.52 0-1.04.2-1.43.59L10.3 9.45l-7.72 7.72c-.78.78-.78 2.05 0 2.83L4 21.41c.39.39.9.59 1.41.59.51 0 1.02-.2 1.41-.59l7.78-7.78 2.81-2.81c.8-.78.8-2.07 0-2.86zM5.41 20L4 18.59l7.72-7.72 1.47 1.35L5.41 20z\"/>\n",
              "  </svg>\n",
              "      </button>\n",
              "      \n",
              "  <style>\n",
              "    .colab-df-container {\n",
              "      display:flex;\n",
              "      flex-wrap:wrap;\n",
              "      gap: 12px;\n",
              "    }\n",
              "\n",
              "    .colab-df-convert {\n",
              "      background-color: #E8F0FE;\n",
              "      border: none;\n",
              "      border-radius: 50%;\n",
              "      cursor: pointer;\n",
              "      display: none;\n",
              "      fill: #1967D2;\n",
              "      height: 32px;\n",
              "      padding: 0 0 0 0;\n",
              "      width: 32px;\n",
              "    }\n",
              "\n",
              "    .colab-df-convert:hover {\n",
              "      background-color: #E2EBFA;\n",
              "      box-shadow: 0px 1px 2px rgba(60, 64, 67, 0.3), 0px 1px 3px 1px rgba(60, 64, 67, 0.15);\n",
              "      fill: #174EA6;\n",
              "    }\n",
              "\n",
              "    [theme=dark] .colab-df-convert {\n",
              "      background-color: #3B4455;\n",
              "      fill: #D2E3FC;\n",
              "    }\n",
              "\n",
              "    [theme=dark] .colab-df-convert:hover {\n",
              "      background-color: #434B5C;\n",
              "      box-shadow: 0px 1px 3px 1px rgba(0, 0, 0, 0.15);\n",
              "      filter: drop-shadow(0px 1px 2px rgba(0, 0, 0, 0.3));\n",
              "      fill: #FFFFFF;\n",
              "    }\n",
              "  </style>\n",
              "\n",
              "      <script>\n",
              "        const buttonEl =\n",
              "          document.querySelector('#df-01f1c7e1-89e5-4289-a497-6ef51db8580e button.colab-df-convert');\n",
              "        buttonEl.style.display =\n",
              "          google.colab.kernel.accessAllowed ? 'block' : 'none';\n",
              "\n",
              "        async function convertToInteractive(key) {\n",
              "          const element = document.querySelector('#df-01f1c7e1-89e5-4289-a497-6ef51db8580e');\n",
              "          const dataTable =\n",
              "            await google.colab.kernel.invokeFunction('convertToInteractive',\n",
              "                                                     [key], {});\n",
              "          if (!dataTable) return;\n",
              "\n",
              "          const docLinkHtml = 'Like what you see? Visit the ' +\n",
              "            '<a target=\"_blank\" href=https://colab.research.google.com/notebooks/data_table.ipynb>data table notebook</a>'\n",
              "            + ' to learn more about interactive tables.';\n",
              "          element.innerHTML = '';\n",
              "          dataTable['output_type'] = 'display_data';\n",
              "          await google.colab.output.renderOutput(dataTable, element);\n",
              "          const docLink = document.createElement('div');\n",
              "          docLink.innerHTML = docLinkHtml;\n",
              "          element.appendChild(docLink);\n",
              "        }\n",
              "      </script>\n",
              "    </div>\n",
              "  </div>\n",
              "  "
            ]
          },
          "metadata": {},
          "execution_count": 2
        }
      ]
    },
    {
      "cell_type": "markdown",
      "source": [
        "# **Información del Dataset**"
      ],
      "metadata": {
        "id": "5q1LI6XjaccE"
      }
    },
    {
      "cell_type": "markdown",
      "source": [
        "El método info() nos proporciona información sobre el DataFrame.\n",
        "\n",
        "Dicha información contiene el número de columnas, las etiquetas de las columnas, los tipos de datos de las columnas, el uso de la memoria, el índice de rango y el número de celdas en cada columna (valores no nulos).\n"
      ],
      "metadata": {
        "id": "TvrR_MWTRjKh"
      }
    },
    {
      "cell_type": "code",
      "source": [
        "df.info()"
      ],
      "metadata": {
        "colab": {
          "base_uri": "https://localhost:8080/"
        },
        "id": "K_shKTUtIfmE",
        "outputId": "7a2cdac9-c028-4014-8255-364a190fc4c7"
      },
      "execution_count": 3,
      "outputs": [
        {
          "output_type": "stream",
          "name": "stdout",
          "text": [
            "<class 'pandas.core.frame.DataFrame'>\n",
            "RangeIndex: 506 entries, 0 to 505\n",
            "Data columns (total 14 columns):\n",
            " #   Column   Non-Null Count  Dtype  \n",
            "---  ------   --------------  -----  \n",
            " 0   CRIM     486 non-null    float64\n",
            " 1   ZN       486 non-null    float64\n",
            " 2   INDUS    486 non-null    float64\n",
            " 3   CHAS     486 non-null    float64\n",
            " 4   NOX      506 non-null    float64\n",
            " 5   RM       506 non-null    float64\n",
            " 6   AGE      486 non-null    float64\n",
            " 7   DIS      506 non-null    float64\n",
            " 8   RAD      506 non-null    int64  \n",
            " 9   TAX      506 non-null    int64  \n",
            " 10  PTRATIO  506 non-null    float64\n",
            " 11  B        506 non-null    float64\n",
            " 12  LSTAT    486 non-null    float64\n",
            " 13  MEDV     506 non-null    float64\n",
            "dtypes: float64(12), int64(2)\n",
            "memory usage: 55.5 KB\n"
          ]
        }
      ]
    },
    {
      "cell_type": "markdown",
      "source": [
        "# **Verificamos si hay valores nulos en el Dataset a analizar**"
      ],
      "metadata": {
        "id": "VqHV5KhwUD15"
      }
    },
    {
      "cell_type": "code",
      "source": [
        "# La función pandas.isnull devuelve una estructura con las mismas dimensiones que la que se cede como argumento\n",
        "# sustituyendo cada valor por el booleano 'True' si el correspondiente\n",
        "# elemento es un valor nulo, y por el booleano 'False' en caso contrario.\n",
        "\n",
        "\n",
        "# sum() se calcula como True=1 y False=0, puede contar el número de valores faltantes en cada fila y columna llamando a sum() \n",
        "# desde el resultado de isnull().\n",
        "\n",
        "\n",
        "df.isnull().sum()\n",
        "\n"
      ],
      "metadata": {
        "colab": {
          "base_uri": "https://localhost:8080/"
        },
        "id": "S2QAPcKMUhYG",
        "outputId": "ad747875-ff02-428b-9e6d-3a67e1b32627"
      },
      "execution_count": 4,
      "outputs": [
        {
          "output_type": "execute_result",
          "data": {
            "text/plain": [
              "CRIM       20\n",
              "ZN         20\n",
              "INDUS      20\n",
              "CHAS       20\n",
              "NOX         0\n",
              "RM          0\n",
              "AGE        20\n",
              "DIS         0\n",
              "RAD         0\n",
              "TAX         0\n",
              "PTRATIO     0\n",
              "B           0\n",
              "LSTAT      20\n",
              "MEDV        0\n",
              "dtype: int64"
            ]
          },
          "metadata": {},
          "execution_count": 4
        }
      ]
    },
    {
      "cell_type": "markdown",
      "source": [
        "# **Parametros Estadisticos**"
      ],
      "metadata": {
        "id": "r4PVbAuaGQVY"
      }
    },
    {
      "cell_type": "code",
      "source": [
        "df.describe()"
      ],
      "metadata": {
        "colab": {
          "base_uri": "https://localhost:8080/",
          "height": 300
        },
        "id": "mw4vDKkCGVSA",
        "outputId": "3ff316ac-c09a-41bf-8155-9d5ca4977367"
      },
      "execution_count": 5,
      "outputs": [
        {
          "output_type": "execute_result",
          "data": {
            "text/plain": [
              "             CRIM          ZN       INDUS        CHAS         NOX          RM  \\\n",
              "count  486.000000  486.000000  486.000000  486.000000  506.000000  506.000000   \n",
              "mean     3.611874   11.211934   11.083992    0.069959    0.554695    6.284634   \n",
              "std      8.720192   23.388876    6.835896    0.255340    0.115878    0.702617   \n",
              "min      0.006320    0.000000    0.460000    0.000000    0.385000    3.561000   \n",
              "25%      0.081900    0.000000    5.190000    0.000000    0.449000    5.885500   \n",
              "50%      0.253715    0.000000    9.690000    0.000000    0.538000    6.208500   \n",
              "75%      3.560263   12.500000   18.100000    0.000000    0.624000    6.623500   \n",
              "max     88.976200  100.000000   27.740000    1.000000    0.871000    8.780000   \n",
              "\n",
              "              AGE         DIS         RAD         TAX     PTRATIO           B  \\\n",
              "count  486.000000  506.000000  506.000000  506.000000  506.000000  506.000000   \n",
              "mean    68.518519    3.795043    9.549407  408.237154   18.455534  356.674032   \n",
              "std     27.999513    2.105710    8.707259  168.537116    2.164946   91.294864   \n",
              "min      2.900000    1.129600    1.000000  187.000000   12.600000    0.320000   \n",
              "25%     45.175000    2.100175    4.000000  279.000000   17.400000  375.377500   \n",
              "50%     76.800000    3.207450    5.000000  330.000000   19.050000  391.440000   \n",
              "75%     93.975000    5.188425   24.000000  666.000000   20.200000  396.225000   \n",
              "max    100.000000   12.126500   24.000000  711.000000   22.000000  396.900000   \n",
              "\n",
              "            LSTAT        MEDV  \n",
              "count  486.000000  506.000000  \n",
              "mean    12.715432   22.532806  \n",
              "std      7.155871    9.197104  \n",
              "min      1.730000    5.000000  \n",
              "25%      7.125000   17.025000  \n",
              "50%     11.430000   21.200000  \n",
              "75%     16.955000   25.000000  \n",
              "max     37.970000   50.000000  "
            ],
            "text/html": [
              "\n",
              "  <div id=\"df-f3403a45-6f38-46fe-a935-56b6432e2397\">\n",
              "    <div class=\"colab-df-container\">\n",
              "      <div>\n",
              "<style scoped>\n",
              "    .dataframe tbody tr th:only-of-type {\n",
              "        vertical-align: middle;\n",
              "    }\n",
              "\n",
              "    .dataframe tbody tr th {\n",
              "        vertical-align: top;\n",
              "    }\n",
              "\n",
              "    .dataframe thead th {\n",
              "        text-align: right;\n",
              "    }\n",
              "</style>\n",
              "<table border=\"1\" class=\"dataframe\">\n",
              "  <thead>\n",
              "    <tr style=\"text-align: right;\">\n",
              "      <th></th>\n",
              "      <th>CRIM</th>\n",
              "      <th>ZN</th>\n",
              "      <th>INDUS</th>\n",
              "      <th>CHAS</th>\n",
              "      <th>NOX</th>\n",
              "      <th>RM</th>\n",
              "      <th>AGE</th>\n",
              "      <th>DIS</th>\n",
              "      <th>RAD</th>\n",
              "      <th>TAX</th>\n",
              "      <th>PTRATIO</th>\n",
              "      <th>B</th>\n",
              "      <th>LSTAT</th>\n",
              "      <th>MEDV</th>\n",
              "    </tr>\n",
              "  </thead>\n",
              "  <tbody>\n",
              "    <tr>\n",
              "      <th>count</th>\n",
              "      <td>486.000000</td>\n",
              "      <td>486.000000</td>\n",
              "      <td>486.000000</td>\n",
              "      <td>486.000000</td>\n",
              "      <td>506.000000</td>\n",
              "      <td>506.000000</td>\n",
              "      <td>486.000000</td>\n",
              "      <td>506.000000</td>\n",
              "      <td>506.000000</td>\n",
              "      <td>506.000000</td>\n",
              "      <td>506.000000</td>\n",
              "      <td>506.000000</td>\n",
              "      <td>486.000000</td>\n",
              "      <td>506.000000</td>\n",
              "    </tr>\n",
              "    <tr>\n",
              "      <th>mean</th>\n",
              "      <td>3.611874</td>\n",
              "      <td>11.211934</td>\n",
              "      <td>11.083992</td>\n",
              "      <td>0.069959</td>\n",
              "      <td>0.554695</td>\n",
              "      <td>6.284634</td>\n",
              "      <td>68.518519</td>\n",
              "      <td>3.795043</td>\n",
              "      <td>9.549407</td>\n",
              "      <td>408.237154</td>\n",
              "      <td>18.455534</td>\n",
              "      <td>356.674032</td>\n",
              "      <td>12.715432</td>\n",
              "      <td>22.532806</td>\n",
              "    </tr>\n",
              "    <tr>\n",
              "      <th>std</th>\n",
              "      <td>8.720192</td>\n",
              "      <td>23.388876</td>\n",
              "      <td>6.835896</td>\n",
              "      <td>0.255340</td>\n",
              "      <td>0.115878</td>\n",
              "      <td>0.702617</td>\n",
              "      <td>27.999513</td>\n",
              "      <td>2.105710</td>\n",
              "      <td>8.707259</td>\n",
              "      <td>168.537116</td>\n",
              "      <td>2.164946</td>\n",
              "      <td>91.294864</td>\n",
              "      <td>7.155871</td>\n",
              "      <td>9.197104</td>\n",
              "    </tr>\n",
              "    <tr>\n",
              "      <th>min</th>\n",
              "      <td>0.006320</td>\n",
              "      <td>0.000000</td>\n",
              "      <td>0.460000</td>\n",
              "      <td>0.000000</td>\n",
              "      <td>0.385000</td>\n",
              "      <td>3.561000</td>\n",
              "      <td>2.900000</td>\n",
              "      <td>1.129600</td>\n",
              "      <td>1.000000</td>\n",
              "      <td>187.000000</td>\n",
              "      <td>12.600000</td>\n",
              "      <td>0.320000</td>\n",
              "      <td>1.730000</td>\n",
              "      <td>5.000000</td>\n",
              "    </tr>\n",
              "    <tr>\n",
              "      <th>25%</th>\n",
              "      <td>0.081900</td>\n",
              "      <td>0.000000</td>\n",
              "      <td>5.190000</td>\n",
              "      <td>0.000000</td>\n",
              "      <td>0.449000</td>\n",
              "      <td>5.885500</td>\n",
              "      <td>45.175000</td>\n",
              "      <td>2.100175</td>\n",
              "      <td>4.000000</td>\n",
              "      <td>279.000000</td>\n",
              "      <td>17.400000</td>\n",
              "      <td>375.377500</td>\n",
              "      <td>7.125000</td>\n",
              "      <td>17.025000</td>\n",
              "    </tr>\n",
              "    <tr>\n",
              "      <th>50%</th>\n",
              "      <td>0.253715</td>\n",
              "      <td>0.000000</td>\n",
              "      <td>9.690000</td>\n",
              "      <td>0.000000</td>\n",
              "      <td>0.538000</td>\n",
              "      <td>6.208500</td>\n",
              "      <td>76.800000</td>\n",
              "      <td>3.207450</td>\n",
              "      <td>5.000000</td>\n",
              "      <td>330.000000</td>\n",
              "      <td>19.050000</td>\n",
              "      <td>391.440000</td>\n",
              "      <td>11.430000</td>\n",
              "      <td>21.200000</td>\n",
              "    </tr>\n",
              "    <tr>\n",
              "      <th>75%</th>\n",
              "      <td>3.560263</td>\n",
              "      <td>12.500000</td>\n",
              "      <td>18.100000</td>\n",
              "      <td>0.000000</td>\n",
              "      <td>0.624000</td>\n",
              "      <td>6.623500</td>\n",
              "      <td>93.975000</td>\n",
              "      <td>5.188425</td>\n",
              "      <td>24.000000</td>\n",
              "      <td>666.000000</td>\n",
              "      <td>20.200000</td>\n",
              "      <td>396.225000</td>\n",
              "      <td>16.955000</td>\n",
              "      <td>25.000000</td>\n",
              "    </tr>\n",
              "    <tr>\n",
              "      <th>max</th>\n",
              "      <td>88.976200</td>\n",
              "      <td>100.000000</td>\n",
              "      <td>27.740000</td>\n",
              "      <td>1.000000</td>\n",
              "      <td>0.871000</td>\n",
              "      <td>8.780000</td>\n",
              "      <td>100.000000</td>\n",
              "      <td>12.126500</td>\n",
              "      <td>24.000000</td>\n",
              "      <td>711.000000</td>\n",
              "      <td>22.000000</td>\n",
              "      <td>396.900000</td>\n",
              "      <td>37.970000</td>\n",
              "      <td>50.000000</td>\n",
              "    </tr>\n",
              "  </tbody>\n",
              "</table>\n",
              "</div>\n",
              "      <button class=\"colab-df-convert\" onclick=\"convertToInteractive('df-f3403a45-6f38-46fe-a935-56b6432e2397')\"\n",
              "              title=\"Convert this dataframe to an interactive table.\"\n",
              "              style=\"display:none;\">\n",
              "        \n",
              "  <svg xmlns=\"http://www.w3.org/2000/svg\" height=\"24px\"viewBox=\"0 0 24 24\"\n",
              "       width=\"24px\">\n",
              "    <path d=\"M0 0h24v24H0V0z\" fill=\"none\"/>\n",
              "    <path d=\"M18.56 5.44l.94 2.06.94-2.06 2.06-.94-2.06-.94-.94-2.06-.94 2.06-2.06.94zm-11 1L8.5 8.5l.94-2.06 2.06-.94-2.06-.94L8.5 2.5l-.94 2.06-2.06.94zm10 10l.94 2.06.94-2.06 2.06-.94-2.06-.94-.94-2.06-.94 2.06-2.06.94z\"/><path d=\"M17.41 7.96l-1.37-1.37c-.4-.4-.92-.59-1.43-.59-.52 0-1.04.2-1.43.59L10.3 9.45l-7.72 7.72c-.78.78-.78 2.05 0 2.83L4 21.41c.39.39.9.59 1.41.59.51 0 1.02-.2 1.41-.59l7.78-7.78 2.81-2.81c.8-.78.8-2.07 0-2.86zM5.41 20L4 18.59l7.72-7.72 1.47 1.35L5.41 20z\"/>\n",
              "  </svg>\n",
              "      </button>\n",
              "      \n",
              "  <style>\n",
              "    .colab-df-container {\n",
              "      display:flex;\n",
              "      flex-wrap:wrap;\n",
              "      gap: 12px;\n",
              "    }\n",
              "\n",
              "    .colab-df-convert {\n",
              "      background-color: #E8F0FE;\n",
              "      border: none;\n",
              "      border-radius: 50%;\n",
              "      cursor: pointer;\n",
              "      display: none;\n",
              "      fill: #1967D2;\n",
              "      height: 32px;\n",
              "      padding: 0 0 0 0;\n",
              "      width: 32px;\n",
              "    }\n",
              "\n",
              "    .colab-df-convert:hover {\n",
              "      background-color: #E2EBFA;\n",
              "      box-shadow: 0px 1px 2px rgba(60, 64, 67, 0.3), 0px 1px 3px 1px rgba(60, 64, 67, 0.15);\n",
              "      fill: #174EA6;\n",
              "    }\n",
              "\n",
              "    [theme=dark] .colab-df-convert {\n",
              "      background-color: #3B4455;\n",
              "      fill: #D2E3FC;\n",
              "    }\n",
              "\n",
              "    [theme=dark] .colab-df-convert:hover {\n",
              "      background-color: #434B5C;\n",
              "      box-shadow: 0px 1px 3px 1px rgba(0, 0, 0, 0.15);\n",
              "      filter: drop-shadow(0px 1px 2px rgba(0, 0, 0, 0.3));\n",
              "      fill: #FFFFFF;\n",
              "    }\n",
              "  </style>\n",
              "\n",
              "      <script>\n",
              "        const buttonEl =\n",
              "          document.querySelector('#df-f3403a45-6f38-46fe-a935-56b6432e2397 button.colab-df-convert');\n",
              "        buttonEl.style.display =\n",
              "          google.colab.kernel.accessAllowed ? 'block' : 'none';\n",
              "\n",
              "        async function convertToInteractive(key) {\n",
              "          const element = document.querySelector('#df-f3403a45-6f38-46fe-a935-56b6432e2397');\n",
              "          const dataTable =\n",
              "            await google.colab.kernel.invokeFunction('convertToInteractive',\n",
              "                                                     [key], {});\n",
              "          if (!dataTable) return;\n",
              "\n",
              "          const docLinkHtml = 'Like what you see? Visit the ' +\n",
              "            '<a target=\"_blank\" href=https://colab.research.google.com/notebooks/data_table.ipynb>data table notebook</a>'\n",
              "            + ' to learn more about interactive tables.';\n",
              "          element.innerHTML = '';\n",
              "          dataTable['output_type'] = 'display_data';\n",
              "          await google.colab.output.renderOutput(dataTable, element);\n",
              "          const docLink = document.createElement('div');\n",
              "          docLink.innerHTML = docLinkHtml;\n",
              "          element.appendChild(docLink);\n",
              "        }\n",
              "      </script>\n",
              "    </div>\n",
              "  </div>\n",
              "  "
            ]
          },
          "metadata": {},
          "execution_count": 5
        }
      ]
    },
    {
      "cell_type": "markdown",
      "source": [
        "# **Comentario**\n",
        "\n",
        "Teniendo en cuenta las variables presentadas , el MEDV ( Median value of owner-occupied homes in $1000's), parece ser la variable target (objetivo), por ende seria  interesante revisar  información estadística sobre esto.\n",
        "\n",
        "\n",
        "Link StatLib :  http://lib.stat.cmu.edu/datasets/boston"
      ],
      "metadata": {
        "id": "si6sM5xlToed"
      }
    },
    {
      "cell_type": "markdown",
      "source": [
        "# **Análisis de Distribución normal**"
      ],
      "metadata": {
        "id": "KfCQmr5SVqNF"
      }
    },
    {
      "cell_type": "code",
      "source": [
        "plt.figure(figsize=(15,10))\n",
        "ax = plt.axes()\n",
        "ax.set_facecolor(\"lightgreen\")\n",
        "\n",
        "\n",
        "plt.grid(True)\n",
        "\n",
        "sns.distplot(df['MEDV'], color='blue',fit=norm, kde=False)\n",
        "\n",
        "\n"
      ],
      "metadata": {
        "colab": {
          "base_uri": "https://localhost:8080/",
          "height": 626
        },
        "id": "OLEA1SgvVYOy",
        "outputId": "f42e9c48-031b-4675-ed72-42fdfd10878f"
      },
      "execution_count": 6,
      "outputs": [
        {
          "output_type": "execute_result",
          "data": {
            "text/plain": [
              "<matplotlib.axes._subplots.AxesSubplot at 0x7fada394c700>"
            ]
          },
          "metadata": {},
          "execution_count": 6
        },
        {
          "output_type": "display_data",
          "data": {
            "text/plain": [
              "<Figure size 1080x720 with 1 Axes>"
            ],
            "image/png": "[encoded data removed]"
          },
          "metadata": {}
        }
      ]
    },
    {
      "cell_type": "code",
      "source": [
        "fig, axs = plt.subplots(ncols=7, nrows=2, figsize=(20, 15))\n",
        "\n",
        "index = 0\n",
        "axs = axs.flatten()\n",
        "\n",
        "for k,v in df.items():\n",
        "    sns.distplot(v, ax=axs[index],color='black')\n",
        "    \n",
        "    sns.set_theme(style='darkgrid')\n",
        "    index += 1\n",
        "plt.tight_layout(pad=0.4, w_pad=0.5, h_pad=5.0)\n",
        "\n",
        "\n"
      ],
      "metadata": {
        "colab": {
          "base_uri": "https://localhost:8080/",
          "height": 1000
        },
        "id": "o_oornqwcN0o",
        "outputId": "31cdb8bc-0e6d-487a-d270-af58afae0bfc"
      },
      "execution_count": 7,
      "outputs": [
        {
          "output_type": "display_data",
          "data": {
            "text/plain": [
              "<Figure size 1440x1080 with 14 Axes>"
            ],
            "image/png": "[encoded data removed]"
          },
          "metadata": {}
        }
      ]
    },
    {
      "cell_type": "markdown",
      "source": [
        "# **Análisis de Correlación**\n"
      ],
      "metadata": {
        "id": "86lB2mIjcNHw"
      }
    },
    {
      "cell_type": "code",
      "source": [
        "plt.figure(figsize=(15,10))\n",
        "sns.heatmap(df.corr(), annot=True,cmap = 'Spectral')\n"
      ],
      "metadata": {
        "colab": {
          "base_uri": "https://localhost:8080/",
          "height": 615
        },
        "id": "T21qnJ4TpLr8",
        "outputId": "c4b4e2ba-4566-4b24-a627-0a698a115a40"
      },
      "execution_count": 8,
      "outputs": [
        {
          "output_type": "execute_result",
          "data": {
            "text/plain": [
              "<matplotlib.axes._subplots.AxesSubplot at 0x7fada11b6940>"
            ]
          },
          "metadata": {},
          "execution_count": 8
        },
        {
          "output_type": "display_data",
          "data": {
            "text/plain": [
              "<Figure size 1080x720 with 2 Axes>"
            ],
            "image/png": "[encoded data removed]"
          },
          "metadata": {}
        }
      ]
    },
    {
      "cell_type": "markdown",
      "source": [
        "# **Análisis de valores atípicos (Outliers)**"
      ],
      "metadata": {
        "id": "RFWAzSYpr6dj"
      }
    },
    {
      "cell_type": "code",
      "source": [
        "plt.figure(figsize=(20,15))\n",
        "\n",
        "ax = plt.axes()\n",
        "ax.set_facecolor(\"lightgreen\")\n",
        "\n",
        "\n",
        "sns.boxplot(data = df)\n",
        "plt.grid(True)"
      ],
      "metadata": {
        "colab": {
          "base_uri": "https://localhost:8080/",
          "height": 866
        },
        "id": "upL-cjffr5tT",
        "outputId": "2ebc9646-5107-4ee9-eb30-4c9bca76653a"
      },
      "execution_count": 9,
      "outputs": [
        {
          "output_type": "display_data",
          "data": {
            "text/plain": [
              "<Figure size 1440x1080 with 1 Axes>"
            ],
            "image/png": "[encoded data removed]"
          },
          "metadata": {}
        }
      ]
    },
    {
      "cell_type": "markdown",
      "source": [
        "# **Comentario**\n",
        "\n",
        "#### Del grafico resultante, se puede corrobar las siguientes suposiciones:\n",
        "\n",
        "##### 1.  El target (MEDV)  parece seguir una  distribución normal, sin embargo, presenta algunos valores atípicos (Outliers).\n",
        "\n",
        "\n",
        "##### 2.  Observando la última fila (análisis de correlación) del mapa de calor, pdoemos apreciar que las variables LSTAT (% Lower status of the population :  -0.74) y RM (average number of rooms per dwelling : 0.7) tienen una fuerte correlación con MEDV.\n",
        "\n",
        "##### 3. Del diagrama boxplot se puede evidenciar que el dataset tiene algunos valores atípicos (outliers) en la mayoría de las variables (features), en las que podría realizarse un proceso de estandarización.\n",
        "\n",
        "##### 4. RAD (index of accessibility to radial highways) y TAX(full-value property-tax rate per $10,000) están altamente correlacionados, lo cual es un indicio para descartar algunas de estas dos variables (features).\n",
        "\n",
        "\n",
        "##### 5. CRIM (per capita crime rate by town), ZN(proportion of residential land zoned for lots over 25,000 sq.ft.) y B(1000(Bk - 0.63)^2 donde Bk ( proportion of blacks by town) presentan un gran distribucion asimetrica.\n"
      ],
      "metadata": {
        "id": "bfNEZZhetT-B"
      }
    },
    {
      "cell_type": "code",
      "source": [
        "df.drop(columns = 'RAD', axis = 1, inplace = True)"
      ],
      "metadata": {
        "id": "UjT-K2SeHPG4"
      },
      "execution_count": 10,
      "outputs": []
    },
    {
      "cell_type": "code",
      "source": [
        "df_new = df[np.isfinite(df).all(1)]\n",
        "\n",
        "# view updated DataFrame\n",
        "\n",
        "df_new.head(30)"
      ],
      "metadata": {
        "colab": {
          "base_uri": "https://localhost:8080/",
          "height": 990
        },
        "id": "CSDDtuFzHZ_O",
        "outputId": "280e91db-8618-482a-e16c-3a832e8fb523"
      },
      "execution_count": 11,
      "outputs": [
        {
          "output_type": "execute_result",
          "data": {
            "text/plain": [
              "       CRIM    ZN  INDUS  CHAS    NOX     RM    AGE     DIS  TAX  PTRATIO  \\\n",
              "0   0.00632  18.0   2.31   0.0  0.538  6.575   65.2  4.0900  296     15.3   \n",
              "1   0.02731   0.0   7.07   0.0  0.469  6.421   78.9  4.9671  242     17.8   \n",
              "2   0.02729   0.0   7.07   0.0  0.469  7.185   61.1  4.9671  242     17.8   \n",
              "3   0.03237   0.0   2.18   0.0  0.458  6.998   45.8  6.0622  222     18.7   \n",
              "5   0.02985   0.0   2.18   0.0  0.458  6.430   58.7  6.0622  222     18.7   \n",
              "7   0.14455  12.5   7.87   0.0  0.524  6.172   96.1  5.9505  311     15.2   \n",
              "8   0.21124  12.5   7.87   0.0  0.524  5.631  100.0  6.0821  311     15.2   \n",
              "10  0.22489  12.5   7.87   0.0  0.524  6.377   94.3  6.3467  311     15.2   \n",
              "11  0.11747  12.5   7.87   0.0  0.524  6.009   82.9  6.2267  311     15.2   \n",
              "12  0.09378  12.5   7.87   0.0  0.524  5.889   39.0  5.4509  311     15.2   \n",
              "13  0.62976   0.0   8.14   0.0  0.538  5.949   61.8  4.7075  307     21.0   \n",
              "15  0.62739   0.0   8.14   0.0  0.538  5.834   56.5  4.4986  307     21.0   \n",
              "16  1.05393   0.0   8.14   0.0  0.538  5.935   29.3  4.4986  307     21.0   \n",
              "17  0.78420   0.0   8.14   0.0  0.538  5.990   81.7  4.2579  307     21.0   \n",
              "18  0.80271   0.0   8.14   0.0  0.538  5.456   36.6  3.7965  307     21.0   \n",
              "19  0.72580   0.0   8.14   0.0  0.538  5.727   69.5  3.7965  307     21.0   \n",
              "20  1.25179   0.0   8.14   0.0  0.538  5.570   98.1  3.7979  307     21.0   \n",
              "21  0.85204   0.0   8.14   0.0  0.538  5.965   89.2  4.0123  307     21.0   \n",
              "22  1.23247   0.0   8.14   0.0  0.538  6.142   91.7  3.9769  307     21.0   \n",
              "23  0.98843   0.0   8.14   0.0  0.538  5.813  100.0  4.0952  307     21.0   \n",
              "24  0.75026   0.0   8.14   0.0  0.538  5.924   94.1  4.3996  307     21.0   \n",
              "25  0.84054   0.0   8.14   0.0  0.538  5.599   85.7  4.4546  307     21.0   \n",
              "26  0.67191   0.0   8.14   0.0  0.538  5.813   90.3  4.6820  307     21.0   \n",
              "27  0.95577   0.0   8.14   0.0  0.538  6.047   88.8  4.4534  307     21.0   \n",
              "28  0.77299   0.0   8.14   0.0  0.538  6.495   94.4  4.4547  307     21.0   \n",
              "29  1.00245   0.0   8.14   0.0  0.538  6.674   87.3  4.2390  307     21.0   \n",
              "30  1.13081   0.0   8.14   0.0  0.538  5.713   94.1  4.2330  307     21.0   \n",
              "31  1.35472   0.0   8.14   0.0  0.538  6.072  100.0  4.1750  307     21.0   \n",
              "32  1.38799   0.0   8.14   0.0  0.538  5.950   82.0  3.9900  307     21.0   \n",
              "33  1.15172   0.0   8.14   0.0  0.538  5.701   95.0  3.7872  307     21.0   \n",
              "\n",
              "         B  LSTAT  MEDV  \n",
              "0   396.90   4.98  24.0  \n",
              "1   396.90   9.14  21.6  \n",
              "2   392.83   4.03  34.7  \n",
              "3   394.63   2.94  33.4  \n",
              "5   394.12   5.21  28.7  \n",
              "7   396.90  19.15  27.1  \n",
              "8   386.63  29.93  16.5  \n",
              "10  392.52  20.45  15.0  \n",
              "11  396.90  13.27  18.9  \n",
              "12  390.50  15.71  21.7  \n",
              "13  396.90   8.26  20.4  \n",
              "15  395.62   8.47  19.9  \n",
              "16  386.85   6.58  23.1  \n",
              "17  386.75  14.67  17.5  \n",
              "18  288.99  11.69  20.2  \n",
              "19  390.95  11.28  18.2  \n",
              "20  376.57  21.02  13.6  \n",
              "21  392.53  13.83  19.6  \n",
              "22  396.90  18.72  15.2  \n",
              "23  394.54  19.88  14.5  \n",
              "24  394.33  16.30  15.6  \n",
              "25  303.42  16.51  13.9  \n",
              "26  376.88  14.81  16.6  \n",
              "27  306.38  17.28  14.8  \n",
              "28  387.94  12.80  18.4  \n",
              "29  380.23  11.98  21.0  \n",
              "30  360.17  22.60  12.7  \n",
              "31  376.73  13.04  14.5  \n",
              "32  232.60  27.71  13.2  \n",
              "33  358.77  18.35  13.1  "
            ],
            "text/html": [
              "\n",
              "  <div id=\"df-02c13517-f5c1-4848-b6c5-aa430e279f83\">\n",
              "    <div class=\"colab-df-container\">\n",
              "      <div>\n",
              "<style scoped>\n",
              "    .dataframe tbody tr th:only-of-type {\n",
              "        vertical-align: middle;\n",
              "    }\n",
              "\n",
              "    .dataframe tbody tr th {\n",
              "        vertical-align: top;\n",
              "    }\n",
              "\n",
              "    .dataframe thead th {\n",
              "        text-align: right;\n",
              "    }\n",
              "</style>\n",
              "<table border=\"1\" class=\"dataframe\">\n",
              "  <thead>\n",
              "    <tr style=\"text-align: right;\">\n",
              "      <th></th>\n",
              "      <th>CRIM</th>\n",
              "      <th>ZN</th>\n",
              "      <th>INDUS</th>\n",
              "      <th>CHAS</th>\n",
              "      <th>NOX</th>\n",
              "      <th>RM</th>\n",
              "      <th>AGE</th>\n",
              "      <th>DIS</th>\n",
              "      <th>TAX</th>\n",
              "      <th>PTRATIO</th>\n",
              "      <th>B</th>\n",
              "      <th>LSTAT</th>\n",
              "      <th>MEDV</th>\n",
              "    </tr>\n",
              "  </thead>\n",
              "  <tbody>\n",
              "    <tr>\n",
              "      <th>0</th>\n",
              "      <td>0.00632</td>\n",
              "      <td>18.0</td>\n",
              "      <td>2.31</td>\n",
              "      <td>0.0</td>\n",
              "      <td>0.538</td>\n",
              "      <td>6.575</td>\n",
              "      <td>65.2</td>\n",
              "      <td>4.0900</td>\n",
              "      <td>296</td>\n",
              "      <td>15.3</td>\n",
              "      <td>396.90</td>\n",
              "      <td>4.98</td>\n",
              "      <td>24.0</td>\n",
              "    </tr>\n",
              "    <tr>\n",
              "      <th>1</th>\n",
              "      <td>0.02731</td>\n",
              "      <td>0.0</td>\n",
              "      <td>7.07</td>\n",
              "      <td>0.0</td>\n",
              "      <td>0.469</td>\n",
              "      <td>6.421</td>\n",
              "      <td>78.9</td>\n",
              "      <td>4.9671</td>\n",
              "      <td>242</td>\n",
              "      <td>17.8</td>\n",
              "      <td>396.90</td>\n",
              "      <td>9.14</td>\n",
              "      <td>21.6</td>\n",
              "    </tr>\n",
              "    <tr>\n",
              "      <th>2</th>\n",
              "      <td>0.02729</td>\n",
              "      <td>0.0</td>\n",
              "      <td>7.07</td>\n",
              "      <td>0.0</td>\n",
              "      <td>0.469</td>\n",
              "      <td>7.185</td>\n",
              "      <td>61.1</td>\n",
              "      <td>4.9671</td>\n",
              "      <td>242</td>\n",
              "      <td>17.8</td>\n",
              "      <td>392.83</td>\n",
              "      <td>4.03</td>\n",
              "      <td>34.7</td>\n",
              "    </tr>\n",
              "    <tr>\n",
              "      <th>3</th>\n",
              "      <td>0.03237</td>\n",
              "      <td>0.0</td>\n",
              "      <td>2.18</td>\n",
              "      <td>0.0</td>\n",
              "      <td>0.458</td>\n",
              "      <td>6.998</td>\n",
              "      <td>45.8</td>\n",
              "      <td>6.0622</td>\n",
              "      <td>222</td>\n",
              "      <td>18.7</td>\n",
              "      <td>394.63</td>\n",
              "      <td>2.94</td>\n",
              "      <td>33.4</td>\n",
              "    </tr>\n",
              "    <tr>\n",
              "      <th>5</th>\n",
              "      <td>0.02985</td>\n",
              "      <td>0.0</td>\n",
              "      <td>2.18</td>\n",
              "      <td>0.0</td>\n",
              "      <td>0.458</td>\n",
              "      <td>6.430</td>\n",
              "      <td>58.7</td>\n",
              "      <td>6.0622</td>\n",
              "      <td>222</td>\n",
              "      <td>18.7</td>\n",
              "      <td>394.12</td>\n",
              "      <td>5.21</td>\n",
              "      <td>28.7</td>\n",
              "    </tr>\n",
              "    <tr>\n",
              "      <th>7</th>\n",
              "      <td>0.14455</td>\n",
              "      <td>12.5</td>\n",
              "      <td>7.87</td>\n",
              "      <td>0.0</td>\n",
              "      <td>0.524</td>\n",
              "      <td>6.172</td>\n",
              "      <td>96.1</td>\n",
              "      <td>5.9505</td>\n",
              "      <td>311</td>\n",
              "      <td>15.2</td>\n",
              "      <td>396.90</td>\n",
              "      <td>19.15</td>\n",
              "      <td>27.1</td>\n",
              "    </tr>\n",
              "    <tr>\n",
              "      <th>8</th>\n",
              "      <td>0.21124</td>\n",
              "      <td>12.5</td>\n",
              "      <td>7.87</td>\n",
              "      <td>0.0</td>\n",
              "      <td>0.524</td>\n",
              "      <td>5.631</td>\n",
              "      <td>100.0</td>\n",
              "      <td>6.0821</td>\n",
              "      <td>311</td>\n",
              "      <td>15.2</td>\n",
              "      <td>386.63</td>\n",
              "      <td>29.93</td>\n",
              "      <td>16.5</td>\n",
              "    </tr>\n",
              "    <tr>\n",
              "      <th>10</th>\n",
              "      <td>0.22489</td>\n",
              "      <td>12.5</td>\n",
              "      <td>7.87</td>\n",
              "      <td>0.0</td>\n",
              "      <td>0.524</td>\n",
              "      <td>6.377</td>\n",
              "      <td>94.3</td>\n",
              "      <td>6.3467</td>\n",
              "      <td>311</td>\n",
              "      <td>15.2</td>\n",
              "      <td>392.52</td>\n",
              "      <td>20.45</td>\n",
              "      <td>15.0</td>\n",
              "    </tr>\n",
              "    <tr>\n",
              "      <th>11</th>\n",
              "      <td>0.11747</td>\n",
              "      <td>12.5</td>\n",
              "      <td>7.87</td>\n",
              "      <td>0.0</td>\n",
              "      <td>0.524</td>\n",
              "      <td>6.009</td>\n",
              "      <td>82.9</td>\n",
              "      <td>6.2267</td>\n",
              "      <td>311</td>\n",
              "      <td>15.2</td>\n",
              "      <td>396.90</td>\n",
              "      <td>13.27</td>\n",
              "      <td>18.9</td>\n",
              "    </tr>\n",
              "    <tr>\n",
              "      <th>12</th>\n",
              "      <td>0.09378</td>\n",
              "      <td>12.5</td>\n",
              "      <td>7.87</td>\n",
              "      <td>0.0</td>\n",
              "      <td>0.524</td>\n",
              "      <td>5.889</td>\n",
              "      <td>39.0</td>\n",
              "      <td>5.4509</td>\n",
              "      <td>311</td>\n",
              "      <td>15.2</td>\n",
              "      <td>390.50</td>\n",
              "      <td>15.71</td>\n",
              "      <td>21.7</td>\n",
              "    </tr>\n",
              "    <tr>\n",
              "      <th>13</th>\n",
              "      <td>0.62976</td>\n",
              "      <td>0.0</td>\n",
              "      <td>8.14</td>\n",
              "      <td>0.0</td>\n",
              "      <td>0.538</td>\n",
              "      <td>5.949</td>\n",
              "      <td>61.8</td>\n",
              "      <td>4.7075</td>\n",
              "      <td>307</td>\n",
              "      <td>21.0</td>\n",
              "      <td>396.90</td>\n",
              "      <td>8.26</td>\n",
              "      <td>20.4</td>\n",
              "    </tr>\n",
              "    <tr>\n",
              "      <th>15</th>\n",
              "      <td>0.62739</td>\n",
              "      <td>0.0</td>\n",
              "      <td>8.14</td>\n",
              "      <td>0.0</td>\n",
              "      <td>0.538</td>\n",
              "      <td>5.834</td>\n",
              "      <td>56.5</td>\n",
              "      <td>4.4986</td>\n",
              "      <td>307</td>\n",
              "      <td>21.0</td>\n",
              "      <td>395.62</td>\n",
              "      <td>8.47</td>\n",
              "      <td>19.9</td>\n",
              "    </tr>\n",
              "    <tr>\n",
              "      <th>16</th>\n",
              "      <td>1.05393</td>\n",
              "      <td>0.0</td>\n",
              "      <td>8.14</td>\n",
              "      <td>0.0</td>\n",
              "      <td>0.538</td>\n",
              "      <td>5.935</td>\n",
              "      <td>29.3</td>\n",
              "      <td>4.4986</td>\n",
              "      <td>307</td>\n",
              "      <td>21.0</td>\n",
              "      <td>386.85</td>\n",
              "      <td>6.58</td>\n",
              "      <td>23.1</td>\n",
              "    </tr>\n",
              "    <tr>\n",
              "      <th>17</th>\n",
              "      <td>0.78420</td>\n",
              "      <td>0.0</td>\n",
              "      <td>8.14</td>\n",
              "      <td>0.0</td>\n",
              "      <td>0.538</td>\n",
              "      <td>5.990</td>\n",
              "      <td>81.7</td>\n",
              "      <td>4.2579</td>\n",
              "      <td>307</td>\n",
              "      <td>21.0</td>\n",
              "      <td>386.75</td>\n",
              "      <td>14.67</td>\n",
              "      <td>17.5</td>\n",
              "    </tr>\n",
              "    <tr>\n",
              "      <th>18</th>\n",
              "      <td>0.80271</td>\n",
              "      <td>0.0</td>\n",
              "      <td>8.14</td>\n",
              "      <td>0.0</td>\n",
              "      <td>0.538</td>\n",
              "      <td>5.456</td>\n",
              "      <td>36.6</td>\n",
              "      <td>3.7965</td>\n",
              "      <td>307</td>\n",
              "      <td>21.0</td>\n",
              "      <td>288.99</td>\n",
              "      <td>11.69</td>\n",
              "      <td>20.2</td>\n",
              "    </tr>\n",
              "    <tr>\n",
              "      <th>19</th>\n",
              "      <td>0.72580</td>\n",
              "      <td>0.0</td>\n",
              "      <td>8.14</td>\n",
              "      <td>0.0</td>\n",
              "      <td>0.538</td>\n",
              "      <td>5.727</td>\n",
              "      <td>69.5</td>\n",
              "      <td>3.7965</td>\n",
              "      <td>307</td>\n",
              "      <td>21.0</td>\n",
              "      <td>390.95</td>\n",
              "      <td>11.28</td>\n",
              "      <td>18.2</td>\n",
              "    </tr>\n",
              "    <tr>\n",
              "      <th>20</th>\n",
              "      <td>1.25179</td>\n",
              "      <td>0.0</td>\n",
              "      <td>8.14</td>\n",
              "      <td>0.0</td>\n",
              "      <td>0.538</td>\n",
              "      <td>5.570</td>\n",
              "      <td>98.1</td>\n",
              "      <td>3.7979</td>\n",
              "      <td>307</td>\n",
              "      <td>21.0</td>\n",
              "      <td>376.57</td>\n",
              "      <td>21.02</td>\n",
              "      <td>13.6</td>\n",
              "    </tr>\n",
              "    <tr>\n",
              "      <th>21</th>\n",
              "      <td>0.85204</td>\n",
              "      <td>0.0</td>\n",
              "      <td>8.14</td>\n",
              "      <td>0.0</td>\n",
              "      <td>0.538</td>\n",
              "      <td>5.965</td>\n",
              "      <td>89.2</td>\n",
              "      <td>4.0123</td>\n",
              "      <td>307</td>\n",
              "      <td>21.0</td>\n",
              "      <td>392.53</td>\n",
              "      <td>13.83</td>\n",
              "      <td>19.6</td>\n",
              "    </tr>\n",
              "    <tr>\n",
              "      <th>22</th>\n",
              "      <td>1.23247</td>\n",
              "      <td>0.0</td>\n",
              "      <td>8.14</td>\n",
              "      <td>0.0</td>\n",
              "      <td>0.538</td>\n",
              "      <td>6.142</td>\n",
              "      <td>91.7</td>\n",
              "      <td>3.9769</td>\n",
              "      <td>307</td>\n",
              "      <td>21.0</td>\n",
              "      <td>396.90</td>\n",
              "      <td>18.72</td>\n",
              "      <td>15.2</td>\n",
              "    </tr>\n",
              "    <tr>\n",
              "      <th>23</th>\n",
              "      <td>0.98843</td>\n",
              "      <td>0.0</td>\n",
              "      <td>8.14</td>\n",
              "      <td>0.0</td>\n",
              "      <td>0.538</td>\n",
              "      <td>5.813</td>\n",
              "      <td>100.0</td>\n",
              "      <td>4.0952</td>\n",
              "      <td>307</td>\n",
              "      <td>21.0</td>\n",
              "      <td>394.54</td>\n",
              "      <td>19.88</td>\n",
              "      <td>14.5</td>\n",
              "    </tr>\n",
              "    <tr>\n",
              "      <th>24</th>\n",
              "      <td>0.75026</td>\n",
              "      <td>0.0</td>\n",
              "      <td>8.14</td>\n",
              "      <td>0.0</td>\n",
              "      <td>0.538</td>\n",
              "      <td>5.924</td>\n",
              "      <td>94.1</td>\n",
              "      <td>4.3996</td>\n",
              "      <td>307</td>\n",
              "      <td>21.0</td>\n",
              "      <td>394.33</td>\n",
              "      <td>16.30</td>\n",
              "      <td>15.6</td>\n",
              "    </tr>\n",
              "    <tr>\n",
              "      <th>25</th>\n",
              "      <td>0.84054</td>\n",
              "      <td>0.0</td>\n",
              "      <td>8.14</td>\n",
              "      <td>0.0</td>\n",
              "      <td>0.538</td>\n",
              "      <td>5.599</td>\n",
              "      <td>85.7</td>\n",
              "      <td>4.4546</td>\n",
              "      <td>307</td>\n",
              "      <td>21.0</td>\n",
              "      <td>303.42</td>\n",
              "      <td>16.51</td>\n",
              "      <td>13.9</td>\n",
              "    </tr>\n",
              "    <tr>\n",
              "      <th>26</th>\n",
              "      <td>0.67191</td>\n",
              "      <td>0.0</td>\n",
              "      <td>8.14</td>\n",
              "      <td>0.0</td>\n",
              "      <td>0.538</td>\n",
              "      <td>5.813</td>\n",
              "      <td>90.3</td>\n",
              "      <td>4.6820</td>\n",
              "      <td>307</td>\n",
              "      <td>21.0</td>\n",
              "      <td>376.88</td>\n",
              "      <td>14.81</td>\n",
              "      <td>16.6</td>\n",
              "    </tr>\n",
              "    <tr>\n",
              "      <th>27</th>\n",
              "      <td>0.95577</td>\n",
              "      <td>0.0</td>\n",
              "      <td>8.14</td>\n",
              "      <td>0.0</td>\n",
              "      <td>0.538</td>\n",
              "      <td>6.047</td>\n",
              "      <td>88.8</td>\n",
              "      <td>4.4534</td>\n",
              "      <td>307</td>\n",
              "      <td>21.0</td>\n",
              "      <td>306.38</td>\n",
              "      <td>17.28</td>\n",
              "      <td>14.8</td>\n",
              "    </tr>\n",
              "    <tr>\n",
              "      <th>28</th>\n",
              "      <td>0.77299</td>\n",
              "      <td>0.0</td>\n",
              "      <td>8.14</td>\n",
              "      <td>0.0</td>\n",
              "      <td>0.538</td>\n",
              "      <td>6.495</td>\n",
              "      <td>94.4</td>\n",
              "      <td>4.4547</td>\n",
              "      <td>307</td>\n",
              "      <td>21.0</td>\n",
              "      <td>387.94</td>\n",
              "      <td>12.80</td>\n",
              "      <td>18.4</td>\n",
              "    </tr>\n",
              "    <tr>\n",
              "      <th>29</th>\n",
              "      <td>1.00245</td>\n",
              "      <td>0.0</td>\n",
              "      <td>8.14</td>\n",
              "      <td>0.0</td>\n",
              "      <td>0.538</td>\n",
              "      <td>6.674</td>\n",
              "      <td>87.3</td>\n",
              "      <td>4.2390</td>\n",
              "      <td>307</td>\n",
              "      <td>21.0</td>\n",
              "      <td>380.23</td>\n",
              "      <td>11.98</td>\n",
              "      <td>21.0</td>\n",
              "    </tr>\n",
              "    <tr>\n",
              "      <th>30</th>\n",
              "      <td>1.13081</td>\n",
              "      <td>0.0</td>\n",
              "      <td>8.14</td>\n",
              "      <td>0.0</td>\n",
              "      <td>0.538</td>\n",
              "      <td>5.713</td>\n",
              "      <td>94.1</td>\n",
              "      <td>4.2330</td>\n",
              "      <td>307</td>\n",
              "      <td>21.0</td>\n",
              "      <td>360.17</td>\n",
              "      <td>22.60</td>\n",
              "      <td>12.7</td>\n",
              "    </tr>\n",
              "    <tr>\n",
              "      <th>31</th>\n",
              "      <td>1.35472</td>\n",
              "      <td>0.0</td>\n",
              "      <td>8.14</td>\n",
              "      <td>0.0</td>\n",
              "      <td>0.538</td>\n",
              "      <td>6.072</td>\n",
              "      <td>100.0</td>\n",
              "      <td>4.1750</td>\n",
              "      <td>307</td>\n",
              "      <td>21.0</td>\n",
              "      <td>376.73</td>\n",
              "      <td>13.04</td>\n",
              "      <td>14.5</td>\n",
              "    </tr>\n",
              "    <tr>\n",
              "      <th>32</th>\n",
              "      <td>1.38799</td>\n",
              "      <td>0.0</td>\n",
              "      <td>8.14</td>\n",
              "      <td>0.0</td>\n",
              "      <td>0.538</td>\n",
              "      <td>5.950</td>\n",
              "      <td>82.0</td>\n",
              "      <td>3.9900</td>\n",
              "      <td>307</td>\n",
              "      <td>21.0</td>\n",
              "      <td>232.60</td>\n",
              "      <td>27.71</td>\n",
              "      <td>13.2</td>\n",
              "    </tr>\n",
              "    <tr>\n",
              "      <th>33</th>\n",
              "      <td>1.15172</td>\n",
              "      <td>0.0</td>\n",
              "      <td>8.14</td>\n",
              "      <td>0.0</td>\n",
              "      <td>0.538</td>\n",
              "      <td>5.701</td>\n",
              "      <td>95.0</td>\n",
              "      <td>3.7872</td>\n",
              "      <td>307</td>\n",
              "      <td>21.0</td>\n",
              "      <td>358.77</td>\n",
              "      <td>18.35</td>\n",
              "      <td>13.1</td>\n",
              "    </tr>\n",
              "  </tbody>\n",
              "</table>\n",
              "</div>\n",
              "      <button class=\"colab-df-convert\" onclick=\"convertToInteractive('df-02c13517-f5c1-4848-b6c5-aa430e279f83')\"\n",
              "              title=\"Convert this dataframe to an interactive table.\"\n",
              "              style=\"display:none;\">\n",
              "        \n",
              "  <svg xmlns=\"http://www.w3.org/2000/svg\" height=\"24px\"viewBox=\"0 0 24 24\"\n",
              "       width=\"24px\">\n",
              "    <path d=\"M0 0h24v24H0V0z\" fill=\"none\"/>\n",
              "    <path d=\"M18.56 5.44l.94 2.06.94-2.06 2.06-.94-2.06-.94-.94-2.06-.94 2.06-2.06.94zm-11 1L8.5 8.5l.94-2.06 2.06-.94-2.06-.94L8.5 2.5l-.94 2.06-2.06.94zm10 10l.94 2.06.94-2.06 2.06-.94-2.06-.94-.94-2.06-.94 2.06-2.06.94z\"/><path d=\"M17.41 7.96l-1.37-1.37c-.4-.4-.92-.59-1.43-.59-.52 0-1.04.2-1.43.59L10.3 9.45l-7.72 7.72c-.78.78-.78 2.05 0 2.83L4 21.41c.39.39.9.59 1.41.59.51 0 1.02-.2 1.41-.59l7.78-7.78 2.81-2.81c.8-.78.8-2.07 0-2.86zM5.41 20L4 18.59l7.72-7.72 1.47 1.35L5.41 20z\"/>\n",
              "  </svg>\n",
              "      </button>\n",
              "      \n",
              "  <style>\n",
              "    .colab-df-container {\n",
              "      display:flex;\n",
              "      flex-wrap:wrap;\n",
              "      gap: 12px;\n",
              "    }\n",
              "\n",
              "    .colab-df-convert {\n",
              "      background-color: #E8F0FE;\n",
              "      border: none;\n",
              "      border-radius: 50%;\n",
              "      cursor: pointer;\n",
              "      display: none;\n",
              "      fill: #1967D2;\n",
              "      height: 32px;\n",
              "      padding: 0 0 0 0;\n",
              "      width: 32px;\n",
              "    }\n",
              "\n",
              "    .colab-df-convert:hover {\n",
              "      background-color: #E2EBFA;\n",
              "      box-shadow: 0px 1px 2px rgba(60, 64, 67, 0.3), 0px 1px 3px 1px rgba(60, 64, 67, 0.15);\n",
              "      fill: #174EA6;\n",
              "    }\n",
              "\n",
              "    [theme=dark] .colab-df-convert {\n",
              "      background-color: #3B4455;\n",
              "      fill: #D2E3FC;\n",
              "    }\n",
              "\n",
              "    [theme=dark] .colab-df-convert:hover {\n",
              "      background-color: #434B5C;\n",
              "      box-shadow: 0px 1px 3px 1px rgba(0, 0, 0, 0.15);\n",
              "      filter: drop-shadow(0px 1px 2px rgba(0, 0, 0, 0.3));\n",
              "      fill: #FFFFFF;\n",
              "    }\n",
              "  </style>\n",
              "\n",
              "      <script>\n",
              "        const buttonEl =\n",
              "          document.querySelector('#df-02c13517-f5c1-4848-b6c5-aa430e279f83 button.colab-df-convert');\n",
              "        buttonEl.style.display =\n",
              "          google.colab.kernel.accessAllowed ? 'block' : 'none';\n",
              "\n",
              "        async function convertToInteractive(key) {\n",
              "          const element = document.querySelector('#df-02c13517-f5c1-4848-b6c5-aa430e279f83');\n",
              "          const dataTable =\n",
              "            await google.colab.kernel.invokeFunction('convertToInteractive',\n",
              "                                                     [key], {});\n",
              "          if (!dataTable) return;\n",
              "\n",
              "          const docLinkHtml = 'Like what you see? Visit the ' +\n",
              "            '<a target=\"_blank\" href=https://colab.research.google.com/notebooks/data_table.ipynb>data table notebook</a>'\n",
              "            + ' to learn more about interactive tables.';\n",
              "          element.innerHTML = '';\n",
              "          dataTable['output_type'] = 'display_data';\n",
              "          await google.colab.output.renderOutput(dataTable, element);\n",
              "          const docLink = document.createElement('div');\n",
              "          docLink.innerHTML = docLinkHtml;\n",
              "          element.appendChild(docLink);\n",
              "        }\n",
              "      </script>\n",
              "    </div>\n",
              "  </div>\n",
              "  "
            ]
          },
          "metadata": {},
          "execution_count": 11
        }
      ]
    },
    {
      "cell_type": "markdown",
      "source": [
        "## **Escalamiento de datos** \n",
        "\n",
        "Es importante eliminar valores atípicos (outliers) en los datos y trabajar a una misma escala."
      ],
      "metadata": {
        "id": "HY1Fxw6pIw52"
      }
    },
    {
      "cell_type": "code",
      "source": [
        "X = df_new.drop(columns = 'MEDV', axis = 1)\n",
        "y = df_new['MEDV']\n",
        "\n",
        "\n",
        "\n",
        "scaler = StandardScaler()\n",
        "X_scaled = scaler.fit_transform(X)"
      ],
      "metadata": {
        "id": "LkeP1txGIwUX"
      },
      "execution_count": 12,
      "outputs": []
    },
    {
      "cell_type": "markdown",
      "source": [
        "## **Regresión**\n"
      ],
      "metadata": {
        "id": "d-PtTFA7JFbW"
      }
    },
    {
      "cell_type": "code",
      "source": [
        "test_size1 = 0.3 \n",
        "\n",
        "X_train, X_test, y_train, y_test = train_test_split(X_scaled, y, test_size = test_size1, random_state = 0)\n",
        "print('Son {} datos para entrenamiento y {} datos para prueba'.format(X_train.shape[0], X_test.shape[0]))"
      ],
      "metadata": {
        "colab": {
          "base_uri": "https://localhost:8080/"
        },
        "id": "vMadzfzEJdz-",
        "outputId": "50413af9-1fb8-4e24-f107-a871c1b131f9"
      },
      "execution_count": 13,
      "outputs": [
        {
          "output_type": "stream",
          "name": "stdout",
          "text": [
            "Son 275 datos para entrenamiento y 119 datos para prueba\n"
          ]
        }
      ]
    },
    {
      "cell_type": "markdown",
      "source": [
        "# **Modelo de Regresion Lineal**"
      ],
      "metadata": {
        "id": "TKumR5ElDq1z"
      }
    },
    {
      "cell_type": "code",
      "source": [
        "lr = LinearRegression()\n",
        "lr.fit(X_train, y_train)\n",
        "lr.score(X_train, y_train)"
      ],
      "metadata": {
        "colab": {
          "base_uri": "https://localhost:8080/"
        },
        "id": "2YN22BKEJ7Ao",
        "outputId": "3ecac2de-0c7d-4bea-fbc3-691a75509bb7"
      },
      "execution_count": 14,
      "outputs": [
        {
          "output_type": "execute_result",
          "data": {
            "text/plain": [
              "0.7854037612134118"
            ]
          },
          "metadata": {},
          "execution_count": 14
        }
      ]
    },
    {
      "cell_type": "code",
      "source": [
        "lr.score(X_test, y_test)"
      ],
      "metadata": {
        "colab": {
          "base_uri": "https://localhost:8080/"
        },
        "id": "97PbcYOSK9T8",
        "outputId": "c9895d65-d34d-4ef5-b5d5-a8c27c00a8e9"
      },
      "execution_count": 15,
      "outputs": [
        {
          "output_type": "execute_result",
          "data": {
            "text/plain": [
              "0.6681746410277005"
            ]
          },
          "metadata": {},
          "execution_count": 15
        }
      ]
    },
    {
      "cell_type": "code",
      "source": [
        "y_pred = lr.predict(X_test)\n",
        "\n",
        "      \n",
        "print('MSE:{}'.format(round(mean_squared_error(y_test,y_pred),4)))\n",
        "      \n",
        "print('RMSE:{}'.format(round(np.sqrt(mean_squared_error(y_test,y_pred)),4)))\n",
        "\n",
        "print('r2:{}'.format(round(r2_score(y_test,y_pred),4)))\n"
      ],
      "metadata": {
        "colab": {
          "base_uri": "https://localhost:8080/"
        },
        "id": "MDB0M0uGLDjk",
        "outputId": "51e2f72c-51d8-4efc-a41c-f93e29c9742b"
      },
      "execution_count": 16,
      "outputs": [
        {
          "output_type": "stream",
          "name": "stdout",
          "text": [
            "MSE:25.3487\n",
            "RMSE:5.0347\n",
            "r2:0.6682\n"
          ]
        }
      ]
    },
    {
      "cell_type": "markdown",
      "source": [
        "## **Influencia de cada variable en el precio del inmueble**"
      ],
      "metadata": {
        "id": "wjnfHjX6LMhm"
      }
    },
    {
      "cell_type": "code",
      "source": [
        "coef = pd.Series(data=np.round(lr.coef_,2),index = X.columns)\n",
        "coef.sort_values(ascending=False)"
      ],
      "metadata": {
        "colab": {
          "base_uri": "https://localhost:8080/"
        },
        "id": "0PuEyTVpLh98",
        "outputId": "97419957-218f-48b0-f681-b77483264291"
      },
      "execution_count": 17,
      "outputs": [
        {
          "output_type": "execute_result",
          "data": {
            "text/plain": [
              "RM         3.51\n",
              "ZN         0.99\n",
              "CHAS       0.95\n",
              "B          0.76\n",
              "INDUS     -0.34\n",
              "TAX       -0.34\n",
              "CRIM      -0.40\n",
              "AGE       -0.95\n",
              "PTRATIO   -1.69\n",
              "NOX       -1.95\n",
              "LSTAT     -2.32\n",
              "DIS       -3.27\n",
              "dtype: float64"
            ]
          },
          "metadata": {},
          "execution_count": 17
        }
      ]
    },
    {
      "cell_type": "markdown",
      "source": [
        "# **Comentario**"
      ],
      "metadata": {
        "id": "oxxThqcvFg28"
      }
    },
    {
      "cell_type": "markdown",
      "source": [
        "Las variables que dan mayor valor a la vivienda son : RM, ZN, CHAS, B,\n",
        "teniendo mayor valor el número de habitaciones, el resto de las variables reducen el precio del inmueble"
      ],
      "metadata": {
        "id": "N5MKulHvLoJ7"
      }
    },
    {
      "cell_type": "markdown",
      "source": [
        "###### Los coeficientes LSTAT y RM tienen una fuerte influencia en el comportamiento del modelo, en el que LSTAT tiene una influencia negativa y, por otro lado, RM tiene una influencia positiva.\n",
        "\n",
        "\n",
        "###### Tiene sentido, porque cuantas más habitaciones, más cara tiende a ser una casa, y cuanto menor es el estatus de la población en esa región, menor suele ser el precio de la casa. \n",
        "\n",
        "###### Además, podemos ver que DIS también tiene una fuerte influencia en el modelo, sin embargo, no parece tener sentido, porque cuanto más cerca esté la casa de los centros de empleo en Boston, más caro sería, y como podemos ver, DIS tiene una influencia negativa.\n",
        "\n",
        "\n",
        "\n",
        "\n"
      ],
      "metadata": {
        "id": "hRrUk7oAEkly"
      }
    },
    {
      "cell_type": "markdown",
      "source": [
        "## **Lasso Regression**"
      ],
      "metadata": {
        "id": "l_sgAz7oPIXn"
      }
    },
    {
      "cell_type": "code",
      "source": [
        "lasso_cv = LassoCV(cv = 10, max_iter = 100000)\n",
        "lasso_cv.fit(X_train, y_train)\n",
        "alpha = lasso_cv.alpha_\n",
        "\n",
        "\n",
        "print('alpha:{}'.format(round(alpha,4)))"
      ],
      "metadata": {
        "colab": {
          "base_uri": "https://localhost:8080/"
        },
        "id": "7iCHZ1TJNWNK",
        "outputId": "98b24e54-a7c1-4ab2-c99a-a45a30037029"
      },
      "execution_count": 18,
      "outputs": [
        {
          "output_type": "stream",
          "name": "stdout",
          "text": [
            "alpha:0.1049\n"
          ]
        }
      ]
    },
    {
      "cell_type": "code",
      "source": [
        "lasso = Lasso(alpha = lasso_cv.alpha_)\n",
        "lasso.fit(X_train, y_train)"
      ],
      "metadata": {
        "colab": {
          "base_uri": "https://localhost:8080/"
        },
        "id": "dRT37U-CNY4i",
        "outputId": "929f3752-5861-4685-ed42-0a61a48c2805"
      },
      "execution_count": 19,
      "outputs": [
        {
          "output_type": "execute_result",
          "data": {
            "text/plain": [
              "Lasso(alpha=0.10487561812667796)"
            ]
          },
          "metadata": {},
          "execution_count": 19
        }
      ]
    },
    {
      "cell_type": "code",
      "source": [
        "lasso.score(X_train, y_train)"
      ],
      "metadata": {
        "colab": {
          "base_uri": "https://localhost:8080/"
        },
        "id": "EhZpYmyMNa-T",
        "outputId": "f45d4f0f-a143-43d5-8370-e7d55ab98d3b"
      },
      "execution_count": 20,
      "outputs": [
        {
          "output_type": "execute_result",
          "data": {
            "text/plain": [
              "0.7830530352796812"
            ]
          },
          "metadata": {},
          "execution_count": 20
        }
      ]
    },
    {
      "cell_type": "code",
      "source": [
        "lasso.score(X_test, y_test)"
      ],
      "metadata": {
        "colab": {
          "base_uri": "https://localhost:8080/"
        },
        "id": "vqt7yiv1Qbne",
        "outputId": "767407e4-24db-4478-9530-b8e1aa64a5cd"
      },
      "execution_count": 21,
      "outputs": [
        {
          "output_type": "execute_result",
          "data": {
            "text/plain": [
              "0.671566503610686"
            ]
          },
          "metadata": {},
          "execution_count": 21
        }
      ]
    },
    {
      "cell_type": "markdown",
      "source": [
        "## **Regression accuracy metrics**"
      ],
      "metadata": {
        "id": "xKFFbr4eSx7Q"
      }
    },
    {
      "cell_type": "code",
      "source": [
        "cv = 2 \n",
        "max_iter = 78000 \n",
        "lasso_cv = LassoCV(cv = cv, max_iter = max_iter)\n",
        "lasso_cv.fit(X_train, y_train)\n",
        "alpha = lasso_cv.alpha_\n",
        "lasso = Lasso(alpha = lasso_cv.alpha_)\n",
        "ls = lasso.fit(X_train, y_train)\n",
        "print('Precisión entrenamiento: {}'.format(lasso.score(X_train, y_train)))\n",
        "print('Precisión prueba: {}'.format(lasso.score(X_test, y_test)))\n",
        "y_pred = ls.predict(X_test)\n",
        "\n",
        "      \n",
        "print('MSE:{}'.format(round(mean_squared_error(y_test,y_pred),4)))\n",
        "      \n",
        "print('RMSE:{}'.format(round(np.sqrt(mean_squared_error(y_test,y_pred)),4)))\n",
        "\n",
        "print('r2:{}'.format(round(r2_score(y_test,y_pred),4)))"
      ],
      "metadata": {
        "colab": {
          "base_uri": "https://localhost:8080/"
        },
        "id": "vx1AkzONPgDK",
        "outputId": "6e6bce23-4ce8-4e95-98fc-342593b4c826"
      },
      "execution_count": 22,
      "outputs": [
        {
          "output_type": "stream",
          "name": "stdout",
          "text": [
            "Precisión entrenamiento: 0.7836255926688087\n",
            "Precisión prueba: 0.6714981367613853\n",
            "MSE:25.0948\n",
            "RMSE:5.0095\n",
            "r2:0.6715\n"
          ]
        }
      ]
    },
    {
      "cell_type": "markdown",
      "source": [
        "## **Ridge Regression**"
      ],
      "metadata": {
        "id": "T1eKRO7uMBjD"
      }
    },
    {
      "cell_type": "code",
      "source": [
        "alphas = np.random.uniform(0, 10, 50)\n",
        "ridge_cv = RidgeCV(alphas = alphas, cv = 10, normalize = True)\n",
        "ridge_cv.fit(X_train, y_train)\n",
        "alpha = ridge_cv.alpha_\n",
        "alpha"
      ],
      "metadata": {
        "colab": {
          "base_uri": "https://localhost:8080/"
        },
        "id": "oE8oH-8wTNgN",
        "outputId": "7485d329-e644-4a4c-e1c9-672841e31973"
      },
      "execution_count": 23,
      "outputs": [
        {
          "output_type": "execute_result",
          "data": {
            "text/plain": [
              "0.07866591612548213"
            ]
          },
          "metadata": {},
          "execution_count": 23
        }
      ]
    },
    {
      "cell_type": "code",
      "source": [
        "ridge = Ridge(alpha = ridge_cv.alpha_)\n",
        "ridge.fit(X_train, y_train)"
      ],
      "metadata": {
        "colab": {
          "base_uri": "https://localhost:8080/"
        },
        "id": "38pKlOD7Tv7A",
        "outputId": "c17d7942-54fa-455a-de7e-5243b886e1ea"
      },
      "execution_count": 24,
      "outputs": [
        {
          "output_type": "execute_result",
          "data": {
            "text/plain": [
              "Ridge(alpha=0.07866591612548213)"
            ]
          },
          "metadata": {},
          "execution_count": 24
        }
      ]
    },
    {
      "cell_type": "code",
      "source": [
        "ridge.score(X_train, y_train)"
      ],
      "metadata": {
        "colab": {
          "base_uri": "https://localhost:8080/"
        },
        "id": "5sqEvrszTyz4",
        "outputId": "e940c000-b36b-4cad-a2d1-83d4378a43b8"
      },
      "execution_count": 25,
      "outputs": [
        {
          "output_type": "execute_result",
          "data": {
            "text/plain": [
              "0.7854036779900238"
            ]
          },
          "metadata": {},
          "execution_count": 25
        }
      ]
    },
    {
      "cell_type": "code",
      "source": [
        "ridge.score(X_test, y_test)"
      ],
      "metadata": {
        "colab": {
          "base_uri": "https://localhost:8080/"
        },
        "id": "0uiLUCUFT0d-",
        "outputId": "f2b7e799-f13b-46e2-e8a0-cdfd992f93fd"
      },
      "execution_count": 26,
      "outputs": [
        {
          "output_type": "execute_result",
          "data": {
            "text/plain": [
              "0.6682119643336837"
            ]
          },
          "metadata": {},
          "execution_count": 26
        }
      ]
    },
    {
      "cell_type": "markdown",
      "source": [
        "# **Regression accuracy metrics**"
      ],
      "metadata": {
        "id": "eOQ69JlhUgM5"
      }
    },
    {
      "cell_type": "code",
      "source": [
        "cv = 2 \n",
        "alphas = np.random.uniform(0, 10, 50)\n",
        "ridge_cv = RidgeCV(alphas = alphas, cv = cv, normalize = True)\n",
        "ridge_cv.fit(X_train, y_train)\n",
        "alpha = ridge_cv.alpha_\n",
        "ridge = Ridge(alpha = ridge_cv.alpha_)\n",
        "ridge.fit(X_train, y_train)\n",
        "\n",
        "print('Precisión entrenamiento: {}'.format(ridge.score(X_train, y_train)))\n",
        "print('Precisión prueba: {}'.format(ridge.score(X_test, y_test)))\n",
        "y_pred = ls.predict(X_test)\n",
        "\n",
        "\n",
        "\n",
        "print('MSE:{}'.format(round(mean_squared_error(y_test,y_pred),4)))\n",
        "      \n",
        "print('RMSE:{}'.format(round(np.sqrt(mean_squared_error(y_test,y_pred)),4)))\n",
        "\n",
        "print('r2:{}'.format(round(r2_score(y_test,y_pred),4)))\n",
        "\n"
      ],
      "metadata": {
        "colab": {
          "base_uri": "https://localhost:8080/"
        },
        "id": "0_kiesTYUgoH",
        "outputId": "d4995c00-00bd-4c95-b043-2730e511b9ef"
      },
      "execution_count": 27,
      "outputs": [
        {
          "output_type": "stream",
          "name": "stdout",
          "text": [
            "Precisión entrenamiento: 0.7854010701171908\n",
            "Precisión prueba: 0.6683835694686397\n",
            "MSE:25.0948\n",
            "RMSE:5.0095\n",
            "r2:0.6715\n"
          ]
        }
      ]
    },
    {
      "cell_type": "markdown",
      "source": [
        "# **Elastic Net**"
      ],
      "metadata": {
        "id": "XbddFX-_VNh2"
      }
    },
    {
      "cell_type": "code",
      "source": [
        "elastic_net_cv = ElasticNetCV(alphas = None, cv = 10, max_iter = 100000, normalize = True)\n",
        "elastic_net_cv.fit(X_train, y_train)"
      ],
      "metadata": {
        "colab": {
          "base_uri": "https://localhost:8080/"
        },
        "id": "nzwZYeeQVMoc",
        "outputId": "6a440962-98c3-4773-e189-a9ae49a55412"
      },
      "execution_count": 28,
      "outputs": [
        {
          "output_type": "execute_result",
          "data": {
            "text/plain": [
              "ElasticNetCV(cv=10, max_iter=100000, normalize=True)"
            ]
          },
          "metadata": {},
          "execution_count": 28
        }
      ]
    },
    {
      "cell_type": "code",
      "source": [
        "alpha = elastic_net_cv.alpha_\n",
        "alpha"
      ],
      "metadata": {
        "colab": {
          "base_uri": "https://localhost:8080/"
        },
        "id": "_VTGwqDbWnKW",
        "outputId": "603e1ea5-c08c-4a28-ced1-37ce65c54b3d"
      },
      "execution_count": 29,
      "outputs": [
        {
          "output_type": "execute_result",
          "data": {
            "text/plain": [
              "0.0008457025405153812"
            ]
          },
          "metadata": {},
          "execution_count": 29
        }
      ]
    },
    {
      "cell_type": "code",
      "source": [
        "elastic_net_cv.l1_ratio"
      ],
      "metadata": {
        "colab": {
          "base_uri": "https://localhost:8080/"
        },
        "id": "9cWldKqzWplG",
        "outputId": "a2e07a9b-84ef-469f-8b9b-a45fbfec23c2"
      },
      "execution_count": 30,
      "outputs": [
        {
          "output_type": "execute_result",
          "data": {
            "text/plain": [
              "0.5"
            ]
          },
          "metadata": {},
          "execution_count": 30
        }
      ]
    },
    {
      "cell_type": "code",
      "source": [
        "elastic_net = ElasticNet(alpha = elastic_net_cv.alpha_, l1_ratio = elastic_net_cv.l1_ratio)\n",
        "elastic_net.fit(X_train, y_train)"
      ],
      "metadata": {
        "colab": {
          "base_uri": "https://localhost:8080/"
        },
        "id": "Bhbo_N_6Wuz1",
        "outputId": "6982626f-81dc-4f8f-aecf-6b25447f37e3"
      },
      "execution_count": 31,
      "outputs": [
        {
          "output_type": "execute_result",
          "data": {
            "text/plain": [
              "ElasticNet(alpha=0.0008457025405153812)"
            ]
          },
          "metadata": {},
          "execution_count": 31
        }
      ]
    },
    {
      "cell_type": "code",
      "source": [
        "elastic_net.score(X_train, y_train)"
      ],
      "metadata": {
        "colab": {
          "base_uri": "https://localhost:8080/"
        },
        "id": "H9YAze-3Wyc3",
        "outputId": "cadb2b14-eeee-4548-94d0-84071b3e5ad7"
      },
      "execution_count": 32,
      "outputs": [
        {
          "output_type": "execute_result",
          "data": {
            "text/plain": [
              "0.785403396264881"
            ]
          },
          "metadata": {},
          "execution_count": 32
        }
      ]
    },
    {
      "cell_type": "code",
      "source": [
        "elastic_net.score(X_test, y_test)"
      ],
      "metadata": {
        "colab": {
          "base_uri": "https://localhost:8080/"
        },
        "id": "_14RY6gDW2L1",
        "outputId": "0306d49f-a5c6-4165-83f0-b1bbbd7773c8"
      },
      "execution_count": 33,
      "outputs": [
        {
          "output_type": "execute_result",
          "data": {
            "text/plain": [
              "0.6682573970115819"
            ]
          },
          "metadata": {},
          "execution_count": 33
        }
      ]
    },
    {
      "cell_type": "markdown",
      "source": [
        "# **Regression accuracy metrics**"
      ],
      "metadata": {
        "id": "IduuBfriXFYu"
      }
    },
    {
      "cell_type": "code",
      "source": [
        "\n",
        "cv = 3 \n",
        "max_iter = 78000 \n",
        "\n",
        "elastic_net_cv = ElasticNetCV(alphas = None, cv = 2, max_iter = max_iter, normalize = True)\n",
        "elastic_net_cv.fit(X_train, y_train)\n",
        "alpha = elastic_net_cv.alpha_\n",
        "elastic_net_cv.l1_ratio\n",
        "elastic_net = ElasticNet(alpha = elastic_net_cv.alpha_, l1_ratio = elastic_net_cv.l1_ratio)\n",
        "elastic_net.fit(X_train, y_train)\n",
        "\n",
        "print('Precisión entrenamiento: {}'.format(elastic_net.score(X_train, y_train)))\n",
        "print('Precisión prueba: {}'.format(elastic_net.score(X_test, y_test)))\n",
        "y_pred = elastic_net.predict(X_test)\n",
        "\n",
        "\n",
        "print('MSE:{}'.format(round(mean_squared_error(y_test,y_pred),4)))\n",
        "      \n",
        "print('RMSE:{}'.format(round(np.sqrt(mean_squared_error(y_test,y_pred)),4)))\n",
        "\n",
        "print('r2:{}'.format(round(r2_score(y_test,y_pred),4)))\n"
      ],
      "metadata": {
        "colab": {
          "base_uri": "https://localhost:8080/"
        },
        "id": "NY0BSOZ5W-oP",
        "outputId": "bc966a6e-79c1-44c3-dcd4-b9d421f953aa"
      },
      "execution_count": 34,
      "outputs": [
        {
          "output_type": "stream",
          "name": "stdout",
          "text": [
            "Precisión entrenamiento: 0.7854029184764765\n",
            "Precisión prueba: 0.6682997946407373\n",
            "MSE:25.3391\n",
            "RMSE:5.0338\n",
            "r2:0.6683\n"
          ]
        }
      ]
    },
    {
      "cell_type": "markdown",
      "source": [
        "# **Normalizacion de Datos - Analisis del modelo propuesto**"
      ],
      "metadata": {
        "id": "QR2UCNizXwFn"
      }
    },
    {
      "cell_type": "code",
      "source": [
        "X_nor = df_new.drop(columns = 'MEDV', axis = 1)\n",
        "y_nor = df_new['MEDV']\n",
        "\n",
        "df_nor = normalize(X_nor)\n",
        "df_nor = pd.DataFrame(df_nor, columns = X_nor.columns)\n",
        "df_nor.describe()"
      ],
      "metadata": {
        "colab": {
          "base_uri": "https://localhost:8080/",
          "height": 300
        },
        "id": "DA5cveq_X2ce",
        "outputId": "9ce29c91-97b0-4484-cf0d-79c9e29235d3"
      },
      "execution_count": 35,
      "outputs": [
        {
          "output_type": "execute_result",
          "data": {
            "text/plain": [
              "             CRIM          ZN       INDUS        CHAS         NOX          RM  \\\n",
              "count  394.000000  394.000000  394.000000  394.000000  394.000000  394.000000   \n",
              "mean     0.005179    0.023002    0.018521    0.000126    0.000987    0.011533   \n",
              "std      0.012472    0.048017    0.010539    0.000475    0.000180    0.002703   \n",
              "min      0.000013    0.000000    0.000963    0.000000    0.000660    0.004684   \n",
              "25%      0.000163    0.000000    0.010493    0.000000    0.000876    0.009482   \n",
              "50%      0.000515    0.000000    0.016870    0.000000    0.000984    0.011813   \n",
              "75%      0.004966    0.024399    0.023822    0.000000    0.001058    0.013372   \n",
              "max      0.113134    0.207655    0.059424    0.002282    0.002053    0.018157   \n",
              "\n",
              "              AGE         DIS         TAX     PTRATIO           B       LSTAT  \n",
              "count  394.000000  394.000000  394.000000  394.000000  394.000000  394.000000  \n",
              "mean     0.121525    0.007286    0.688694    0.033539    0.661477    0.022082  \n",
              "std      0.048003    0.004573    0.150842    0.006073    0.207454    0.011369  \n",
              "min      0.006432    0.001451    0.426005    0.024238    0.003846    0.003100  \n",
              "25%      0.087836    0.003338    0.575566    0.027318    0.507318    0.013682  \n",
              "50%      0.126341    0.006411    0.652827    0.033869    0.744084    0.020334  \n",
              "75%      0.156882    0.010658    0.851140    0.038444    0.806037    0.028334  \n",
              "max      0.237637    0.027625    0.993149    0.053100    0.890631    0.070067  "
            ],
            "text/html": [
              "\n",
              "  <div id=\"df-0b94ceec-f4de-4342-940b-00ec5c426ec6\">\n",
              "    <div class=\"colab-df-container\">\n",
              "      <div>\n",
              "<style scoped>\n",
              "    .dataframe tbody tr th:only-of-type {\n",
              "        vertical-align: middle;\n",
              "    }\n",
              "\n",
              "    .dataframe tbody tr th {\n",
              "        vertical-align: top;\n",
              "    }\n",
              "\n",
              "    .dataframe thead th {\n",
              "        text-align: right;\n",
              "    }\n",
              "</style>\n",
              "<table border=\"1\" class=\"dataframe\">\n",
              "  <thead>\n",
              "    <tr style=\"text-align: right;\">\n",
              "      <th></th>\n",
              "      <th>CRIM</th>\n",
              "      <th>ZN</th>\n",
              "      <th>INDUS</th>\n",
              "      <th>CHAS</th>\n",
              "      <th>NOX</th>\n",
              "      <th>RM</th>\n",
              "      <th>AGE</th>\n",
              "      <th>DIS</th>\n",
              "      <th>TAX</th>\n",
              "      <th>PTRATIO</th>\n",
              "      <th>B</th>\n",
              "      <th>LSTAT</th>\n",
              "    </tr>\n",
              "  </thead>\n",
              "  <tbody>\n",
              "    <tr>\n",
              "      <th>count</th>\n",
              "      <td>394.000000</td>\n",
              "      <td>394.000000</td>\n",
              "      <td>394.000000</td>\n",
              "      <td>394.000000</td>\n",
              "      <td>394.000000</td>\n",
              "      <td>394.000000</td>\n",
              "      <td>394.000000</td>\n",
              "      <td>394.000000</td>\n",
              "      <td>394.000000</td>\n",
              "      <td>394.000000</td>\n",
              "      <td>394.000000</td>\n",
              "      <td>394.000000</td>\n",
              "    </tr>\n",
              "    <tr>\n",
              "      <th>mean</th>\n",
              "      <td>0.005179</td>\n",
              "      <td>0.023002</td>\n",
              "      <td>0.018521</td>\n",
              "      <td>0.000126</td>\n",
              "      <td>0.000987</td>\n",
              "      <td>0.011533</td>\n",
              "      <td>0.121525</td>\n",
              "      <td>0.007286</td>\n",
              "      <td>0.688694</td>\n",
              "      <td>0.033539</td>\n",
              "      <td>0.661477</td>\n",
              "      <td>0.022082</td>\n",
              "    </tr>\n",
              "    <tr>\n",
              "      <th>std</th>\n",
              "      <td>0.012472</td>\n",
              "      <td>0.048017</td>\n",
              "      <td>0.010539</td>\n",
              "      <td>0.000475</td>\n",
              "      <td>0.000180</td>\n",
              "      <td>0.002703</td>\n",
              "      <td>0.048003</td>\n",
              "      <td>0.004573</td>\n",
              "      <td>0.150842</td>\n",
              "      <td>0.006073</td>\n",
              "      <td>0.207454</td>\n",
              "      <td>0.011369</td>\n",
              "    </tr>\n",
              "    <tr>\n",
              "      <th>min</th>\n",
              "      <td>0.000013</td>\n",
              "      <td>0.000000</td>\n",
              "      <td>0.000963</td>\n",
              "      <td>0.000000</td>\n",
              "      <td>0.000660</td>\n",
              "      <td>0.004684</td>\n",
              "      <td>0.006432</td>\n",
              "      <td>0.001451</td>\n",
              "      <td>0.426005</td>\n",
              "      <td>0.024238</td>\n",
              "      <td>0.003846</td>\n",
              "      <td>0.003100</td>\n",
              "    </tr>\n",
              "    <tr>\n",
              "      <th>25%</th>\n",
              "      <td>0.000163</td>\n",
              "      <td>0.000000</td>\n",
              "      <td>0.010493</td>\n",
              "      <td>0.000000</td>\n",
              "      <td>0.000876</td>\n",
              "      <td>0.009482</td>\n",
              "      <td>0.087836</td>\n",
              "      <td>0.003338</td>\n",
              "      <td>0.575566</td>\n",
              "      <td>0.027318</td>\n",
              "      <td>0.507318</td>\n",
              "      <td>0.013682</td>\n",
              "    </tr>\n",
              "    <tr>\n",
              "      <th>50%</th>\n",
              "      <td>0.000515</td>\n",
              "      <td>0.000000</td>\n",
              "      <td>0.016870</td>\n",
              "      <td>0.000000</td>\n",
              "      <td>0.000984</td>\n",
              "      <td>0.011813</td>\n",
              "      <td>0.126341</td>\n",
              "      <td>0.006411</td>\n",
              "      <td>0.652827</td>\n",
              "      <td>0.033869</td>\n",
              "      <td>0.744084</td>\n",
              "      <td>0.020334</td>\n",
              "    </tr>\n",
              "    <tr>\n",
              "      <th>75%</th>\n",
              "      <td>0.004966</td>\n",
              "      <td>0.024399</td>\n",
              "      <td>0.023822</td>\n",
              "      <td>0.000000</td>\n",
              "      <td>0.001058</td>\n",
              "      <td>0.013372</td>\n",
              "      <td>0.156882</td>\n",
              "      <td>0.010658</td>\n",
              "      <td>0.851140</td>\n",
              "      <td>0.038444</td>\n",
              "      <td>0.806037</td>\n",
              "      <td>0.028334</td>\n",
              "    </tr>\n",
              "    <tr>\n",
              "      <th>max</th>\n",
              "      <td>0.113134</td>\n",
              "      <td>0.207655</td>\n",
              "      <td>0.059424</td>\n",
              "      <td>0.002282</td>\n",
              "      <td>0.002053</td>\n",
              "      <td>0.018157</td>\n",
              "      <td>0.237637</td>\n",
              "      <td>0.027625</td>\n",
              "      <td>0.993149</td>\n",
              "      <td>0.053100</td>\n",
              "      <td>0.890631</td>\n",
              "      <td>0.070067</td>\n",
              "    </tr>\n",
              "  </tbody>\n",
              "</table>\n",
              "</div>\n",
              "      <button class=\"colab-df-convert\" onclick=\"convertToInteractive('df-0b94ceec-f4de-4342-940b-00ec5c426ec6')\"\n",
              "              title=\"Convert this dataframe to an interactive table.\"\n",
              "              style=\"display:none;\">\n",
              "        \n",
              "  <svg xmlns=\"http://www.w3.org/2000/svg\" height=\"24px\"viewBox=\"0 0 24 24\"\n",
              "       width=\"24px\">\n",
              "    <path d=\"M0 0h24v24H0V0z\" fill=\"none\"/>\n",
              "    <path d=\"M18.56 5.44l.94 2.06.94-2.06 2.06-.94-2.06-.94-.94-2.06-.94 2.06-2.06.94zm-11 1L8.5 8.5l.94-2.06 2.06-.94-2.06-.94L8.5 2.5l-.94 2.06-2.06.94zm10 10l.94 2.06.94-2.06 2.06-.94-2.06-.94-.94-2.06-.94 2.06-2.06.94z\"/><path d=\"M17.41 7.96l-1.37-1.37c-.4-.4-.92-.59-1.43-.59-.52 0-1.04.2-1.43.59L10.3 9.45l-7.72 7.72c-.78.78-.78 2.05 0 2.83L4 21.41c.39.39.9.59 1.41.59.51 0 1.02-.2 1.41-.59l7.78-7.78 2.81-2.81c.8-.78.8-2.07 0-2.86zM5.41 20L4 18.59l7.72-7.72 1.47 1.35L5.41 20z\"/>\n",
              "  </svg>\n",
              "      </button>\n",
              "      \n",
              "  <style>\n",
              "    .colab-df-container {\n",
              "      display:flex;\n",
              "      flex-wrap:wrap;\n",
              "      gap: 12px;\n",
              "    }\n",
              "\n",
              "    .colab-df-convert {\n",
              "      background-color: #E8F0FE;\n",
              "      border: none;\n",
              "      border-radius: 50%;\n",
              "      cursor: pointer;\n",
              "      display: none;\n",
              "      fill: #1967D2;\n",
              "      height: 32px;\n",
              "      padding: 0 0 0 0;\n",
              "      width: 32px;\n",
              "    }\n",
              "\n",
              "    .colab-df-convert:hover {\n",
              "      background-color: #E2EBFA;\n",
              "      box-shadow: 0px 1px 2px rgba(60, 64, 67, 0.3), 0px 1px 3px 1px rgba(60, 64, 67, 0.15);\n",
              "      fill: #174EA6;\n",
              "    }\n",
              "\n",
              "    [theme=dark] .colab-df-convert {\n",
              "      background-color: #3B4455;\n",
              "      fill: #D2E3FC;\n",
              "    }\n",
              "\n",
              "    [theme=dark] .colab-df-convert:hover {\n",
              "      background-color: #434B5C;\n",
              "      box-shadow: 0px 1px 3px 1px rgba(0, 0, 0, 0.15);\n",
              "      filter: drop-shadow(0px 1px 2px rgba(0, 0, 0, 0.3));\n",
              "      fill: #FFFFFF;\n",
              "    }\n",
              "  </style>\n",
              "\n",
              "      <script>\n",
              "        const buttonEl =\n",
              "          document.querySelector('#df-0b94ceec-f4de-4342-940b-00ec5c426ec6 button.colab-df-convert');\n",
              "        buttonEl.style.display =\n",
              "          google.colab.kernel.accessAllowed ? 'block' : 'none';\n",
              "\n",
              "        async function convertToInteractive(key) {\n",
              "          const element = document.querySelector('#df-0b94ceec-f4de-4342-940b-00ec5c426ec6');\n",
              "          const dataTable =\n",
              "            await google.colab.kernel.invokeFunction('convertToInteractive',\n",
              "                                                     [key], {});\n",
              "          if (!dataTable) return;\n",
              "\n",
              "          const docLinkHtml = 'Like what you see? Visit the ' +\n",
              "            '<a target=\"_blank\" href=https://colab.research.google.com/notebooks/data_table.ipynb>data table notebook</a>'\n",
              "            + ' to learn more about interactive tables.';\n",
              "          element.innerHTML = '';\n",
              "          dataTable['output_type'] = 'display_data';\n",
              "          await google.colab.output.renderOutput(dataTable, element);\n",
              "          const docLink = document.createElement('div');\n",
              "          docLink.innerHTML = docLinkHtml;\n",
              "          element.appendChild(docLink);\n",
              "        }\n",
              "      </script>\n",
              "    </div>\n",
              "  </div>\n",
              "  "
            ]
          },
          "metadata": {},
          "execution_count": 35
        }
      ]
    },
    {
      "cell_type": "code",
      "source": [
        "\n",
        "X_train, X_test, y_train, y_test = train_test_split(df_nor, y_nor, test_size = 0.3, random_state = 0)\n",
        "print('Son {} datos para entrenamiento y {} datos para prueba'.format(X_train.shape[0], X_test.shape[0]))"
      ],
      "metadata": {
        "colab": {
          "base_uri": "https://localhost:8080/"
        },
        "id": "xtX9NSHmYTG9",
        "outputId": "b7f4a4c1-57c5-4ae7-e2aa-4cfbbd8a0115"
      },
      "execution_count": 36,
      "outputs": [
        {
          "output_type": "stream",
          "name": "stdout",
          "text": [
            "Son 275 datos para entrenamiento y 119 datos para prueba\n"
          ]
        }
      ]
    },
    {
      "cell_type": "code",
      "source": [
        "\n",
        "lr = LinearRegression()\n",
        "lr.fit(X_train, y_train)\n",
        "lr.score(X_train, y_train)"
      ],
      "metadata": {
        "colab": {
          "base_uri": "https://localhost:8080/"
        },
        "id": "sdXJTgKNYXmP",
        "outputId": "7b191138-5167-4484-edb1-88d8239db00b"
      },
      "execution_count": 37,
      "outputs": [
        {
          "output_type": "execute_result",
          "data": {
            "text/plain": [
              "0.7961834927265649"
            ]
          },
          "metadata": {},
          "execution_count": 37
        }
      ]
    },
    {
      "cell_type": "code",
      "source": [
        "lr.score(X_test, y_test)"
      ],
      "metadata": {
        "colab": {
          "base_uri": "https://localhost:8080/"
        },
        "id": "5Gi8Z7iBYbFV",
        "outputId": "3f2f6049-63d1-41a8-80e4-81aab35cfa4e"
      },
      "execution_count": 38,
      "outputs": [
        {
          "output_type": "execute_result",
          "data": {
            "text/plain": [
              "0.6894193076624109"
            ]
          },
          "metadata": {},
          "execution_count": 38
        }
      ]
    },
    {
      "cell_type": "code",
      "source": [
        "y_pred = lr.predict(X_test)\n",
        "\n",
        "\n",
        "print('MSE:{}'.format(round(mean_squared_error(y_test,y_pred),4)))\n",
        "      \n",
        "print('RMSE:{}'.format(round(np.sqrt(mean_squared_error(y_test,y_pred)),4)))\n",
        "\n",
        "print('r2:{}'.format(round(r2_score(y_test,y_pred),4)))\n",
        "\n"
      ],
      "metadata": {
        "colab": {
          "base_uri": "https://localhost:8080/"
        },
        "id": "F_u_VrfdYed0",
        "outputId": "69c746b6-3093-4316-ffe2-058a75129636"
      },
      "execution_count": 39,
      "outputs": [
        {
          "output_type": "stream",
          "name": "stdout",
          "text": [
            "MSE:23.7258\n",
            "RMSE:4.8709\n",
            "r2:0.6894\n"
          ]
        }
      ]
    },
    {
      "cell_type": "markdown",
      "source": [
        "# **Comentario**\n"
      ],
      "metadata": {
        "id": "oCyNq9cSGcIz"
      }
    },
    {
      "cell_type": "markdown",
      "source": [
        "* Las variables que dan mayor valor a la vivienda son : RM, ZN, CHAS, B,\n",
        "teniendo mayor valor el número de habitaciones, el resto de las variables reducen el precio del inmueble\n",
        "\n",
        "\n",
        "* Los coeficientes LSTAT y RM tienen una fuerte influencia en el comportamiento del modelo, en el que LSTAT tiene una influencia negativa y, por otro lado, RM tiene una influencia positiva. Tiene sentido, porque cuantas más habitaciones, más cara tiende a ser una casa, y cuanto menor es el estatus de la población en esa región, menor suele ser el precio de la casa. \n",
        "\n",
        "* Además, podemos ver que DIS también tiene una fuerte influencia en el modelo, sin embargo, no parece tener sentido, porque cuanto más cerca esté la casa de los centros de empleo en Boston, más caro sería, y como podemos ver, DIS tiene una influencia negativa.\n",
        "\n",
        "\n",
        "* Cada método de regresión  es evaluado considerando diferentes parámetros.\n",
        "Considerando los resultados obtenidos, existe una gran tendencia de ciertas variables que influye en el precio de una vivienda, (RM) y (ZN); la variable que influye en la reducción del precio del inmueble es (LSTAT)\n",
        "\n",
        "* Finalmente, se puede concluir que  los métodos probados tiende a las siguientes metricas \n",
        "\n",
        "* **MSE**  : 25.0948\n",
        "* **RMSE** : 5.0095\n",
        "* **r2**   : 0.6715"
      ],
      "metadata": {
        "id": "f824GrQ7HhsL"
      }
    }
  ]
}