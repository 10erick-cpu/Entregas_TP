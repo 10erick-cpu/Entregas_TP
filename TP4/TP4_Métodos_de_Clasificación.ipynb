{
  "nbformat": 4,
  "nbformat_minor": 0,
  "metadata": {
    "colab": {
      "name": "IV. Trabajo Práctico IV - Métodos de Clasificación.ipynb",
      "provenance": [],
      "collapsed_sections": [],
      "authorship_tag": "ABX9TyMLF5UPSNnseURKav4/g+Yi",
      "include_colab_link": true
    },
    "kernelspec": {
      "name": "python3",
      "display_name": "Python 3"
    },
    "language_info": {
      "name": "python"
    }
  },
  "cells": [
    {
      "cell_type": "markdown",
      "metadata": {
        "id": "view-in-github",
        "colab_type": "text"
      },
      "source": [
        "<a href=\"https://colab.research.google.com/github/10erick-cpu/Entregas_TP/blob/main/TP4/TP4_M%C3%A9todos_de_Clasificaci%C3%B3n.ipynb\" target=\"_parent\"><img src=\"https://colab.research.google.com/assets/colab-badge.svg\" alt=\"Open In Colab\"/></a>"
      ]
    },
    {
      "cell_type": "markdown",
      "source": [
        "# **Trabajo Práctico IV - Métodos de Clasificación**"
      ],
      "metadata": {
        "id": "RzriRIDDQt4a"
      }
    },
    {
      "cell_type": "markdown",
      "source": [
        "### **Alumno** : Erick Macote Yparraguirre\n",
        "### **mail** : leonelerick59@gmail.com\n",
        "### **Profesor** : Ing. Manlio Miguel Massiris\n"
      ],
      "metadata": {
        "id": "Q1E4r-SS38v0"
      }
    },
    {
      "cell_type": "markdown",
      "metadata": {
        "id": "D97rWl-xKSZD"
      },
      "source": [
        "# **Librerias Usadas**"
      ]
    },
    {
      "cell_type": "code",
      "source": [
        "import matplotlib.pyplot as plt \n",
        "from matplotlib import pyplot as plt\n",
        "from matplotlib.pyplot import figure\n",
        "from matplotlib.colors import ListedColormap\n",
        "import seaborn as sns\n",
        "import statsmodels.api as sm\n",
        "import numpy as np\n",
        "import pandas as pd\n",
        "\n",
        "from sklearn.neighbors import KNeighborsClassifier\n",
        "from sklearn.ensemble import RandomForestClassifier\n",
        "from sklearn.svm import SVC\n",
        "from sklearn.linear_model import LogisticRegression\n",
        "from sklearn.preprocessing import LabelEncoder, StandardScaler\n",
        "from sklearn.model_selection import train_test_split\n",
        "from sklearn.model_selection import GridSearchCV\n",
        "from sklearn.metrics import classification_report\n",
        "from sklearn.model_selection import cross_validate\n",
        "\n",
        "\n",
        "from sklearn.preprocessing import MinMaxScaler\n",
        "from sklearn.metrics import confusion_matrix\n",
        "from sklearn.metrics import accuracy_score\n",
        "import sklearn.metrics as metrics\n",
        "\n",
        "from sklearn.ensemble import RandomForestRegressor\n",
        "from sklearn import svm\n",
        "from sklearn.utils import shuffle\n",
        "from sklearn import neighbors\n",
        "from sklearn.preprocessing import LabelEncoder\n",
        "from sklearn.preprocessing import StandardScaler\n",
        "from sklearn import metrics\n",
        "from scipy.stats import norm\n"
      ],
      "metadata": {
        "id": "A4mOUOsdQ9pn"
      },
      "execution_count": 2,
      "outputs": []
    },
    {
      "cell_type": "markdown",
      "source": [
        "# **Ejercicios**"
      ],
      "metadata": {
        "id": "8NR2G8jdRdnO"
      }
    },
    {
      "cell_type": "markdown",
      "source": [
        "Elegir uno de entre los siguientes proyectos (se agregan links a las NB\n",
        "correspondientes) y aplicar clasificación para resolverlo. \n",
        "\n",
        "Cada proyecto tiene datasets de diferentes características (texto, imágenes, audio, etc.) por lo que tiene diferente dificultad (indicada con un semaforito).\n",
        "\n",
        "\n",
        "Para los más sencillos trabajar individualmente y aplicar más de un\n",
        "clasificador, utilizar diferentes parámetros, comparar evaluaciones.\n",
        "Para los más complejos, trabajar en grupos de dos personas y aplicar un\n",
        "único modelo."
      ],
      "metadata": {
        "id": "VHpGr_gPRIEN"
      }
    },
    {
      "cell_type": "markdown",
      "source": [
        "# **Ejercicio 4.4**"
      ],
      "metadata": {
        "id": "Ht_GLFtuco2-"
      }
    },
    {
      "cell_type": "markdown",
      "source": [
        "# **Winsconsin Breast Cancer dataset**\n",
        "\n",
        "\n",
        "Contiene una tabla con 569 datos de histología mamaria humana, 357 casos de tejido tumoral benigno y 212 tejido maligno. Los datos son 32 atributos radiómicos (tamaños, formas, texturas, etc.). \n",
        "\n",
        "El objetivo es desarrollar un clasificador que a través de los atributos permita predecir la benignidad o malignidad de un tumor.\n",
        "\n",
        "**Notebook Asociado** :\n",
        "\n",
        "https://github.com/manlio99/Materia-deaprendizaje/blob/master/3_MidtermProjects/ProjectBCD\n",
        "\n"
      ],
      "metadata": {
        "id": "X3r3kD3ESWw5"
      }
    },
    {
      "cell_type": "markdown",
      "source": [
        "# **Dataset a utilizar - Winsconsin Breast Cancer**"
      ],
      "metadata": {
        "id": "X18x84WmXKqW"
      }
    },
    {
      "cell_type": "code",
      "source": [
        "df = pd.read_csv(\"https://raw.githubusercontent.com/emmanueliarussi/DataScienceCapstone/master/3_MidtermProjects/ProjectBCD/data/data.csv\")\n",
        "df\n"
      ],
      "metadata": {
        "colab": {
          "base_uri": "https://localhost:8080/",
          "height": 505
        },
        "id": "nYbnBqBBSHzQ",
        "outputId": "5abc5722-7688-4201-a2dd-4300c5690439"
      },
      "execution_count": 3,
      "outputs": [
        {
          "output_type": "execute_result",
          "data": {
            "text/plain": [
              "           id diagnosis  radius_mean  texture_mean  perimeter_mean  area_mean  \\\n",
              "0      842302         M        17.99         10.38          122.80     1001.0   \n",
              "1      842517         M        20.57         17.77          132.90     1326.0   \n",
              "2    84300903         M        19.69         21.25          130.00     1203.0   \n",
              "3    84348301         M        11.42         20.38           77.58      386.1   \n",
              "4    84358402         M        20.29         14.34          135.10     1297.0   \n",
              "..        ...       ...          ...           ...             ...        ...   \n",
              "564    926424         M        21.56         22.39          142.00     1479.0   \n",
              "565    926682         M        20.13         28.25          131.20     1261.0   \n",
              "566    926954         M        16.60         28.08          108.30      858.1   \n",
              "567    927241         M        20.60         29.33          140.10     1265.0   \n",
              "568     92751         B         7.76         24.54           47.92      181.0   \n",
              "\n",
              "     smoothness_mean  compactness_mean  concavity_mean  concave points_mean  \\\n",
              "0            0.11840           0.27760         0.30010              0.14710   \n",
              "1            0.08474           0.07864         0.08690              0.07017   \n",
              "2            0.10960           0.15990         0.19740              0.12790   \n",
              "3            0.14250           0.28390         0.24140              0.10520   \n",
              "4            0.10030           0.13280         0.19800              0.10430   \n",
              "..               ...               ...             ...                  ...   \n",
              "564          0.11100           0.11590         0.24390              0.13890   \n",
              "565          0.09780           0.10340         0.14400              0.09791   \n",
              "566          0.08455           0.10230         0.09251              0.05302   \n",
              "567          0.11780           0.27700         0.35140              0.15200   \n",
              "568          0.05263           0.04362         0.00000              0.00000   \n",
              "\n",
              "     ...  texture_worst  perimeter_worst  area_worst  smoothness_worst  \\\n",
              "0    ...          17.33           184.60      2019.0           0.16220   \n",
              "1    ...          23.41           158.80      1956.0           0.12380   \n",
              "2    ...          25.53           152.50      1709.0           0.14440   \n",
              "3    ...          26.50            98.87       567.7           0.20980   \n",
              "4    ...          16.67           152.20      1575.0           0.13740   \n",
              "..   ...            ...              ...         ...               ...   \n",
              "564  ...          26.40           166.10      2027.0           0.14100   \n",
              "565  ...          38.25           155.00      1731.0           0.11660   \n",
              "566  ...          34.12           126.70      1124.0           0.11390   \n",
              "567  ...          39.42           184.60      1821.0           0.16500   \n",
              "568  ...          30.37            59.16       268.6           0.08996   \n",
              "\n",
              "     compactness_worst  concavity_worst  concave points_worst  symmetry_worst  \\\n",
              "0              0.66560           0.7119                0.2654          0.4601   \n",
              "1              0.18660           0.2416                0.1860          0.2750   \n",
              "2              0.42450           0.4504                0.2430          0.3613   \n",
              "3              0.86630           0.6869                0.2575          0.6638   \n",
              "4              0.20500           0.4000                0.1625          0.2364   \n",
              "..                 ...              ...                   ...             ...   \n",
              "564            0.21130           0.4107                0.2216          0.2060   \n",
              "565            0.19220           0.3215                0.1628          0.2572   \n",
              "566            0.30940           0.3403                0.1418          0.2218   \n",
              "567            0.86810           0.9387                0.2650          0.4087   \n",
              "568            0.06444           0.0000                0.0000          0.2871   \n",
              "\n",
              "     fractal_dimension_worst  Unnamed: 32  \n",
              "0                    0.11890          NaN  \n",
              "1                    0.08902          NaN  \n",
              "2                    0.08758          NaN  \n",
              "3                    0.17300          NaN  \n",
              "4                    0.07678          NaN  \n",
              "..                       ...          ...  \n",
              "564                  0.07115          NaN  \n",
              "565                  0.06637          NaN  \n",
              "566                  0.07820          NaN  \n",
              "567                  0.12400          NaN  \n",
              "568                  0.07039          NaN  \n",
              "\n",
              "[569 rows x 33 columns]"
            ],
            "text/html": [
              "\n",
              "  <div id=\"df-b48cd098-7d5c-41de-b470-a52b03057a09\">\n",
              "    <div class=\"colab-df-container\">\n",
              "      <div>\n",
              "<style scoped>\n",
              "    .dataframe tbody tr th:only-of-type {\n",
              "        vertical-align: middle;\n",
              "    }\n",
              "\n",
              "    .dataframe tbody tr th {\n",
              "        vertical-align: top;\n",
              "    }\n",
              "\n",
              "    .dataframe thead th {\n",
              "        text-align: right;\n",
              "    }\n",
              "</style>\n",
              "<table border=\"1\" class=\"dataframe\">\n",
              "  <thead>\n",
              "    <tr style=\"text-align: right;\">\n",
              "      <th></th>\n",
              "      <th>id</th>\n",
              "      <th>diagnosis</th>\n",
              "      <th>radius_mean</th>\n",
              "      <th>texture_mean</th>\n",
              "      <th>perimeter_mean</th>\n",
              "      <th>area_mean</th>\n",
              "      <th>smoothness_mean</th>\n",
              "      <th>compactness_mean</th>\n",
              "      <th>concavity_mean</th>\n",
              "      <th>concave points_mean</th>\n",
              "      <th>...</th>\n",
              "      <th>texture_worst</th>\n",
              "      <th>perimeter_worst</th>\n",
              "      <th>area_worst</th>\n",
              "      <th>smoothness_worst</th>\n",
              "      <th>compactness_worst</th>\n",
              "      <th>concavity_worst</th>\n",
              "      <th>concave points_worst</th>\n",
              "      <th>symmetry_worst</th>\n",
              "      <th>fractal_dimension_worst</th>\n",
              "      <th>Unnamed: 32</th>\n",
              "    </tr>\n",
              "  </thead>\n",
              "  <tbody>\n",
              "    <tr>\n",
              "      <th>0</th>\n",
              "      <td>842302</td>\n",
              "      <td>M</td>\n",
              "      <td>17.99</td>\n",
              "      <td>10.38</td>\n",
              "      <td>122.80</td>\n",
              "      <td>1001.0</td>\n",
              "      <td>0.11840</td>\n",
              "      <td>0.27760</td>\n",
              "      <td>0.30010</td>\n",
              "      <td>0.14710</td>\n",
              "      <td>...</td>\n",
              "      <td>17.33</td>\n",
              "      <td>184.60</td>\n",
              "      <td>2019.0</td>\n",
              "      <td>0.16220</td>\n",
              "      <td>0.66560</td>\n",
              "      <td>0.7119</td>\n",
              "      <td>0.2654</td>\n",
              "      <td>0.4601</td>\n",
              "      <td>0.11890</td>\n",
              "      <td>NaN</td>\n",
              "    </tr>\n",
              "    <tr>\n",
              "      <th>1</th>\n",
              "      <td>842517</td>\n",
              "      <td>M</td>\n",
              "      <td>20.57</td>\n",
              "      <td>17.77</td>\n",
              "      <td>132.90</td>\n",
              "      <td>1326.0</td>\n",
              "      <td>0.08474</td>\n",
              "      <td>0.07864</td>\n",
              "      <td>0.08690</td>\n",
              "      <td>0.07017</td>\n",
              "      <td>...</td>\n",
              "      <td>23.41</td>\n",
              "      <td>158.80</td>\n",
              "      <td>1956.0</td>\n",
              "      <td>0.12380</td>\n",
              "      <td>0.18660</td>\n",
              "      <td>0.2416</td>\n",
              "      <td>0.1860</td>\n",
              "      <td>0.2750</td>\n",
              "      <td>0.08902</td>\n",
              "      <td>NaN</td>\n",
              "    </tr>\n",
              "    <tr>\n",
              "      <th>2</th>\n",
              "      <td>84300903</td>\n",
              "      <td>M</td>\n",
              "      <td>19.69</td>\n",
              "      <td>21.25</td>\n",
              "      <td>130.00</td>\n",
              "      <td>1203.0</td>\n",
              "      <td>0.10960</td>\n",
              "      <td>0.15990</td>\n",
              "      <td>0.19740</td>\n",
              "      <td>0.12790</td>\n",
              "      <td>...</td>\n",
              "      <td>25.53</td>\n",
              "      <td>152.50</td>\n",
              "      <td>1709.0</td>\n",
              "      <td>0.14440</td>\n",
              "      <td>0.42450</td>\n",
              "      <td>0.4504</td>\n",
              "      <td>0.2430</td>\n",
              "      <td>0.3613</td>\n",
              "      <td>0.08758</td>\n",
              "      <td>NaN</td>\n",
              "    </tr>\n",
              "    <tr>\n",
              "      <th>3</th>\n",
              "      <td>84348301</td>\n",
              "      <td>M</td>\n",
              "      <td>11.42</td>\n",
              "      <td>20.38</td>\n",
              "      <td>77.58</td>\n",
              "      <td>386.1</td>\n",
              "      <td>0.14250</td>\n",
              "      <td>0.28390</td>\n",
              "      <td>0.24140</td>\n",
              "      <td>0.10520</td>\n",
              "      <td>...</td>\n",
              "      <td>26.50</td>\n",
              "      <td>98.87</td>\n",
              "      <td>567.7</td>\n",
              "      <td>0.20980</td>\n",
              "      <td>0.86630</td>\n",
              "      <td>0.6869</td>\n",
              "      <td>0.2575</td>\n",
              "      <td>0.6638</td>\n",
              "      <td>0.17300</td>\n",
              "      <td>NaN</td>\n",
              "    </tr>\n",
              "    <tr>\n",
              "      <th>4</th>\n",
              "      <td>84358402</td>\n",
              "      <td>M</td>\n",
              "      <td>20.29</td>\n",
              "      <td>14.34</td>\n",
              "      <td>135.10</td>\n",
              "      <td>1297.0</td>\n",
              "      <td>0.10030</td>\n",
              "      <td>0.13280</td>\n",
              "      <td>0.19800</td>\n",
              "      <td>0.10430</td>\n",
              "      <td>...</td>\n",
              "      <td>16.67</td>\n",
              "      <td>152.20</td>\n",
              "      <td>1575.0</td>\n",
              "      <td>0.13740</td>\n",
              "      <td>0.20500</td>\n",
              "      <td>0.4000</td>\n",
              "      <td>0.1625</td>\n",
              "      <td>0.2364</td>\n",
              "      <td>0.07678</td>\n",
              "      <td>NaN</td>\n",
              "    </tr>\n",
              "    <tr>\n",
              "      <th>...</th>\n",
              "      <td>...</td>\n",
              "      <td>...</td>\n",
              "      <td>...</td>\n",
              "      <td>...</td>\n",
              "      <td>...</td>\n",
              "      <td>...</td>\n",
              "      <td>...</td>\n",
              "      <td>...</td>\n",
              "      <td>...</td>\n",
              "      <td>...</td>\n",
              "      <td>...</td>\n",
              "      <td>...</td>\n",
              "      <td>...</td>\n",
              "      <td>...</td>\n",
              "      <td>...</td>\n",
              "      <td>...</td>\n",
              "      <td>...</td>\n",
              "      <td>...</td>\n",
              "      <td>...</td>\n",
              "      <td>...</td>\n",
              "      <td>...</td>\n",
              "    </tr>\n",
              "    <tr>\n",
              "      <th>564</th>\n",
              "      <td>926424</td>\n",
              "      <td>M</td>\n",
              "      <td>21.56</td>\n",
              "      <td>22.39</td>\n",
              "      <td>142.00</td>\n",
              "      <td>1479.0</td>\n",
              "      <td>0.11100</td>\n",
              "      <td>0.11590</td>\n",
              "      <td>0.24390</td>\n",
              "      <td>0.13890</td>\n",
              "      <td>...</td>\n",
              "      <td>26.40</td>\n",
              "      <td>166.10</td>\n",
              "      <td>2027.0</td>\n",
              "      <td>0.14100</td>\n",
              "      <td>0.21130</td>\n",
              "      <td>0.4107</td>\n",
              "      <td>0.2216</td>\n",
              "      <td>0.2060</td>\n",
              "      <td>0.07115</td>\n",
              "      <td>NaN</td>\n",
              "    </tr>\n",
              "    <tr>\n",
              "      <th>565</th>\n",
              "      <td>926682</td>\n",
              "      <td>M</td>\n",
              "      <td>20.13</td>\n",
              "      <td>28.25</td>\n",
              "      <td>131.20</td>\n",
              "      <td>1261.0</td>\n",
              "      <td>0.09780</td>\n",
              "      <td>0.10340</td>\n",
              "      <td>0.14400</td>\n",
              "      <td>0.09791</td>\n",
              "      <td>...</td>\n",
              "      <td>38.25</td>\n",
              "      <td>155.00</td>\n",
              "      <td>1731.0</td>\n",
              "      <td>0.11660</td>\n",
              "      <td>0.19220</td>\n",
              "      <td>0.3215</td>\n",
              "      <td>0.1628</td>\n",
              "      <td>0.2572</td>\n",
              "      <td>0.06637</td>\n",
              "      <td>NaN</td>\n",
              "    </tr>\n",
              "    <tr>\n",
              "      <th>566</th>\n",
              "      <td>926954</td>\n",
              "      <td>M</td>\n",
              "      <td>16.60</td>\n",
              "      <td>28.08</td>\n",
              "      <td>108.30</td>\n",
              "      <td>858.1</td>\n",
              "      <td>0.08455</td>\n",
              "      <td>0.10230</td>\n",
              "      <td>0.09251</td>\n",
              "      <td>0.05302</td>\n",
              "      <td>...</td>\n",
              "      <td>34.12</td>\n",
              "      <td>126.70</td>\n",
              "      <td>1124.0</td>\n",
              "      <td>0.11390</td>\n",
              "      <td>0.30940</td>\n",
              "      <td>0.3403</td>\n",
              "      <td>0.1418</td>\n",
              "      <td>0.2218</td>\n",
              "      <td>0.07820</td>\n",
              "      <td>NaN</td>\n",
              "    </tr>\n",
              "    <tr>\n",
              "      <th>567</th>\n",
              "      <td>927241</td>\n",
              "      <td>M</td>\n",
              "      <td>20.60</td>\n",
              "      <td>29.33</td>\n",
              "      <td>140.10</td>\n",
              "      <td>1265.0</td>\n",
              "      <td>0.11780</td>\n",
              "      <td>0.27700</td>\n",
              "      <td>0.35140</td>\n",
              "      <td>0.15200</td>\n",
              "      <td>...</td>\n",
              "      <td>39.42</td>\n",
              "      <td>184.60</td>\n",
              "      <td>1821.0</td>\n",
              "      <td>0.16500</td>\n",
              "      <td>0.86810</td>\n",
              "      <td>0.9387</td>\n",
              "      <td>0.2650</td>\n",
              "      <td>0.4087</td>\n",
              "      <td>0.12400</td>\n",
              "      <td>NaN</td>\n",
              "    </tr>\n",
              "    <tr>\n",
              "      <th>568</th>\n",
              "      <td>92751</td>\n",
              "      <td>B</td>\n",
              "      <td>7.76</td>\n",
              "      <td>24.54</td>\n",
              "      <td>47.92</td>\n",
              "      <td>181.0</td>\n",
              "      <td>0.05263</td>\n",
              "      <td>0.04362</td>\n",
              "      <td>0.00000</td>\n",
              "      <td>0.00000</td>\n",
              "      <td>...</td>\n",
              "      <td>30.37</td>\n",
              "      <td>59.16</td>\n",
              "      <td>268.6</td>\n",
              "      <td>0.08996</td>\n",
              "      <td>0.06444</td>\n",
              "      <td>0.0000</td>\n",
              "      <td>0.0000</td>\n",
              "      <td>0.2871</td>\n",
              "      <td>0.07039</td>\n",
              "      <td>NaN</td>\n",
              "    </tr>\n",
              "  </tbody>\n",
              "</table>\n",
              "<p>569 rows × 33 columns</p>\n",
              "</div>\n",
              "      <button class=\"colab-df-convert\" onclick=\"convertToInteractive('df-b48cd098-7d5c-41de-b470-a52b03057a09')\"\n",
              "              title=\"Convert this dataframe to an interactive table.\"\n",
              "              style=\"display:none;\">\n",
              "        \n",
              "  <svg xmlns=\"http://www.w3.org/2000/svg\" height=\"24px\"viewBox=\"0 0 24 24\"\n",
              "       width=\"24px\">\n",
              "    <path d=\"M0 0h24v24H0V0z\" fill=\"none\"/>\n",
              "    <path d=\"M18.56 5.44l.94 2.06.94-2.06 2.06-.94-2.06-.94-.94-2.06-.94 2.06-2.06.94zm-11 1L8.5 8.5l.94-2.06 2.06-.94-2.06-.94L8.5 2.5l-.94 2.06-2.06.94zm10 10l.94 2.06.94-2.06 2.06-.94-2.06-.94-.94-2.06-.94 2.06-2.06.94z\"/><path d=\"M17.41 7.96l-1.37-1.37c-.4-.4-.92-.59-1.43-.59-.52 0-1.04.2-1.43.59L10.3 9.45l-7.72 7.72c-.78.78-.78 2.05 0 2.83L4 21.41c.39.39.9.59 1.41.59.51 0 1.02-.2 1.41-.59l7.78-7.78 2.81-2.81c.8-.78.8-2.07 0-2.86zM5.41 20L4 18.59l7.72-7.72 1.47 1.35L5.41 20z\"/>\n",
              "  </svg>\n",
              "      </button>\n",
              "      \n",
              "  <style>\n",
              "    .colab-df-container {\n",
              "      display:flex;\n",
              "      flex-wrap:wrap;\n",
              "      gap: 12px;\n",
              "    }\n",
              "\n",
              "    .colab-df-convert {\n",
              "      background-color: #E8F0FE;\n",
              "      border: none;\n",
              "      border-radius: 50%;\n",
              "      cursor: pointer;\n",
              "      display: none;\n",
              "      fill: #1967D2;\n",
              "      height: 32px;\n",
              "      padding: 0 0 0 0;\n",
              "      width: 32px;\n",
              "    }\n",
              "\n",
              "    .colab-df-convert:hover {\n",
              "      background-color: #E2EBFA;\n",
              "      box-shadow: 0px 1px 2px rgba(60, 64, 67, 0.3), 0px 1px 3px 1px rgba(60, 64, 67, 0.15);\n",
              "      fill: #174EA6;\n",
              "    }\n",
              "\n",
              "    [theme=dark] .colab-df-convert {\n",
              "      background-color: #3B4455;\n",
              "      fill: #D2E3FC;\n",
              "    }\n",
              "\n",
              "    [theme=dark] .colab-df-convert:hover {\n",
              "      background-color: #434B5C;\n",
              "      box-shadow: 0px 1px 3px 1px rgba(0, 0, 0, 0.15);\n",
              "      filter: drop-shadow(0px 1px 2px rgba(0, 0, 0, 0.3));\n",
              "      fill: #FFFFFF;\n",
              "    }\n",
              "  </style>\n",
              "\n",
              "      <script>\n",
              "        const buttonEl =\n",
              "          document.querySelector('#df-b48cd098-7d5c-41de-b470-a52b03057a09 button.colab-df-convert');\n",
              "        buttonEl.style.display =\n",
              "          google.colab.kernel.accessAllowed ? 'block' : 'none';\n",
              "\n",
              "        async function convertToInteractive(key) {\n",
              "          const element = document.querySelector('#df-b48cd098-7d5c-41de-b470-a52b03057a09');\n",
              "          const dataTable =\n",
              "            await google.colab.kernel.invokeFunction('convertToInteractive',\n",
              "                                                     [key], {});\n",
              "          if (!dataTable) return;\n",
              "\n",
              "          const docLinkHtml = 'Like what you see? Visit the ' +\n",
              "            '<a target=\"_blank\" href=https://colab.research.google.com/notebooks/data_table.ipynb>data table notebook</a>'\n",
              "            + ' to learn more about interactive tables.';\n",
              "          element.innerHTML = '';\n",
              "          dataTable['output_type'] = 'display_data';\n",
              "          await google.colab.output.renderOutput(dataTable, element);\n",
              "          const docLink = document.createElement('div');\n",
              "          docLink.innerHTML = docLinkHtml;\n",
              "          element.appendChild(docLink);\n",
              "        }\n",
              "      </script>\n",
              "    </div>\n",
              "  </div>\n",
              "  "
            ]
          },
          "metadata": {},
          "execution_count": 3
        }
      ]
    },
    {
      "cell_type": "markdown",
      "source": [
        "# **Parámetros Estadísticos**"
      ],
      "metadata": {
        "id": "EnAAq_jqZNGz"
      }
    },
    {
      "cell_type": "code",
      "source": [
        "df.describe()"
      ],
      "metadata": {
        "colab": {
          "base_uri": "https://localhost:8080/",
          "height": 411
        },
        "id": "oj-PMm2MZ2pk",
        "outputId": "f7723d09-bd7b-4856-ee54-df8fb89a0bde"
      },
      "execution_count": 4,
      "outputs": [
        {
          "output_type": "execute_result",
          "data": {
            "text/plain": [
              "                 id  radius_mean  texture_mean  perimeter_mean    area_mean  \\\n",
              "count  5.690000e+02   569.000000    569.000000      569.000000   569.000000   \n",
              "mean   3.037183e+07    14.127292     19.289649       91.969033   654.889104   \n",
              "std    1.250206e+08     3.524049      4.301036       24.298981   351.914129   \n",
              "min    8.670000e+03     6.981000      9.710000       43.790000   143.500000   \n",
              "25%    8.692180e+05    11.700000     16.170000       75.170000   420.300000   \n",
              "50%    9.060240e+05    13.370000     18.840000       86.240000   551.100000   \n",
              "75%    8.813129e+06    15.780000     21.800000      104.100000   782.700000   \n",
              "max    9.113205e+08    28.110000     39.280000      188.500000  2501.000000   \n",
              "\n",
              "       smoothness_mean  compactness_mean  concavity_mean  concave points_mean  \\\n",
              "count       569.000000        569.000000      569.000000           569.000000   \n",
              "mean          0.096360          0.104341        0.088799             0.048919   \n",
              "std           0.014064          0.052813        0.079720             0.038803   \n",
              "min           0.052630          0.019380        0.000000             0.000000   \n",
              "25%           0.086370          0.064920        0.029560             0.020310   \n",
              "50%           0.095870          0.092630        0.061540             0.033500   \n",
              "75%           0.105300          0.130400        0.130700             0.074000   \n",
              "max           0.163400          0.345400        0.426800             0.201200   \n",
              "\n",
              "       symmetry_mean  ...  texture_worst  perimeter_worst   area_worst  \\\n",
              "count     569.000000  ...     569.000000       569.000000   569.000000   \n",
              "mean        0.181162  ...      25.677223       107.261213   880.583128   \n",
              "std         0.027414  ...       6.146258        33.602542   569.356993   \n",
              "min         0.106000  ...      12.020000        50.410000   185.200000   \n",
              "25%         0.161900  ...      21.080000        84.110000   515.300000   \n",
              "50%         0.179200  ...      25.410000        97.660000   686.500000   \n",
              "75%         0.195700  ...      29.720000       125.400000  1084.000000   \n",
              "max         0.304000  ...      49.540000       251.200000  4254.000000   \n",
              "\n",
              "       smoothness_worst  compactness_worst  concavity_worst  \\\n",
              "count        569.000000         569.000000       569.000000   \n",
              "mean           0.132369           0.254265         0.272188   \n",
              "std            0.022832           0.157336         0.208624   \n",
              "min            0.071170           0.027290         0.000000   \n",
              "25%            0.116600           0.147200         0.114500   \n",
              "50%            0.131300           0.211900         0.226700   \n",
              "75%            0.146000           0.339100         0.382900   \n",
              "max            0.222600           1.058000         1.252000   \n",
              "\n",
              "       concave points_worst  symmetry_worst  fractal_dimension_worst  \\\n",
              "count            569.000000      569.000000               569.000000   \n",
              "mean               0.114606        0.290076                 0.083946   \n",
              "std                0.065732        0.061867                 0.018061   \n",
              "min                0.000000        0.156500                 0.055040   \n",
              "25%                0.064930        0.250400                 0.071460   \n",
              "50%                0.099930        0.282200                 0.080040   \n",
              "75%                0.161400        0.317900                 0.092080   \n",
              "max                0.291000        0.663800                 0.207500   \n",
              "\n",
              "       Unnamed: 32  \n",
              "count          0.0  \n",
              "mean           NaN  \n",
              "std            NaN  \n",
              "min            NaN  \n",
              "25%            NaN  \n",
              "50%            NaN  \n",
              "75%            NaN  \n",
              "max            NaN  \n",
              "\n",
              "[8 rows x 32 columns]"
            ],
            "text/html": [
              "\n",
              "  <div id=\"df-d150f4a2-8019-48cc-ba08-f03187be445a\">\n",
              "    <div class=\"colab-df-container\">\n",
              "      <div>\n",
              "<style scoped>\n",
              "    .dataframe tbody tr th:only-of-type {\n",
              "        vertical-align: middle;\n",
              "    }\n",
              "\n",
              "    .dataframe tbody tr th {\n",
              "        vertical-align: top;\n",
              "    }\n",
              "\n",
              "    .dataframe thead th {\n",
              "        text-align: right;\n",
              "    }\n",
              "</style>\n",
              "<table border=\"1\" class=\"dataframe\">\n",
              "  <thead>\n",
              "    <tr style=\"text-align: right;\">\n",
              "      <th></th>\n",
              "      <th>id</th>\n",
              "      <th>radius_mean</th>\n",
              "      <th>texture_mean</th>\n",
              "      <th>perimeter_mean</th>\n",
              "      <th>area_mean</th>\n",
              "      <th>smoothness_mean</th>\n",
              "      <th>compactness_mean</th>\n",
              "      <th>concavity_mean</th>\n",
              "      <th>concave points_mean</th>\n",
              "      <th>symmetry_mean</th>\n",
              "      <th>...</th>\n",
              "      <th>texture_worst</th>\n",
              "      <th>perimeter_worst</th>\n",
              "      <th>area_worst</th>\n",
              "      <th>smoothness_worst</th>\n",
              "      <th>compactness_worst</th>\n",
              "      <th>concavity_worst</th>\n",
              "      <th>concave points_worst</th>\n",
              "      <th>symmetry_worst</th>\n",
              "      <th>fractal_dimension_worst</th>\n",
              "      <th>Unnamed: 32</th>\n",
              "    </tr>\n",
              "  </thead>\n",
              "  <tbody>\n",
              "    <tr>\n",
              "      <th>count</th>\n",
              "      <td>5.690000e+02</td>\n",
              "      <td>569.000000</td>\n",
              "      <td>569.000000</td>\n",
              "      <td>569.000000</td>\n",
              "      <td>569.000000</td>\n",
              "      <td>569.000000</td>\n",
              "      <td>569.000000</td>\n",
              "      <td>569.000000</td>\n",
              "      <td>569.000000</td>\n",
              "      <td>569.000000</td>\n",
              "      <td>...</td>\n",
              "      <td>569.000000</td>\n",
              "      <td>569.000000</td>\n",
              "      <td>569.000000</td>\n",
              "      <td>569.000000</td>\n",
              "      <td>569.000000</td>\n",
              "      <td>569.000000</td>\n",
              "      <td>569.000000</td>\n",
              "      <td>569.000000</td>\n",
              "      <td>569.000000</td>\n",
              "      <td>0.0</td>\n",
              "    </tr>\n",
              "    <tr>\n",
              "      <th>mean</th>\n",
              "      <td>3.037183e+07</td>\n",
              "      <td>14.127292</td>\n",
              "      <td>19.289649</td>\n",
              "      <td>91.969033</td>\n",
              "      <td>654.889104</td>\n",
              "      <td>0.096360</td>\n",
              "      <td>0.104341</td>\n",
              "      <td>0.088799</td>\n",
              "      <td>0.048919</td>\n",
              "      <td>0.181162</td>\n",
              "      <td>...</td>\n",
              "      <td>25.677223</td>\n",
              "      <td>107.261213</td>\n",
              "      <td>880.583128</td>\n",
              "      <td>0.132369</td>\n",
              "      <td>0.254265</td>\n",
              "      <td>0.272188</td>\n",
              "      <td>0.114606</td>\n",
              "      <td>0.290076</td>\n",
              "      <td>0.083946</td>\n",
              "      <td>NaN</td>\n",
              "    </tr>\n",
              "    <tr>\n",
              "      <th>std</th>\n",
              "      <td>1.250206e+08</td>\n",
              "      <td>3.524049</td>\n",
              "      <td>4.301036</td>\n",
              "      <td>24.298981</td>\n",
              "      <td>351.914129</td>\n",
              "      <td>0.014064</td>\n",
              "      <td>0.052813</td>\n",
              "      <td>0.079720</td>\n",
              "      <td>0.038803</td>\n",
              "      <td>0.027414</td>\n",
              "      <td>...</td>\n",
              "      <td>6.146258</td>\n",
              "      <td>33.602542</td>\n",
              "      <td>569.356993</td>\n",
              "      <td>0.022832</td>\n",
              "      <td>0.157336</td>\n",
              "      <td>0.208624</td>\n",
              "      <td>0.065732</td>\n",
              "      <td>0.061867</td>\n",
              "      <td>0.018061</td>\n",
              "      <td>NaN</td>\n",
              "    </tr>\n",
              "    <tr>\n",
              "      <th>min</th>\n",
              "      <td>8.670000e+03</td>\n",
              "      <td>6.981000</td>\n",
              "      <td>9.710000</td>\n",
              "      <td>43.790000</td>\n",
              "      <td>143.500000</td>\n",
              "      <td>0.052630</td>\n",
              "      <td>0.019380</td>\n",
              "      <td>0.000000</td>\n",
              "      <td>0.000000</td>\n",
              "      <td>0.106000</td>\n",
              "      <td>...</td>\n",
              "      <td>12.020000</td>\n",
              "      <td>50.410000</td>\n",
              "      <td>185.200000</td>\n",
              "      <td>0.071170</td>\n",
              "      <td>0.027290</td>\n",
              "      <td>0.000000</td>\n",
              "      <td>0.000000</td>\n",
              "      <td>0.156500</td>\n",
              "      <td>0.055040</td>\n",
              "      <td>NaN</td>\n",
              "    </tr>\n",
              "    <tr>\n",
              "      <th>25%</th>\n",
              "      <td>8.692180e+05</td>\n",
              "      <td>11.700000</td>\n",
              "      <td>16.170000</td>\n",
              "      <td>75.170000</td>\n",
              "      <td>420.300000</td>\n",
              "      <td>0.086370</td>\n",
              "      <td>0.064920</td>\n",
              "      <td>0.029560</td>\n",
              "      <td>0.020310</td>\n",
              "      <td>0.161900</td>\n",
              "      <td>...</td>\n",
              "      <td>21.080000</td>\n",
              "      <td>84.110000</td>\n",
              "      <td>515.300000</td>\n",
              "      <td>0.116600</td>\n",
              "      <td>0.147200</td>\n",
              "      <td>0.114500</td>\n",
              "      <td>0.064930</td>\n",
              "      <td>0.250400</td>\n",
              "      <td>0.071460</td>\n",
              "      <td>NaN</td>\n",
              "    </tr>\n",
              "    <tr>\n",
              "      <th>50%</th>\n",
              "      <td>9.060240e+05</td>\n",
              "      <td>13.370000</td>\n",
              "      <td>18.840000</td>\n",
              "      <td>86.240000</td>\n",
              "      <td>551.100000</td>\n",
              "      <td>0.095870</td>\n",
              "      <td>0.092630</td>\n",
              "      <td>0.061540</td>\n",
              "      <td>0.033500</td>\n",
              "      <td>0.179200</td>\n",
              "      <td>...</td>\n",
              "      <td>25.410000</td>\n",
              "      <td>97.660000</td>\n",
              "      <td>686.500000</td>\n",
              "      <td>0.131300</td>\n",
              "      <td>0.211900</td>\n",
              "      <td>0.226700</td>\n",
              "      <td>0.099930</td>\n",
              "      <td>0.282200</td>\n",
              "      <td>0.080040</td>\n",
              "      <td>NaN</td>\n",
              "    </tr>\n",
              "    <tr>\n",
              "      <th>75%</th>\n",
              "      <td>8.813129e+06</td>\n",
              "      <td>15.780000</td>\n",
              "      <td>21.800000</td>\n",
              "      <td>104.100000</td>\n",
              "      <td>782.700000</td>\n",
              "      <td>0.105300</td>\n",
              "      <td>0.130400</td>\n",
              "      <td>0.130700</td>\n",
              "      <td>0.074000</td>\n",
              "      <td>0.195700</td>\n",
              "      <td>...</td>\n",
              "      <td>29.720000</td>\n",
              "      <td>125.400000</td>\n",
              "      <td>1084.000000</td>\n",
              "      <td>0.146000</td>\n",
              "      <td>0.339100</td>\n",
              "      <td>0.382900</td>\n",
              "      <td>0.161400</td>\n",
              "      <td>0.317900</td>\n",
              "      <td>0.092080</td>\n",
              "      <td>NaN</td>\n",
              "    </tr>\n",
              "    <tr>\n",
              "      <th>max</th>\n",
              "      <td>9.113205e+08</td>\n",
              "      <td>28.110000</td>\n",
              "      <td>39.280000</td>\n",
              "      <td>188.500000</td>\n",
              "      <td>2501.000000</td>\n",
              "      <td>0.163400</td>\n",
              "      <td>0.345400</td>\n",
              "      <td>0.426800</td>\n",
              "      <td>0.201200</td>\n",
              "      <td>0.304000</td>\n",
              "      <td>...</td>\n",
              "      <td>49.540000</td>\n",
              "      <td>251.200000</td>\n",
              "      <td>4254.000000</td>\n",
              "      <td>0.222600</td>\n",
              "      <td>1.058000</td>\n",
              "      <td>1.252000</td>\n",
              "      <td>0.291000</td>\n",
              "      <td>0.663800</td>\n",
              "      <td>0.207500</td>\n",
              "      <td>NaN</td>\n",
              "    </tr>\n",
              "  </tbody>\n",
              "</table>\n",
              "<p>8 rows × 32 columns</p>\n",
              "</div>\n",
              "      <button class=\"colab-df-convert\" onclick=\"convertToInteractive('df-d150f4a2-8019-48cc-ba08-f03187be445a')\"\n",
              "              title=\"Convert this dataframe to an interactive table.\"\n",
              "              style=\"display:none;\">\n",
              "        \n",
              "  <svg xmlns=\"http://www.w3.org/2000/svg\" height=\"24px\"viewBox=\"0 0 24 24\"\n",
              "       width=\"24px\">\n",
              "    <path d=\"M0 0h24v24H0V0z\" fill=\"none\"/>\n",
              "    <path d=\"M18.56 5.44l.94 2.06.94-2.06 2.06-.94-2.06-.94-.94-2.06-.94 2.06-2.06.94zm-11 1L8.5 8.5l.94-2.06 2.06-.94-2.06-.94L8.5 2.5l-.94 2.06-2.06.94zm10 10l.94 2.06.94-2.06 2.06-.94-2.06-.94-.94-2.06-.94 2.06-2.06.94z\"/><path d=\"M17.41 7.96l-1.37-1.37c-.4-.4-.92-.59-1.43-.59-.52 0-1.04.2-1.43.59L10.3 9.45l-7.72 7.72c-.78.78-.78 2.05 0 2.83L4 21.41c.39.39.9.59 1.41.59.51 0 1.02-.2 1.41-.59l7.78-7.78 2.81-2.81c.8-.78.8-2.07 0-2.86zM5.41 20L4 18.59l7.72-7.72 1.47 1.35L5.41 20z\"/>\n",
              "  </svg>\n",
              "      </button>\n",
              "      \n",
              "  <style>\n",
              "    .colab-df-container {\n",
              "      display:flex;\n",
              "      flex-wrap:wrap;\n",
              "      gap: 12px;\n",
              "    }\n",
              "\n",
              "    .colab-df-convert {\n",
              "      background-color: #E8F0FE;\n",
              "      border: none;\n",
              "      border-radius: 50%;\n",
              "      cursor: pointer;\n",
              "      display: none;\n",
              "      fill: #1967D2;\n",
              "      height: 32px;\n",
              "      padding: 0 0 0 0;\n",
              "      width: 32px;\n",
              "    }\n",
              "\n",
              "    .colab-df-convert:hover {\n",
              "      background-color: #E2EBFA;\n",
              "      box-shadow: 0px 1px 2px rgba(60, 64, 67, 0.3), 0px 1px 3px 1px rgba(60, 64, 67, 0.15);\n",
              "      fill: #174EA6;\n",
              "    }\n",
              "\n",
              "    [theme=dark] .colab-df-convert {\n",
              "      background-color: #3B4455;\n",
              "      fill: #D2E3FC;\n",
              "    }\n",
              "\n",
              "    [theme=dark] .colab-df-convert:hover {\n",
              "      background-color: #434B5C;\n",
              "      box-shadow: 0px 1px 3px 1px rgba(0, 0, 0, 0.15);\n",
              "      filter: drop-shadow(0px 1px 2px rgba(0, 0, 0, 0.3));\n",
              "      fill: #FFFFFF;\n",
              "    }\n",
              "  </style>\n",
              "\n",
              "      <script>\n",
              "        const buttonEl =\n",
              "          document.querySelector('#df-d150f4a2-8019-48cc-ba08-f03187be445a button.colab-df-convert');\n",
              "        buttonEl.style.display =\n",
              "          google.colab.kernel.accessAllowed ? 'block' : 'none';\n",
              "\n",
              "        async function convertToInteractive(key) {\n",
              "          const element = document.querySelector('#df-d150f4a2-8019-48cc-ba08-f03187be445a');\n",
              "          const dataTable =\n",
              "            await google.colab.kernel.invokeFunction('convertToInteractive',\n",
              "                                                     [key], {});\n",
              "          if (!dataTable) return;\n",
              "\n",
              "          const docLinkHtml = 'Like what you see? Visit the ' +\n",
              "            '<a target=\"_blank\" href=https://colab.research.google.com/notebooks/data_table.ipynb>data table notebook</a>'\n",
              "            + ' to learn more about interactive tables.';\n",
              "          element.innerHTML = '';\n",
              "          dataTable['output_type'] = 'display_data';\n",
              "          await google.colab.output.renderOutput(dataTable, element);\n",
              "          const docLink = document.createElement('div');\n",
              "          docLink.innerHTML = docLinkHtml;\n",
              "          element.appendChild(docLink);\n",
              "        }\n",
              "      </script>\n",
              "    </div>\n",
              "  </div>\n",
              "  "
            ]
          },
          "metadata": {},
          "execution_count": 4
        }
      ]
    },
    {
      "cell_type": "markdown",
      "source": [
        "# **Información del Dataframe**"
      ],
      "metadata": {
        "id": "5q1LI6XjaccE"
      }
    },
    {
      "cell_type": "markdown",
      "source": [
        "El método **info()** nos proporciona información sobre el DataFrame.\n",
        "\n",
        "Dicha información contiene el número de columnas, las etiquetas de las columnas, los tipos de datos de las columnas, el uso de la memoria, el índice de rango y el número de celdas en cada columna (valores no nulos). \n",
        "\n",
        "En funcion de esto  procedemos a definir el target  y los atributos .\n",
        "\n",
        "\n"
      ],
      "metadata": {
        "id": "ipJi9o33ZfyN"
      }
    },
    {
      "cell_type": "code",
      "source": [
        "inf = df.info()\n",
        "inf"
      ],
      "metadata": {
        "colab": {
          "base_uri": "https://localhost:8080/"
        },
        "id": "Q8Z4qu0MYC8j",
        "outputId": "62a63465-6be7-46e5-cb41-c20cd00a3da7"
      },
      "execution_count": 5,
      "outputs": [
        {
          "output_type": "stream",
          "name": "stdout",
          "text": [
            "<class 'pandas.core.frame.DataFrame'>\n",
            "RangeIndex: 569 entries, 0 to 568\n",
            "Data columns (total 33 columns):\n",
            " #   Column                   Non-Null Count  Dtype  \n",
            "---  ------                   --------------  -----  \n",
            " 0   id                       569 non-null    int64  \n",
            " 1   diagnosis                569 non-null    object \n",
            " 2   radius_mean              569 non-null    float64\n",
            " 3   texture_mean             569 non-null    float64\n",
            " 4   perimeter_mean           569 non-null    float64\n",
            " 5   area_mean                569 non-null    float64\n",
            " 6   smoothness_mean          569 non-null    float64\n",
            " 7   compactness_mean         569 non-null    float64\n",
            " 8   concavity_mean           569 non-null    float64\n",
            " 9   concave points_mean      569 non-null    float64\n",
            " 10  symmetry_mean            569 non-null    float64\n",
            " 11  fractal_dimension_mean   569 non-null    float64\n",
            " 12  radius_se                569 non-null    float64\n",
            " 13  texture_se               569 non-null    float64\n",
            " 14  perimeter_se             569 non-null    float64\n",
            " 15  area_se                  569 non-null    float64\n",
            " 16  smoothness_se            569 non-null    float64\n",
            " 17  compactness_se           569 non-null    float64\n",
            " 18  concavity_se             569 non-null    float64\n",
            " 19  concave points_se        569 non-null    float64\n",
            " 20  symmetry_se              569 non-null    float64\n",
            " 21  fractal_dimension_se     569 non-null    float64\n",
            " 22  radius_worst             569 non-null    float64\n",
            " 23  texture_worst            569 non-null    float64\n",
            " 24  perimeter_worst          569 non-null    float64\n",
            " 25  area_worst               569 non-null    float64\n",
            " 26  smoothness_worst         569 non-null    float64\n",
            " 27  compactness_worst        569 non-null    float64\n",
            " 28  concavity_worst          569 non-null    float64\n",
            " 29  concave points_worst     569 non-null    float64\n",
            " 30  symmetry_worst           569 non-null    float64\n",
            " 31  fractal_dimension_worst  569 non-null    float64\n",
            " 32  Unnamed: 32              0 non-null      float64\n",
            "dtypes: float64(31), int64(1), object(1)\n",
            "memory usage: 146.8+ KB\n"
          ]
        }
      ]
    },
    {
      "cell_type": "markdown",
      "source": [
        "# **Comentario**"
      ],
      "metadata": {
        "id": "u8jnMTLhfdYs"
      }
    },
    {
      "cell_type": "markdown",
      "source": [
        "**Atributos**\n",
        "\n",
        "Podemos apreciar que todas las columnas (atributos) tienen valores numericos excepto diagnosis, que será nuestro target (objetivo) para el modelo propuesto.\n",
        "\n",
        "\n",
        "**Vamos a prescindir de las columnas** :\n",
        "\n",
        "\n",
        "**id** -> Identificación del paciente , no relevante para el modelo.\n",
        "\n",
        "**Unnamed:32** --> Presenta valores no numericos y no entrega información alguna."
      ],
      "metadata": {
        "id": "Qe0kx2JGf5TE"
      }
    },
    {
      "cell_type": "markdown",
      "source": [
        "# **Eliminación de columnas Irrelevantes para el modelo**"
      ],
      "metadata": {
        "id": "zc4MKIL4xhLa"
      }
    },
    {
      "cell_type": "code",
      "source": [
        "df1 = df.drop(columns=['id', 'Unnamed: 32'])\n",
        "df1.head()"
      ],
      "metadata": {
        "colab": {
          "base_uri": "https://localhost:8080/",
          "height": 317
        },
        "id": "EWl2kt2uwMX8",
        "outputId": "5db6cdfb-bfa8-4112-ca73-080569238d69"
      },
      "execution_count": 35,
      "outputs": [
        {
          "output_type": "execute_result",
          "data": {
            "text/plain": [
              "  diagnosis  radius_mean  texture_mean  perimeter_mean  area_mean  \\\n",
              "0         M        17.99         10.38          122.80     1001.0   \n",
              "1         M        20.57         17.77          132.90     1326.0   \n",
              "2         M        19.69         21.25          130.00     1203.0   \n",
              "3         M        11.42         20.38           77.58      386.1   \n",
              "4         M        20.29         14.34          135.10     1297.0   \n",
              "\n",
              "   smoothness_mean  compactness_mean  concavity_mean  concave points_mean  \\\n",
              "0          0.11840           0.27760          0.3001              0.14710   \n",
              "1          0.08474           0.07864          0.0869              0.07017   \n",
              "2          0.10960           0.15990          0.1974              0.12790   \n",
              "3          0.14250           0.28390          0.2414              0.10520   \n",
              "4          0.10030           0.13280          0.1980              0.10430   \n",
              "\n",
              "   symmetry_mean  ...  radius_worst  texture_worst  perimeter_worst  \\\n",
              "0         0.2419  ...         25.38          17.33           184.60   \n",
              "1         0.1812  ...         24.99          23.41           158.80   \n",
              "2         0.2069  ...         23.57          25.53           152.50   \n",
              "3         0.2597  ...         14.91          26.50            98.87   \n",
              "4         0.1809  ...         22.54          16.67           152.20   \n",
              "\n",
              "   area_worst  smoothness_worst  compactness_worst  concavity_worst  \\\n",
              "0      2019.0            0.1622             0.6656           0.7119   \n",
              "1      1956.0            0.1238             0.1866           0.2416   \n",
              "2      1709.0            0.1444             0.4245           0.4504   \n",
              "3       567.7            0.2098             0.8663           0.6869   \n",
              "4      1575.0            0.1374             0.2050           0.4000   \n",
              "\n",
              "   concave points_worst  symmetry_worst  fractal_dimension_worst  \n",
              "0                0.2654          0.4601                  0.11890  \n",
              "1                0.1860          0.2750                  0.08902  \n",
              "2                0.2430          0.3613                  0.08758  \n",
              "3                0.2575          0.6638                  0.17300  \n",
              "4                0.1625          0.2364                  0.07678  \n",
              "\n",
              "[5 rows x 31 columns]"
            ],
            "text/html": [
              "\n",
              "  <div id=\"df-1b127be7-13a3-4cc7-afa8-8e10c722969b\">\n",
              "    <div class=\"colab-df-container\">\n",
              "      <div>\n",
              "<style scoped>\n",
              "    .dataframe tbody tr th:only-of-type {\n",
              "        vertical-align: middle;\n",
              "    }\n",
              "\n",
              "    .dataframe tbody tr th {\n",
              "        vertical-align: top;\n",
              "    }\n",
              "\n",
              "    .dataframe thead th {\n",
              "        text-align: right;\n",
              "    }\n",
              "</style>\n",
              "<table border=\"1\" class=\"dataframe\">\n",
              "  <thead>\n",
              "    <tr style=\"text-align: right;\">\n",
              "      <th></th>\n",
              "      <th>diagnosis</th>\n",
              "      <th>radius_mean</th>\n",
              "      <th>texture_mean</th>\n",
              "      <th>perimeter_mean</th>\n",
              "      <th>area_mean</th>\n",
              "      <th>smoothness_mean</th>\n",
              "      <th>compactness_mean</th>\n",
              "      <th>concavity_mean</th>\n",
              "      <th>concave points_mean</th>\n",
              "      <th>symmetry_mean</th>\n",
              "      <th>...</th>\n",
              "      <th>radius_worst</th>\n",
              "      <th>texture_worst</th>\n",
              "      <th>perimeter_worst</th>\n",
              "      <th>area_worst</th>\n",
              "      <th>smoothness_worst</th>\n",
              "      <th>compactness_worst</th>\n",
              "      <th>concavity_worst</th>\n",
              "      <th>concave points_worst</th>\n",
              "      <th>symmetry_worst</th>\n",
              "      <th>fractal_dimension_worst</th>\n",
              "    </tr>\n",
              "  </thead>\n",
              "  <tbody>\n",
              "    <tr>\n",
              "      <th>0</th>\n",
              "      <td>M</td>\n",
              "      <td>17.99</td>\n",
              "      <td>10.38</td>\n",
              "      <td>122.80</td>\n",
              "      <td>1001.0</td>\n",
              "      <td>0.11840</td>\n",
              "      <td>0.27760</td>\n",
              "      <td>0.3001</td>\n",
              "      <td>0.14710</td>\n",
              "      <td>0.2419</td>\n",
              "      <td>...</td>\n",
              "      <td>25.38</td>\n",
              "      <td>17.33</td>\n",
              "      <td>184.60</td>\n",
              "      <td>2019.0</td>\n",
              "      <td>0.1622</td>\n",
              "      <td>0.6656</td>\n",
              "      <td>0.7119</td>\n",
              "      <td>0.2654</td>\n",
              "      <td>0.4601</td>\n",
              "      <td>0.11890</td>\n",
              "    </tr>\n",
              "    <tr>\n",
              "      <th>1</th>\n",
              "      <td>M</td>\n",
              "      <td>20.57</td>\n",
              "      <td>17.77</td>\n",
              "      <td>132.90</td>\n",
              "      <td>1326.0</td>\n",
              "      <td>0.08474</td>\n",
              "      <td>0.07864</td>\n",
              "      <td>0.0869</td>\n",
              "      <td>0.07017</td>\n",
              "      <td>0.1812</td>\n",
              "      <td>...</td>\n",
              "      <td>24.99</td>\n",
              "      <td>23.41</td>\n",
              "      <td>158.80</td>\n",
              "      <td>1956.0</td>\n",
              "      <td>0.1238</td>\n",
              "      <td>0.1866</td>\n",
              "      <td>0.2416</td>\n",
              "      <td>0.1860</td>\n",
              "      <td>0.2750</td>\n",
              "      <td>0.08902</td>\n",
              "    </tr>\n",
              "    <tr>\n",
              "      <th>2</th>\n",
              "      <td>M</td>\n",
              "      <td>19.69</td>\n",
              "      <td>21.25</td>\n",
              "      <td>130.00</td>\n",
              "      <td>1203.0</td>\n",
              "      <td>0.10960</td>\n",
              "      <td>0.15990</td>\n",
              "      <td>0.1974</td>\n",
              "      <td>0.12790</td>\n",
              "      <td>0.2069</td>\n",
              "      <td>...</td>\n",
              "      <td>23.57</td>\n",
              "      <td>25.53</td>\n",
              "      <td>152.50</td>\n",
              "      <td>1709.0</td>\n",
              "      <td>0.1444</td>\n",
              "      <td>0.4245</td>\n",
              "      <td>0.4504</td>\n",
              "      <td>0.2430</td>\n",
              "      <td>0.3613</td>\n",
              "      <td>0.08758</td>\n",
              "    </tr>\n",
              "    <tr>\n",
              "      <th>3</th>\n",
              "      <td>M</td>\n",
              "      <td>11.42</td>\n",
              "      <td>20.38</td>\n",
              "      <td>77.58</td>\n",
              "      <td>386.1</td>\n",
              "      <td>0.14250</td>\n",
              "      <td>0.28390</td>\n",
              "      <td>0.2414</td>\n",
              "      <td>0.10520</td>\n",
              "      <td>0.2597</td>\n",
              "      <td>...</td>\n",
              "      <td>14.91</td>\n",
              "      <td>26.50</td>\n",
              "      <td>98.87</td>\n",
              "      <td>567.7</td>\n",
              "      <td>0.2098</td>\n",
              "      <td>0.8663</td>\n",
              "      <td>0.6869</td>\n",
              "      <td>0.2575</td>\n",
              "      <td>0.6638</td>\n",
              "      <td>0.17300</td>\n",
              "    </tr>\n",
              "    <tr>\n",
              "      <th>4</th>\n",
              "      <td>M</td>\n",
              "      <td>20.29</td>\n",
              "      <td>14.34</td>\n",
              "      <td>135.10</td>\n",
              "      <td>1297.0</td>\n",
              "      <td>0.10030</td>\n",
              "      <td>0.13280</td>\n",
              "      <td>0.1980</td>\n",
              "      <td>0.10430</td>\n",
              "      <td>0.1809</td>\n",
              "      <td>...</td>\n",
              "      <td>22.54</td>\n",
              "      <td>16.67</td>\n",
              "      <td>152.20</td>\n",
              "      <td>1575.0</td>\n",
              "      <td>0.1374</td>\n",
              "      <td>0.2050</td>\n",
              "      <td>0.4000</td>\n",
              "      <td>0.1625</td>\n",
              "      <td>0.2364</td>\n",
              "      <td>0.07678</td>\n",
              "    </tr>\n",
              "  </tbody>\n",
              "</table>\n",
              "<p>5 rows × 31 columns</p>\n",
              "</div>\n",
              "      <button class=\"colab-df-convert\" onclick=\"convertToInteractive('df-1b127be7-13a3-4cc7-afa8-8e10c722969b')\"\n",
              "              title=\"Convert this dataframe to an interactive table.\"\n",
              "              style=\"display:none;\">\n",
              "        \n",
              "  <svg xmlns=\"http://www.w3.org/2000/svg\" height=\"24px\"viewBox=\"0 0 24 24\"\n",
              "       width=\"24px\">\n",
              "    <path d=\"M0 0h24v24H0V0z\" fill=\"none\"/>\n",
              "    <path d=\"M18.56 5.44l.94 2.06.94-2.06 2.06-.94-2.06-.94-.94-2.06-.94 2.06-2.06.94zm-11 1L8.5 8.5l.94-2.06 2.06-.94-2.06-.94L8.5 2.5l-.94 2.06-2.06.94zm10 10l.94 2.06.94-2.06 2.06-.94-2.06-.94-.94-2.06-.94 2.06-2.06.94z\"/><path d=\"M17.41 7.96l-1.37-1.37c-.4-.4-.92-.59-1.43-.59-.52 0-1.04.2-1.43.59L10.3 9.45l-7.72 7.72c-.78.78-.78 2.05 0 2.83L4 21.41c.39.39.9.59 1.41.59.51 0 1.02-.2 1.41-.59l7.78-7.78 2.81-2.81c.8-.78.8-2.07 0-2.86zM5.41 20L4 18.59l7.72-7.72 1.47 1.35L5.41 20z\"/>\n",
              "  </svg>\n",
              "      </button>\n",
              "      \n",
              "  <style>\n",
              "    .colab-df-container {\n",
              "      display:flex;\n",
              "      flex-wrap:wrap;\n",
              "      gap: 12px;\n",
              "    }\n",
              "\n",
              "    .colab-df-convert {\n",
              "      background-color: #E8F0FE;\n",
              "      border: none;\n",
              "      border-radius: 50%;\n",
              "      cursor: pointer;\n",
              "      display: none;\n",
              "      fill: #1967D2;\n",
              "      height: 32px;\n",
              "      padding: 0 0 0 0;\n",
              "      width: 32px;\n",
              "    }\n",
              "\n",
              "    .colab-df-convert:hover {\n",
              "      background-color: #E2EBFA;\n",
              "      box-shadow: 0px 1px 2px rgba(60, 64, 67, 0.3), 0px 1px 3px 1px rgba(60, 64, 67, 0.15);\n",
              "      fill: #174EA6;\n",
              "    }\n",
              "\n",
              "    [theme=dark] .colab-df-convert {\n",
              "      background-color: #3B4455;\n",
              "      fill: #D2E3FC;\n",
              "    }\n",
              "\n",
              "    [theme=dark] .colab-df-convert:hover {\n",
              "      background-color: #434B5C;\n",
              "      box-shadow: 0px 1px 3px 1px rgba(0, 0, 0, 0.15);\n",
              "      filter: drop-shadow(0px 1px 2px rgba(0, 0, 0, 0.3));\n",
              "      fill: #FFFFFF;\n",
              "    }\n",
              "  </style>\n",
              "\n",
              "      <script>\n",
              "        const buttonEl =\n",
              "          document.querySelector('#df-1b127be7-13a3-4cc7-afa8-8e10c722969b button.colab-df-convert');\n",
              "        buttonEl.style.display =\n",
              "          google.colab.kernel.accessAllowed ? 'block' : 'none';\n",
              "\n",
              "        async function convertToInteractive(key) {\n",
              "          const element = document.querySelector('#df-1b127be7-13a3-4cc7-afa8-8e10c722969b');\n",
              "          const dataTable =\n",
              "            await google.colab.kernel.invokeFunction('convertToInteractive',\n",
              "                                                     [key], {});\n",
              "          if (!dataTable) return;\n",
              "\n",
              "          const docLinkHtml = 'Like what you see? Visit the ' +\n",
              "            '<a target=\"_blank\" href=https://colab.research.google.com/notebooks/data_table.ipynb>data table notebook</a>'\n",
              "            + ' to learn more about interactive tables.';\n",
              "          element.innerHTML = '';\n",
              "          dataTable['output_type'] = 'display_data';\n",
              "          await google.colab.output.renderOutput(dataTable, element);\n",
              "          const docLink = document.createElement('div');\n",
              "          docLink.innerHTML = docLinkHtml;\n",
              "          element.appendChild(docLink);\n",
              "        }\n",
              "      </script>\n",
              "    </div>\n",
              "  </div>\n",
              "  "
            ]
          },
          "metadata": {},
          "execution_count": 35
        }
      ]
    },
    {
      "cell_type": "markdown",
      "source": [
        "# **Dividimos los Atributos (X - Features) y Objetivos (Y - Target)**"
      ],
      "metadata": {
        "id": "ueiRReBp_pRN"
      }
    },
    {
      "cell_type": "code",
      "source": [
        "# LabelEncoder convierte una lista de datos de texto en valores numéricos\n",
        "# Codificamos el target (diagnosis) a valores numéricos\n",
        "\n",
        "# El método fit_transform nos permite entrenar el codificador y transformar\n",
        "# el conjunto de datos simultáneamente\n",
        "\n",
        "le = LabelEncoder()\n",
        "df1['diagnosis'] = le.fit_transform(df1['diagnosis'])\n",
        "\n",
        "# Separamos los atributos (features) y diagnosis (Target)\n",
        "\n",
        "X = df1.drop(columns='diagnosis')\n",
        "y = df1['diagnosis']\n",
        "\n",
        "\n",
        "### Estandarizacion de Atributos\n",
        "\n",
        "# Se obtienen los atributos (columnas) estandarizadas para que existan en una escala comun\n",
        "# y poder compararlos facilmente.\n",
        "\n",
        "# Esto permite que cada variable tenga una influencia similar en el modelo, \n",
        "# lo que le permite ser más estable y aumentar su efectividad.\n",
        "\n",
        "scaler = StandardScaler()\n",
        "scaler.fit(X)\n",
        "X_norm = pd.DataFrame(scaler.transform(X), columns=X.columns)\n",
        "X_norm.head(10)\n"
      ],
      "metadata": {
        "colab": {
          "base_uri": "https://localhost:8080/",
          "height": 474
        },
        "id": "mGQDbC9g1L8s",
        "outputId": "87069a72-0987-4046-b6e2-77c09ac18959"
      },
      "execution_count": 56,
      "outputs": [
        {
          "output_type": "execute_result",
          "data": {
            "text/plain": [
              "   radius_mean  texture_mean  perimeter_mean  area_mean  smoothness_mean  \\\n",
              "0     1.097064     -2.073335        1.269934   0.984375         1.568466   \n",
              "1     1.829821     -0.353632        1.685955   1.908708        -0.826962   \n",
              "2     1.579888      0.456187        1.566503   1.558884         0.942210   \n",
              "3    -0.768909      0.253732       -0.592687  -0.764464         3.283553   \n",
              "4     1.750297     -1.151816        1.776573   1.826229         0.280372   \n",
              "5    -0.476375     -0.835335       -0.387148  -0.505650         2.237421   \n",
              "6     1.170908      0.160649        1.138125   1.095295        -0.123136   \n",
              "7    -0.118517      0.358450       -0.072867  -0.218965         1.604049   \n",
              "8    -0.320167      0.588830       -0.184080  -0.384207         2.201839   \n",
              "9    -0.473535      1.105439       -0.329482  -0.509063         1.582699   \n",
              "\n",
              "   compactness_mean  concavity_mean  concave points_mean  symmetry_mean  \\\n",
              "0          3.283515        2.652874             2.532475       2.217515   \n",
              "1         -0.487072       -0.023846             0.548144       0.001392   \n",
              "2          1.052926        1.363478             2.037231       0.939685   \n",
              "3          3.402909        1.915897             1.451707       2.867383   \n",
              "4          0.539340        1.371011             1.428493      -0.009560   \n",
              "5          1.244335        0.866302             0.824656       1.005402   \n",
              "6          0.088295        0.300072             0.646935      -0.064325   \n",
              "7          1.140102        0.061026             0.281950       1.403355   \n",
              "8          1.684010        1.219096             1.150692       1.965600   \n",
              "9          2.563358        1.738872             0.941760       0.797298   \n",
              "\n",
              "   fractal_dimension_mean  ...  radius_worst  texture_worst  perimeter_worst  \\\n",
              "0                2.255747  ...      1.886690      -1.359293         2.303601   \n",
              "1               -0.868652  ...      1.805927      -0.369203         1.535126   \n",
              "2               -0.398008  ...      1.511870      -0.023974         1.347475   \n",
              "3                4.910919  ...     -0.281464       0.133984        -0.249939   \n",
              "4               -0.562450  ...      1.298575      -1.466770         1.338539   \n",
              "5                1.890005  ...     -0.165498      -0.313836        -0.115009   \n",
              "6               -0.762332  ...      1.368983       0.322883         1.368325   \n",
              "7                1.660353  ...      0.163763       0.401048         0.099449   \n",
              "8                1.572462  ...     -0.161357       0.822813        -0.031609   \n",
              "9                2.783096  ...     -0.244190       2.443109        -0.286278   \n",
              "\n",
              "   area_worst  smoothness_worst  compactness_worst  concavity_worst  \\\n",
              "0    2.001237          1.307686           2.616665         2.109526   \n",
              "1    1.890489         -0.375612          -0.430444        -0.146749   \n",
              "2    1.456285          0.527407           1.082932         0.854974   \n",
              "3   -0.550021          3.394275           3.893397         1.989588   \n",
              "4    1.220724          0.220556          -0.313395         0.613179   \n",
              "5   -0.244320          2.048513           1.721616         1.263243   \n",
              "6    1.275220          0.518640           0.021215         0.509552   \n",
              "7    0.028859          1.447961           0.724786        -0.021054   \n",
              "8   -0.248363          1.662757           1.818310         1.280035   \n",
              "9   -0.297409          2.320295           5.112877         3.995433   \n",
              "\n",
              "   concave points_worst  symmetry_worst  fractal_dimension_worst  \n",
              "0              2.296076        2.750622                 1.937015  \n",
              "1              1.087084       -0.243890                 0.281190  \n",
              "2              1.955000        1.152255                 0.201391  \n",
              "3              2.175786        6.046041                 4.935010  \n",
              "4              0.729259       -0.868353                -0.397100  \n",
              "5              0.905888        1.754069                 2.241802  \n",
              "6              1.196716        0.262476                -0.014730  \n",
              "7              0.624196        0.477640                 1.726435  \n",
              "8              1.391616        2.389857                 1.288650  \n",
              "9              1.620015        2.370444                 6.846856  \n",
              "\n",
              "[10 rows x 30 columns]"
            ],
            "text/html": [
              "\n",
              "  <div id=\"df-68922e65-cd5d-4b24-8706-933fc03e92aa\">\n",
              "    <div class=\"colab-df-container\">\n",
              "      <div>\n",
              "<style scoped>\n",
              "    .dataframe tbody tr th:only-of-type {\n",
              "        vertical-align: middle;\n",
              "    }\n",
              "\n",
              "    .dataframe tbody tr th {\n",
              "        vertical-align: top;\n",
              "    }\n",
              "\n",
              "    .dataframe thead th {\n",
              "        text-align: right;\n",
              "    }\n",
              "</style>\n",
              "<table border=\"1\" class=\"dataframe\">\n",
              "  <thead>\n",
              "    <tr style=\"text-align: right;\">\n",
              "      <th></th>\n",
              "      <th>radius_mean</th>\n",
              "      <th>texture_mean</th>\n",
              "      <th>perimeter_mean</th>\n",
              "      <th>area_mean</th>\n",
              "      <th>smoothness_mean</th>\n",
              "      <th>compactness_mean</th>\n",
              "      <th>concavity_mean</th>\n",
              "      <th>concave points_mean</th>\n",
              "      <th>symmetry_mean</th>\n",
              "      <th>fractal_dimension_mean</th>\n",
              "      <th>...</th>\n",
              "      <th>radius_worst</th>\n",
              "      <th>texture_worst</th>\n",
              "      <th>perimeter_worst</th>\n",
              "      <th>area_worst</th>\n",
              "      <th>smoothness_worst</th>\n",
              "      <th>compactness_worst</th>\n",
              "      <th>concavity_worst</th>\n",
              "      <th>concave points_worst</th>\n",
              "      <th>symmetry_worst</th>\n",
              "      <th>fractal_dimension_worst</th>\n",
              "    </tr>\n",
              "  </thead>\n",
              "  <tbody>\n",
              "    <tr>\n",
              "      <th>0</th>\n",
              "      <td>1.097064</td>\n",
              "      <td>-2.073335</td>\n",
              "      <td>1.269934</td>\n",
              "      <td>0.984375</td>\n",
              "      <td>1.568466</td>\n",
              "      <td>3.283515</td>\n",
              "      <td>2.652874</td>\n",
              "      <td>2.532475</td>\n",
              "      <td>2.217515</td>\n",
              "      <td>2.255747</td>\n",
              "      <td>...</td>\n",
              "      <td>1.886690</td>\n",
              "      <td>-1.359293</td>\n",
              "      <td>2.303601</td>\n",
              "      <td>2.001237</td>\n",
              "      <td>1.307686</td>\n",
              "      <td>2.616665</td>\n",
              "      <td>2.109526</td>\n",
              "      <td>2.296076</td>\n",
              "      <td>2.750622</td>\n",
              "      <td>1.937015</td>\n",
              "    </tr>\n",
              "    <tr>\n",
              "      <th>1</th>\n",
              "      <td>1.829821</td>\n",
              "      <td>-0.353632</td>\n",
              "      <td>1.685955</td>\n",
              "      <td>1.908708</td>\n",
              "      <td>-0.826962</td>\n",
              "      <td>-0.487072</td>\n",
              "      <td>-0.023846</td>\n",
              "      <td>0.548144</td>\n",
              "      <td>0.001392</td>\n",
              "      <td>-0.868652</td>\n",
              "      <td>...</td>\n",
              "      <td>1.805927</td>\n",
              "      <td>-0.369203</td>\n",
              "      <td>1.535126</td>\n",
              "      <td>1.890489</td>\n",
              "      <td>-0.375612</td>\n",
              "      <td>-0.430444</td>\n",
              "      <td>-0.146749</td>\n",
              "      <td>1.087084</td>\n",
              "      <td>-0.243890</td>\n",
              "      <td>0.281190</td>\n",
              "    </tr>\n",
              "    <tr>\n",
              "      <th>2</th>\n",
              "      <td>1.579888</td>\n",
              "      <td>0.456187</td>\n",
              "      <td>1.566503</td>\n",
              "      <td>1.558884</td>\n",
              "      <td>0.942210</td>\n",
              "      <td>1.052926</td>\n",
              "      <td>1.363478</td>\n",
              "      <td>2.037231</td>\n",
              "      <td>0.939685</td>\n",
              "      <td>-0.398008</td>\n",
              "      <td>...</td>\n",
              "      <td>1.511870</td>\n",
              "      <td>-0.023974</td>\n",
              "      <td>1.347475</td>\n",
              "      <td>1.456285</td>\n",
              "      <td>0.527407</td>\n",
              "      <td>1.082932</td>\n",
              "      <td>0.854974</td>\n",
              "      <td>1.955000</td>\n",
              "      <td>1.152255</td>\n",
              "      <td>0.201391</td>\n",
              "    </tr>\n",
              "    <tr>\n",
              "      <th>3</th>\n",
              "      <td>-0.768909</td>\n",
              "      <td>0.253732</td>\n",
              "      <td>-0.592687</td>\n",
              "      <td>-0.764464</td>\n",
              "      <td>3.283553</td>\n",
              "      <td>3.402909</td>\n",
              "      <td>1.915897</td>\n",
              "      <td>1.451707</td>\n",
              "      <td>2.867383</td>\n",
              "      <td>4.910919</td>\n",
              "      <td>...</td>\n",
              "      <td>-0.281464</td>\n",
              "      <td>0.133984</td>\n",
              "      <td>-0.249939</td>\n",
              "      <td>-0.550021</td>\n",
              "      <td>3.394275</td>\n",
              "      <td>3.893397</td>\n",
              "      <td>1.989588</td>\n",
              "      <td>2.175786</td>\n",
              "      <td>6.046041</td>\n",
              "      <td>4.935010</td>\n",
              "    </tr>\n",
              "    <tr>\n",
              "      <th>4</th>\n",
              "      <td>1.750297</td>\n",
              "      <td>-1.151816</td>\n",
              "      <td>1.776573</td>\n",
              "      <td>1.826229</td>\n",
              "      <td>0.280372</td>\n",
              "      <td>0.539340</td>\n",
              "      <td>1.371011</td>\n",
              "      <td>1.428493</td>\n",
              "      <td>-0.009560</td>\n",
              "      <td>-0.562450</td>\n",
              "      <td>...</td>\n",
              "      <td>1.298575</td>\n",
              "      <td>-1.466770</td>\n",
              "      <td>1.338539</td>\n",
              "      <td>1.220724</td>\n",
              "      <td>0.220556</td>\n",
              "      <td>-0.313395</td>\n",
              "      <td>0.613179</td>\n",
              "      <td>0.729259</td>\n",
              "      <td>-0.868353</td>\n",
              "      <td>-0.397100</td>\n",
              "    </tr>\n",
              "    <tr>\n",
              "      <th>5</th>\n",
              "      <td>-0.476375</td>\n",
              "      <td>-0.835335</td>\n",
              "      <td>-0.387148</td>\n",
              "      <td>-0.505650</td>\n",
              "      <td>2.237421</td>\n",
              "      <td>1.244335</td>\n",
              "      <td>0.866302</td>\n",
              "      <td>0.824656</td>\n",
              "      <td>1.005402</td>\n",
              "      <td>1.890005</td>\n",
              "      <td>...</td>\n",
              "      <td>-0.165498</td>\n",
              "      <td>-0.313836</td>\n",
              "      <td>-0.115009</td>\n",
              "      <td>-0.244320</td>\n",
              "      <td>2.048513</td>\n",
              "      <td>1.721616</td>\n",
              "      <td>1.263243</td>\n",
              "      <td>0.905888</td>\n",
              "      <td>1.754069</td>\n",
              "      <td>2.241802</td>\n",
              "    </tr>\n",
              "    <tr>\n",
              "      <th>6</th>\n",
              "      <td>1.170908</td>\n",
              "      <td>0.160649</td>\n",
              "      <td>1.138125</td>\n",
              "      <td>1.095295</td>\n",
              "      <td>-0.123136</td>\n",
              "      <td>0.088295</td>\n",
              "      <td>0.300072</td>\n",
              "      <td>0.646935</td>\n",
              "      <td>-0.064325</td>\n",
              "      <td>-0.762332</td>\n",
              "      <td>...</td>\n",
              "      <td>1.368983</td>\n",
              "      <td>0.322883</td>\n",
              "      <td>1.368325</td>\n",
              "      <td>1.275220</td>\n",
              "      <td>0.518640</td>\n",
              "      <td>0.021215</td>\n",
              "      <td>0.509552</td>\n",
              "      <td>1.196716</td>\n",
              "      <td>0.262476</td>\n",
              "      <td>-0.014730</td>\n",
              "    </tr>\n",
              "    <tr>\n",
              "      <th>7</th>\n",
              "      <td>-0.118517</td>\n",
              "      <td>0.358450</td>\n",
              "      <td>-0.072867</td>\n",
              "      <td>-0.218965</td>\n",
              "      <td>1.604049</td>\n",
              "      <td>1.140102</td>\n",
              "      <td>0.061026</td>\n",
              "      <td>0.281950</td>\n",
              "      <td>1.403355</td>\n",
              "      <td>1.660353</td>\n",
              "      <td>...</td>\n",
              "      <td>0.163763</td>\n",
              "      <td>0.401048</td>\n",
              "      <td>0.099449</td>\n",
              "      <td>0.028859</td>\n",
              "      <td>1.447961</td>\n",
              "      <td>0.724786</td>\n",
              "      <td>-0.021054</td>\n",
              "      <td>0.624196</td>\n",
              "      <td>0.477640</td>\n",
              "      <td>1.726435</td>\n",
              "    </tr>\n",
              "    <tr>\n",
              "      <th>8</th>\n",
              "      <td>-0.320167</td>\n",
              "      <td>0.588830</td>\n",
              "      <td>-0.184080</td>\n",
              "      <td>-0.384207</td>\n",
              "      <td>2.201839</td>\n",
              "      <td>1.684010</td>\n",
              "      <td>1.219096</td>\n",
              "      <td>1.150692</td>\n",
              "      <td>1.965600</td>\n",
              "      <td>1.572462</td>\n",
              "      <td>...</td>\n",
              "      <td>-0.161357</td>\n",
              "      <td>0.822813</td>\n",
              "      <td>-0.031609</td>\n",
              "      <td>-0.248363</td>\n",
              "      <td>1.662757</td>\n",
              "      <td>1.818310</td>\n",
              "      <td>1.280035</td>\n",
              "      <td>1.391616</td>\n",
              "      <td>2.389857</td>\n",
              "      <td>1.288650</td>\n",
              "    </tr>\n",
              "    <tr>\n",
              "      <th>9</th>\n",
              "      <td>-0.473535</td>\n",
              "      <td>1.105439</td>\n",
              "      <td>-0.329482</td>\n",
              "      <td>-0.509063</td>\n",
              "      <td>1.582699</td>\n",
              "      <td>2.563358</td>\n",
              "      <td>1.738872</td>\n",
              "      <td>0.941760</td>\n",
              "      <td>0.797298</td>\n",
              "      <td>2.783096</td>\n",
              "      <td>...</td>\n",
              "      <td>-0.244190</td>\n",
              "      <td>2.443109</td>\n",
              "      <td>-0.286278</td>\n",
              "      <td>-0.297409</td>\n",
              "      <td>2.320295</td>\n",
              "      <td>5.112877</td>\n",
              "      <td>3.995433</td>\n",
              "      <td>1.620015</td>\n",
              "      <td>2.370444</td>\n",
              "      <td>6.846856</td>\n",
              "    </tr>\n",
              "  </tbody>\n",
              "</table>\n",
              "<p>10 rows × 30 columns</p>\n",
              "</div>\n",
              "      <button class=\"colab-df-convert\" onclick=\"convertToInteractive('df-68922e65-cd5d-4b24-8706-933fc03e92aa')\"\n",
              "              title=\"Convert this dataframe to an interactive table.\"\n",
              "              style=\"display:none;\">\n",
              "        \n",
              "  <svg xmlns=\"http://www.w3.org/2000/svg\" height=\"24px\"viewBox=\"0 0 24 24\"\n",
              "       width=\"24px\">\n",
              "    <path d=\"M0 0h24v24H0V0z\" fill=\"none\"/>\n",
              "    <path d=\"M18.56 5.44l.94 2.06.94-2.06 2.06-.94-2.06-.94-.94-2.06-.94 2.06-2.06.94zm-11 1L8.5 8.5l.94-2.06 2.06-.94-2.06-.94L8.5 2.5l-.94 2.06-2.06.94zm10 10l.94 2.06.94-2.06 2.06-.94-2.06-.94-.94-2.06-.94 2.06-2.06.94z\"/><path d=\"M17.41 7.96l-1.37-1.37c-.4-.4-.92-.59-1.43-.59-.52 0-1.04.2-1.43.59L10.3 9.45l-7.72 7.72c-.78.78-.78 2.05 0 2.83L4 21.41c.39.39.9.59 1.41.59.51 0 1.02-.2 1.41-.59l7.78-7.78 2.81-2.81c.8-.78.8-2.07 0-2.86zM5.41 20L4 18.59l7.72-7.72 1.47 1.35L5.41 20z\"/>\n",
              "  </svg>\n",
              "      </button>\n",
              "      \n",
              "  <style>\n",
              "    .colab-df-container {\n",
              "      display:flex;\n",
              "      flex-wrap:wrap;\n",
              "      gap: 12px;\n",
              "    }\n",
              "\n",
              "    .colab-df-convert {\n",
              "      background-color: #E8F0FE;\n",
              "      border: none;\n",
              "      border-radius: 50%;\n",
              "      cursor: pointer;\n",
              "      display: none;\n",
              "      fill: #1967D2;\n",
              "      height: 32px;\n",
              "      padding: 0 0 0 0;\n",
              "      width: 32px;\n",
              "    }\n",
              "\n",
              "    .colab-df-convert:hover {\n",
              "      background-color: #E2EBFA;\n",
              "      box-shadow: 0px 1px 2px rgba(60, 64, 67, 0.3), 0px 1px 3px 1px rgba(60, 64, 67, 0.15);\n",
              "      fill: #174EA6;\n",
              "    }\n",
              "\n",
              "    [theme=dark] .colab-df-convert {\n",
              "      background-color: #3B4455;\n",
              "      fill: #D2E3FC;\n",
              "    }\n",
              "\n",
              "    [theme=dark] .colab-df-convert:hover {\n",
              "      background-color: #434B5C;\n",
              "      box-shadow: 0px 1px 3px 1px rgba(0, 0, 0, 0.15);\n",
              "      filter: drop-shadow(0px 1px 2px rgba(0, 0, 0, 0.3));\n",
              "      fill: #FFFFFF;\n",
              "    }\n",
              "  </style>\n",
              "\n",
              "      <script>\n",
              "        const buttonEl =\n",
              "          document.querySelector('#df-68922e65-cd5d-4b24-8706-933fc03e92aa button.colab-df-convert');\n",
              "        buttonEl.style.display =\n",
              "          google.colab.kernel.accessAllowed ? 'block' : 'none';\n",
              "\n",
              "        async function convertToInteractive(key) {\n",
              "          const element = document.querySelector('#df-68922e65-cd5d-4b24-8706-933fc03e92aa');\n",
              "          const dataTable =\n",
              "            await google.colab.kernel.invokeFunction('convertToInteractive',\n",
              "                                                     [key], {});\n",
              "          if (!dataTable) return;\n",
              "\n",
              "          const docLinkHtml = 'Like what you see? Visit the ' +\n",
              "            '<a target=\"_blank\" href=https://colab.research.google.com/notebooks/data_table.ipynb>data table notebook</a>'\n",
              "            + ' to learn more about interactive tables.';\n",
              "          element.innerHTML = '';\n",
              "          dataTable['output_type'] = 'display_data';\n",
              "          await google.colab.output.renderOutput(dataTable, element);\n",
              "          const docLink = document.createElement('div');\n",
              "          docLink.innerHTML = docLinkHtml;\n",
              "          element.appendChild(docLink);\n",
              "        }\n",
              "      </script>\n",
              "    </div>\n",
              "  </div>\n",
              "  "
            ]
          },
          "metadata": {},
          "execution_count": 56
        }
      ]
    },
    {
      "cell_type": "markdown",
      "source": [
        "# **Comportamiento del Modelo**\n",
        "\n",
        "## **Consideramos --   70% Train / 30% Test** \n",
        "\n",
        "\n",
        "Se analiza el comportamiento del modelo, para distintos K, tomando un 70% del dataset para entrenamiento y 30% para prueba."
      ],
      "metadata": {
        "id": "Q8nDNk6K3BVe"
      }
    },
    {
      "cell_type": "code",
      "source": [
        "# test_size1 = 0.3\n",
        "\n",
        "X_train = X_norm\n",
        "\n",
        "# X_train = X\n",
        "\n",
        "y_train = df1['diagnosis']\n",
        "X_train, X_test, y_train, y_test = train_test_split( X_train, y_train , test_size=0.3)\n",
        "\n",
        "print('Datos para entrenamiento_70% : {}'.format(X_train.shape[0]))\n",
        "print('Datos para prueba_30%: {}'.format(X_test.shape[0]))\n",
        "\n"
      ],
      "metadata": {
        "colab": {
          "base_uri": "https://localhost:8080/"
        },
        "outputId": "2c2af944-c75c-40b7-d902-f0060792c5f4",
        "id": "BCcRGctWwcCV"
      },
      "execution_count": 57,
      "outputs": [
        {
          "output_type": "stream",
          "name": "stdout",
          "text": [
            "Datos para entrenamiento_70% : 398\n",
            "Datos para prueba_30%: 171\n"
          ]
        }
      ]
    },
    {
      "cell_type": "markdown",
      "source": [
        "# **Modelos Propuestos - Evaluación**"
      ],
      "metadata": {
        "id": "WRZMIBMSG5Sf"
      }
    },
    {
      "cell_type": "markdown",
      "source": [
        "# **Clasificador K vecinos más cercanos - KNeighborsClassifier** "
      ],
      "metadata": {
        "id": "xcPhvTtS9F8l"
      }
    },
    {
      "cell_type": "code",
      "source": [
        "########### Analizamos la precision del Modelo para distinto valores n_neighbors ##############\n",
        "\n",
        "#### n_neighbors=3 #####\n",
        "\n",
        "knn1 = neighbors.KNeighborsClassifier(n_neighbors=3)\n",
        "knn1.fit(X_train, y_train)\n",
        "Y_pred1 = knn1.predict(X_test)\n",
        "\n",
        "#### n_neighbors=10 #####\n",
        "\n",
        "knn2 = neighbors.KNeighborsClassifier(n_neighbors=10)\n",
        "knn2.fit(X_train, y_train)\n",
        "Y_pred2 = knn2.predict(X_test)\n",
        "\n",
        "#### n_neighbors=30 #####\n",
        "\n",
        "knn3 = neighbors.KNeighborsClassifier(n_neighbors=30)\n",
        "knn3.fit(X_train, y_train)\n",
        "Y_pred3 = knn3.predict(X_test)\n",
        "\n",
        "\n",
        "print('Accuracy_n_neighbors_3: {}'.format(round(metrics.accuracy_score(Y_pred1,y_test),2)))\n",
        "print('Accuracy_n_neighbors_10: {}'.format(round(metrics.accuracy_score(Y_pred2,y_test),2)))\n",
        "print('Accuracy_n_neighbors_30: {}'.format(round(metrics.accuracy_score(Y_pred3,y_test),2)))"
      ],
      "metadata": {
        "colab": {
          "base_uri": "https://localhost:8080/"
        },
        "id": "db6et485dc8S",
        "outputId": "992071d4-8ba4-4012-f5d2-fc47511f4a96"
      },
      "execution_count": 58,
      "outputs": [
        {
          "output_type": "stream",
          "name": "stdout",
          "text": [
            "Accuracy_n_neighbors_3: 0.96\n",
            "Accuracy_n_neighbors_10: 0.95\n",
            "Accuracy_n_neighbors_30: 0.94\n"
          ]
        }
      ]
    },
    {
      "cell_type": "code",
      "source": [
        "#### Accuracy Training set & Test set_ to_ n_neighbors=3 ####\n",
        "\n",
        "knn1 = KNeighborsClassifier(n_neighbors=3)\n",
        "knn1.fit(X_train, y_train)\n",
        "print('Accuracy of K-NN classifier on training set: {:.2f}'\n",
        "     .format(knn1.score(X_train, y_train)))\n",
        "print('Accuracy of K-NN classifier on test set: {:.2f}'\n",
        "     .format(knn1.score(X_test, y_test)))"
      ],
      "metadata": {
        "colab": {
          "base_uri": "https://localhost:8080/"
        },
        "id": "o9ArzsYFG_G-",
        "outputId": "00cf14f1-e534-49da-e2ec-be8cf722df74"
      },
      "execution_count": 59,
      "outputs": [
        {
          "output_type": "stream",
          "name": "stdout",
          "text": [
            "Accuracy of K-NN classifier on training set: 0.98\n",
            "Accuracy of K-NN classifier on test set: 0.96\n"
          ]
        }
      ]
    },
    {
      "cell_type": "markdown",
      "source": [
        "# **Comparación de la tasa de error (Rate Error) con el valor K**"
      ],
      "metadata": {
        "id": "Y7IjO4WFAMKm"
      }
    },
    {
      "cell_type": "code",
      "source": [
        "error = []\n",
        "\n",
        "# Calculamos el error para valores  K comprendido entre 1 y 50\n",
        "\n",
        "for i in range(1,50):\n",
        "\n",
        "    knn = KNeighborsClassifier(n_neighbors=i)\n",
        "    knn.fit(X_train, y_train)\n",
        "    pred_i = knn.predict(X_test)\n",
        "    error.append(np.mean(pred_i!=y_test))\n",
        "\n",
        "print('Best Error Rate:', round(min(error),2))\n",
        "print('Best value k for Error Rate:', error.index(min(error))+1)\n",
        "\n",
        "#################### Ploteo ####################################\n",
        "\n",
        "plt.figure(figsize=(12, 6))\n",
        "ax = plt.axes()\n",
        "ax.set_facecolor(\"palegreen\")\n",
        "\n",
        "\n",
        "plt.plot(range(1,50), error, color='green', linestyle='dashed', marker='o',\n",
        "         markerfacecolor='blue', markersize=8)\n",
        "plt.title('Error Rate K Value')\n",
        "plt.xlabel('K Value')\n",
        "plt.ylabel('Mean Error')\n",
        "plt.figure(\"lightgreen\")\n",
        "plt.show()"
      ],
      "metadata": {
        "colab": {
          "base_uri": "https://localhost:8080/",
          "height": 456
        },
        "id": "G5pQSFxBVYXl",
        "outputId": "34c49c12-f8ac-40a8-a6b0-5e88b7fb46d1"
      },
      "execution_count": 60,
      "outputs": [
        {
          "output_type": "stream",
          "name": "stdout",
          "text": [
            "Best Error Rate: 0.04\n",
            "Best value k for Error Rate: 3\n"
          ]
        },
        {
          "output_type": "display_data",
          "data": {
            "text/plain": [
              "<Figure size 864x432 with 1 Axes>"
            ],
            "image/png": "[encoded data removed]"
          },
          "metadata": {
            "needs_background": "light"
          }
        },
        {
          "output_type": "display_data",
          "data": {
            "text/plain": [
              "<Figure size 432x288 with 0 Axes>"
            ]
          },
          "metadata": {}
        }
      ]
    },
    {
      "cell_type": "markdown",
      "source": [
        "# **Ploteo Accurary Vs. K Value**\n"
      ],
      "metadata": {
        "id": "OEa_YSV4DkAl"
      }
    },
    {
      "cell_type": "code",
      "source": [
        "accuracy_ = []\n",
        "\n",
        "for i in range(1, 50):\n",
        "\n",
        "    \n",
        "    knn = neighbors.KNeighborsClassifier(n_neighbors = i)\n",
        "    knn.fit(X_train, y_train)\n",
        "\n",
        "    prediction_1 = knn.predict(X_test)\n",
        "\n",
        "    # Calculamos la Matriz de Confusion usando las predicciones realizada \n",
        "    # y comparandolo con el y_test.\n",
        "\n",
        "    cm = metrics.confusion_matrix(y_test, prediction_1)\n",
        "\n",
        "    #Calculamos algunas metricas\n",
        "\n",
        "    TP, FP, FN, TN = cm[0,0], cm[1,0], cm[0,1], cm[1,1]\n",
        "    acc_ = (TP+TN)/(TP+FP+FN+TN)\n",
        "    accuracy_.append(acc_)\n",
        "    \n",
        "\n",
        "print('Best Accuracy:', round(max(accuracy_),2))\n",
        "print('Best Value k for Accuracy:', accuracy_.index(max(accuracy_))+1)\n",
        "\n",
        "\n",
        "#################### Ploteo ####################################\n",
        "\n",
        "plt.figure(figsize=(12, 6))\n",
        "ax = plt.axes()\n",
        "ax.set_facecolor(\"lightcyan\")\n",
        "\n",
        "\n",
        "plt.plot(range(1,50), accuracy_, color='black', linestyle='dashed', marker='o',\n",
        "         markerfacecolor='green', markersize=8)\n",
        "plt.title('Accuracy vs. K Value')\n",
        "plt.xlabel('K Value')\n",
        "plt.ylabel('Accuracy')\n",
        "plt.figure(\"lightgreen\")\n",
        "plt.show()\n",
        "\n"
      ],
      "metadata": {
        "colab": {
          "base_uri": "https://localhost:8080/",
          "height": 456
        },
        "outputId": "0dc52f1d-39b7-4503-d8fc-f9bd684d1e19",
        "id": "f7l5YdcKDsa0"
      },
      "execution_count": 61,
      "outputs": [
        {
          "output_type": "stream",
          "name": "stdout",
          "text": [
            "Best Accuracy: 0.96\n",
            "Best Value k for Accuracy: 3\n"
          ]
        },
        {
          "output_type": "display_data",
          "data": {
            "text/plain": [
              "<Figure size 864x432 with 1 Axes>"
            ],
            "image/png": "[encoded data removed]"
          },
          "metadata": {
            "needs_background": "light"
          }
        },
        {
          "output_type": "display_data",
          "data": {
            "text/plain": [
              "<Figure size 432x288 with 0 Axes>"
            ]
          },
          "metadata": {}
        }
      ]
    },
    {
      "cell_type": "markdown",
      "source": [
        "# **Precisión del modelo - Métricas de Clasificación**\n",
        "\n",
        "Confirmemos la precisión del modelo viendo la Matriz de Confusión y el Reporte sobre el conjunto de test, que nos detalla los aciertos y fallos."
      ],
      "metadata": {
        "id": "L6-oqAC172Cc"
      }
    },
    {
      "cell_type": "code",
      "source": [
        "#Calculamos la matriz de confusión utilizando las predicciones realizadas y las comparamos con el test y.\n",
        "\n",
        "## k = 3 \n",
        "\n",
        "prediction = knn1.predict(X_test)\n",
        "\n",
        "label_encoder = LabelEncoder()\n",
        "y_train = label_encoder.fit_transform(y_train)\n",
        "y_test = label_encoder.fit_transform(y_test)\n",
        "\n",
        "\n",
        "\n",
        "plt.figure(figsize = (8,6))\n",
        "confusion_matrix1 = pd.crosstab(label_encoder.inverse_transform(y_test), label_encoder.inverse_transform(prediction), rownames=['Y_test'], colnames=['Y_pred'])\n",
        "\n",
        "sns.heatmap(confusion_matrix1, annot=True,cmap = 'Spectral')\n",
        "plt.title(\"Matriz de confusión\")\n",
        "\n",
        "plt.show()\n",
        "\n",
        "\n",
        "######## Componentes de la Matriz de Confusión ########\n",
        "\n",
        "def print_confusion_matrix(y_test, prediction):\n",
        "    cm = confusion_matrix(y_test, prediction)\n",
        "    print('True positive = ', cm[0][0])\n",
        "    print('False positive = ', cm[0][1])\n",
        "    print('False negative = ', cm[1][0])\n",
        "    print('True negative = ', cm[1][1])\n",
        "\n",
        "\n",
        "print_confusion_matrix(y_test, prediction)\n",
        "\n",
        "\n",
        "#############################################################\n",
        "\n",
        "#### Metricas de Clasificacion #####\n",
        "\n",
        "# Asignaremos un valor entero al atributo 'diagnosis'\n",
        " # donde : \n",
        " \n",
        " # Maligno = 1 \n",
        " # Benigno = 0 \n",
        "\n",
        "\n",
        "target_names = ['0', '1']\n",
        "print('\\nMatriz de Confusión:',confusion_matrix(y_test, prediction))\n",
        "print(classification_report(y_test, prediction, target_names=target_names))"
      ],
      "metadata": {
        "colab": {
          "base_uri": "https://localhost:8080/",
          "height": 683
        },
        "id": "-4t7mb8lnPNn",
        "outputId": "371ff28c-7971-45b7-986c-6c8578fe09d0"
      },
      "execution_count": 63,
      "outputs": [
        {
          "output_type": "display_data",
          "data": {
            "text/plain": [
              "<Figure size 576x432 with 2 Axes>"
            ],
            "image/png": "[encoded data removed]"
          },
          "metadata": {
            "needs_background": "light"
          }
        },
        {
          "output_type": "stream",
          "name": "stdout",
          "text": [
            "True positive =  106\n",
            "False positive =  0\n",
            "False negative =  6\n",
            "True negative =  59\n",
            "\n",
            "Matriz de Confusión: [[106   0]\n",
            " [  6  59]]\n",
            "              precision    recall  f1-score   support\n",
            "\n",
            "           0       0.95      1.00      0.97       106\n",
            "           1       1.00      0.91      0.95        65\n",
            "\n",
            "    accuracy                           0.96       171\n",
            "   macro avg       0.97      0.95      0.96       171\n",
            "weighted avg       0.97      0.96      0.96       171\n",
            "\n"
          ]
        }
      ]
    },
    {
      "cell_type": "markdown",
      "source": [
        "# **Comentario**\n",
        "\n",
        "*  Considerando un 70% del dataset para entrenamiento y 30% para prueba. podemos apreciar  el comportamiento del modelo, para distintos k (n_neighbors),obtiendo los siguientes resultados en funcion  de su precisión:\n",
        "\n",
        "\n",
        "\n",
        "1.   Accuracy_n_neighbors_3: 0.96\n",
        "2.   Accuracy_n_neighbors_10: 0.95\n",
        "3.   Accuracy_n_neighbors_30: 0.94\n",
        "\n",
        "\n",
        "*   Según estos resultados mostrados, se puede concluir que el modelo propuesto\n",
        "presenta una buena performane (Accuracy) . \n",
        "\n"
      ],
      "metadata": {
        "id": "AhODVu_E3AJn"
      }
    },
    {
      "cell_type": "markdown",
      "source": [
        "# **Clasificador Support Vector Machine**"
      ],
      "metadata": {
        "id": "E1Yz4rxxKKhg"
      }
    },
    {
      "cell_type": "code",
      "source": [
        "model = svm.SVC()\n",
        "model.fit(X_train, y_train)\n",
        "Y_pred = model.predict(X_test)\n",
        "\n",
        "print('Accuracy SVC: {}'.format(round(metrics.accuracy_score(Y_pred,y_test),2)))\n"
      ],
      "metadata": {
        "colab": {
          "base_uri": "https://localhost:8080/"
        },
        "id": "H0cgEPJikScp",
        "outputId": "d4c5399c-a737-4086-b2e1-8cf195290dd9"
      },
      "execution_count": 64,
      "outputs": [
        {
          "output_type": "stream",
          "name": "stdout",
          "text": [
            "Accuracy SVC: 0.97\n"
          ]
        }
      ]
    },
    {
      "cell_type": "markdown",
      "source": [
        "# **Comentario**\n",
        "\n",
        "Se puede observar el Accuracy del clasificador SVC es =  0.97, por lo tanto se puede concluir que es un modelo que presenta una alta perfomance."
      ],
      "metadata": {
        "id": "M4pzgsL9k7iY"
      }
    },
    {
      "cell_type": "markdown",
      "source": [
        "# **SVM Kernel Functions**\n",
        "\n",
        "Los algoritmos SVM utilizan un grupo de funciones matemáticas que se conocen como Kernels. La función de un kernel es requerir datos como entrada y transformarlos en la forma deseada.\n",
        "\n",
        "Diferentes algoritmos SVM usan diferentes tipos de funciones de kernel. Estas funciones son de diferentes tipos, por ejemplo, lineal, no lineal, polinómica, gaussian (RBF) y sigmoid.\n",
        "\n",
        "El tipo preferido de función del kernel es RBF. Porque está localizado y tiene una respuesta finita a lo largo del eje x completo.\n",
        "\n",
        "Las funciones del kernel devuelven el producto escalar entre dos puntos en un espacio de características extremadamente adecuado. Definiendo así una noción de semejanza, con un pequeño coste de cálculo incluso en el caso de espacios de dimensiones muy elevadas.\n",
        "\n",
        "Implementaremos Kernels : linear , polynomial, gaussian y sigmoid para analizar la perfomance del modelo"
      ],
      "metadata": {
        "id": "o1RzUqMlOMrn"
      }
    },
    {
      "cell_type": "markdown",
      "source": [
        "# **Entrenamiento del algoritmo**"
      ],
      "metadata": {
        "id": "A5p81UbAksfw"
      }
    },
    {
      "cell_type": "markdown",
      "source": [
        "# **1. Polynomial Kernel**"
      ],
      "metadata": {
        "id": "e_TQeAthOW04"
      }
    },
    {
      "cell_type": "code",
      "source": [
        "svclassifier = SVC(kernel='poly', degree=3)\n",
        "svclassifier.fit(X_train, y_train)\n"
      ],
      "metadata": {
        "colab": {
          "base_uri": "https://localhost:8080/"
        },
        "id": "4owsldovMXSo",
        "outputId": "cdbfd0a6-bb53-4291-bf01-7f23ec88c2b1"
      },
      "execution_count": 65,
      "outputs": [
        {
          "output_type": "execute_result",
          "data": {
            "text/plain": [
              "SVC(kernel='poly')"
            ]
          },
          "metadata": {},
          "execution_count": 65
        }
      ]
    },
    {
      "cell_type": "markdown",
      "source": [
        "# **Predicciones sobre el test data**\n"
      ],
      "metadata": {
        "id": "NON6NW6ROzlY"
      }
    },
    {
      "cell_type": "code",
      "source": [
        "y_pred5 = svclassifier.predict(X_test)"
      ],
      "metadata": {
        "id": "79V6-gj1MZj6"
      },
      "execution_count": 66,
      "outputs": []
    },
    {
      "cell_type": "markdown",
      "source": [
        "# **Evaluación del modelo** "
      ],
      "metadata": {
        "id": "a73UVR9QPv0a"
      }
    },
    {
      "cell_type": "code",
      "source": [
        "print(confusion_matrix(y_test, y_pred5 ))\n",
        "print(classification_report(y_test, y_pred5 ))\n",
        "\n",
        "# print('Accuracy SVC: {}'.format(round(metrics.accuracy_score(y_pred5,y_test),2)))"
      ],
      "metadata": {
        "colab": {
          "base_uri": "https://localhost:8080/"
        },
        "id": "NRH7Z1r0MctY",
        "outputId": "89283bab-eacd-488d-b551-377a4f45f360"
      },
      "execution_count": 67,
      "outputs": [
        {
          "output_type": "stream",
          "name": "stdout",
          "text": [
            "[[106   0]\n",
            " [ 19  46]]\n",
            "              precision    recall  f1-score   support\n",
            "\n",
            "           0       0.85      1.00      0.92       106\n",
            "           1       1.00      0.71      0.83        65\n",
            "\n",
            "    accuracy                           0.89       171\n",
            "   macro avg       0.92      0.85      0.87       171\n",
            "weighted avg       0.91      0.89      0.88       171\n",
            "\n"
          ]
        }
      ]
    },
    {
      "cell_type": "markdown",
      "source": [
        "# **Gaussian Kernel**"
      ],
      "metadata": {
        "id": "sOxwN4eLZLWN"
      }
    },
    {
      "cell_type": "code",
      "source": [
        "svclassifier = SVC(kernel='rbf')\n",
        "svclassifier.fit(X_train, y_train)"
      ],
      "metadata": {
        "colab": {
          "base_uri": "https://localhost:8080/"
        },
        "id": "GN8HVpXlZY4C",
        "outputId": "1dc0fd77-a13f-464c-8196-25dce3c5f9f7"
      },
      "execution_count": 68,
      "outputs": [
        {
          "output_type": "execute_result",
          "data": {
            "text/plain": [
              "SVC()"
            ]
          },
          "metadata": {},
          "execution_count": 68
        }
      ]
    },
    {
      "cell_type": "markdown",
      "source": [
        "# **Predicciones sobre el test data**\n"
      ],
      "metadata": {
        "id": "fIikKtoeaFto"
      }
    },
    {
      "cell_type": "code",
      "source": [
        "y_pred6  = svclassifier.predict(X_test)"
      ],
      "metadata": {
        "id": "6psmPbVXaCWk"
      },
      "execution_count": 69,
      "outputs": []
    },
    {
      "cell_type": "markdown",
      "source": [
        "# **Evaluación del modelo** "
      ],
      "metadata": {
        "id": "jJKs64ubaJt5"
      }
    },
    {
      "cell_type": "code",
      "source": [
        "print(confusion_matrix(y_test, y_pred6))\n",
        "print(classification_report(y_test, y_pred6))"
      ],
      "metadata": {
        "colab": {
          "base_uri": "https://localhost:8080/"
        },
        "id": "UScLpOe-aOhf",
        "outputId": "19d06080-70d8-4c20-c494-8c2d78afef52"
      },
      "execution_count": 70,
      "outputs": [
        {
          "output_type": "stream",
          "name": "stdout",
          "text": [
            "[[106   0]\n",
            " [  5  60]]\n",
            "              precision    recall  f1-score   support\n",
            "\n",
            "           0       0.95      1.00      0.98       106\n",
            "           1       1.00      0.92      0.96        65\n",
            "\n",
            "    accuracy                           0.97       171\n",
            "   macro avg       0.98      0.96      0.97       171\n",
            "weighted avg       0.97      0.97      0.97       171\n",
            "\n"
          ]
        }
      ]
    },
    {
      "cell_type": "markdown",
      "source": [
        "# **Sigmoid Kernel**"
      ],
      "metadata": {
        "id": "aCW24RAobkZ8"
      }
    },
    {
      "cell_type": "code",
      "source": [
        "svclassifier = SVC(kernel='sigmoid')\n",
        "svclassifier.fit(X_train, y_train)"
      ],
      "metadata": {
        "colab": {
          "base_uri": "https://localhost:8080/"
        },
        "id": "b-Bl4R-0b1Y8",
        "outputId": "aeb2ce12-5419-49f9-9535-63585054d9fb"
      },
      "execution_count": 71,
      "outputs": [
        {
          "output_type": "execute_result",
          "data": {
            "text/plain": [
              "SVC(kernel='sigmoid')"
            ]
          },
          "metadata": {},
          "execution_count": 71
        }
      ]
    },
    {
      "cell_type": "markdown",
      "source": [
        "# **Predicciones sobre el test data**\n"
      ],
      "metadata": {
        "id": "6jUVVAEzb7fG"
      }
    },
    {
      "cell_type": "code",
      "source": [
        "y_pred7 = svclassifier.predict(X_test)"
      ],
      "metadata": {
        "id": "Z1z5tSQYcCIl"
      },
      "execution_count": 72,
      "outputs": []
    },
    {
      "cell_type": "markdown",
      "source": [
        "# **Evaluación del modelo** "
      ],
      "metadata": {
        "id": "69ZudwcicJOH"
      }
    },
    {
      "cell_type": "code",
      "source": [
        "print(confusion_matrix(y_test, y_pred7))\n",
        "print(classification_report(y_test, y_pred7))"
      ],
      "metadata": {
        "colab": {
          "base_uri": "https://localhost:8080/"
        },
        "id": "v4anw3hYcLkM",
        "outputId": "a3f6f162-67a3-45d7-eb47-d5ecc5482b86"
      },
      "execution_count": 73,
      "outputs": [
        {
          "output_type": "stream",
          "name": "stdout",
          "text": [
            "[[101   5]\n",
            " [  8  57]]\n",
            "              precision    recall  f1-score   support\n",
            "\n",
            "           0       0.93      0.95      0.94       106\n",
            "           1       0.92      0.88      0.90        65\n",
            "\n",
            "    accuracy                           0.92       171\n",
            "   macro avg       0.92      0.91      0.92       171\n",
            "weighted avg       0.92      0.92      0.92       171\n",
            "\n"
          ]
        }
      ]
    },
    {
      "cell_type": "markdown",
      "source": [
        "# **Kernel Linear**"
      ],
      "metadata": {
        "id": "TxbfiMMwdWnt"
      }
    },
    {
      "cell_type": "code",
      "source": [
        "svclassifier = SVC(kernel='linear')\n",
        "svclassifier.fit(X_train, y_train)\n"
      ],
      "metadata": {
        "colab": {
          "base_uri": "https://localhost:8080/"
        },
        "id": "CmaW-EQldFrC",
        "outputId": "2129ec57-803e-4887-e62a-494a24dda048"
      },
      "execution_count": 74,
      "outputs": [
        {
          "output_type": "execute_result",
          "data": {
            "text/plain": [
              "SVC(kernel='linear')"
            ]
          },
          "metadata": {},
          "execution_count": 74
        }
      ]
    },
    {
      "cell_type": "markdown",
      "source": [
        "# **Predicciones sobre el test data**\n"
      ],
      "metadata": {
        "id": "zyh8XEAgeWIT"
      }
    },
    {
      "cell_type": "code",
      "source": [
        "y_pred8 = svclassifier.predict(X_test)"
      ],
      "metadata": {
        "id": "BuCR6JxZeW90"
      },
      "execution_count": 75,
      "outputs": []
    },
    {
      "cell_type": "markdown",
      "source": [
        "# **Evaluación del modelo** "
      ],
      "metadata": {
        "id": "TCmCu201ecFb"
      }
    },
    {
      "cell_type": "code",
      "source": [
        "print(confusion_matrix(y_test, y_pred8))\n",
        "print(classification_report(y_test, y_pred8))"
      ],
      "metadata": {
        "colab": {
          "base_uri": "https://localhost:8080/"
        },
        "id": "3zxNUs0kect6",
        "outputId": "62bcbb92-1c00-40ef-fcc7-d7ce179445b1"
      },
      "execution_count": 76,
      "outputs": [
        {
          "output_type": "stream",
          "name": "stdout",
          "text": [
            "[[105   1]\n",
            " [  5  60]]\n",
            "              precision    recall  f1-score   support\n",
            "\n",
            "           0       0.95      0.99      0.97       106\n",
            "           1       0.98      0.92      0.95        65\n",
            "\n",
            "    accuracy                           0.96       171\n",
            "   macro avg       0.97      0.96      0.96       171\n",
            "weighted avg       0.97      0.96      0.96       171\n",
            "\n"
          ]
        }
      ]
    },
    {
      "cell_type": "markdown",
      "source": [
        "# **Comparison of Kernel Performance**"
      ],
      "metadata": {
        "id": "s0PAUKyWmAPy"
      }
    },
    {
      "cell_type": "code",
      "source": [
        "\n",
        "print('Accuracy SVC_Polynomial kernel: {}'.format(round(metrics.accuracy_score(y_pred5,y_test),2)))\n",
        "print('Accuracy SVC_Gaussian kernel: {}'.format(round(metrics.accuracy_score(y_pred6,y_test),2)))\n",
        "print('Accuracy SVC_Sigmoid kernel: {}'.format(round(metrics.accuracy_score(y_pred7,y_test),2)))\n",
        "print('Accuracy SVC_Linear kernel: {}'.format(round(metrics.accuracy_score(y_pred8,y_test),2)))"
      ],
      "metadata": {
        "colab": {
          "base_uri": "https://localhost:8080/"
        },
        "id": "mfsP5p3omGjh",
        "outputId": "0fa61839-0846-4474-cad0-fed06905f268"
      },
      "execution_count": 77,
      "outputs": [
        {
          "output_type": "stream",
          "name": "stdout",
          "text": [
            "Accuracy SVC_Polynomial kernel: 0.89\n",
            "Accuracy SVC_Gaussian kernel: 0.97\n",
            "Accuracy SVC_Sigmoid kernel: 0.92\n",
            "Accuracy SVC_Linear kernel: 0.96\n"
          ]
        }
      ]
    },
    {
      "cell_type": "code",
      "source": [
        "######## Componentes de la Matriz de Confusión ########\n",
        "\n",
        "def print_confusion_matrix(y_test, prediction):\n",
        "    cm = confusion_matrix(y_test, prediction)    \n",
        "    print('True positive = ', cm[0][0])\n",
        "    print('False positive = ', cm[0][1])\n",
        "    print('False negative = ', cm[1][0])\n",
        "    print('True negative = ', cm[1][1])\n",
        "\n",
        "\n",
        "print_confusion_matrix(y_test, y_pred6)\n",
        "\n",
        "\n",
        "###########################################################\n",
        "plt.figure(figsize = (8,6))\n",
        "cm = pd.crosstab(label_encoder.inverse_transform(y_test), label_encoder.inverse_transform(y_pred6), rownames=['Y_test'], colnames=['Y_pred'])\n",
        "sns.heatmap(cm, annot=True,cmap = 'Spectral')\n",
        "plt.title(\"Matriz de confusión_Gaussian kernel\")\n",
        "plt.show()\n",
        "\n",
        "\n",
        "#############################################################\n",
        "\n",
        "#### Metricas de Clasificacion #####\n",
        "\n",
        "# Asignaremos un valor entero al atributo 'diagnosis'\n",
        " # donde : \n",
        " \n",
        " # Maligno = 1 \n",
        " # Benigno = 0 \n",
        "\n",
        "\n",
        "target_names = ['0', '1']\n",
        "# print('\\nMatriz de Confusión:',confusion_matrix(y_test, y_pred6))\n",
        "print(classification_report(y_test, y_pred6, target_names=target_names))\n",
        "\n",
        "\n"
      ],
      "metadata": {
        "colab": {
          "base_uri": "https://localhost:8080/",
          "height": 631
        },
        "id": "lLn9Hc7ItW7u",
        "outputId": "f1cf28c3-f3d4-4d65-f119-4dfe4de66ab8"
      },
      "execution_count": 78,
      "outputs": [
        {
          "output_type": "stream",
          "name": "stdout",
          "text": [
            "True positive =  106\n",
            "False positive =  0\n",
            "False negative =  5\n",
            "True negative =  60\n"
          ]
        },
        {
          "output_type": "display_data",
          "data": {
            "text/plain": [
              "<Figure size 576x432 with 2 Axes>"
            ],
            "image/png": "[encoded data removed]"
          },
          "metadata": {
            "needs_background": "light"
          }
        },
        {
          "output_type": "stream",
          "name": "stdout",
          "text": [
            "              precision    recall  f1-score   support\n",
            "\n",
            "           0       0.95      1.00      0.98       106\n",
            "           1       1.00      0.92      0.96        65\n",
            "\n",
            "    accuracy                           0.97       171\n",
            "   macro avg       0.98      0.96      0.97       171\n",
            "weighted avg       0.97      0.97      0.97       171\n",
            "\n"
          ]
        }
      ]
    },
    {
      "cell_type": "markdown",
      "source": [
        "# **Comentario**\n",
        "\n",
        "\n",
        "Si comparamos la performance de los diferentes tipos de kernel, podemos ver claramente que el kernel Polynomial es el que peor se comporta.\n",
        "\n",
        "los kernels Gaussian , Sigmoid kernel , Linear kernel presentan una buena perfomance para el modelo. Donde se puede observar que el kernel gaussiano tiene un mejor accuracy  y por ende una mejor eficacia.\n",
        "\n",
        "No existe una regla estricta y rápida sobre qué kernel funciona mejor en cada escenario. Se trata de probar todos los kernels y seleccionar el que tenga los mejores resultados en su conjunto de datos de prueba."
      ],
      "metadata": {
        "id": "kY64ky2BnQm3"
      }
    },
    {
      "cell_type": "markdown",
      "source": [
        "# **Clasificador - Random Forests**\n",
        "\n",
        "Es un método versátil de aprendizaje automático capaz de realizar tanto tareas de regresión como de clasificación. También lleva a cabo métodos de reducción dimensional, trata valores perdidos, valores atípicos y otros pasos esenciales de exploración de datos. Es un tipo de método de aprendizaje por conjuntos, donde un grupo de modelos débiles se combinan para formar un modelo poderoso.\n",
        "\n",
        "Un modelo Random Forest está formado por un conjunto (ensemble) de árboles de decisión individuales, cada uno entrenado con una muestra aleatoria extraída de los datos de entrenamiento originales\n",
        "\n",
        "En este clasificador se ejecutan varios algoritmos de árbol de decisiones en lugar de uno solo. Para clasificar un nuevo objeto basado en atributos, cada árbol de decisión da una clasificación y finalmente la decisión con mayor “votos” es la predicción del algoritmo.\n",
        "\n",
        "\n"
      ],
      "metadata": {
        "id": "Wm4y59KPxFFl"
      }
    },
    {
      "cell_type": "markdown",
      "source": [
        "# **n_estimators = 10**\n",
        "\n",
        "n_estimators --> The number of trees in the forest."
      ],
      "metadata": {
        "id": "zDKcswf7G_rW"
      }
    },
    {
      "cell_type": "code",
      "source": [
        "model = RandomForestClassifier(\n",
        "             random_state = 4 ,\n",
        "             n_estimators = 10,\n",
        "             criterion = 'entropy',\n",
        "             max_features = 'auto',\n",
        "             oob_score    = False,\n",
        "            n_jobs       = -1,\n",
        "          )     \n",
        "  \n",
        "model.fit(X_train, y_train)\n"
      ],
      "metadata": {
        "colab": {
          "base_uri": "https://localhost:8080/"
        },
        "id": "KUTYmU6f_-Jl",
        "outputId": "7a01a0a0-dcd7-4cc1-de69-d2bd9238128f"
      },
      "execution_count": 79,
      "outputs": [
        {
          "output_type": "execute_result",
          "data": {
            "text/plain": [
              "RandomForestClassifier(criterion='entropy', n_estimators=10, n_jobs=-1,\n",
              "                       random_state=4)"
            ]
          },
          "metadata": {},
          "execution_count": 79
        }
      ]
    },
    {
      "cell_type": "markdown",
      "source": [
        "# **Predicciones sobre el test data**"
      ],
      "metadata": {
        "id": "CpYJUwuPHjLc"
      }
    },
    {
      "cell_type": "code",
      "source": [
        "y_pred9 = model.predict(X_test)"
      ],
      "metadata": {
        "id": "yo9DKls1J6f9"
      },
      "execution_count": 80,
      "outputs": []
    },
    {
      "cell_type": "markdown",
      "source": [
        "# **Accuracy _ n_estimators = 10**"
      ],
      "metadata": {
        "id": "NEnsv-6_JLYc"
      }
    },
    {
      "cell_type": "code",
      "source": [
        "print('Accuracy RandomForest_ n_estimators = 10 : {}'.format(round(metrics.accuracy_score(y_pred9,y_test),2)))"
      ],
      "metadata": {
        "colab": {
          "base_uri": "https://localhost:8080/"
        },
        "id": "qjRvR-hyJKO_",
        "outputId": "c36ef009-cba8-4dec-dc62-2828647daec7"
      },
      "execution_count": 81,
      "outputs": [
        {
          "output_type": "stream",
          "name": "stdout",
          "text": [
            "Accuracy RandomForest_ n_estimators = 10 : 0.93\n"
          ]
        }
      ]
    },
    {
      "cell_type": "markdown",
      "source": [
        "# **n_estimators = 40**"
      ],
      "metadata": {
        "id": "fj8ZZjNbPCbo"
      }
    },
    {
      "cell_type": "code",
      "source": [
        "model1 = RandomForestClassifier(\n",
        "             random_state = 4 ,\n",
        "             n_estimators = 40,\n",
        "             criterion = 'entropy',\n",
        "             max_features = 'auto',\n",
        "             oob_score    = False,\n",
        "            n_jobs       = -1,\n",
        "          )     \n",
        "  \n",
        "model.fit(X_train, y_train)\n"
      ],
      "metadata": {
        "colab": {
          "base_uri": "https://localhost:8080/"
        },
        "id": "1_i_u5BZPOqP",
        "outputId": "07c8a8dc-bdf1-4f43-8561-79b301214e6b"
      },
      "execution_count": 82,
      "outputs": [
        {
          "output_type": "execute_result",
          "data": {
            "text/plain": [
              "RandomForestClassifier(criterion='entropy', n_estimators=10, n_jobs=-1,\n",
              "                       random_state=4)"
            ]
          },
          "metadata": {},
          "execution_count": 82
        }
      ]
    },
    {
      "cell_type": "markdown",
      "source": [
        "# **Predicciones sobre el test data**"
      ],
      "metadata": {
        "id": "vcpwNADiP2gV"
      }
    },
    {
      "cell_type": "code",
      "source": [
        "y_pred11 = model.predict(X_test)"
      ],
      "metadata": {
        "id": "Tuv1vfqwP6UY"
      },
      "execution_count": 83,
      "outputs": []
    },
    {
      "cell_type": "markdown",
      "source": [
        "# **Accuracy _ n_estimators = 40**"
      ],
      "metadata": {
        "id": "ANzz7UUzQA7I"
      }
    },
    {
      "cell_type": "code",
      "source": [
        "print('Accuracy RandomForest_ n_estimators = 40 : {}'.format(round(metrics.accuracy_score(y_pred11,y_test),2)))"
      ],
      "metadata": {
        "colab": {
          "base_uri": "https://localhost:8080/"
        },
        "id": "3-AppX4SQEVC",
        "outputId": "64158618-4b82-4820-d0ef-5570ccd84dfa"
      },
      "execution_count": 84,
      "outputs": [
        {
          "output_type": "stream",
          "name": "stdout",
          "text": [
            "Accuracy RandomForest_ n_estimators = 40 : 0.93\n"
          ]
        }
      ]
    },
    {
      "cell_type": "markdown",
      "source": [
        ""
      ],
      "metadata": {
        "id": "vi9L8IRHP9yI"
      }
    },
    {
      "cell_type": "markdown",
      "source": [
        "# **n_estimators = 100**"
      ],
      "metadata": {
        "id": "zCY47B5gKZE-"
      }
    },
    {
      "cell_type": "code",
      "source": [
        "model2 = RandomForestClassifier(\n",
        "             random_state = 4 ,\n",
        "             n_estimators = 100,\n",
        "             criterion = 'entropy',\n",
        "             max_features = 'auto',\n",
        "             oob_score    = False,\n",
        "            n_jobs       = -1,\n",
        "          )     \n",
        "  \n",
        "model2.fit(X_train, y_train)"
      ],
      "metadata": {
        "colab": {
          "base_uri": "https://localhost:8080/"
        },
        "id": "4EAM4fM4JKMa",
        "outputId": "2c6d1fd0-3589-4778-e1b7-8bccc22301ae"
      },
      "execution_count": 85,
      "outputs": [
        {
          "output_type": "execute_result",
          "data": {
            "text/plain": [
              "RandomForestClassifier(criterion='entropy', n_jobs=-1, random_state=4)"
            ]
          },
          "metadata": {},
          "execution_count": 85
        }
      ]
    },
    {
      "cell_type": "markdown",
      "source": [
        "# **Predicciones sobre el test data**"
      ],
      "metadata": {
        "id": "PzoFKyCvK7mP"
      }
    },
    {
      "cell_type": "code",
      "source": [
        "y_pred10 = model2.predict(X_test)"
      ],
      "metadata": {
        "id": "L3NpDfGdJKKj"
      },
      "execution_count": 86,
      "outputs": []
    },
    {
      "cell_type": "markdown",
      "source": [
        "# **Accuracy _ n_estimators = 100**"
      ],
      "metadata": {
        "id": "7DNOH_VDLAnN"
      }
    },
    {
      "cell_type": "code",
      "source": [
        "print('Accuracy RandomForest_ n_estimators = 100 : {}'.format(round(metrics.accuracy_score(y_pred10,y_test),2)))"
      ],
      "metadata": {
        "colab": {
          "base_uri": "https://localhost:8080/"
        },
        "id": "z6eqRFOCJKIF",
        "outputId": "f5735963-608a-4065-f9e1-d46db604cf9c"
      },
      "execution_count": 87,
      "outputs": [
        {
          "output_type": "stream",
          "name": "stdout",
          "text": [
            "Accuracy RandomForest_ n_estimators = 100 : 0.95\n"
          ]
        }
      ]
    },
    {
      "cell_type": "markdown",
      "source": [
        "# **Confusion Matrix _ n_estimators = 100**"
      ],
      "metadata": {
        "id": "DuWR9JLhQhTj"
      }
    },
    {
      "cell_type": "code",
      "source": [
        "print(metrics.confusion_matrix(y_test, y_pred10, labels=[0, 1]))\n",
        "print(metrics.classification_report(y_test, y_pred10, labels=[0, 1]))\n",
        "\n",
        "print_confusion_matrix(y_test, y_pred10)\n",
        "\n",
        "# cm = confusion_matrix(y_test, y_pred10, labels=[0, 1])\n",
        "\n",
        "plt.figure(figsize = (8,6))\n",
        "\n",
        "ax= plt.subplot()\n",
        "sns.heatmap(cm, annot=True, ax= ax)\n",
        "ax.set_ylabel('y_test')\n",
        "ax.set_xlabel('Y_pred')"
      ],
      "metadata": {
        "colab": {
          "base_uri": "https://localhost:8080/",
          "height": 667
        },
        "id": "Ls2Kd1DpQpm0",
        "outputId": "6db8cc0c-1ac3-49a3-9113-bc853c366650"
      },
      "execution_count": 88,
      "outputs": [
        {
          "output_type": "stream",
          "name": "stdout",
          "text": [
            "[[104   2]\n",
            " [  6  59]]\n",
            "              precision    recall  f1-score   support\n",
            "\n",
            "           0       0.95      0.98      0.96       106\n",
            "           1       0.97      0.91      0.94        65\n",
            "\n",
            "    accuracy                           0.95       171\n",
            "   macro avg       0.96      0.94      0.95       171\n",
            "weighted avg       0.95      0.95      0.95       171\n",
            "\n",
            "True positive =  104\n",
            "False positive =  2\n",
            "False negative =  6\n",
            "True negative =  59\n"
          ]
        },
        {
          "output_type": "execute_result",
          "data": {
            "text/plain": [
              "Text(0.5, 33.0, 'Y_pred')"
            ]
          },
          "metadata": {},
          "execution_count": 88
        },
        {
          "output_type": "display_data",
          "data": {
            "text/plain": [
              "<Figure size 576x432 with 2 Axes>"
            ],
            "image/png": "[encoded data removed]"
          },
          "metadata": {
            "needs_background": "light"
          }
        }
      ]
    },
    {
      "cell_type": "markdown",
      "source": [
        "# **Comparison of n_estimators Performance**"
      ],
      "metadata": {
        "id": "8p2dqtrQMhh4"
      }
    },
    {
      "cell_type": "code",
      "source": [
        "print('Accuracy RandomForest_ n_estimators = 10 : {}'.format(round(metrics.accuracy_score(y_pred9,y_test),2)))\n",
        "print('Accuracy RandomForest_ n_estimators = 40 : {}'.format(round(metrics.accuracy_score(y_pred11,y_test),2)))\n",
        "print('Accuracy RandomForest_ n_estimators = 100 : {}'.format(round(metrics.accuracy_score(y_pred10,y_test),2)))"
      ],
      "metadata": {
        "colab": {
          "base_uri": "https://localhost:8080/"
        },
        "id": "bGOq8Sq1JKFn",
        "outputId": "a0add0db-6783-4694-9bab-5657d2aa1ce4"
      },
      "execution_count": 89,
      "outputs": [
        {
          "output_type": "stream",
          "name": "stdout",
          "text": [
            "Accuracy RandomForest_ n_estimators = 10 : 0.93\n",
            "Accuracy RandomForest_ n_estimators = 40 : 0.93\n",
            "Accuracy RandomForest_ n_estimators = 100 : 0.95\n"
          ]
        }
      ]
    },
    {
      "cell_type": "markdown",
      "source": [
        "# **Comentario**\n",
        "\n",
        "\n",
        "Observando los resultados, podemos concluir que el clasificador Random Forests para los estimators analizados presenta una buena performance."
      ],
      "metadata": {
        "id": "VmPzPC18MpzI"
      }
    },
    {
      "cell_type": "markdown",
      "source": [
        "# **Clasificador Regresión Logística**"
      ],
      "metadata": {
        "id": "DvC2UNHoSxrp"
      }
    },
    {
      "cell_type": "markdown",
      "source": [
        "# **max_iter=100**"
      ],
      "metadata": {
        "id": "pW3IZiX1Zdwv"
      }
    },
    {
      "cell_type": "code",
      "source": [
        "model3  = LogisticRegression(\n",
        "                  max_iter=100,\n",
        "                  tol= 0.0001, \n",
        "                  C = 1, \n",
        "                  random_state=4,\n",
        "                  solver= 'liblinear'\n",
        "              )\n",
        "        \n",
        "model3.fit(X_train, y_train)\n"
      ],
      "metadata": {
        "colab": {
          "base_uri": "https://localhost:8080/"
        },
        "id": "1lcjEIogUccZ",
        "outputId": "cddf094c-31f9-4ad9-9591-4306633492c6"
      },
      "execution_count": 90,
      "outputs": [
        {
          "output_type": "execute_result",
          "data": {
            "text/plain": [
              "LogisticRegression(C=1, random_state=4, solver='liblinear')"
            ]
          },
          "metadata": {},
          "execution_count": 90
        }
      ]
    },
    {
      "cell_type": "markdown",
      "source": [
        "# **Predicciones sobre el test data**"
      ],
      "metadata": {
        "id": "gv8o6kLOajlV"
      }
    },
    {
      "cell_type": "code",
      "source": [
        "y_pred12 = model3.predict(X_test)"
      ],
      "metadata": {
        "id": "t4Mfu8mWJKDR"
      },
      "execution_count": 91,
      "outputs": []
    },
    {
      "cell_type": "markdown",
      "source": [
        "# **Accuracy -  max_iter = 100**"
      ],
      "metadata": {
        "id": "Xyu5vM0WawAH"
      }
    },
    {
      "cell_type": "code",
      "source": [
        "print('Accuracy LogisticRegression - max_iter = 100 : {}'.format(round(metrics.accuracy_score(y_pred12,y_test),2)))"
      ],
      "metadata": {
        "colab": {
          "base_uri": "https://localhost:8080/"
        },
        "id": "EC-YMVmkJKAs",
        "outputId": "588d4eaf-a5d2-4864-aa05-089c2cdd18f2"
      },
      "execution_count": 92,
      "outputs": [
        {
          "output_type": "stream",
          "name": "stdout",
          "text": [
            "Accuracy LogisticRegression - max_iter = 100 : 0.98\n"
          ]
        }
      ]
    },
    {
      "cell_type": "markdown",
      "source": [
        "# **Confusion Matrix - max_iter = 100**"
      ],
      "metadata": {
        "id": "hzAirv_DdIrI"
      }
    },
    {
      "cell_type": "code",
      "source": [
        "print(metrics.confusion_matrix(y_test, y_pred12, labels=[0, 1]))\n",
        "print(metrics.classification_report(y_test, y_pred12, labels=[0, 1]))\n",
        "\n",
        "print_confusion_matrix(y_test, y_pred12)\n",
        "\n",
        "# cm = confusion_matrix(y_test, y_pred10, labels=[0, 1])\n",
        "\n",
        "plt.figure(figsize = (8,6))\n",
        "\n",
        "ax= plt.subplot()\n",
        "sns.heatmap(cm, annot=True, ax= ax)\n",
        "ax.set_ylabel('y_test')\n",
        "ax.set_xlabel('Y_pred')"
      ],
      "metadata": {
        "colab": {
          "base_uri": "https://localhost:8080/",
          "height": 667
        },
        "id": "mhlWMMXCJJ2c",
        "outputId": "b30f2498-10c7-47c6-c898-03c27dc7b326"
      },
      "execution_count": 93,
      "outputs": [
        {
          "output_type": "stream",
          "name": "stdout",
          "text": [
            "[[106   0]\n",
            " [  4  61]]\n",
            "              precision    recall  f1-score   support\n",
            "\n",
            "           0       0.96      1.00      0.98       106\n",
            "           1       1.00      0.94      0.97        65\n",
            "\n",
            "    accuracy                           0.98       171\n",
            "   macro avg       0.98      0.97      0.97       171\n",
            "weighted avg       0.98      0.98      0.98       171\n",
            "\n",
            "True positive =  106\n",
            "False positive =  0\n",
            "False negative =  4\n",
            "True negative =  61\n"
          ]
        },
        {
          "output_type": "execute_result",
          "data": {
            "text/plain": [
              "Text(0.5, 33.0, 'Y_pred')"
            ]
          },
          "metadata": {},
          "execution_count": 93
        },
        {
          "output_type": "display_data",
          "data": {
            "text/plain": [
              "<Figure size 576x432 with 2 Axes>"
            ],
            "image/png": "[encoded data removed]"
          },
          "metadata": {
            "needs_background": "light"
          }
        }
      ]
    },
    {
      "cell_type": "markdown",
      "source": [
        "# **Comparacion de Resultados**"
      ],
      "metadata": {
        "id": "nu9NaY3ErdZ6"
      }
    },
    {
      "cell_type": "markdown",
      "source": [
        "\n",
        "Se analizaron varios clasificadores considerando diferentes parámetros de los cuales se desprenden los siguientes resultados :\n",
        "\n",
        "\n",
        "\n"
      ],
      "metadata": {
        "id": "ZzfRO8B4r4D9"
      }
    },
    {
      "cell_type": "code",
      "source": [
        "print('Accuracy_n_neighbors_3: {}'.format(round(metrics.accuracy_score(Y_pred1,y_test),2)))\n",
        "print('Accuracy_n_neighbors_10: {}'.format(round(metrics.accuracy_score(Y_pred2,y_test),2)))\n",
        "print('Accuracy_n_neighbors_30: {}'.format(round(metrics.accuracy_score(Y_pred3,y_test),2)))\n",
        "\n",
        "print(' \\nAccuracy SVC_Polynomial kernel: {}'.format(round(metrics.accuracy_score(y_pred5,y_test),2)))\n",
        "print('Accuracy SVC_Gaussian kernel: {}'.format(round(metrics.accuracy_score(y_pred6,y_test),2)))\n",
        "print('Accuracy SVC_Sigmoid kernel: {}'.format(round(metrics.accuracy_score(y_pred7,y_test),2)))\n",
        "print('Accuracy SVC_Linear kernel: {}'.format(round(metrics.accuracy_score(y_pred8,y_test),2)))\n",
        "\n",
        "print('\\nAccuracy RandomForest_ n_estimators = 10 : {}'.format(round(metrics.accuracy_score(y_pred9,y_test),2)))\n",
        "print('Accuracy RandomForest_ n_estimators = 40 : {}'.format(round(metrics.accuracy_score(y_pred11,y_test),2)))\n",
        "print('Accuracy RandomForest_ n_estimators = 100 : {}'.format(round(metrics.accuracy_score(y_pred10,y_test),2)))\n",
        "\n",
        "print('\\nAccuracy LogisticRegression - max_iter = 100 : {}'.format(round(metrics.accuracy_score(y_pred12,y_test),2)))"
      ],
      "metadata": {
        "colab": {
          "base_uri": "https://localhost:8080/"
        },
        "id": "EsCaQDmmrhVd",
        "outputId": "0d87d1c6-d142-4ab7-8e78-83464f06dc9d"
      },
      "execution_count": 97,
      "outputs": [
        {
          "output_type": "stream",
          "name": "stdout",
          "text": [
            "Accuracy_n_neighbors_3: 0.96\n",
            "Accuracy_n_neighbors_10: 0.95\n",
            "Accuracy_n_neighbors_30: 0.94\n",
            " \n",
            "Accuracy SVC_Polynomial kernel: 0.89\n",
            "Accuracy SVC_Gaussian kernel: 0.97\n",
            "Accuracy SVC_Sigmoid kernel: 0.92\n",
            "Accuracy SVC_Linear kernel: 0.96\n",
            "\n",
            "Accuracy RandomForest_ n_estimators = 10 : 0.93\n",
            "Accuracy RandomForest_ n_estimators = 40 : 0.93\n",
            "Accuracy RandomForest_ n_estimators = 100 : 0.95\n",
            "\n",
            "Accuracy LogisticRegression - max_iter = 100 : 0.98\n"
          ]
        }
      ]
    },
    {
      "cell_type": "markdown",
      "source": [
        "**En función de los resultados podemos concluir que los clasificadores con mayor precisión son :**\n",
        "\n",
        "\n",
        "SVC_Gaussian kernel: 0.97\n",
        "\n",
        "LogisticRegression - max_iter = 100 : 0.98\n",
        "\n",
        "KNN_n_neighbors_3: 0.96\n",
        "\n",
        "\n"
      ],
      "metadata": {
        "id": "4WGKOO_yvCXO"
      }
    },
    {
      "cell_type": "code",
      "source": [
        ""
      ],
      "metadata": {
        "id": "tTPbuQxdvC57"
      },
      "execution_count": null,
      "outputs": []
    }
  ]
}