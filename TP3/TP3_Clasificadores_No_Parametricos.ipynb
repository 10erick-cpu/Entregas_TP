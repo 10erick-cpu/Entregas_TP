{
  "nbformat": 4,
  "nbformat_minor": 0,
  "metadata": {
    "colab": {
      "name": "III. Trabajo Practico III - Clasificadores No Parametricos.ipynb",
      "provenance": [],
      "collapsed_sections": [
        "-Ex3zR9GeqXa",
        "xhCCdVuIxPP-"
      ],
      "authorship_tag": "ABX9TyPV60eNv+WtT+18YwAE0lLs",
      "include_colab_link": true
    },
    "kernelspec": {
      "name": "python3",
      "display_name": "Python 3"
    },
    "language_info": {
      "name": "python"
    }
  },
  "cells": [
    {
      "cell_type": "markdown",
      "metadata": {
        "id": "view-in-github",
        "colab_type": "text"
      },
      "source": [
        "<a href=\"https://colab.research.google.com/github/10erick-cpu/Entregas_TP/blob/main/TP3/TP3_Clasificadores_No_Parametricos.ipynb\" target=\"_parent\"><img src=\"https://colab.research.google.com/assets/colab-badge.svg\" alt=\"Open In Colab\"/></a>"
      ]
    },
    {
      "cell_type": "markdown",
      "metadata": {
        "id": "su9ASdULpmgu"
      },
      "source": [
        "# **Trabajo Práctico 3 - Clasificadores No Paramétricos**"
      ]
    },
    {
      "cell_type": "markdown",
      "source": [
        "### **Alumno** : Erick Macote Yparraguirre\n",
        "### **mail** : leonelerick59@gmail.com\n",
        "### **Profesor** : Ing. Manlio Miguel Massiris\n"
      ],
      "metadata": {
        "id": "Q1E4r-SS38v0"
      }
    },
    {
      "cell_type": "markdown",
      "metadata": {
        "id": "D97rWl-xKSZD"
      },
      "source": [
        "# **Librerias Usadas**"
      ]
    },
    {
      "cell_type": "code",
      "source": [
        "import matplotlib.pyplot as plt \n",
        "from matplotlib import pyplot as plt\n",
        "from matplotlib.pyplot import figure\n",
        "from matplotlib.colors import ListedColormap\n",
        "import seaborn as sns\n",
        "import statsmodels.api as sm\n",
        "import numpy as np\n",
        "import pandas as pd\n",
        "import pandas.util.testing as tm\n",
        "\n",
        "\n",
        "from scipy import stats\n",
        "from statsmodels.distributions.mixture_rvs import mixture_rvs\n",
        "import statsmodels.api as sm\n",
        "from numpy.random import normal\n",
        "\n",
        "\n",
        "from sklearn.neighbors import KNeighborsClassifier\n",
        "from sklearn.model_selection import train_test_split\n",
        "from sklearn.model_selection import GridSearchCV\n",
        "from sklearn.preprocessing import MinMaxScaler\n",
        "from sklearn.metrics import classification_report\n",
        "from sklearn.metrics import confusion_matrix\n",
        "\n",
        "\n",
        "from sklearn.utils import shuffle\n",
        "from sklearn import neighbors\n",
        "from sklearn.preprocessing import LabelEncoder\n",
        "from sklearn.preprocessing import StandardScaler\n",
        "from sklearn import metrics\n",
        "from scipy.stats import norm\n"
      ],
      "metadata": {
        "id": "lHqbUwG6Pbgs"
      },
      "execution_count": 273,
      "outputs": []
    },
    {
      "cell_type": "markdown",
      "source": [
        "# **Ejercicio 3.1**"
      ],
      "metadata": {
        "id": "Ht_GLFtuco2-"
      }
    },
    {
      "cell_type": "markdown",
      "source": [
        "Recordar el ej. 2.3. Supongamos que tenemos\n",
        "un dataset mezcla de dos grupos aleatorios bidimensionales\n",
        "(cada uno con 100 datos, su centroide y covariancia).\n",
        "\n",
        "Tip: reutilizar el código de la NB que vimos para outliers.\n",
        "Encontrar un clasificador por K-NN y evaluar exactitud,\n",
        "precisión, f-measure. \n",
        "\n",
        "Tomar inicialmente un dataset de entrenamiento de N=100 (50+50), k=10, y validar con el resto del dataset. Hacer algunos experimentos con otros N y k, y\n",
        "también cambiando centroide y covariancia de las clases.\n",
        "\n",
        "Optativo: Cambia mucho si el dataset tiene más dimensiones?"
      ],
      "metadata": {
        "id": "9-vpHYgxQNUt"
      }
    },
    {
      "cell_type": "markdown",
      "source": [
        "# **Generamos 2 Datasets (distribución Normal) - Considerando los valores asociados tales como : Media, Desviacion estandar y tamaño**"
      ],
      "metadata": {
        "id": "bTcf0qPX1ZRM"
      }
    },
    {
      "cell_type": "markdown",
      "source": [
        "# **Dataset A**"
      ],
      "metadata": {
        "id": "xKwfM7hudtRt"
      }
    },
    {
      "cell_type": "code",
      "source": [
        "# Dataset A -  Primer conjunto de datos de 2 dimensiones \n",
        "\n",
        "# Media = loc\n",
        "# Desvio estandar = scale\n",
        "# N = 100\n",
        "\n",
        "\n",
        "# Establecemos la semilla para el algoritmo generador de números pseudoaleatorios\n",
        "\n",
        "np.random.seed(1)\n",
        "\n",
        "\n",
        "\n",
        "dataset_A = pd.DataFrame({'Value 1': np.random.normal(loc=1, scale=1, size=(100,1)).flatten().tolist(),\n",
        "                          'Value 2': np.random.normal(loc=21, scale=0.5, size=(100,1)).flatten().tolist(),\n",
        "                          'Dataset': ['A' for i in range(100)]})\n",
        "\n"
      ],
      "metadata": {
        "id": "6jRGIlrvVDPv"
      },
      "execution_count": 274,
      "outputs": []
    },
    {
      "cell_type": "code",
      "source": [
        "dataset_A[0:10] #  Mostramos los datos generados"
      ],
      "metadata": {
        "colab": {
          "base_uri": "https://localhost:8080/",
          "height": 363
        },
        "id": "_tbih69iXveU",
        "outputId": "1133c5f4-f4ba-4e13-af82-b8bd0004d23b"
      },
      "execution_count": 275,
      "outputs": [
        {
          "output_type": "execute_result",
          "data": {
            "text/plain": [
              "    Value 1    Value 2 Dataset\n",
              "0  2.624345  20.776436       A\n",
              "1  0.388244  21.612254       A\n",
              "2  0.471828  21.201746       A\n",
              "3 -0.072969  21.296789       A\n",
              "4  1.865408  20.452544       A\n",
              "5 -1.301539  21.084691       A\n",
              "6  2.744812  21.370278       A\n",
              "7  0.238793  20.523150       A\n",
              "8  1.319039  20.866891       A\n",
              "9  0.750630  21.016307       A"
            ],
            "text/html": [
              "\n",
              "  <div id=\"df-7d4dc672-c214-4803-8951-4692e8616ca7\">\n",
              "    <div class=\"colab-df-container\">\n",
              "      <div>\n",
              "<style scoped>\n",
              "    .dataframe tbody tr th:only-of-type {\n",
              "        vertical-align: middle;\n",
              "    }\n",
              "\n",
              "    .dataframe tbody tr th {\n",
              "        vertical-align: top;\n",
              "    }\n",
              "\n",
              "    .dataframe thead th {\n",
              "        text-align: right;\n",
              "    }\n",
              "</style>\n",
              "<table border=\"1\" class=\"dataframe\">\n",
              "  <thead>\n",
              "    <tr style=\"text-align: right;\">\n",
              "      <th></th>\n",
              "      <th>Value 1</th>\n",
              "      <th>Value 2</th>\n",
              "      <th>Dataset</th>\n",
              "    </tr>\n",
              "  </thead>\n",
              "  <tbody>\n",
              "    <tr>\n",
              "      <th>0</th>\n",
              "      <td>2.624345</td>\n",
              "      <td>20.776436</td>\n",
              "      <td>A</td>\n",
              "    </tr>\n",
              "    <tr>\n",
              "      <th>1</th>\n",
              "      <td>0.388244</td>\n",
              "      <td>21.612254</td>\n",
              "      <td>A</td>\n",
              "    </tr>\n",
              "    <tr>\n",
              "      <th>2</th>\n",
              "      <td>0.471828</td>\n",
              "      <td>21.201746</td>\n",
              "      <td>A</td>\n",
              "    </tr>\n",
              "    <tr>\n",
              "      <th>3</th>\n",
              "      <td>-0.072969</td>\n",
              "      <td>21.296789</td>\n",
              "      <td>A</td>\n",
              "    </tr>\n",
              "    <tr>\n",
              "      <th>4</th>\n",
              "      <td>1.865408</td>\n",
              "      <td>20.452544</td>\n",
              "      <td>A</td>\n",
              "    </tr>\n",
              "    <tr>\n",
              "      <th>5</th>\n",
              "      <td>-1.301539</td>\n",
              "      <td>21.084691</td>\n",
              "      <td>A</td>\n",
              "    </tr>\n",
              "    <tr>\n",
              "      <th>6</th>\n",
              "      <td>2.744812</td>\n",
              "      <td>21.370278</td>\n",
              "      <td>A</td>\n",
              "    </tr>\n",
              "    <tr>\n",
              "      <th>7</th>\n",
              "      <td>0.238793</td>\n",
              "      <td>20.523150</td>\n",
              "      <td>A</td>\n",
              "    </tr>\n",
              "    <tr>\n",
              "      <th>8</th>\n",
              "      <td>1.319039</td>\n",
              "      <td>20.866891</td>\n",
              "      <td>A</td>\n",
              "    </tr>\n",
              "    <tr>\n",
              "      <th>9</th>\n",
              "      <td>0.750630</td>\n",
              "      <td>21.016307</td>\n",
              "      <td>A</td>\n",
              "    </tr>\n",
              "  </tbody>\n",
              "</table>\n",
              "</div>\n",
              "      <button class=\"colab-df-convert\" onclick=\"convertToInteractive('df-7d4dc672-c214-4803-8951-4692e8616ca7')\"\n",
              "              title=\"Convert this dataframe to an interactive table.\"\n",
              "              style=\"display:none;\">\n",
              "        \n",
              "  <svg xmlns=\"http://www.w3.org/2000/svg\" height=\"24px\"viewBox=\"0 0 24 24\"\n",
              "       width=\"24px\">\n",
              "    <path d=\"M0 0h24v24H0V0z\" fill=\"none\"/>\n",
              "    <path d=\"M18.56 5.44l.94 2.06.94-2.06 2.06-.94-2.06-.94-.94-2.06-.94 2.06-2.06.94zm-11 1L8.5 8.5l.94-2.06 2.06-.94-2.06-.94L8.5 2.5l-.94 2.06-2.06.94zm10 10l.94 2.06.94-2.06 2.06-.94-2.06-.94-.94-2.06-.94 2.06-2.06.94z\"/><path d=\"M17.41 7.96l-1.37-1.37c-.4-.4-.92-.59-1.43-.59-.52 0-1.04.2-1.43.59L10.3 9.45l-7.72 7.72c-.78.78-.78 2.05 0 2.83L4 21.41c.39.39.9.59 1.41.59.51 0 1.02-.2 1.41-.59l7.78-7.78 2.81-2.81c.8-.78.8-2.07 0-2.86zM5.41 20L4 18.59l7.72-7.72 1.47 1.35L5.41 20z\"/>\n",
              "  </svg>\n",
              "      </button>\n",
              "      \n",
              "  <style>\n",
              "    .colab-df-container {\n",
              "      display:flex;\n",
              "      flex-wrap:wrap;\n",
              "      gap: 12px;\n",
              "    }\n",
              "\n",
              "    .colab-df-convert {\n",
              "      background-color: #E8F0FE;\n",
              "      border: none;\n",
              "      border-radius: 50%;\n",
              "      cursor: pointer;\n",
              "      display: none;\n",
              "      fill: #1967D2;\n",
              "      height: 32px;\n",
              "      padding: 0 0 0 0;\n",
              "      width: 32px;\n",
              "    }\n",
              "\n",
              "    .colab-df-convert:hover {\n",
              "      background-color: #E2EBFA;\n",
              "      box-shadow: 0px 1px 2px rgba(60, 64, 67, 0.3), 0px 1px 3px 1px rgba(60, 64, 67, 0.15);\n",
              "      fill: #174EA6;\n",
              "    }\n",
              "\n",
              "    [theme=dark] .colab-df-convert {\n",
              "      background-color: #3B4455;\n",
              "      fill: #D2E3FC;\n",
              "    }\n",
              "\n",
              "    [theme=dark] .colab-df-convert:hover {\n",
              "      background-color: #434B5C;\n",
              "      box-shadow: 0px 1px 3px 1px rgba(0, 0, 0, 0.15);\n",
              "      filter: drop-shadow(0px 1px 2px rgba(0, 0, 0, 0.3));\n",
              "      fill: #FFFFFF;\n",
              "    }\n",
              "  </style>\n",
              "\n",
              "      <script>\n",
              "        const buttonEl =\n",
              "          document.querySelector('#df-7d4dc672-c214-4803-8951-4692e8616ca7 button.colab-df-convert');\n",
              "        buttonEl.style.display =\n",
              "          google.colab.kernel.accessAllowed ? 'block' : 'none';\n",
              "\n",
              "        async function convertToInteractive(key) {\n",
              "          const element = document.querySelector('#df-7d4dc672-c214-4803-8951-4692e8616ca7');\n",
              "          const dataTable =\n",
              "            await google.colab.kernel.invokeFunction('convertToInteractive',\n",
              "                                                     [key], {});\n",
              "          if (!dataTable) return;\n",
              "\n",
              "          const docLinkHtml = 'Like what you see? Visit the ' +\n",
              "            '<a target=\"_blank\" href=https://colab.research.google.com/notebooks/data_table.ipynb>data table notebook</a>'\n",
              "            + ' to learn more about interactive tables.';\n",
              "          element.innerHTML = '';\n",
              "          dataTable['output_type'] = 'display_data';\n",
              "          await google.colab.output.renderOutput(dataTable, element);\n",
              "          const docLink = document.createElement('div');\n",
              "          docLink.innerHTML = docLinkHtml;\n",
              "          element.appendChild(docLink);\n",
              "        }\n",
              "      </script>\n",
              "    </div>\n",
              "  </div>\n",
              "  "
            ]
          },
          "metadata": {},
          "execution_count": 275
        }
      ]
    },
    {
      "cell_type": "markdown",
      "source": [
        "# **Párametros Estadísticos - Dataset A**"
      ],
      "metadata": {
        "id": "GKeqUGGwrNfi"
      }
    },
    {
      "cell_type": "code",
      "source": [
        "dataset_A.describe()"
      ],
      "metadata": {
        "colab": {
          "base_uri": "https://localhost:8080/",
          "height": 300
        },
        "id": "ov6mhSjurcGY",
        "outputId": "ed4a5095-1569-4864-d35e-52aa556c978f"
      },
      "execution_count": 276,
      "outputs": [
        {
          "output_type": "execute_result",
          "data": {
            "text/plain": [
              "          Value 1     Value 2\n",
              "count  100.000000  100.000000\n",
              "mean     1.060583   21.076397\n",
              "std      0.889615    0.468345\n",
              "min     -1.301539   19.782581\n",
              "25%      0.386182   20.849995\n",
              "50%      1.064074   21.118308\n",
              "75%      1.637410   21.371510\n",
              "max      3.185575   22.264163"
            ],
            "text/html": [
              "\n",
              "  <div id=\"df-240df36f-1aed-4745-a2c5-009b8d4b5f2e\">\n",
              "    <div class=\"colab-df-container\">\n",
              "      <div>\n",
              "<style scoped>\n",
              "    .dataframe tbody tr th:only-of-type {\n",
              "        vertical-align: middle;\n",
              "    }\n",
              "\n",
              "    .dataframe tbody tr th {\n",
              "        vertical-align: top;\n",
              "    }\n",
              "\n",
              "    .dataframe thead th {\n",
              "        text-align: right;\n",
              "    }\n",
              "</style>\n",
              "<table border=\"1\" class=\"dataframe\">\n",
              "  <thead>\n",
              "    <tr style=\"text-align: right;\">\n",
              "      <th></th>\n",
              "      <th>Value 1</th>\n",
              "      <th>Value 2</th>\n",
              "    </tr>\n",
              "  </thead>\n",
              "  <tbody>\n",
              "    <tr>\n",
              "      <th>count</th>\n",
              "      <td>100.000000</td>\n",
              "      <td>100.000000</td>\n",
              "    </tr>\n",
              "    <tr>\n",
              "      <th>mean</th>\n",
              "      <td>1.060583</td>\n",
              "      <td>21.076397</td>\n",
              "    </tr>\n",
              "    <tr>\n",
              "      <th>std</th>\n",
              "      <td>0.889615</td>\n",
              "      <td>0.468345</td>\n",
              "    </tr>\n",
              "    <tr>\n",
              "      <th>min</th>\n",
              "      <td>-1.301539</td>\n",
              "      <td>19.782581</td>\n",
              "    </tr>\n",
              "    <tr>\n",
              "      <th>25%</th>\n",
              "      <td>0.386182</td>\n",
              "      <td>20.849995</td>\n",
              "    </tr>\n",
              "    <tr>\n",
              "      <th>50%</th>\n",
              "      <td>1.064074</td>\n",
              "      <td>21.118308</td>\n",
              "    </tr>\n",
              "    <tr>\n",
              "      <th>75%</th>\n",
              "      <td>1.637410</td>\n",
              "      <td>21.371510</td>\n",
              "    </tr>\n",
              "    <tr>\n",
              "      <th>max</th>\n",
              "      <td>3.185575</td>\n",
              "      <td>22.264163</td>\n",
              "    </tr>\n",
              "  </tbody>\n",
              "</table>\n",
              "</div>\n",
              "      <button class=\"colab-df-convert\" onclick=\"convertToInteractive('df-240df36f-1aed-4745-a2c5-009b8d4b5f2e')\"\n",
              "              title=\"Convert this dataframe to an interactive table.\"\n",
              "              style=\"display:none;\">\n",
              "        \n",
              "  <svg xmlns=\"http://www.w3.org/2000/svg\" height=\"24px\"viewBox=\"0 0 24 24\"\n",
              "       width=\"24px\">\n",
              "    <path d=\"M0 0h24v24H0V0z\" fill=\"none\"/>\n",
              "    <path d=\"M18.56 5.44l.94 2.06.94-2.06 2.06-.94-2.06-.94-.94-2.06-.94 2.06-2.06.94zm-11 1L8.5 8.5l.94-2.06 2.06-.94-2.06-.94L8.5 2.5l-.94 2.06-2.06.94zm10 10l.94 2.06.94-2.06 2.06-.94-2.06-.94-.94-2.06-.94 2.06-2.06.94z\"/><path d=\"M17.41 7.96l-1.37-1.37c-.4-.4-.92-.59-1.43-.59-.52 0-1.04.2-1.43.59L10.3 9.45l-7.72 7.72c-.78.78-.78 2.05 0 2.83L4 21.41c.39.39.9.59 1.41.59.51 0 1.02-.2 1.41-.59l7.78-7.78 2.81-2.81c.8-.78.8-2.07 0-2.86zM5.41 20L4 18.59l7.72-7.72 1.47 1.35L5.41 20z\"/>\n",
              "  </svg>\n",
              "      </button>\n",
              "      \n",
              "  <style>\n",
              "    .colab-df-container {\n",
              "      display:flex;\n",
              "      flex-wrap:wrap;\n",
              "      gap: 12px;\n",
              "    }\n",
              "\n",
              "    .colab-df-convert {\n",
              "      background-color: #E8F0FE;\n",
              "      border: none;\n",
              "      border-radius: 50%;\n",
              "      cursor: pointer;\n",
              "      display: none;\n",
              "      fill: #1967D2;\n",
              "      height: 32px;\n",
              "      padding: 0 0 0 0;\n",
              "      width: 32px;\n",
              "    }\n",
              "\n",
              "    .colab-df-convert:hover {\n",
              "      background-color: #E2EBFA;\n",
              "      box-shadow: 0px 1px 2px rgba(60, 64, 67, 0.3), 0px 1px 3px 1px rgba(60, 64, 67, 0.15);\n",
              "      fill: #174EA6;\n",
              "    }\n",
              "\n",
              "    [theme=dark] .colab-df-convert {\n",
              "      background-color: #3B4455;\n",
              "      fill: #D2E3FC;\n",
              "    }\n",
              "\n",
              "    [theme=dark] .colab-df-convert:hover {\n",
              "      background-color: #434B5C;\n",
              "      box-shadow: 0px 1px 3px 1px rgba(0, 0, 0, 0.15);\n",
              "      filter: drop-shadow(0px 1px 2px rgba(0, 0, 0, 0.3));\n",
              "      fill: #FFFFFF;\n",
              "    }\n",
              "  </style>\n",
              "\n",
              "      <script>\n",
              "        const buttonEl =\n",
              "          document.querySelector('#df-240df36f-1aed-4745-a2c5-009b8d4b5f2e button.colab-df-convert');\n",
              "        buttonEl.style.display =\n",
              "          google.colab.kernel.accessAllowed ? 'block' : 'none';\n",
              "\n",
              "        async function convertToInteractive(key) {\n",
              "          const element = document.querySelector('#df-240df36f-1aed-4745-a2c5-009b8d4b5f2e');\n",
              "          const dataTable =\n",
              "            await google.colab.kernel.invokeFunction('convertToInteractive',\n",
              "                                                     [key], {});\n",
              "          if (!dataTable) return;\n",
              "\n",
              "          const docLinkHtml = 'Like what you see? Visit the ' +\n",
              "            '<a target=\"_blank\" href=https://colab.research.google.com/notebooks/data_table.ipynb>data table notebook</a>'\n",
              "            + ' to learn more about interactive tables.';\n",
              "          element.innerHTML = '';\n",
              "          dataTable['output_type'] = 'display_data';\n",
              "          await google.colab.output.renderOutput(dataTable, element);\n",
              "          const docLink = document.createElement('div');\n",
              "          docLink.innerHTML = docLinkHtml;\n",
              "          element.appendChild(docLink);\n",
              "        }\n",
              "      </script>\n",
              "    </div>\n",
              "  </div>\n",
              "  "
            ]
          },
          "metadata": {},
          "execution_count": 276
        }
      ]
    },
    {
      "cell_type": "markdown",
      "source": [
        "# **Dataset B**"
      ],
      "metadata": {
        "id": "7Qu1VK8pntFi"
      }
    },
    {
      "cell_type": "code",
      "source": [
        "# Dataset B -  Segundo conjunto de datos de 2 dimensiones \n",
        "\n",
        "# Media = loc\n",
        "# Desvio estandar = scale\n",
        "# N = 100\n",
        "\n",
        "\n",
        "# Establecemos la semilla para el algoritmo generador de números pseudoaleatorios\n",
        "\n",
        "np.random.seed(1)\n",
        "\n",
        "\n",
        "\n",
        "dataset_B = pd.DataFrame({'Value 1': np.random.normal(loc=2, scale=0.5, size=(100,1)).flatten().tolist(),\n",
        "                          'Value 2': np.random.normal(loc=19, scale=1, size=(100,1)).flatten().tolist(),\n",
        "                          'Dataset': ['B' for i in range(100)]})"
      ],
      "metadata": {
        "id": "WMaeDjXAZP6U"
      },
      "execution_count": 277,
      "outputs": []
    },
    {
      "cell_type": "code",
      "source": [
        "dataset_B [0:10] #  Mostramos los datos generados"
      ],
      "metadata": {
        "colab": {
          "base_uri": "https://localhost:8080/",
          "height": 363
        },
        "id": "J1bfRcD5qV8d",
        "outputId": "87c5c7f0-e79f-417c-d136-70156d2f1ac8"
      },
      "execution_count": 278,
      "outputs": [
        {
          "output_type": "execute_result",
          "data": {
            "text/plain": [
              "    Value 1    Value 2 Dataset\n",
              "0  2.812173  18.552871       B\n",
              "1  1.694122  20.224508       B\n",
              "2  1.735914  19.403492       B\n",
              "3  1.463516  19.593579       B\n",
              "4  2.432704  17.905088       B\n",
              "5  0.849231  19.169382       B\n",
              "6  2.872406  19.740556       B\n",
              "7  1.619397  18.046299       B\n",
              "8  2.159520  18.733781       B\n",
              "9  1.875315  19.032615       B"
            ],
            "text/html": [
              "\n",
              "  <div id=\"df-24212974-14c0-42e1-99a6-81e15dc7f438\">\n",
              "    <div class=\"colab-df-container\">\n",
              "      <div>\n",
              "<style scoped>\n",
              "    .dataframe tbody tr th:only-of-type {\n",
              "        vertical-align: middle;\n",
              "    }\n",
              "\n",
              "    .dataframe tbody tr th {\n",
              "        vertical-align: top;\n",
              "    }\n",
              "\n",
              "    .dataframe thead th {\n",
              "        text-align: right;\n",
              "    }\n",
              "</style>\n",
              "<table border=\"1\" class=\"dataframe\">\n",
              "  <thead>\n",
              "    <tr style=\"text-align: right;\">\n",
              "      <th></th>\n",
              "      <th>Value 1</th>\n",
              "      <th>Value 2</th>\n",
              "      <th>Dataset</th>\n",
              "    </tr>\n",
              "  </thead>\n",
              "  <tbody>\n",
              "    <tr>\n",
              "      <th>0</th>\n",
              "      <td>2.812173</td>\n",
              "      <td>18.552871</td>\n",
              "      <td>B</td>\n",
              "    </tr>\n",
              "    <tr>\n",
              "      <th>1</th>\n",
              "      <td>1.694122</td>\n",
              "      <td>20.224508</td>\n",
              "      <td>B</td>\n",
              "    </tr>\n",
              "    <tr>\n",
              "      <th>2</th>\n",
              "      <td>1.735914</td>\n",
              "      <td>19.403492</td>\n",
              "      <td>B</td>\n",
              "    </tr>\n",
              "    <tr>\n",
              "      <th>3</th>\n",
              "      <td>1.463516</td>\n",
              "      <td>19.593579</td>\n",
              "      <td>B</td>\n",
              "    </tr>\n",
              "    <tr>\n",
              "      <th>4</th>\n",
              "      <td>2.432704</td>\n",
              "      <td>17.905088</td>\n",
              "      <td>B</td>\n",
              "    </tr>\n",
              "    <tr>\n",
              "      <th>5</th>\n",
              "      <td>0.849231</td>\n",
              "      <td>19.169382</td>\n",
              "      <td>B</td>\n",
              "    </tr>\n",
              "    <tr>\n",
              "      <th>6</th>\n",
              "      <td>2.872406</td>\n",
              "      <td>19.740556</td>\n",
              "      <td>B</td>\n",
              "    </tr>\n",
              "    <tr>\n",
              "      <th>7</th>\n",
              "      <td>1.619397</td>\n",
              "      <td>18.046299</td>\n",
              "      <td>B</td>\n",
              "    </tr>\n",
              "    <tr>\n",
              "      <th>8</th>\n",
              "      <td>2.159520</td>\n",
              "      <td>18.733781</td>\n",
              "      <td>B</td>\n",
              "    </tr>\n",
              "    <tr>\n",
              "      <th>9</th>\n",
              "      <td>1.875315</td>\n",
              "      <td>19.032615</td>\n",
              "      <td>B</td>\n",
              "    </tr>\n",
              "  </tbody>\n",
              "</table>\n",
              "</div>\n",
              "      <button class=\"colab-df-convert\" onclick=\"convertToInteractive('df-24212974-14c0-42e1-99a6-81e15dc7f438')\"\n",
              "              title=\"Convert this dataframe to an interactive table.\"\n",
              "              style=\"display:none;\">\n",
              "        \n",
              "  <svg xmlns=\"http://www.w3.org/2000/svg\" height=\"24px\"viewBox=\"0 0 24 24\"\n",
              "       width=\"24px\">\n",
              "    <path d=\"M0 0h24v24H0V0z\" fill=\"none\"/>\n",
              "    <path d=\"M18.56 5.44l.94 2.06.94-2.06 2.06-.94-2.06-.94-.94-2.06-.94 2.06-2.06.94zm-11 1L8.5 8.5l.94-2.06 2.06-.94-2.06-.94L8.5 2.5l-.94 2.06-2.06.94zm10 10l.94 2.06.94-2.06 2.06-.94-2.06-.94-.94-2.06-.94 2.06-2.06.94z\"/><path d=\"M17.41 7.96l-1.37-1.37c-.4-.4-.92-.59-1.43-.59-.52 0-1.04.2-1.43.59L10.3 9.45l-7.72 7.72c-.78.78-.78 2.05 0 2.83L4 21.41c.39.39.9.59 1.41.59.51 0 1.02-.2 1.41-.59l7.78-7.78 2.81-2.81c.8-.78.8-2.07 0-2.86zM5.41 20L4 18.59l7.72-7.72 1.47 1.35L5.41 20z\"/>\n",
              "  </svg>\n",
              "      </button>\n",
              "      \n",
              "  <style>\n",
              "    .colab-df-container {\n",
              "      display:flex;\n",
              "      flex-wrap:wrap;\n",
              "      gap: 12px;\n",
              "    }\n",
              "\n",
              "    .colab-df-convert {\n",
              "      background-color: #E8F0FE;\n",
              "      border: none;\n",
              "      border-radius: 50%;\n",
              "      cursor: pointer;\n",
              "      display: none;\n",
              "      fill: #1967D2;\n",
              "      height: 32px;\n",
              "      padding: 0 0 0 0;\n",
              "      width: 32px;\n",
              "    }\n",
              "\n",
              "    .colab-df-convert:hover {\n",
              "      background-color: #E2EBFA;\n",
              "      box-shadow: 0px 1px 2px rgba(60, 64, 67, 0.3), 0px 1px 3px 1px rgba(60, 64, 67, 0.15);\n",
              "      fill: #174EA6;\n",
              "    }\n",
              "\n",
              "    [theme=dark] .colab-df-convert {\n",
              "      background-color: #3B4455;\n",
              "      fill: #D2E3FC;\n",
              "    }\n",
              "\n",
              "    [theme=dark] .colab-df-convert:hover {\n",
              "      background-color: #434B5C;\n",
              "      box-shadow: 0px 1px 3px 1px rgba(0, 0, 0, 0.15);\n",
              "      filter: drop-shadow(0px 1px 2px rgba(0, 0, 0, 0.3));\n",
              "      fill: #FFFFFF;\n",
              "    }\n",
              "  </style>\n",
              "\n",
              "      <script>\n",
              "        const buttonEl =\n",
              "          document.querySelector('#df-24212974-14c0-42e1-99a6-81e15dc7f438 button.colab-df-convert');\n",
              "        buttonEl.style.display =\n",
              "          google.colab.kernel.accessAllowed ? 'block' : 'none';\n",
              "\n",
              "        async function convertToInteractive(key) {\n",
              "          const element = document.querySelector('#df-24212974-14c0-42e1-99a6-81e15dc7f438');\n",
              "          const dataTable =\n",
              "            await google.colab.kernel.invokeFunction('convertToInteractive',\n",
              "                                                     [key], {});\n",
              "          if (!dataTable) return;\n",
              "\n",
              "          const docLinkHtml = 'Like what you see? Visit the ' +\n",
              "            '<a target=\"_blank\" href=https://colab.research.google.com/notebooks/data_table.ipynb>data table notebook</a>'\n",
              "            + ' to learn more about interactive tables.';\n",
              "          element.innerHTML = '';\n",
              "          dataTable['output_type'] = 'display_data';\n",
              "          await google.colab.output.renderOutput(dataTable, element);\n",
              "          const docLink = document.createElement('div');\n",
              "          docLink.innerHTML = docLinkHtml;\n",
              "          element.appendChild(docLink);\n",
              "        }\n",
              "      </script>\n",
              "    </div>\n",
              "  </div>\n",
              "  "
            ]
          },
          "metadata": {},
          "execution_count": 278
        }
      ]
    },
    {
      "cell_type": "markdown",
      "source": [
        "# **Párametros Estadísticos - Dataset B**"
      ],
      "metadata": {
        "id": "DCnRycPHrnDQ"
      }
    },
    {
      "cell_type": "code",
      "source": [
        "dataset_B.describe()"
      ],
      "metadata": {
        "colab": {
          "base_uri": "https://localhost:8080/",
          "height": 300
        },
        "id": "a2HD32u3rtHh",
        "outputId": "459c7ce9-e314-45da-fd4f-79057c7a87ec"
      },
      "execution_count": 279,
      "outputs": [
        {
          "output_type": "execute_result",
          "data": {
            "text/plain": [
              "          Value 1     Value 2\n",
              "count  100.000000  100.000000\n",
              "mean     2.030291   19.152795\n",
              "std      0.444808    0.936690\n",
              "min      0.849231   16.565162\n",
              "25%      1.693091   18.699990\n",
              "50%      2.032037   19.236616\n",
              "75%      2.318705   19.743020\n",
              "max      3.092788   21.528326"
            ],
            "text/html": [
              "\n",
              "  <div id=\"df-ea2b6165-bbea-4a20-80a6-85b101e1cb7c\">\n",
              "    <div class=\"colab-df-container\">\n",
              "      <div>\n",
              "<style scoped>\n",
              "    .dataframe tbody tr th:only-of-type {\n",
              "        vertical-align: middle;\n",
              "    }\n",
              "\n",
              "    .dataframe tbody tr th {\n",
              "        vertical-align: top;\n",
              "    }\n",
              "\n",
              "    .dataframe thead th {\n",
              "        text-align: right;\n",
              "    }\n",
              "</style>\n",
              "<table border=\"1\" class=\"dataframe\">\n",
              "  <thead>\n",
              "    <tr style=\"text-align: right;\">\n",
              "      <th></th>\n",
              "      <th>Value 1</th>\n",
              "      <th>Value 2</th>\n",
              "    </tr>\n",
              "  </thead>\n",
              "  <tbody>\n",
              "    <tr>\n",
              "      <th>count</th>\n",
              "      <td>100.000000</td>\n",
              "      <td>100.000000</td>\n",
              "    </tr>\n",
              "    <tr>\n",
              "      <th>mean</th>\n",
              "      <td>2.030291</td>\n",
              "      <td>19.152795</td>\n",
              "    </tr>\n",
              "    <tr>\n",
              "      <th>std</th>\n",
              "      <td>0.444808</td>\n",
              "      <td>0.936690</td>\n",
              "    </tr>\n",
              "    <tr>\n",
              "      <th>min</th>\n",
              "      <td>0.849231</td>\n",
              "      <td>16.565162</td>\n",
              "    </tr>\n",
              "    <tr>\n",
              "      <th>25%</th>\n",
              "      <td>1.693091</td>\n",
              "      <td>18.699990</td>\n",
              "    </tr>\n",
              "    <tr>\n",
              "      <th>50%</th>\n",
              "      <td>2.032037</td>\n",
              "      <td>19.236616</td>\n",
              "    </tr>\n",
              "    <tr>\n",
              "      <th>75%</th>\n",
              "      <td>2.318705</td>\n",
              "      <td>19.743020</td>\n",
              "    </tr>\n",
              "    <tr>\n",
              "      <th>max</th>\n",
              "      <td>3.092788</td>\n",
              "      <td>21.528326</td>\n",
              "    </tr>\n",
              "  </tbody>\n",
              "</table>\n",
              "</div>\n",
              "      <button class=\"colab-df-convert\" onclick=\"convertToInteractive('df-ea2b6165-bbea-4a20-80a6-85b101e1cb7c')\"\n",
              "              title=\"Convert this dataframe to an interactive table.\"\n",
              "              style=\"display:none;\">\n",
              "        \n",
              "  <svg xmlns=\"http://www.w3.org/2000/svg\" height=\"24px\"viewBox=\"0 0 24 24\"\n",
              "       width=\"24px\">\n",
              "    <path d=\"M0 0h24v24H0V0z\" fill=\"none\"/>\n",
              "    <path d=\"M18.56 5.44l.94 2.06.94-2.06 2.06-.94-2.06-.94-.94-2.06-.94 2.06-2.06.94zm-11 1L8.5 8.5l.94-2.06 2.06-.94-2.06-.94L8.5 2.5l-.94 2.06-2.06.94zm10 10l.94 2.06.94-2.06 2.06-.94-2.06-.94-.94-2.06-.94 2.06-2.06.94z\"/><path d=\"M17.41 7.96l-1.37-1.37c-.4-.4-.92-.59-1.43-.59-.52 0-1.04.2-1.43.59L10.3 9.45l-7.72 7.72c-.78.78-.78 2.05 0 2.83L4 21.41c.39.39.9.59 1.41.59.51 0 1.02-.2 1.41-.59l7.78-7.78 2.81-2.81c.8-.78.8-2.07 0-2.86zM5.41 20L4 18.59l7.72-7.72 1.47 1.35L5.41 20z\"/>\n",
              "  </svg>\n",
              "      </button>\n",
              "      \n",
              "  <style>\n",
              "    .colab-df-container {\n",
              "      display:flex;\n",
              "      flex-wrap:wrap;\n",
              "      gap: 12px;\n",
              "    }\n",
              "\n",
              "    .colab-df-convert {\n",
              "      background-color: #E8F0FE;\n",
              "      border: none;\n",
              "      border-radius: 50%;\n",
              "      cursor: pointer;\n",
              "      display: none;\n",
              "      fill: #1967D2;\n",
              "      height: 32px;\n",
              "      padding: 0 0 0 0;\n",
              "      width: 32px;\n",
              "    }\n",
              "\n",
              "    .colab-df-convert:hover {\n",
              "      background-color: #E2EBFA;\n",
              "      box-shadow: 0px 1px 2px rgba(60, 64, 67, 0.3), 0px 1px 3px 1px rgba(60, 64, 67, 0.15);\n",
              "      fill: #174EA6;\n",
              "    }\n",
              "\n",
              "    [theme=dark] .colab-df-convert {\n",
              "      background-color: #3B4455;\n",
              "      fill: #D2E3FC;\n",
              "    }\n",
              "\n",
              "    [theme=dark] .colab-df-convert:hover {\n",
              "      background-color: #434B5C;\n",
              "      box-shadow: 0px 1px 3px 1px rgba(0, 0, 0, 0.15);\n",
              "      filter: drop-shadow(0px 1px 2px rgba(0, 0, 0, 0.3));\n",
              "      fill: #FFFFFF;\n",
              "    }\n",
              "  </style>\n",
              "\n",
              "      <script>\n",
              "        const buttonEl =\n",
              "          document.querySelector('#df-ea2b6165-bbea-4a20-80a6-85b101e1cb7c button.colab-df-convert');\n",
              "        buttonEl.style.display =\n",
              "          google.colab.kernel.accessAllowed ? 'block' : 'none';\n",
              "\n",
              "        async function convertToInteractive(key) {\n",
              "          const element = document.querySelector('#df-ea2b6165-bbea-4a20-80a6-85b101e1cb7c');\n",
              "          const dataTable =\n",
              "            await google.colab.kernel.invokeFunction('convertToInteractive',\n",
              "                                                     [key], {});\n",
              "          if (!dataTable) return;\n",
              "\n",
              "          const docLinkHtml = 'Like what you see? Visit the ' +\n",
              "            '<a target=\"_blank\" href=https://colab.research.google.com/notebooks/data_table.ipynb>data table notebook</a>'\n",
              "            + ' to learn more about interactive tables.';\n",
              "          element.innerHTML = '';\n",
              "          dataTable['output_type'] = 'display_data';\n",
              "          await google.colab.output.renderOutput(dataTable, element);\n",
              "          const docLink = document.createElement('div');\n",
              "          docLink.innerHTML = docLinkHtml;\n",
              "          element.appendChild(docLink);\n",
              "        }\n",
              "      </script>\n",
              "    </div>\n",
              "  </div>\n",
              "  "
            ]
          },
          "metadata": {},
          "execution_count": 279
        }
      ]
    },
    {
      "cell_type": "markdown",
      "source": [
        "# **Comportamiento del Modelo**\n",
        "\n",
        "## **Consideramos --   50% Train / 50% Test** \n",
        "\n",
        "\n",
        "Se analiza el comportamiento del modelo, para distintos K, tomando un 50% del dataset para entrenamiento y 50% para prueba."
      ],
      "metadata": {
        "id": "JMIpQBy7qnGZ"
      }
    },
    {
      "cell_type": "markdown",
      "source": [
        "### **Usamos Merge (Pandas) para unir los datasets y ordenarlos en funcion de los valores de la columna**"
      ],
      "metadata": {
        "id": "2qWw8G22zoy1"
      }
    },
    {
      "cell_type": "code",
      "source": [
        "def dataset_union(A, B):\n",
        "\n",
        "    dataset = pd.merge(A, B, how='outer')\n",
        "    dataset = dataset.sample(frac=1).reset_index(drop=True)\n",
        "\n",
        "    return dataset "
      ],
      "metadata": {
        "id": "y887_U2Mqm1A"
      },
      "execution_count": 280,
      "outputs": []
    },
    {
      "cell_type": "markdown",
      "source": [
        "# **Dataset - Entrenamiento (Train)**"
      ],
      "metadata": {
        "id": "xiLStP5P4gWX"
      }
    },
    {
      "cell_type": "code",
      "source": [
        "dataset_train = dataset_union(dataset_A[0:50], dataset_B[0:50])\n",
        "\n",
        "dataset_train[0:10] #  Mostramos algunos datos como resultado \n",
        "\n",
        "# dataset_train"
      ],
      "metadata": {
        "colab": {
          "base_uri": "https://localhost:8080/",
          "height": 363
        },
        "id": "vib3WPbeqmyC",
        "outputId": "6eda93ed-dddf-4901-e1e6-c5c777dcc774"
      },
      "execution_count": 281,
      "outputs": [
        {
          "output_type": "execute_result",
          "data": {
            "text/plain": [
              "    Value 1    Value 2 Dataset\n",
              "0  0.388244  21.612254       A\n",
              "1  1.626421  19.868886       B\n",
              "2  2.021107  20.121418       B\n",
              "3  1.450054  17.687717       B\n",
              "4  1.664377  19.792807       B\n",
              "5  1.561071  17.384228       B\n",
              "6  2.432704  17.905088       B\n",
              "7  1.050808  21.264733       A\n",
              "8  0.750630  21.016307       A\n",
              "9  1.801623  18.396079       B"
            ],
            "text/html": [
              "\n",
              "  <div id=\"df-aeaae5da-0076-4d85-b95f-54f7e3479005\">\n",
              "    <div class=\"colab-df-container\">\n",
              "      <div>\n",
              "<style scoped>\n",
              "    .dataframe tbody tr th:only-of-type {\n",
              "        vertical-align: middle;\n",
              "    }\n",
              "\n",
              "    .dataframe tbody tr th {\n",
              "        vertical-align: top;\n",
              "    }\n",
              "\n",
              "    .dataframe thead th {\n",
              "        text-align: right;\n",
              "    }\n",
              "</style>\n",
              "<table border=\"1\" class=\"dataframe\">\n",
              "  <thead>\n",
              "    <tr style=\"text-align: right;\">\n",
              "      <th></th>\n",
              "      <th>Value 1</th>\n",
              "      <th>Value 2</th>\n",
              "      <th>Dataset</th>\n",
              "    </tr>\n",
              "  </thead>\n",
              "  <tbody>\n",
              "    <tr>\n",
              "      <th>0</th>\n",
              "      <td>0.388244</td>\n",
              "      <td>21.612254</td>\n",
              "      <td>A</td>\n",
              "    </tr>\n",
              "    <tr>\n",
              "      <th>1</th>\n",
              "      <td>1.626421</td>\n",
              "      <td>19.868886</td>\n",
              "      <td>B</td>\n",
              "    </tr>\n",
              "    <tr>\n",
              "      <th>2</th>\n",
              "      <td>2.021107</td>\n",
              "      <td>20.121418</td>\n",
              "      <td>B</td>\n",
              "    </tr>\n",
              "    <tr>\n",
              "      <th>3</th>\n",
              "      <td>1.450054</td>\n",
              "      <td>17.687717</td>\n",
              "      <td>B</td>\n",
              "    </tr>\n",
              "    <tr>\n",
              "      <th>4</th>\n",
              "      <td>1.664377</td>\n",
              "      <td>19.792807</td>\n",
              "      <td>B</td>\n",
              "    </tr>\n",
              "    <tr>\n",
              "      <th>5</th>\n",
              "      <td>1.561071</td>\n",
              "      <td>17.384228</td>\n",
              "      <td>B</td>\n",
              "    </tr>\n",
              "    <tr>\n",
              "      <th>6</th>\n",
              "      <td>2.432704</td>\n",
              "      <td>17.905088</td>\n",
              "      <td>B</td>\n",
              "    </tr>\n",
              "    <tr>\n",
              "      <th>7</th>\n",
              "      <td>1.050808</td>\n",
              "      <td>21.264733</td>\n",
              "      <td>A</td>\n",
              "    </tr>\n",
              "    <tr>\n",
              "      <th>8</th>\n",
              "      <td>0.750630</td>\n",
              "      <td>21.016307</td>\n",
              "      <td>A</td>\n",
              "    </tr>\n",
              "    <tr>\n",
              "      <th>9</th>\n",
              "      <td>1.801623</td>\n",
              "      <td>18.396079</td>\n",
              "      <td>B</td>\n",
              "    </tr>\n",
              "  </tbody>\n",
              "</table>\n",
              "</div>\n",
              "      <button class=\"colab-df-convert\" onclick=\"convertToInteractive('df-aeaae5da-0076-4d85-b95f-54f7e3479005')\"\n",
              "              title=\"Convert this dataframe to an interactive table.\"\n",
              "              style=\"display:none;\">\n",
              "        \n",
              "  <svg xmlns=\"http://www.w3.org/2000/svg\" height=\"24px\"viewBox=\"0 0 24 24\"\n",
              "       width=\"24px\">\n",
              "    <path d=\"M0 0h24v24H0V0z\" fill=\"none\"/>\n",
              "    <path d=\"M18.56 5.44l.94 2.06.94-2.06 2.06-.94-2.06-.94-.94-2.06-.94 2.06-2.06.94zm-11 1L8.5 8.5l.94-2.06 2.06-.94-2.06-.94L8.5 2.5l-.94 2.06-2.06.94zm10 10l.94 2.06.94-2.06 2.06-.94-2.06-.94-.94-2.06-.94 2.06-2.06.94z\"/><path d=\"M17.41 7.96l-1.37-1.37c-.4-.4-.92-.59-1.43-.59-.52 0-1.04.2-1.43.59L10.3 9.45l-7.72 7.72c-.78.78-.78 2.05 0 2.83L4 21.41c.39.39.9.59 1.41.59.51 0 1.02-.2 1.41-.59l7.78-7.78 2.81-2.81c.8-.78.8-2.07 0-2.86zM5.41 20L4 18.59l7.72-7.72 1.47 1.35L5.41 20z\"/>\n",
              "  </svg>\n",
              "      </button>\n",
              "      \n",
              "  <style>\n",
              "    .colab-df-container {\n",
              "      display:flex;\n",
              "      flex-wrap:wrap;\n",
              "      gap: 12px;\n",
              "    }\n",
              "\n",
              "    .colab-df-convert {\n",
              "      background-color: #E8F0FE;\n",
              "      border: none;\n",
              "      border-radius: 50%;\n",
              "      cursor: pointer;\n",
              "      display: none;\n",
              "      fill: #1967D2;\n",
              "      height: 32px;\n",
              "      padding: 0 0 0 0;\n",
              "      width: 32px;\n",
              "    }\n",
              "\n",
              "    .colab-df-convert:hover {\n",
              "      background-color: #E2EBFA;\n",
              "      box-shadow: 0px 1px 2px rgba(60, 64, 67, 0.3), 0px 1px 3px 1px rgba(60, 64, 67, 0.15);\n",
              "      fill: #174EA6;\n",
              "    }\n",
              "\n",
              "    [theme=dark] .colab-df-convert {\n",
              "      background-color: #3B4455;\n",
              "      fill: #D2E3FC;\n",
              "    }\n",
              "\n",
              "    [theme=dark] .colab-df-convert:hover {\n",
              "      background-color: #434B5C;\n",
              "      box-shadow: 0px 1px 3px 1px rgba(0, 0, 0, 0.15);\n",
              "      filter: drop-shadow(0px 1px 2px rgba(0, 0, 0, 0.3));\n",
              "      fill: #FFFFFF;\n",
              "    }\n",
              "  </style>\n",
              "\n",
              "      <script>\n",
              "        const buttonEl =\n",
              "          document.querySelector('#df-aeaae5da-0076-4d85-b95f-54f7e3479005 button.colab-df-convert');\n",
              "        buttonEl.style.display =\n",
              "          google.colab.kernel.accessAllowed ? 'block' : 'none';\n",
              "\n",
              "        async function convertToInteractive(key) {\n",
              "          const element = document.querySelector('#df-aeaae5da-0076-4d85-b95f-54f7e3479005');\n",
              "          const dataTable =\n",
              "            await google.colab.kernel.invokeFunction('convertToInteractive',\n",
              "                                                     [key], {});\n",
              "          if (!dataTable) return;\n",
              "\n",
              "          const docLinkHtml = 'Like what you see? Visit the ' +\n",
              "            '<a target=\"_blank\" href=https://colab.research.google.com/notebooks/data_table.ipynb>data table notebook</a>'\n",
              "            + ' to learn more about interactive tables.';\n",
              "          element.innerHTML = '';\n",
              "          dataTable['output_type'] = 'display_data';\n",
              "          await google.colab.output.renderOutput(dataTable, element);\n",
              "          const docLink = document.createElement('div');\n",
              "          docLink.innerHTML = docLinkHtml;\n",
              "          element.appendChild(docLink);\n",
              "        }\n",
              "      </script>\n",
              "    </div>\n",
              "  </div>\n",
              "  "
            ]
          },
          "metadata": {},
          "execution_count": 281
        }
      ]
    },
    {
      "cell_type": "markdown",
      "source": [
        "# **Dataset - Test (Prueba)**"
      ],
      "metadata": {
        "id": "2WkfZlKs5i7a"
      }
    },
    {
      "cell_type": "code",
      "source": [
        "dataset_test = dataset_union(dataset_A[50:100], dataset_B[50:100])\n",
        "\n",
        "dataset_test[0:10] #  Mostramos algunos datos como resultado \n",
        "\n"
      ],
      "metadata": {
        "colab": {
          "base_uri": "https://localhost:8080/",
          "height": 363
        },
        "id": "cxVeeMLvqmvX",
        "outputId": "198fd17f-2f96-4819-c9b3-37752d859b5e"
      },
      "execution_count": 282,
      "outputs": [
        {
          "output_type": "execute_result",
          "data": {
            "text/plain": [
              "    Value 1    Value 2 Dataset\n",
              "0  1.423494  21.329525       A\n",
              "1 -1.022201  20.886843       A\n",
              "2  2.205026  20.293226       B\n",
              "3  1.680635  20.111057       B\n",
              "4  0.647750  19.782581       A\n",
              "5  1.077340  20.186281       A\n",
              "6  1.119009  20.691319       A\n",
              "7  0.924428  20.912648       A\n",
              "8  2.131629  21.493168       A\n",
              "9  1.825329  21.186980       B"
            ],
            "text/html": [
              "\n",
              "  <div id=\"df-b91e3032-7485-445f-b86d-7fb47e1dd6a7\">\n",
              "    <div class=\"colab-df-container\">\n",
              "      <div>\n",
              "<style scoped>\n",
              "    .dataframe tbody tr th:only-of-type {\n",
              "        vertical-align: middle;\n",
              "    }\n",
              "\n",
              "    .dataframe tbody tr th {\n",
              "        vertical-align: top;\n",
              "    }\n",
              "\n",
              "    .dataframe thead th {\n",
              "        text-align: right;\n",
              "    }\n",
              "</style>\n",
              "<table border=\"1\" class=\"dataframe\">\n",
              "  <thead>\n",
              "    <tr style=\"text-align: right;\">\n",
              "      <th></th>\n",
              "      <th>Value 1</th>\n",
              "      <th>Value 2</th>\n",
              "      <th>Dataset</th>\n",
              "    </tr>\n",
              "  </thead>\n",
              "  <tbody>\n",
              "    <tr>\n",
              "      <th>0</th>\n",
              "      <td>1.423494</td>\n",
              "      <td>21.329525</td>\n",
              "      <td>A</td>\n",
              "    </tr>\n",
              "    <tr>\n",
              "      <th>1</th>\n",
              "      <td>-1.022201</td>\n",
              "      <td>20.886843</td>\n",
              "      <td>A</td>\n",
              "    </tr>\n",
              "    <tr>\n",
              "      <th>2</th>\n",
              "      <td>2.205026</td>\n",
              "      <td>20.293226</td>\n",
              "      <td>B</td>\n",
              "    </tr>\n",
              "    <tr>\n",
              "      <th>3</th>\n",
              "      <td>1.680635</td>\n",
              "      <td>20.111057</td>\n",
              "      <td>B</td>\n",
              "    </tr>\n",
              "    <tr>\n",
              "      <th>4</th>\n",
              "      <td>0.647750</td>\n",
              "      <td>19.782581</td>\n",
              "      <td>A</td>\n",
              "    </tr>\n",
              "    <tr>\n",
              "      <th>5</th>\n",
              "      <td>1.077340</td>\n",
              "      <td>20.186281</td>\n",
              "      <td>A</td>\n",
              "    </tr>\n",
              "    <tr>\n",
              "      <th>6</th>\n",
              "      <td>1.119009</td>\n",
              "      <td>20.691319</td>\n",
              "      <td>A</td>\n",
              "    </tr>\n",
              "    <tr>\n",
              "      <th>7</th>\n",
              "      <td>0.924428</td>\n",
              "      <td>20.912648</td>\n",
              "      <td>A</td>\n",
              "    </tr>\n",
              "    <tr>\n",
              "      <th>8</th>\n",
              "      <td>2.131629</td>\n",
              "      <td>21.493168</td>\n",
              "      <td>A</td>\n",
              "    </tr>\n",
              "    <tr>\n",
              "      <th>9</th>\n",
              "      <td>1.825329</td>\n",
              "      <td>21.186980</td>\n",
              "      <td>B</td>\n",
              "    </tr>\n",
              "  </tbody>\n",
              "</table>\n",
              "</div>\n",
              "      <button class=\"colab-df-convert\" onclick=\"convertToInteractive('df-b91e3032-7485-445f-b86d-7fb47e1dd6a7')\"\n",
              "              title=\"Convert this dataframe to an interactive table.\"\n",
              "              style=\"display:none;\">\n",
              "        \n",
              "  <svg xmlns=\"http://www.w3.org/2000/svg\" height=\"24px\"viewBox=\"0 0 24 24\"\n",
              "       width=\"24px\">\n",
              "    <path d=\"M0 0h24v24H0V0z\" fill=\"none\"/>\n",
              "    <path d=\"M18.56 5.44l.94 2.06.94-2.06 2.06-.94-2.06-.94-.94-2.06-.94 2.06-2.06.94zm-11 1L8.5 8.5l.94-2.06 2.06-.94-2.06-.94L8.5 2.5l-.94 2.06-2.06.94zm10 10l.94 2.06.94-2.06 2.06-.94-2.06-.94-.94-2.06-.94 2.06-2.06.94z\"/><path d=\"M17.41 7.96l-1.37-1.37c-.4-.4-.92-.59-1.43-.59-.52 0-1.04.2-1.43.59L10.3 9.45l-7.72 7.72c-.78.78-.78 2.05 0 2.83L4 21.41c.39.39.9.59 1.41.59.51 0 1.02-.2 1.41-.59l7.78-7.78 2.81-2.81c.8-.78.8-2.07 0-2.86zM5.41 20L4 18.59l7.72-7.72 1.47 1.35L5.41 20z\"/>\n",
              "  </svg>\n",
              "      </button>\n",
              "      \n",
              "  <style>\n",
              "    .colab-df-container {\n",
              "      display:flex;\n",
              "      flex-wrap:wrap;\n",
              "      gap: 12px;\n",
              "    }\n",
              "\n",
              "    .colab-df-convert {\n",
              "      background-color: #E8F0FE;\n",
              "      border: none;\n",
              "      border-radius: 50%;\n",
              "      cursor: pointer;\n",
              "      display: none;\n",
              "      fill: #1967D2;\n",
              "      height: 32px;\n",
              "      padding: 0 0 0 0;\n",
              "      width: 32px;\n",
              "    }\n",
              "\n",
              "    .colab-df-convert:hover {\n",
              "      background-color: #E2EBFA;\n",
              "      box-shadow: 0px 1px 2px rgba(60, 64, 67, 0.3), 0px 1px 3px 1px rgba(60, 64, 67, 0.15);\n",
              "      fill: #174EA6;\n",
              "    }\n",
              "\n",
              "    [theme=dark] .colab-df-convert {\n",
              "      background-color: #3B4455;\n",
              "      fill: #D2E3FC;\n",
              "    }\n",
              "\n",
              "    [theme=dark] .colab-df-convert:hover {\n",
              "      background-color: #434B5C;\n",
              "      box-shadow: 0px 1px 3px 1px rgba(0, 0, 0, 0.15);\n",
              "      filter: drop-shadow(0px 1px 2px rgba(0, 0, 0, 0.3));\n",
              "      fill: #FFFFFF;\n",
              "    }\n",
              "  </style>\n",
              "\n",
              "      <script>\n",
              "        const buttonEl =\n",
              "          document.querySelector('#df-b91e3032-7485-445f-b86d-7fb47e1dd6a7 button.colab-df-convert');\n",
              "        buttonEl.style.display =\n",
              "          google.colab.kernel.accessAllowed ? 'block' : 'none';\n",
              "\n",
              "        async function convertToInteractive(key) {\n",
              "          const element = document.querySelector('#df-b91e3032-7485-445f-b86d-7fb47e1dd6a7');\n",
              "          const dataTable =\n",
              "            await google.colab.kernel.invokeFunction('convertToInteractive',\n",
              "                                                     [key], {});\n",
              "          if (!dataTable) return;\n",
              "\n",
              "          const docLinkHtml = 'Like what you see? Visit the ' +\n",
              "            '<a target=\"_blank\" href=https://colab.research.google.com/notebooks/data_table.ipynb>data table notebook</a>'\n",
              "            + ' to learn more about interactive tables.';\n",
              "          element.innerHTML = '';\n",
              "          dataTable['output_type'] = 'display_data';\n",
              "          await google.colab.output.renderOutput(dataTable, element);\n",
              "          const docLink = document.createElement('div');\n",
              "          docLink.innerHTML = docLinkHtml;\n",
              "          element.appendChild(docLink);\n",
              "        }\n",
              "      </script>\n",
              "    </div>\n",
              "  </div>\n",
              "  "
            ]
          },
          "metadata": {},
          "execution_count": 282
        }
      ]
    },
    {
      "cell_type": "markdown",
      "source": [
        "# **Dividimos los Atributos (Features) y Objetivos (Target)**"
      ],
      "metadata": {
        "id": "ueiRReBp_pRN"
      }
    },
    {
      "cell_type": "code",
      "source": [
        "# Columnas de atributos\n",
        "\n",
        "columns_atrib = ['Value 1', 'Value 2']\n",
        "\n",
        "# Columna de target\n",
        "\n",
        "column_target = 'Dataset'\n",
        "\n",
        "\n",
        "# Conjunto de datos original que se utilizará como modelo de entrenamiento\n",
        "\n",
        "X_train, y_train = dataset_train[columns_atrib].values, dataset_train[column_target].values\n",
        "\n",
        "\n",
        "# Esta parte de los datos no participa en la capacitación del modelo, \n",
        "# pero que se usa para evaluar que tan bueno es el modelo \n",
        "\n",
        "X_test, y_test = dataset_test[columns_atrib].values, dataset_test[column_target].values\n",
        "\n",
        "\n",
        "\n",
        "# LabelEncoder convierte una lista de datos de texto en valores numéricos\n",
        "\n",
        "# Transformamos los target (objetivos) en variables \n",
        "\n",
        "# El método fit_transform nos permite entrenar el codificador y transformar\n",
        "# el conjunto de datos simultáneamente\n",
        "\n",
        "\n",
        "label_encoder = LabelEncoder()\n",
        "y_train = label_encoder.fit_transform(y_train)\n",
        "y_test = label_encoder.fit_transform(y_test)\n"
      ],
      "metadata": {
        "id": "VkL1tbeuMXVC"
      },
      "execution_count": 283,
      "outputs": []
    },
    {
      "cell_type": "markdown",
      "source": [
        "# **Clasificador K vecinos más cercanos - KNeighborsClassifier** "
      ],
      "metadata": {
        "id": "m0Z1ebCvTJXq"
      }
    },
    {
      "cell_type": "code",
      "source": [
        "\n",
        "# n_neighbors=10\n",
        "\n",
        "knn = neighbors.KNeighborsClassifier(n_neighbors=10)\n",
        "knn.fit(X_train, y_train) # Ajusta el clasificador de k vecinos más cercanos del conjunto de \n",
        "                          #datos de entrenamiento."
      ],
      "metadata": {
        "colab": {
          "base_uri": "https://localhost:8080/"
        },
        "id": "GzO2CfRhSIOB",
        "outputId": "2ea71df5-76bf-404b-ffba-1bcae1e79e51"
      },
      "execution_count": 284,
      "outputs": [
        {
          "output_type": "execute_result",
          "data": {
            "text/plain": [
              "KNeighborsClassifier(n_neighbors=10)"
            ]
          },
          "metadata": {},
          "execution_count": 284
        }
      ]
    },
    {
      "cell_type": "markdown",
      "source": [
        "# **Ploteo**"
      ],
      "metadata": {
        "id": "diZ9OB8NaIi6"
      }
    },
    {
      "cell_type": "code",
      "source": [
        "\n",
        "cmap_light = ListedColormap([\"greenyellow\", \"cyan\"])\n",
        "cmap_bold = ListedColormap([\"green\", \"darkblue\"])\n",
        "\n",
        "\n",
        "x_min, x_max = X_train[:, 0].min() - .1, X_train[:, 0].max() + .1\n",
        "y_min, y_max = X_train[:, 1].min() - .1, X_train[:, 1].max() + .1\n",
        "\n",
        "xx, yy = np.meshgrid(np.linspace(x_min, x_max, 100),\n",
        "                        np.linspace(y_min, y_max, 100))\n",
        "\n",
        "Z = knn.predict(np.c_[xx.ravel(), yy.ravel()])\n",
        "Z = Z.reshape(xx.shape)\n",
        "\n",
        "\n",
        "\n",
        "################################ Plot #########################################\n",
        "\n",
        "plt.figure(figsize=(9,6))\n",
        "plt.pcolormesh(xx, yy, Z, cmap=cmap_light)\n",
        "\n",
        "\n",
        "plt.scatter(X_train[:, 0], X_train[:, 1], c=y_train, cmap=cmap_bold)\n",
        "plt.xlabel('Value 1')\n",
        "plt.ylabel('Value 2')\n",
        "plt.axis('tight')\n",
        "\n",
        "plt.show()\n",
        "\n",
        "\n"
      ],
      "metadata": {
        "colab": {
          "base_uri": "https://localhost:8080/",
          "height": 388
        },
        "id": "juMm75HLZbgU",
        "outputId": "6948b19f-d914-4bcf-fb27-cb0c39cebecd"
      },
      "execution_count": 285,
      "outputs": [
        {
          "output_type": "display_data",
          "data": {
            "text/plain": [
              "<Figure size 648x432 with 1 Axes>"
            ],
            "image/png": "[encoded data removed]"
          },
          "metadata": {
            "needs_background": "light"
          }
        }
      ]
    },
    {
      "cell_type": "markdown",
      "source": [
        "# **Predicciones sobre nuestros datos de prueba**"
      ],
      "metadata": {
        "id": "qdFR0UaT-mTj"
      }
    },
    {
      "cell_type": "code",
      "source": [
        "prediction = knn.predict(X_test)\n",
        "\n",
        "# Predice las etiquetas de clase para los datos proporcionados."
      ],
      "metadata": {
        "id": "2sDsYkcW_qel"
      },
      "execution_count": 286,
      "outputs": []
    },
    {
      "cell_type": "markdown",
      "source": [
        "# **Precisión del modelo**\n",
        "\n",
        "Confirmemos la precisión del modelo viendo la Matriz de Confusión y el Reporte sobre el conjunto de test, que nos detalla los aciertos y fallos"
      ],
      "metadata": {
        "id": "QMOwbMkfr375"
      }
    },
    {
      "cell_type": "code",
      "source": [
        "#Calculamos la matriz de confusión utilizando las predicciones realizadas y las comparamos con el test y.\n",
        "\n",
        "plt.figure(figsize = (8,6))\n",
        "confusion_matrix1 = pd.crosstab(label_encoder.inverse_transform(y_test), label_encoder.inverse_transform(prediction), rownames=['True label'], colnames=['Predicted label'])\n",
        "\n",
        "sns.heatmap(confusion_matrix1, annot=True,cmap = 'Spectral')\n",
        "plt.title(\"Matriz de confusión\")\n",
        "\n",
        "plt.show()\n",
        "\n",
        "\n",
        "\n",
        "# def get_confusion_matrix_values(y_test, prediction):\n",
        "#     cm = confusion_matrix(y_test, prediction)\n",
        "#     return(cm[0][0], cm[0][1], cm[1][0], cm[1][1])\n",
        "\n",
        "# TP, FP, FN, TN = get_confusion_matrix_values(y_test, prediction)\n",
        "\n",
        "# print(TP, FP, FN, TN)\n",
        "\n",
        "######## Componentes de la Matriz de Confusión ########\n",
        "\n",
        "def print_confusion_matrix(y_test, prediction):\n",
        "    cm = confusion_matrix(y_test, prediction)\n",
        "    print('True positive = ', cm[0][0])\n",
        "    print('False positive = ', cm[0][1])\n",
        "    print('False negative = ', cm[1][0])\n",
        "    print('True negative = ', cm[1][1])\n",
        "\n",
        "\n",
        "print_confusion_matrix(y_test, prediction)\n",
        "\n",
        "\n"
      ],
      "metadata": {
        "colab": {
          "base_uri": "https://localhost:8080/",
          "height": 473
        },
        "id": "zf1_2Vv4CKWn",
        "outputId": "4149580d-480c-4c91-9219-2e1c168dd20b"
      },
      "execution_count": 287,
      "outputs": [
        {
          "output_type": "display_data",
          "data": {
            "text/plain": [
              "<Figure size 576x432 with 2 Axes>"
            ],
            "image/png": "[encoded data removed]"
          },
          "metadata": {
            "needs_background": "light"
          }
        },
        {
          "output_type": "stream",
          "name": "stdout",
          "text": [
            "True positive =  49\n",
            "False positive =  1\n",
            "False negative =  4\n",
            "True negative =  46\n"
          ]
        }
      ]
    },
    {
      "cell_type": "markdown",
      "source": [
        "# **Calculamos algunas  métricas de clasificación**"
      ],
      "metadata": {
        "id": "-BFiYdL4KQd0"
      }
    },
    {
      "cell_type": "code",
      "source": [
        "cm = metrics.confusion_matrix(y_test, prediction)\n",
        "\n",
        "TP, FP, FN, TN = cm[0,0], cm[1,0], cm[0,1], cm[1,1]\n",
        "\n",
        "\n",
        "accuracy = (TP+TN)/(TP+FP+FN+TN)\n",
        "precision_value1 = TP/(TP+FP)\n",
        "precision_value2 = TN/(FN+TN)\n",
        "recall = TP/(TP+FN)\n",
        "f_meas = (2*precision_value1*recall)/(precision_value1+recall)\n",
        "\n",
        "print('Accuracy:', accuracy)\n",
        "print('Value 1 Predictive Value - Precision:', round(precision_value1,2))\n",
        "print('Value 2 Predictive Value - Precision:', round(precision_value2,2))\n",
        "print('Recall:', recall)\n",
        "print('f-measure:', round(f_meas,2))\n"
      ],
      "metadata": {
        "colab": {
          "base_uri": "https://localhost:8080/"
        },
        "id": "-RuxipbDCxoY",
        "outputId": "f5f64aa7-7ca7-496d-b27f-04768842de81"
      },
      "execution_count": 288,
      "outputs": [
        {
          "output_type": "stream",
          "name": "stdout",
          "text": [
            "Accuracy: 0.95\n",
            "Value 1 Predictive Value - Precision: 0.92\n",
            "Value 2 Predictive Value - Precision: 0.98\n",
            "Recall: 0.98\n",
            "f-measure: 0.95\n"
          ]
        }
      ]
    },
    {
      "cell_type": "markdown",
      "source": [
        "# **Otra forma de calcular la Matriz de Confusión y  las principales métricas de clasificación**.\n",
        "\n",
        "\n",
        "Usamos :\n",
        "\n",
        "from sklearn.metrics import classification_report\n",
        "\n",
        "from sklearn.metrics import confusion_matrix"
      ],
      "metadata": {
        "id": "-m0r-TZFQ5wX"
      }
    },
    {
      "cell_type": "code",
      "source": [
        "\n",
        "pred = knn.predict(X_test)\n",
        "target_names = ['Value 1 Predictive Value', 'Value 2 Predictive Value']\n",
        "\n",
        "#############################################################\n",
        "\n",
        "\n",
        "print('Matriz de Confusión:',confusion_matrix(y_test, pred))\n",
        "print(classification_report(y_test, pred, target_names=target_names))\n",
        "\n",
        "\n",
        "# The reported averages include :\n",
        "\n",
        "# macro average (averaging the unweighted mean per label), \n",
        "\n",
        "# weighted average (averaging the support-weighted mean per label), and sample \n",
        "#average (only for multilabel classification). \n",
        "\n",
        "# Micro average (averaging the total true positives, false negatives and false positives)\n",
        "# is only shown for multi-label or multi-class with a subset of classes, \n",
        "#because it corresponds to accuracy otherwise and would be the same for all metrics. \n",
        "\n"
      ],
      "metadata": {
        "colab": {
          "base_uri": "https://localhost:8080/"
        },
        "id": "g5aqtKrEr3tQ",
        "outputId": "909f990c-5fcd-4d85-9d2f-4f7574c5b0e1"
      },
      "execution_count": 289,
      "outputs": [
        {
          "output_type": "stream",
          "name": "stdout",
          "text": [
            "Matriz de Confusión: [[49  1]\n",
            " [ 4 46]]\n",
            "                          precision    recall  f1-score   support\n",
            "\n",
            "Value 1 Predictive Value       0.92      0.98      0.95        50\n",
            "Value 2 Predictive Value       0.98      0.92      0.95        50\n",
            "\n",
            "                accuracy                           0.95       100\n",
            "               macro avg       0.95      0.95      0.95       100\n",
            "            weighted avg       0.95      0.95      0.95       100\n",
            "\n"
          ]
        }
      ]
    },
    {
      "cell_type": "markdown",
      "source": [
        "# **Comentario**"
      ],
      "metadata": {
        "id": "6UXR-muUUiNc"
      }
    },
    {
      "cell_type": "markdown",
      "source": [
        "\n",
        "###### Teniendo en cuenta -->   n_neighbors=10 , el modelo presentó buena respuesta en las métricas calculadas. \n",
        "\n",
        "###### Considerando las predicciones y comparándolas con el conjunto de datos de prueba, se obtuvo una accuracy del 95 % y  una precision del 92% y 98% para cada variable respectivamente, y un f-measure del 95 %. Se aprecian las fronteras claramente definidas."
      ],
      "metadata": {
        "id": "RL-UzsiDVXBK"
      }
    },
    {
      "cell_type": "markdown",
      "source": [
        "# **Comparación de la tasa de error (Rate Error) con el valor K**"
      ],
      "metadata": {
        "id": "aFpMHfTl5ovO"
      }
    },
    {
      "cell_type": "markdown",
      "source": [
        "##### En la sección de entrenamiento y predicción no hay forma de saber de antemano qué valor de K da los mejores resultados en el primer intento. Elegimos aleatoriamente 10 como el valor K y resultó en un 95% de Accuracy.\n",
        "\n",
        "##### Una forma de encontrar el mejor valor de K es trazar el gráfico del valor de K y la tasa de error correspondiente para el conjunto de datos.\n",
        "\n",
        "##### Por lo tanto, trazaremos el error medio de los valores pronosticados del conjunto de prueba para todos los valores de K entre 1 y 50.\n",
        "\n",
        "##### Para hacerlo, primero calculemos la media del error para todos los valores pronosticados donde K oscila entre 1 y 50"
      ],
      "metadata": {
        "id": "VwdlX9Dc6LaG"
      }
    },
    {
      "cell_type": "code",
      "source": [
        "\n",
        "error = []\n",
        "\n",
        "# Calculamos el error para valores  K comprendido entre 1 y 50\n",
        "\n",
        "for i in range(1,50):\n",
        "\n",
        "    knn = KNeighborsClassifier(n_neighbors=i)\n",
        "    knn.fit(X_train, y_train)\n",
        "    pred_i = knn.predict(X_test)\n",
        "    error.append(np.mean(pred_i!=y_test))\n",
        "\n",
        "print('Best Error Rate:', min(error))\n",
        "print('Best value k for Error Rate:', error.index(min(error))+1)\n",
        "\n",
        "#################### Ploteo ####################################\n",
        "\n",
        "plt.figure(figsize=(12, 6))\n",
        "ax = plt.axes()\n",
        "ax.set_facecolor(\"palegreen\")\n",
        "\n",
        "\n",
        "plt.plot(range(1,50), error, color='green', linestyle='dashed', marker='o',\n",
        "         markerfacecolor='blue', markersize=8)\n",
        "plt.title('Error Rate K Value')\n",
        "plt.xlabel('K Value')\n",
        "plt.ylabel('Mean Error')\n",
        "plt.figure(\"lightgreen\")\n",
        "plt.show()\n"
      ],
      "metadata": {
        "id": "neQV-oGvbjIe",
        "colab": {
          "base_uri": "https://localhost:8080/",
          "height": 456
        },
        "outputId": "64878ade-9733-428e-f3ae-a259d825eea4"
      },
      "execution_count": 290,
      "outputs": [
        {
          "output_type": "stream",
          "name": "stdout",
          "text": [
            "Best Error Rate: 0.05\n",
            "Best value k for Error Rate: 9\n"
          ]
        },
        {
          "output_type": "display_data",
          "data": {
            "text/plain": [
              "<Figure size 864x432 with 1 Axes>"
            ],
            "image/png": "[encoded data removed]"
          },
          "metadata": {
            "needs_background": "light"
          }
        },
        {
          "output_type": "display_data",
          "data": {
            "text/plain": [
              "<Figure size 432x288 with 0 Axes>"
            ]
          },
          "metadata": {}
        }
      ]
    },
    {
      "cell_type": "markdown",
      "source": [
        "# **Ploteo Accurary Vs. K Value**\n"
      ],
      "metadata": {
        "id": "HXOPRvHmStII"
      }
    },
    {
      "cell_type": "code",
      "source": [
        "accuracy = []\n",
        "\n",
        "for i in range(1, 50):\n",
        "\n",
        "    \n",
        "    knn = neighbors.KNeighborsClassifier(n_neighbors = i)\n",
        "    knn.fit(X_train, y_train)\n",
        "\n",
        "    prediction = knn.predict(X_test)\n",
        "\n",
        "    # Calculamos la Matriz de Confusion usando las predicciones realizada \n",
        "    # y comparandolo con el y_test.\n",
        "\n",
        "    cm = metrics.confusion_matrix(y_test, prediction)\n",
        "\n",
        "    #Calculamos algunas metricas\n",
        "\n",
        "    TP, FP, FN, TN = cm[0,0], cm[1,0], cm[0,1], cm[1,1]\n",
        "    acc = (TP+TN)/(TP+FP+FN+TN)\n",
        "    accuracy.append(acc)\n",
        "    \n",
        "\n",
        "print('Best Accuracy:', max(accuracy))\n",
        "print('Best Value k for Accuracy:', accuracy.index(max(accuracy))+1)\n",
        "\n",
        "\n",
        "#################### Ploteo ####################################\n",
        "\n",
        "plt.figure(figsize=(12, 6))\n",
        "ax = plt.axes()\n",
        "ax.set_facecolor(\"lightcyan\")\n",
        "\n",
        "\n",
        "plt.plot(range(1,50), accuracy, color='black', linestyle='dashed', marker='o',\n",
        "         markerfacecolor='green', markersize=8)\n",
        "plt.title('Accuracy vs. K Value')\n",
        "plt.xlabel('K Value')\n",
        "plt.ylabel('Accuracy')\n",
        "plt.figure(\"lightgreen\")\n",
        "plt.show()\n",
        "\n"
      ],
      "metadata": {
        "colab": {
          "base_uri": "https://localhost:8080/",
          "height": 456
        },
        "id": "N6R9cUYuS3-g",
        "outputId": "e406cdf1-503c-4bed-b46f-037032b97504"
      },
      "execution_count": 291,
      "outputs": [
        {
          "output_type": "stream",
          "name": "stdout",
          "text": [
            "Best Accuracy: 0.95\n",
            "Best Value k for Accuracy: 9\n"
          ]
        },
        {
          "output_type": "display_data",
          "data": {
            "text/plain": [
              "<Figure size 864x432 with 1 Axes>"
            ],
            "image/png": "[encoded data removed]"
          },
          "metadata": {
            "needs_background": "light"
          }
        },
        {
          "output_type": "display_data",
          "data": {
            "text/plain": [
              "<Figure size 432x288 with 0 Axes>"
            ]
          },
          "metadata": {}
        }
      ]
    },
    {
      "cell_type": "markdown",
      "source": [
        "# **Comentario**\n",
        "\n",
        "Si analizamos los graficos, podemos observar los mejores resultados en las metricas para el análisis de k = 9 vecinos, utilizando dicho valor, el clasificador tiene un 95% de precisión y solo un 5% de tasa de error, lo cual es un gran resultado. \n"
      ],
      "metadata": {
        "id": "-Ex3zR9GeqXa"
      }
    },
    {
      "cell_type": "markdown",
      "source": [
        "# **Comportamiento del Modelo - Otro caso**\n",
        "\n",
        "## **Consideramos --   80% Train / 20% Test** \n",
        "\n",
        "\n",
        "Se analiza el comportamiento del modelo, para distintos K, tomando un 80% del dataset para entrenamiento y 20% para prueba."
      ],
      "metadata": {
        "id": "xhCCdVuIxPP-"
      }
    },
    {
      "cell_type": "markdown",
      "source": [
        "# **Dataset - Entrenamiento (Train)**"
      ],
      "metadata": {
        "id": "y1i7G-yTx8BQ"
      }
    },
    {
      "cell_type": "code",
      "source": [
        "dataset_train_1 = dataset_union(dataset_A[0:80], dataset_B[0:80])\n",
        "\n",
        "dataset_train_1[0:10] #  Mostramos algunos datos como resultado \n",
        "\n",
        "# dataset_train"
      ],
      "metadata": {
        "colab": {
          "base_uri": "https://localhost:8080/",
          "height": 363
        },
        "id": "SxZvG7ZfyBnN",
        "outputId": "5385b48b-71d3-4453-f0ea-735b14e3a710"
      },
      "execution_count": 292,
      "outputs": [
        {
          "output_type": "execute_result",
          "data": {
            "text/plain": [
              "    Value 1    Value 2 Dataset\n",
              "0  1.050808  21.264733       A\n",
              "1  1.762011  20.840099       A\n",
              "2 -0.142518  21.519412       A\n",
              "3  1.319039  20.866891       A\n",
              "4 -0.396496  20.051820       A\n",
              "5  0.701907  20.851679       A\n",
              "6  2.413987  18.712692       B\n",
              "7  2.450428  17.142018       B\n",
              "8  2.438084  18.751365       B\n",
              "9  1.617203  21.341276       A"
            ],
            "text/html": [
              "\n",
              "  <div id=\"df-4b4b9ed9-7835-4d19-8eec-346cfdb09a6f\">\n",
              "    <div class=\"colab-df-container\">\n",
              "      <div>\n",
              "<style scoped>\n",
              "    .dataframe tbody tr th:only-of-type {\n",
              "        vertical-align: middle;\n",
              "    }\n",
              "\n",
              "    .dataframe tbody tr th {\n",
              "        vertical-align: top;\n",
              "    }\n",
              "\n",
              "    .dataframe thead th {\n",
              "        text-align: right;\n",
              "    }\n",
              "</style>\n",
              "<table border=\"1\" class=\"dataframe\">\n",
              "  <thead>\n",
              "    <tr style=\"text-align: right;\">\n",
              "      <th></th>\n",
              "      <th>Value 1</th>\n",
              "      <th>Value 2</th>\n",
              "      <th>Dataset</th>\n",
              "    </tr>\n",
              "  </thead>\n",
              "  <tbody>\n",
              "    <tr>\n",
              "      <th>0</th>\n",
              "      <td>1.050808</td>\n",
              "      <td>21.264733</td>\n",
              "      <td>A</td>\n",
              "    </tr>\n",
              "    <tr>\n",
              "      <th>1</th>\n",
              "      <td>1.762011</td>\n",
              "      <td>20.840099</td>\n",
              "      <td>A</td>\n",
              "    </tr>\n",
              "    <tr>\n",
              "      <th>2</th>\n",
              "      <td>-0.142518</td>\n",
              "      <td>21.519412</td>\n",
              "      <td>A</td>\n",
              "    </tr>\n",
              "    <tr>\n",
              "      <th>3</th>\n",
              "      <td>1.319039</td>\n",
              "      <td>20.866891</td>\n",
              "      <td>A</td>\n",
              "    </tr>\n",
              "    <tr>\n",
              "      <th>4</th>\n",
              "      <td>-0.396496</td>\n",
              "      <td>20.051820</td>\n",
              "      <td>A</td>\n",
              "    </tr>\n",
              "    <tr>\n",
              "      <th>5</th>\n",
              "      <td>0.701907</td>\n",
              "      <td>20.851679</td>\n",
              "      <td>A</td>\n",
              "    </tr>\n",
              "    <tr>\n",
              "      <th>6</th>\n",
              "      <td>2.413987</td>\n",
              "      <td>18.712692</td>\n",
              "      <td>B</td>\n",
              "    </tr>\n",
              "    <tr>\n",
              "      <th>7</th>\n",
              "      <td>2.450428</td>\n",
              "      <td>17.142018</td>\n",
              "      <td>B</td>\n",
              "    </tr>\n",
              "    <tr>\n",
              "      <th>8</th>\n",
              "      <td>2.438084</td>\n",
              "      <td>18.751365</td>\n",
              "      <td>B</td>\n",
              "    </tr>\n",
              "    <tr>\n",
              "      <th>9</th>\n",
              "      <td>1.617203</td>\n",
              "      <td>21.341276</td>\n",
              "      <td>A</td>\n",
              "    </tr>\n",
              "  </tbody>\n",
              "</table>\n",
              "</div>\n",
              "      <button class=\"colab-df-convert\" onclick=\"convertToInteractive('df-4b4b9ed9-7835-4d19-8eec-346cfdb09a6f')\"\n",
              "              title=\"Convert this dataframe to an interactive table.\"\n",
              "              style=\"display:none;\">\n",
              "        \n",
              "  <svg xmlns=\"http://www.w3.org/2000/svg\" height=\"24px\"viewBox=\"0 0 24 24\"\n",
              "       width=\"24px\">\n",
              "    <path d=\"M0 0h24v24H0V0z\" fill=\"none\"/>\n",
              "    <path d=\"M18.56 5.44l.94 2.06.94-2.06 2.06-.94-2.06-.94-.94-2.06-.94 2.06-2.06.94zm-11 1L8.5 8.5l.94-2.06 2.06-.94-2.06-.94L8.5 2.5l-.94 2.06-2.06.94zm10 10l.94 2.06.94-2.06 2.06-.94-2.06-.94-.94-2.06-.94 2.06-2.06.94z\"/><path d=\"M17.41 7.96l-1.37-1.37c-.4-.4-.92-.59-1.43-.59-.52 0-1.04.2-1.43.59L10.3 9.45l-7.72 7.72c-.78.78-.78 2.05 0 2.83L4 21.41c.39.39.9.59 1.41.59.51 0 1.02-.2 1.41-.59l7.78-7.78 2.81-2.81c.8-.78.8-2.07 0-2.86zM5.41 20L4 18.59l7.72-7.72 1.47 1.35L5.41 20z\"/>\n",
              "  </svg>\n",
              "      </button>\n",
              "      \n",
              "  <style>\n",
              "    .colab-df-container {\n",
              "      display:flex;\n",
              "      flex-wrap:wrap;\n",
              "      gap: 12px;\n",
              "    }\n",
              "\n",
              "    .colab-df-convert {\n",
              "      background-color: #E8F0FE;\n",
              "      border: none;\n",
              "      border-radius: 50%;\n",
              "      cursor: pointer;\n",
              "      display: none;\n",
              "      fill: #1967D2;\n",
              "      height: 32px;\n",
              "      padding: 0 0 0 0;\n",
              "      width: 32px;\n",
              "    }\n",
              "\n",
              "    .colab-df-convert:hover {\n",
              "      background-color: #E2EBFA;\n",
              "      box-shadow: 0px 1px 2px rgba(60, 64, 67, 0.3), 0px 1px 3px 1px rgba(60, 64, 67, 0.15);\n",
              "      fill: #174EA6;\n",
              "    }\n",
              "\n",
              "    [theme=dark] .colab-df-convert {\n",
              "      background-color: #3B4455;\n",
              "      fill: #D2E3FC;\n",
              "    }\n",
              "\n",
              "    [theme=dark] .colab-df-convert:hover {\n",
              "      background-color: #434B5C;\n",
              "      box-shadow: 0px 1px 3px 1px rgba(0, 0, 0, 0.15);\n",
              "      filter: drop-shadow(0px 1px 2px rgba(0, 0, 0, 0.3));\n",
              "      fill: #FFFFFF;\n",
              "    }\n",
              "  </style>\n",
              "\n",
              "      <script>\n",
              "        const buttonEl =\n",
              "          document.querySelector('#df-4b4b9ed9-7835-4d19-8eec-346cfdb09a6f button.colab-df-convert');\n",
              "        buttonEl.style.display =\n",
              "          google.colab.kernel.accessAllowed ? 'block' : 'none';\n",
              "\n",
              "        async function convertToInteractive(key) {\n",
              "          const element = document.querySelector('#df-4b4b9ed9-7835-4d19-8eec-346cfdb09a6f');\n",
              "          const dataTable =\n",
              "            await google.colab.kernel.invokeFunction('convertToInteractive',\n",
              "                                                     [key], {});\n",
              "          if (!dataTable) return;\n",
              "\n",
              "          const docLinkHtml = 'Like what you see? Visit the ' +\n",
              "            '<a target=\"_blank\" href=https://colab.research.google.com/notebooks/data_table.ipynb>data table notebook</a>'\n",
              "            + ' to learn more about interactive tables.';\n",
              "          element.innerHTML = '';\n",
              "          dataTable['output_type'] = 'display_data';\n",
              "          await google.colab.output.renderOutput(dataTable, element);\n",
              "          const docLink = document.createElement('div');\n",
              "          docLink.innerHTML = docLinkHtml;\n",
              "          element.appendChild(docLink);\n",
              "        }\n",
              "      </script>\n",
              "    </div>\n",
              "  </div>\n",
              "  "
            ]
          },
          "metadata": {},
          "execution_count": 292
        }
      ]
    },
    {
      "cell_type": "markdown",
      "source": [
        "# **Dataset - Test (Prueba)**"
      ],
      "metadata": {
        "id": "405wK5oNy1XX"
      }
    },
    {
      "cell_type": "code",
      "source": [
        "dataset_test_1 = dataset_union(dataset_A[80:100], dataset_B[80:100])\n",
        "\n",
        "dataset_test_1[0:10] #  Mostramos algunos datos como resultado \n"
      ],
      "metadata": {
        "colab": {
          "base_uri": "https://localhost:8080/",
          "height": 363
        },
        "id": "P7BBlMtGyw3z",
        "outputId": "81c18421-179e-41d0-8968-7ca34877f49e"
      },
      "execution_count": 293,
      "outputs": [
        {
          "output_type": "execute_result",
          "data": {
            "text/plain": [
              "    Value 1    Value 2 Dataset\n",
              "0  2.092578  19.369493       B\n",
              "1  2.188782  19.240737       B\n",
              "2  2.205026  20.293226       B\n",
              "3  1.043597  21.210141       A\n",
              "4  1.828073  19.602319       B\n",
              "5  2.198918  21.580169       A\n",
              "6  1.186561  21.251592       A\n",
              "7  0.656146  21.301160       A\n",
              "8  0.329338  21.281381       A\n",
              "9  1.690000  19.810952       B"
            ],
            "text/html": [
              "\n",
              "  <div id=\"df-faa0bd93-7040-4465-9c71-cd33a674b2e7\">\n",
              "    <div class=\"colab-df-container\">\n",
              "      <div>\n",
              "<style scoped>\n",
              "    .dataframe tbody tr th:only-of-type {\n",
              "        vertical-align: middle;\n",
              "    }\n",
              "\n",
              "    .dataframe tbody tr th {\n",
              "        vertical-align: top;\n",
              "    }\n",
              "\n",
              "    .dataframe thead th {\n",
              "        text-align: right;\n",
              "    }\n",
              "</style>\n",
              "<table border=\"1\" class=\"dataframe\">\n",
              "  <thead>\n",
              "    <tr style=\"text-align: right;\">\n",
              "      <th></th>\n",
              "      <th>Value 1</th>\n",
              "      <th>Value 2</th>\n",
              "      <th>Dataset</th>\n",
              "    </tr>\n",
              "  </thead>\n",
              "  <tbody>\n",
              "    <tr>\n",
              "      <th>0</th>\n",
              "      <td>2.092578</td>\n",
              "      <td>19.369493</td>\n",
              "      <td>B</td>\n",
              "    </tr>\n",
              "    <tr>\n",
              "      <th>1</th>\n",
              "      <td>2.188782</td>\n",
              "      <td>19.240737</td>\n",
              "      <td>B</td>\n",
              "    </tr>\n",
              "    <tr>\n",
              "      <th>2</th>\n",
              "      <td>2.205026</td>\n",
              "      <td>20.293226</td>\n",
              "      <td>B</td>\n",
              "    </tr>\n",
              "    <tr>\n",
              "      <th>3</th>\n",
              "      <td>1.043597</td>\n",
              "      <td>21.210141</td>\n",
              "      <td>A</td>\n",
              "    </tr>\n",
              "    <tr>\n",
              "      <th>4</th>\n",
              "      <td>1.828073</td>\n",
              "      <td>19.602319</td>\n",
              "      <td>B</td>\n",
              "    </tr>\n",
              "    <tr>\n",
              "      <th>5</th>\n",
              "      <td>2.198918</td>\n",
              "      <td>21.580169</td>\n",
              "      <td>A</td>\n",
              "    </tr>\n",
              "    <tr>\n",
              "      <th>6</th>\n",
              "      <td>1.186561</td>\n",
              "      <td>21.251592</td>\n",
              "      <td>A</td>\n",
              "    </tr>\n",
              "    <tr>\n",
              "      <th>7</th>\n",
              "      <td>0.656146</td>\n",
              "      <td>21.301160</td>\n",
              "      <td>A</td>\n",
              "    </tr>\n",
              "    <tr>\n",
              "      <th>8</th>\n",
              "      <td>0.329338</td>\n",
              "      <td>21.281381</td>\n",
              "      <td>A</td>\n",
              "    </tr>\n",
              "    <tr>\n",
              "      <th>9</th>\n",
              "      <td>1.690000</td>\n",
              "      <td>19.810952</td>\n",
              "      <td>B</td>\n",
              "    </tr>\n",
              "  </tbody>\n",
              "</table>\n",
              "</div>\n",
              "      <button class=\"colab-df-convert\" onclick=\"convertToInteractive('df-faa0bd93-7040-4465-9c71-cd33a674b2e7')\"\n",
              "              title=\"Convert this dataframe to an interactive table.\"\n",
              "              style=\"display:none;\">\n",
              "        \n",
              "  <svg xmlns=\"http://www.w3.org/2000/svg\" height=\"24px\"viewBox=\"0 0 24 24\"\n",
              "       width=\"24px\">\n",
              "    <path d=\"M0 0h24v24H0V0z\" fill=\"none\"/>\n",
              "    <path d=\"M18.56 5.44l.94 2.06.94-2.06 2.06-.94-2.06-.94-.94-2.06-.94 2.06-2.06.94zm-11 1L8.5 8.5l.94-2.06 2.06-.94-2.06-.94L8.5 2.5l-.94 2.06-2.06.94zm10 10l.94 2.06.94-2.06 2.06-.94-2.06-.94-.94-2.06-.94 2.06-2.06.94z\"/><path d=\"M17.41 7.96l-1.37-1.37c-.4-.4-.92-.59-1.43-.59-.52 0-1.04.2-1.43.59L10.3 9.45l-7.72 7.72c-.78.78-.78 2.05 0 2.83L4 21.41c.39.39.9.59 1.41.59.51 0 1.02-.2 1.41-.59l7.78-7.78 2.81-2.81c.8-.78.8-2.07 0-2.86zM5.41 20L4 18.59l7.72-7.72 1.47 1.35L5.41 20z\"/>\n",
              "  </svg>\n",
              "      </button>\n",
              "      \n",
              "  <style>\n",
              "    .colab-df-container {\n",
              "      display:flex;\n",
              "      flex-wrap:wrap;\n",
              "      gap: 12px;\n",
              "    }\n",
              "\n",
              "    .colab-df-convert {\n",
              "      background-color: #E8F0FE;\n",
              "      border: none;\n",
              "      border-radius: 50%;\n",
              "      cursor: pointer;\n",
              "      display: none;\n",
              "      fill: #1967D2;\n",
              "      height: 32px;\n",
              "      padding: 0 0 0 0;\n",
              "      width: 32px;\n",
              "    }\n",
              "\n",
              "    .colab-df-convert:hover {\n",
              "      background-color: #E2EBFA;\n",
              "      box-shadow: 0px 1px 2px rgba(60, 64, 67, 0.3), 0px 1px 3px 1px rgba(60, 64, 67, 0.15);\n",
              "      fill: #174EA6;\n",
              "    }\n",
              "\n",
              "    [theme=dark] .colab-df-convert {\n",
              "      background-color: #3B4455;\n",
              "      fill: #D2E3FC;\n",
              "    }\n",
              "\n",
              "    [theme=dark] .colab-df-convert:hover {\n",
              "      background-color: #434B5C;\n",
              "      box-shadow: 0px 1px 3px 1px rgba(0, 0, 0, 0.15);\n",
              "      filter: drop-shadow(0px 1px 2px rgba(0, 0, 0, 0.3));\n",
              "      fill: #FFFFFF;\n",
              "    }\n",
              "  </style>\n",
              "\n",
              "      <script>\n",
              "        const buttonEl =\n",
              "          document.querySelector('#df-faa0bd93-7040-4465-9c71-cd33a674b2e7 button.colab-df-convert');\n",
              "        buttonEl.style.display =\n",
              "          google.colab.kernel.accessAllowed ? 'block' : 'none';\n",
              "\n",
              "        async function convertToInteractive(key) {\n",
              "          const element = document.querySelector('#df-faa0bd93-7040-4465-9c71-cd33a674b2e7');\n",
              "          const dataTable =\n",
              "            await google.colab.kernel.invokeFunction('convertToInteractive',\n",
              "                                                     [key], {});\n",
              "          if (!dataTable) return;\n",
              "\n",
              "          const docLinkHtml = 'Like what you see? Visit the ' +\n",
              "            '<a target=\"_blank\" href=https://colab.research.google.com/notebooks/data_table.ipynb>data table notebook</a>'\n",
              "            + ' to learn more about interactive tables.';\n",
              "          element.innerHTML = '';\n",
              "          dataTable['output_type'] = 'display_data';\n",
              "          await google.colab.output.renderOutput(dataTable, element);\n",
              "          const docLink = document.createElement('div');\n",
              "          docLink.innerHTML = docLinkHtml;\n",
              "          element.appendChild(docLink);\n",
              "        }\n",
              "      </script>\n",
              "    </div>\n",
              "  </div>\n",
              "  "
            ]
          },
          "metadata": {},
          "execution_count": 293
        }
      ]
    },
    {
      "cell_type": "markdown",
      "source": [
        "# **Dividimos los Atributos (Features) y Objetivos (Target)**"
      ],
      "metadata": {
        "id": "f5R3XolkeAkw"
      }
    },
    {
      "cell_type": "code",
      "source": [
        "# Columnas de atributos\n",
        "\n",
        "columns_atrib_1 = ['Value 1', 'Value 2']\n",
        "\n",
        "# Columna de target\n",
        "\n",
        "column_target_1 = 'Dataset'\n",
        "\n",
        "\n",
        "# Conjunto de datos original que se utilizará como modelo de entrenamiento(capacitación)\n",
        "\n",
        "X_train_1, y_train_1 = dataset_train_1[columns_atrib_1].values, dataset_train_1[column_target_1].values\n",
        "\n",
        "\n",
        "# Esta parte de los datos no participa en la capacitación del modelo, \n",
        "# pero que se usa para evaluar que tan bueno es el modelo \n",
        "\n",
        "X_test_1, y_test_1 = dataset_test_1[columns_atrib_1].values, dataset_test_1[column_target_1].values\n",
        "\n",
        "\n",
        "\n",
        "# LabelEncoder convierte una lista de datos de texto en valores numéricos\n",
        "\n",
        "# Transformamos los target (objetivos) en variables \n",
        "\n",
        "# El método fit_transform nos permite entrenar el codificador y transformar\n",
        "# el conjunto de datos simultáneamente\n",
        "\n",
        "\n",
        "label_encoder = LabelEncoder()\n",
        "y_train_1 = label_encoder.fit_transform(y_train_1)\n",
        "y_test_1 = label_encoder.fit_transform(y_test_1)\n"
      ],
      "metadata": {
        "id": "QoQcTuwNeSbA"
      },
      "execution_count": 294,
      "outputs": []
    },
    {
      "cell_type": "markdown",
      "source": [
        "# **Clasificador K vecinos más cercanos - KNeighborsClassifier** "
      ],
      "metadata": {
        "id": "8Hgh3KcxmsUJ"
      }
    },
    {
      "cell_type": "code",
      "source": [
        "\n",
        "# n_neighbors=5\n",
        "\n",
        "knn = neighbors.KNeighborsClassifier(n_neighbors=5)\n",
        "knn.fit(X_train_1, y_train_1) # Ajusta el clasificador de k vecinos más cercanos del conjunto de \n",
        "                          #datos de entrenamiento."
      ],
      "metadata": {
        "colab": {
          "base_uri": "https://localhost:8080/"
        },
        "id": "_vpYP-ubni_2",
        "outputId": "7e07d0e5-e091-4a6a-d1f9-a5b8f4a599fe"
      },
      "execution_count": 295,
      "outputs": [
        {
          "output_type": "execute_result",
          "data": {
            "text/plain": [
              "KNeighborsClassifier()"
            ]
          },
          "metadata": {},
          "execution_count": 295
        }
      ]
    },
    {
      "cell_type": "markdown",
      "source": [
        "# **Ploteo**"
      ],
      "metadata": {
        "id": "g6towBLXooHi"
      }
    },
    {
      "cell_type": "code",
      "source": [
        "\n",
        "\n",
        "cmap_light = ListedColormap([\"greenyellow\", \"cyan\"])\n",
        "cmap_bold = ListedColormap([\"green\", \"darkblue\"])\n",
        "\n",
        "\n",
        "x_min, x_max = X_train_1[:, 0].min() - .1, X_train_1[:, 0].max() + .1\n",
        "y_min, y_max = X_train_1[:, 1].min() - .1, X_train_1[:, 1].max() + .1\n",
        "\n",
        "xx, yy = np.meshgrid(np.linspace(x_min, x_max, 100),\n",
        "                        np.linspace(y_min, y_max, 100))\n",
        "\n",
        "Z = knn.predict(np.c_[xx.ravel(), yy.ravel()])\n",
        "Z = Z.reshape(xx.shape)\n",
        "\n",
        "\n",
        "\n",
        "################################ Plot #########################################\n",
        "\n",
        "plt.figure(figsize=(9,6))\n",
        "plt.pcolormesh(xx, yy, Z, cmap=cmap_light)\n",
        "\n",
        "\n",
        "plt.scatter(X_train_1[:, 0], X_train_1[:, 1], c=y_train_1, cmap=cmap_bold)\n",
        "plt.xlabel('Value 1')\n",
        "plt.ylabel('Value 2')\n",
        "plt.axis('tight')\n",
        "\n",
        "plt.show()\n",
        "\n",
        "\n"
      ],
      "metadata": {
        "colab": {
          "base_uri": "https://localhost:8080/",
          "height": 388
        },
        "id": "krIhnMYwoppW",
        "outputId": "b55442c6-fbfc-4b57-ffa0-9445f0ffedd1"
      },
      "execution_count": 296,
      "outputs": [
        {
          "output_type": "display_data",
          "data": {
            "text/plain": [
              "<Figure size 648x432 with 1 Axes>"
            ],
            "image/png": "[encoded data removed]"
          },
          "metadata": {
            "needs_background": "light"
          }
        }
      ]
    },
    {
      "cell_type": "markdown",
      "source": [
        "# **Predicciones sobre nuestros datos de prueba**"
      ],
      "metadata": {
        "id": "T8InhB6-tmwi"
      }
    },
    {
      "cell_type": "code",
      "source": [
        "prediction_1 = knn.predict(X_test_1)\n",
        "\n",
        "# Predice las etiquetas de clase para los datos proporcionados.."
      ],
      "metadata": {
        "id": "9ured6n9trZP"
      },
      "execution_count": 297,
      "outputs": []
    },
    {
      "cell_type": "markdown",
      "source": [
        "# **Precisión del modelo**\n",
        "\n",
        "Confirmemos la precisión del modelo viendo la Matriz de Confusión y el Reporte sobre el conjunto de test, que nos detalla los aciertos y fallos"
      ],
      "metadata": {
        "id": "L6-oqAC172Cc"
      }
    },
    {
      "cell_type": "code",
      "source": [
        "#Calculamos la matriz de confusión utilizando las predicciones realizadas y las comparamos con el test y.\n",
        "\n",
        "plt.figure(figsize = (8,6))\n",
        "confusion_matrix2 = pd.crosstab(label_encoder.inverse_transform(y_test_1), label_encoder.inverse_transform(prediction_1), rownames=['True label'], colnames=['Predicted label'])\n",
        "\n",
        "sns.heatmap(confusion_matrix2, annot=True,cmap = 'Spectral')\n",
        "plt.title(\"Matriz de confusión\")\n",
        "\n",
        "plt.show()\n",
        "\n",
        "\n",
        "\n",
        "# def get_confusion_matrix_values(y_test, prediction):\n",
        "#     cm = confusion_matrix(y_test, prediction)\n",
        "#     return(cm[0][0], cm[0][1], cm[1][0], cm[1][1])\n",
        "\n",
        "# TP, FP, FN, TN = get_confusion_matrix_values(y_test, prediction)\n",
        "\n",
        "# print(TP, FP, FN, TN)\n",
        "\n",
        "######## Componentes de la Matriz de Confusión ########\n",
        "\n",
        "def print_confusion_matrix(y_test, prediction):\n",
        "    cm = confusion_matrix(y_test, prediction)\n",
        "    print('True positive = ', cm[0][0])\n",
        "    print('False positive = ', cm[0][1])\n",
        "    print('False negative = ', cm[1][0])\n",
        "    print('True negative = ', cm[1][1])\n",
        "\n",
        "\n",
        "print_confusion_matrix(y_test_1, prediction_1)"
      ],
      "metadata": {
        "colab": {
          "base_uri": "https://localhost:8080/",
          "height": 473
        },
        "id": "jF8RDrHt74uH",
        "outputId": "ebbccb4b-f682-4676-b211-e6edda4d2e92"
      },
      "execution_count": 298,
      "outputs": [
        {
          "output_type": "display_data",
          "data": {
            "text/plain": [
              "<Figure size 576x432 with 2 Axes>"
            ],
            "image/png": "[encoded data removed]"
          },
          "metadata": {
            "needs_background": "light"
          }
        },
        {
          "output_type": "stream",
          "name": "stdout",
          "text": [
            "True positive =  20\n",
            "False positive =  0\n",
            "False negative =  2\n",
            "True negative =  18\n"
          ]
        }
      ]
    },
    {
      "cell_type": "markdown",
      "source": [
        "# **Calculamos algunas  métricas de clasificación**"
      ],
      "metadata": {
        "id": "3GXpOajH8v_X"
      }
    },
    {
      "cell_type": "code",
      "source": [
        "cm_1 = metrics.confusion_matrix(y_test_1, prediction_1)\n",
        "\n",
        "TP_, FP_, FN_, TN_ = cm_1[0,0], cm_1[1,0], cm_1[0,1], cm_1[1,1]\n",
        "\n",
        "\n",
        "accuracy_ = (TP_+TN_)/(TP_+FP_+FN_+TN_)\n",
        "precision_value1_ = TP_/(TP_+FP_)\n",
        "precision_value2_ = TN_/(FN_+TN_)\n",
        "recall_ = TP_/(TP_+FN_)\n",
        "f_meas_ = (2*precision_value1_*recall_)/(precision_value1_+recall_)\n",
        "\n",
        "print('Accuracy:', accuracy_)\n",
        "print('Value 1 Predictive Value - Precision:', round(precision_value1_,2))\n",
        "print('Value 2 Predictive Value - Precision:', round(precision_value2_,2))\n",
        "print('Recall:', recall_)\n",
        "print('f-measure:', round(f_meas_,2))\n"
      ],
      "metadata": {
        "colab": {
          "base_uri": "https://localhost:8080/"
        },
        "outputId": "31c9d9e8-e587-48c4-ba70-3e38cf47006c",
        "id": "S0rrOlRS823A"
      },
      "execution_count": 299,
      "outputs": [
        {
          "output_type": "stream",
          "name": "stdout",
          "text": [
            "Accuracy: 0.95\n",
            "Value 1 Predictive Value - Precision: 0.91\n",
            "Value 2 Predictive Value - Precision: 1.0\n",
            "Recall: 1.0\n",
            "f-measure: 0.95\n"
          ]
        }
      ]
    },
    {
      "cell_type": "markdown",
      "source": [
        "# **Comparación de la tasa de error (Rate Error) con el valor K**"
      ],
      "metadata": {
        "id": "Y7IjO4WFAMKm"
      }
    },
    {
      "cell_type": "code",
      "source": [
        "\n",
        "\n",
        "error_ = []\n",
        "\n",
        "# Calculamos el error para valores  K comprendido entre 1 y 50\n",
        "\n",
        "for i in range(1,50):\n",
        "\n",
        "    knn = KNeighborsClassifier(n_neighbors=i)\n",
        "    knn.fit(X_train_1, y_train_1)\n",
        "    pred_i = knn.predict(X_test_1)\n",
        "    error_.append(np.mean(pred_i!=y_test_1))\n",
        "\n",
        "print('Best Error Rate:', min(error_))\n",
        "print('Best value k for Error Rate:', error_.index(min(error_))+1)\n",
        "\n",
        "#################### Ploteo ####################################\n",
        "\n",
        "plt.figure(figsize=(12, 6))\n",
        "ax = plt.axes()\n",
        "ax.set_facecolor(\"palegreen\")\n",
        "\n",
        "\n",
        "plt.plot(range(1,50), error_, color='green', linestyle='dashed', marker='o',\n",
        "         markerfacecolor='blue', markersize=8)\n",
        "plt.title('Error Rate K Value')\n",
        "plt.xlabel('K Value')\n",
        "plt.ylabel('Mean Error')\n",
        "plt.figure(\"lightgreen\")\n",
        "plt.show()\n"
      ],
      "metadata": {
        "colab": {
          "base_uri": "https://localhost:8080/",
          "height": 456
        },
        "outputId": "8f4a4a19-ed46-4490-aac4-d2bca112cd4d",
        "id": "o12HWQPlAff5"
      },
      "execution_count": 300,
      "outputs": [
        {
          "output_type": "stream",
          "name": "stdout",
          "text": [
            "Best Error Rate: 0.025\n",
            "Best value k for Error Rate: 3\n"
          ]
        },
        {
          "output_type": "display_data",
          "data": {
            "text/plain": [
              "<Figure size 864x432 with 1 Axes>"
            ],
            "image/png": "[encoded data removed]"
          },
          "metadata": {
            "needs_background": "light"
          }
        },
        {
          "output_type": "display_data",
          "data": {
            "text/plain": [
              "<Figure size 432x288 with 0 Axes>"
            ]
          },
          "metadata": {}
        }
      ]
    },
    {
      "cell_type": "markdown",
      "source": [
        "# **Ploteo Accurary Vs. K Value**\n"
      ],
      "metadata": {
        "id": "OEa_YSV4DkAl"
      }
    },
    {
      "cell_type": "code",
      "source": [
        "accuracy_ = []\n",
        "\n",
        "for i in range(1, 50):\n",
        "\n",
        "    \n",
        "    knn = neighbors.KNeighborsClassifier(n_neighbors = i)\n",
        "    knn.fit(X_train_1, y_train_1)\n",
        "\n",
        "    prediction_1 = knn.predict(X_test_1)\n",
        "\n",
        "    # Calculamos la Matriz de Confusion usando las predicciones realizada \n",
        "    # y comparandolo con el y_test.\n",
        "\n",
        "    cm = metrics.confusion_matrix(y_test_1, prediction_1)\n",
        "\n",
        "    #Calculamos algunas metricas\n",
        "\n",
        "    TP, FP, FN, TN = cm[0,0], cm[1,0], cm[0,1], cm[1,1]\n",
        "    acc_ = (TP+TN)/(TP+FP+FN+TN)\n",
        "    accuracy_.append(acc_)\n",
        "    \n",
        "\n",
        "print('Best Accuracy:', max(accuracy_))\n",
        "print('Best Value k for Accuracy:', accuracy_.index(max(accuracy_))+1)\n",
        "\n",
        "\n",
        "#################### Ploteo ####################################\n",
        "\n",
        "plt.figure(figsize=(12, 6))\n",
        "ax = plt.axes()\n",
        "ax.set_facecolor(\"lightcyan\")\n",
        "\n",
        "\n",
        "plt.plot(range(1,50), accuracy_, color='black', linestyle='dashed', marker='o',\n",
        "         markerfacecolor='green', markersize=8)\n",
        "plt.title('Accuracy vs. K Value')\n",
        "plt.xlabel('K Value')\n",
        "plt.ylabel('Accuracy')\n",
        "plt.figure(\"lightgreen\")\n",
        "plt.show()\n",
        "\n"
      ],
      "metadata": {
        "colab": {
          "base_uri": "https://localhost:8080/",
          "height": 456
        },
        "outputId": "6675b465-b0d3-4116-9cb1-535ae07ddc3d",
        "id": "f7l5YdcKDsa0"
      },
      "execution_count": 301,
      "outputs": [
        {
          "output_type": "stream",
          "name": "stdout",
          "text": [
            "Best Accuracy: 0.975\n",
            "Best Value k for Accuracy: 3\n"
          ]
        },
        {
          "output_type": "display_data",
          "data": {
            "text/plain": [
              "<Figure size 864x432 with 1 Axes>"
            ],
            "image/png": "[encoded data removed]"
          },
          "metadata": {
            "needs_background": "light"
          }
        },
        {
          "output_type": "display_data",
          "data": {
            "text/plain": [
              "<Figure size 432x288 with 0 Axes>"
            ]
          },
          "metadata": {}
        }
      ]
    },
    {
      "cell_type": "markdown",
      "source": [
        "# **Comentario**"
      ],
      "metadata": {
        "id": "4_puGWoM1o_0"
      }
    },
    {
      "cell_type": "markdown",
      "source": [
        "\n",
        "*   Podemos apreciar que para una división del 50% de datos (K = 10)tanto para\n",
        "entrenamiento como para prueba, se obtienen mejores resultados en los metricas calculadas (parámetros de calidad) del modelo respecto a tomar 80% para entrenamiento y 20% para prueba considerando k = 5.\n",
        "\n",
        "\n",
        "*  Aunque Para la division de datos ( 80 % train - 20 % test), se obtiene un \n",
        "Best Error Rate = 0.025 para un k = 3. Por otro lado se obtiene un mejor Accuracy = 97.5 % para dicho valor de k . A su vez se tiene un amplio rango de k ( 13 - 49 )con  Accuracy = 97.5 % en comparacion con la division de datos (50 % train - 50 % test).\n"
      ],
      "metadata": {
        "id": "TIqJB6Ua1siy"
      }
    },
    {
      "cell_type": "markdown",
      "source": [
        "# **Ejercicio 3.2**"
      ],
      "metadata": {
        "id": "JeWQEtkraiRP"
      }
    },
    {
      "cell_type": "markdown",
      "source": [
        "\n",
        "\n",
        "En el notebook :\n",
        "\n",
        "https://github.com/manlio99/Materia-deaprendizaje/blob/master/3_MidtermProjects/musica.ipynb\n",
        "\n",
        "\n",
        "hay un dataset con 2000+ canciones de Spotify de una usuaria, donde algunas\n",
        "fueron marcadas como gustadas y otras no. \n",
        "\n",
        "\n",
        "Cada canción tiene a su vez 16 atributos (nombre, artista, duración, bailable, etc.). Desarrollar un clasificador que prediga si una canción dada va a ser\n",
        "gustada o no. Aclarar y justificar los pasos, analizar y explicar los resultados."
      ],
      "metadata": {
        "id": "YaI8vPNTa98i"
      }
    },
    {
      "cell_type": "markdown",
      "source": [
        "# **Leemos el Dataset**"
      ],
      "metadata": {
        "id": "xQEiwugcdGf4"
      }
    },
    {
      "cell_type": "code",
      "source": [
        "attrib_spotify = pd.read_csv(\"https://raw.githubusercontent.com/emmanueliarussi/DataScienceCapstone/master/3_MidtermProjects/ProjectBOM/data/attributes_spotify.csv\")\n",
        "attrib_spotify = attrib_spotify.drop(columns=[\"Unnamed: 0\"])\n",
        "attrib_spotify"
      ],
      "metadata": {
        "colab": {
          "base_uri": "https://localhost:8080/",
          "height": 731
        },
        "id": "gNWWi0Vaauz3",
        "outputId": "71763f4a-f740-4edb-88e4-39eb42519bcd"
      },
      "execution_count": 302,
      "outputs": [
        {
          "output_type": "execute_result",
          "data": {
            "text/plain": [
              "      acousticness  danceability  duration_ms  energy  instrumentalness  key  \\\n",
              "0          0.01020         0.833       204600   0.434          0.021900    2   \n",
              "1          0.19900         0.743       326933   0.359          0.006110    1   \n",
              "2          0.03440         0.838       185707   0.412          0.000234    2   \n",
              "3          0.60400         0.494       199413   0.338          0.510000    5   \n",
              "4          0.18000         0.678       392893   0.561          0.512000    5   \n",
              "...            ...           ...          ...     ...               ...  ...   \n",
              "2012       0.00106         0.584       274404   0.932          0.002690    1   \n",
              "2013       0.08770         0.894       182182   0.892          0.001670    1   \n",
              "2014       0.00857         0.637       207200   0.935          0.003990    0   \n",
              "2015       0.00164         0.557       185600   0.992          0.677000    1   \n",
              "2016       0.00281         0.446       204520   0.915          0.000039    9   \n",
              "\n",
              "      liveness  loudness  mode  speechiness    tempo  time_signature  valence  \\\n",
              "0       0.1650    -8.795     1       0.4310  150.062             4.0    0.286   \n",
              "1       0.1370   -10.401     1       0.0794  160.083             4.0    0.588   \n",
              "2       0.1590    -7.148     1       0.2890   75.044             4.0    0.173   \n",
              "3       0.0922   -15.236     1       0.0261   86.468             4.0    0.230   \n",
              "4       0.4390   -11.648     0       0.0694  174.004             4.0    0.904   \n",
              "...        ...       ...   ...          ...      ...             ...      ...   \n",
              "2012    0.1290    -3.501     1       0.3330   74.976             4.0    0.211   \n",
              "2013    0.0528    -2.663     1       0.1310  110.041             4.0    0.867   \n",
              "2014    0.2140    -2.467     1       0.1070  150.082             4.0    0.470   \n",
              "2015    0.0913    -2.735     1       0.1330  150.011             4.0    0.623   \n",
              "2016    0.2180    -6.221     1       0.1410  190.013             4.0    0.402   \n",
              "\n",
              "      target                            song_title            artist  \n",
              "0          1                              Mask Off            Future  \n",
              "1          1                               Redbone  Childish Gambino  \n",
              "2          1                          Xanny Family            Future  \n",
              "3          1                        Master Of None       Beach House  \n",
              "4          1                        Parallel Lines       Junior Boys  \n",
              "...      ...                                   ...               ...  \n",
              "2012       0   Like A Bitch - Kill The Noise Remix    Kill The Noise  \n",
              "2013       0                                 Candy    Dillon Francis  \n",
              "2014       0  Habit - Dack Janiels & Wenzday Remix          Rain Man  \n",
              "2015       0                         First Contact        Twin Moons  \n",
              "2016       0                    I Wanna Get Better         Bleachers  \n",
              "\n",
              "[2017 rows x 16 columns]"
            ],
            "text/html": [
              "\n",
              "  <div id=\"df-ccaada7e-ad87-42ff-bc8d-0fae58df5ecf\">\n",
              "    <div class=\"colab-df-container\">\n",
              "      <div>\n",
              "<style scoped>\n",
              "    .dataframe tbody tr th:only-of-type {\n",
              "        vertical-align: middle;\n",
              "    }\n",
              "\n",
              "    .dataframe tbody tr th {\n",
              "        vertical-align: top;\n",
              "    }\n",
              "\n",
              "    .dataframe thead th {\n",
              "        text-align: right;\n",
              "    }\n",
              "</style>\n",
              "<table border=\"1\" class=\"dataframe\">\n",
              "  <thead>\n",
              "    <tr style=\"text-align: right;\">\n",
              "      <th></th>\n",
              "      <th>acousticness</th>\n",
              "      <th>danceability</th>\n",
              "      <th>duration_ms</th>\n",
              "      <th>energy</th>\n",
              "      <th>instrumentalness</th>\n",
              "      <th>key</th>\n",
              "      <th>liveness</th>\n",
              "      <th>loudness</th>\n",
              "      <th>mode</th>\n",
              "      <th>speechiness</th>\n",
              "      <th>tempo</th>\n",
              "      <th>time_signature</th>\n",
              "      <th>valence</th>\n",
              "      <th>target</th>\n",
              "      <th>song_title</th>\n",
              "      <th>artist</th>\n",
              "    </tr>\n",
              "  </thead>\n",
              "  <tbody>\n",
              "    <tr>\n",
              "      <th>0</th>\n",
              "      <td>0.01020</td>\n",
              "      <td>0.833</td>\n",
              "      <td>204600</td>\n",
              "      <td>0.434</td>\n",
              "      <td>0.021900</td>\n",
              "      <td>2</td>\n",
              "      <td>0.1650</td>\n",
              "      <td>-8.795</td>\n",
              "      <td>1</td>\n",
              "      <td>0.4310</td>\n",
              "      <td>150.062</td>\n",
              "      <td>4.0</td>\n",
              "      <td>0.286</td>\n",
              "      <td>1</td>\n",
              "      <td>Mask Off</td>\n",
              "      <td>Future</td>\n",
              "    </tr>\n",
              "    <tr>\n",
              "      <th>1</th>\n",
              "      <td>0.19900</td>\n",
              "      <td>0.743</td>\n",
              "      <td>326933</td>\n",
              "      <td>0.359</td>\n",
              "      <td>0.006110</td>\n",
              "      <td>1</td>\n",
              "      <td>0.1370</td>\n",
              "      <td>-10.401</td>\n",
              "      <td>1</td>\n",
              "      <td>0.0794</td>\n",
              "      <td>160.083</td>\n",
              "      <td>4.0</td>\n",
              "      <td>0.588</td>\n",
              "      <td>1</td>\n",
              "      <td>Redbone</td>\n",
              "      <td>Childish Gambino</td>\n",
              "    </tr>\n",
              "    <tr>\n",
              "      <th>2</th>\n",
              "      <td>0.03440</td>\n",
              "      <td>0.838</td>\n",
              "      <td>185707</td>\n",
              "      <td>0.412</td>\n",
              "      <td>0.000234</td>\n",
              "      <td>2</td>\n",
              "      <td>0.1590</td>\n",
              "      <td>-7.148</td>\n",
              "      <td>1</td>\n",
              "      <td>0.2890</td>\n",
              "      <td>75.044</td>\n",
              "      <td>4.0</td>\n",
              "      <td>0.173</td>\n",
              "      <td>1</td>\n",
              "      <td>Xanny Family</td>\n",
              "      <td>Future</td>\n",
              "    </tr>\n",
              "    <tr>\n",
              "      <th>3</th>\n",
              "      <td>0.60400</td>\n",
              "      <td>0.494</td>\n",
              "      <td>199413</td>\n",
              "      <td>0.338</td>\n",
              "      <td>0.510000</td>\n",
              "      <td>5</td>\n",
              "      <td>0.0922</td>\n",
              "      <td>-15.236</td>\n",
              "      <td>1</td>\n",
              "      <td>0.0261</td>\n",
              "      <td>86.468</td>\n",
              "      <td>4.0</td>\n",
              "      <td>0.230</td>\n",
              "      <td>1</td>\n",
              "      <td>Master Of None</td>\n",
              "      <td>Beach House</td>\n",
              "    </tr>\n",
              "    <tr>\n",
              "      <th>4</th>\n",
              "      <td>0.18000</td>\n",
              "      <td>0.678</td>\n",
              "      <td>392893</td>\n",
              "      <td>0.561</td>\n",
              "      <td>0.512000</td>\n",
              "      <td>5</td>\n",
              "      <td>0.4390</td>\n",
              "      <td>-11.648</td>\n",
              "      <td>0</td>\n",
              "      <td>0.0694</td>\n",
              "      <td>174.004</td>\n",
              "      <td>4.0</td>\n",
              "      <td>0.904</td>\n",
              "      <td>1</td>\n",
              "      <td>Parallel Lines</td>\n",
              "      <td>Junior Boys</td>\n",
              "    </tr>\n",
              "    <tr>\n",
              "      <th>...</th>\n",
              "      <td>...</td>\n",
              "      <td>...</td>\n",
              "      <td>...</td>\n",
              "      <td>...</td>\n",
              "      <td>...</td>\n",
              "      <td>...</td>\n",
              "      <td>...</td>\n",
              "      <td>...</td>\n",
              "      <td>...</td>\n",
              "      <td>...</td>\n",
              "      <td>...</td>\n",
              "      <td>...</td>\n",
              "      <td>...</td>\n",
              "      <td>...</td>\n",
              "      <td>...</td>\n",
              "      <td>...</td>\n",
              "    </tr>\n",
              "    <tr>\n",
              "      <th>2012</th>\n",
              "      <td>0.00106</td>\n",
              "      <td>0.584</td>\n",
              "      <td>274404</td>\n",
              "      <td>0.932</td>\n",
              "      <td>0.002690</td>\n",
              "      <td>1</td>\n",
              "      <td>0.1290</td>\n",
              "      <td>-3.501</td>\n",
              "      <td>1</td>\n",
              "      <td>0.3330</td>\n",
              "      <td>74.976</td>\n",
              "      <td>4.0</td>\n",
              "      <td>0.211</td>\n",
              "      <td>0</td>\n",
              "      <td>Like A Bitch - Kill The Noise Remix</td>\n",
              "      <td>Kill The Noise</td>\n",
              "    </tr>\n",
              "    <tr>\n",
              "      <th>2013</th>\n",
              "      <td>0.08770</td>\n",
              "      <td>0.894</td>\n",
              "      <td>182182</td>\n",
              "      <td>0.892</td>\n",
              "      <td>0.001670</td>\n",
              "      <td>1</td>\n",
              "      <td>0.0528</td>\n",
              "      <td>-2.663</td>\n",
              "      <td>1</td>\n",
              "      <td>0.1310</td>\n",
              "      <td>110.041</td>\n",
              "      <td>4.0</td>\n",
              "      <td>0.867</td>\n",
              "      <td>0</td>\n",
              "      <td>Candy</td>\n",
              "      <td>Dillon Francis</td>\n",
              "    </tr>\n",
              "    <tr>\n",
              "      <th>2014</th>\n",
              "      <td>0.00857</td>\n",
              "      <td>0.637</td>\n",
              "      <td>207200</td>\n",
              "      <td>0.935</td>\n",
              "      <td>0.003990</td>\n",
              "      <td>0</td>\n",
              "      <td>0.2140</td>\n",
              "      <td>-2.467</td>\n",
              "      <td>1</td>\n",
              "      <td>0.1070</td>\n",
              "      <td>150.082</td>\n",
              "      <td>4.0</td>\n",
              "      <td>0.470</td>\n",
              "      <td>0</td>\n",
              "      <td>Habit - Dack Janiels &amp; Wenzday Remix</td>\n",
              "      <td>Rain Man</td>\n",
              "    </tr>\n",
              "    <tr>\n",
              "      <th>2015</th>\n",
              "      <td>0.00164</td>\n",
              "      <td>0.557</td>\n",
              "      <td>185600</td>\n",
              "      <td>0.992</td>\n",
              "      <td>0.677000</td>\n",
              "      <td>1</td>\n",
              "      <td>0.0913</td>\n",
              "      <td>-2.735</td>\n",
              "      <td>1</td>\n",
              "      <td>0.1330</td>\n",
              "      <td>150.011</td>\n",
              "      <td>4.0</td>\n",
              "      <td>0.623</td>\n",
              "      <td>0</td>\n",
              "      <td>First Contact</td>\n",
              "      <td>Twin Moons</td>\n",
              "    </tr>\n",
              "    <tr>\n",
              "      <th>2016</th>\n",
              "      <td>0.00281</td>\n",
              "      <td>0.446</td>\n",
              "      <td>204520</td>\n",
              "      <td>0.915</td>\n",
              "      <td>0.000039</td>\n",
              "      <td>9</td>\n",
              "      <td>0.2180</td>\n",
              "      <td>-6.221</td>\n",
              "      <td>1</td>\n",
              "      <td>0.1410</td>\n",
              "      <td>190.013</td>\n",
              "      <td>4.0</td>\n",
              "      <td>0.402</td>\n",
              "      <td>0</td>\n",
              "      <td>I Wanna Get Better</td>\n",
              "      <td>Bleachers</td>\n",
              "    </tr>\n",
              "  </tbody>\n",
              "</table>\n",
              "<p>2017 rows × 16 columns</p>\n",
              "</div>\n",
              "      <button class=\"colab-df-convert\" onclick=\"convertToInteractive('df-ccaada7e-ad87-42ff-bc8d-0fae58df5ecf')\"\n",
              "              title=\"Convert this dataframe to an interactive table.\"\n",
              "              style=\"display:none;\">\n",
              "        \n",
              "  <svg xmlns=\"http://www.w3.org/2000/svg\" height=\"24px\"viewBox=\"0 0 24 24\"\n",
              "       width=\"24px\">\n",
              "    <path d=\"M0 0h24v24H0V0z\" fill=\"none\"/>\n",
              "    <path d=\"M18.56 5.44l.94 2.06.94-2.06 2.06-.94-2.06-.94-.94-2.06-.94 2.06-2.06.94zm-11 1L8.5 8.5l.94-2.06 2.06-.94-2.06-.94L8.5 2.5l-.94 2.06-2.06.94zm10 10l.94 2.06.94-2.06 2.06-.94-2.06-.94-.94-2.06-.94 2.06-2.06.94z\"/><path d=\"M17.41 7.96l-1.37-1.37c-.4-.4-.92-.59-1.43-.59-.52 0-1.04.2-1.43.59L10.3 9.45l-7.72 7.72c-.78.78-.78 2.05 0 2.83L4 21.41c.39.39.9.59 1.41.59.51 0 1.02-.2 1.41-.59l7.78-7.78 2.81-2.81c.8-.78.8-2.07 0-2.86zM5.41 20L4 18.59l7.72-7.72 1.47 1.35L5.41 20z\"/>\n",
              "  </svg>\n",
              "      </button>\n",
              "      \n",
              "  <style>\n",
              "    .colab-df-container {\n",
              "      display:flex;\n",
              "      flex-wrap:wrap;\n",
              "      gap: 12px;\n",
              "    }\n",
              "\n",
              "    .colab-df-convert {\n",
              "      background-color: #E8F0FE;\n",
              "      border: none;\n",
              "      border-radius: 50%;\n",
              "      cursor: pointer;\n",
              "      display: none;\n",
              "      fill: #1967D2;\n",
              "      height: 32px;\n",
              "      padding: 0 0 0 0;\n",
              "      width: 32px;\n",
              "    }\n",
              "\n",
              "    .colab-df-convert:hover {\n",
              "      background-color: #E2EBFA;\n",
              "      box-shadow: 0px 1px 2px rgba(60, 64, 67, 0.3), 0px 1px 3px 1px rgba(60, 64, 67, 0.15);\n",
              "      fill: #174EA6;\n",
              "    }\n",
              "\n",
              "    [theme=dark] .colab-df-convert {\n",
              "      background-color: #3B4455;\n",
              "      fill: #D2E3FC;\n",
              "    }\n",
              "\n",
              "    [theme=dark] .colab-df-convert:hover {\n",
              "      background-color: #434B5C;\n",
              "      box-shadow: 0px 1px 3px 1px rgba(0, 0, 0, 0.15);\n",
              "      filter: drop-shadow(0px 1px 2px rgba(0, 0, 0, 0.3));\n",
              "      fill: #FFFFFF;\n",
              "    }\n",
              "  </style>\n",
              "\n",
              "      <script>\n",
              "        const buttonEl =\n",
              "          document.querySelector('#df-ccaada7e-ad87-42ff-bc8d-0fae58df5ecf button.colab-df-convert');\n",
              "        buttonEl.style.display =\n",
              "          google.colab.kernel.accessAllowed ? 'block' : 'none';\n",
              "\n",
              "        async function convertToInteractive(key) {\n",
              "          const element = document.querySelector('#df-ccaada7e-ad87-42ff-bc8d-0fae58df5ecf');\n",
              "          const dataTable =\n",
              "            await google.colab.kernel.invokeFunction('convertToInteractive',\n",
              "                                                     [key], {});\n",
              "          if (!dataTable) return;\n",
              "\n",
              "          const docLinkHtml = 'Like what you see? Visit the ' +\n",
              "            '<a target=\"_blank\" href=https://colab.research.google.com/notebooks/data_table.ipynb>data table notebook</a>'\n",
              "            + ' to learn more about interactive tables.';\n",
              "          element.innerHTML = '';\n",
              "          dataTable['output_type'] = 'display_data';\n",
              "          await google.colab.output.renderOutput(dataTable, element);\n",
              "          const docLink = document.createElement('div');\n",
              "          docLink.innerHTML = docLinkHtml;\n",
              "          element.appendChild(docLink);\n",
              "        }\n",
              "      </script>\n",
              "    </div>\n",
              "  </div>\n",
              "  "
            ]
          },
          "metadata": {},
          "execution_count": 302
        }
      ]
    },
    {
      "cell_type": "markdown",
      "source": [
        "# **Parámetros Estadísticos**"
      ],
      "metadata": {
        "id": "4GwJn0MnjNxy"
      }
    },
    {
      "cell_type": "code",
      "source": [
        "attrib_spotify.describe()"
      ],
      "metadata": {
        "colab": {
          "base_uri": "https://localhost:8080/",
          "height": 364
        },
        "id": "F-JI3-tbd7jX",
        "outputId": "34da6706-6e1f-416d-8fcc-afce8e669f2b"
      },
      "execution_count": 303,
      "outputs": [
        {
          "output_type": "execute_result",
          "data": {
            "text/plain": [
              "       acousticness  danceability   duration_ms       energy  \\\n",
              "count   2017.000000   2017.000000  2.017000e+03  2017.000000   \n",
              "mean       0.187590      0.618422  2.463062e+05     0.681577   \n",
              "std        0.259989      0.161029  8.198181e+04     0.210273   \n",
              "min        0.000003      0.122000  1.604200e+04     0.014800   \n",
              "25%        0.009630      0.514000  2.000150e+05     0.563000   \n",
              "50%        0.063300      0.631000  2.292610e+05     0.715000   \n",
              "75%        0.265000      0.738000  2.703330e+05     0.846000   \n",
              "max        0.995000      0.984000  1.004627e+06     0.998000   \n",
              "\n",
              "       instrumentalness          key     liveness     loudness         mode  \\\n",
              "count       2017.000000  2017.000000  2017.000000  2017.000000  2017.000000   \n",
              "mean           0.133286     5.342588     0.190844    -7.085624     0.612295   \n",
              "std            0.273162     3.648240     0.155453     3.761684     0.487347   \n",
              "min            0.000000     0.000000     0.018800   -33.097000     0.000000   \n",
              "25%            0.000000     2.000000     0.092300    -8.394000     0.000000   \n",
              "50%            0.000076     6.000000     0.127000    -6.248000     1.000000   \n",
              "75%            0.054000     9.000000     0.247000    -4.746000     1.000000   \n",
              "max            0.976000    11.000000     0.969000    -0.307000     1.000000   \n",
              "\n",
              "       speechiness        tempo  time_signature      valence       target  \n",
              "count  2017.000000  2017.000000     2017.000000  2017.000000  2017.000000  \n",
              "mean      0.092664   121.603272        3.968270     0.496815     0.505702  \n",
              "std       0.089931    26.685604        0.255853     0.247195     0.500091  \n",
              "min       0.023100    47.859000        1.000000     0.034800     0.000000  \n",
              "25%       0.037500   100.189000        4.000000     0.295000     0.000000  \n",
              "50%       0.054900   121.427000        4.000000     0.492000     1.000000  \n",
              "75%       0.108000   137.849000        4.000000     0.691000     1.000000  \n",
              "max       0.816000   219.331000        5.000000     0.992000     1.000000  "
            ],
            "text/html": [
              "\n",
              "  <div id=\"df-211681d7-25cb-42c7-88cf-c5a06902f36c\">\n",
              "    <div class=\"colab-df-container\">\n",
              "      <div>\n",
              "<style scoped>\n",
              "    .dataframe tbody tr th:only-of-type {\n",
              "        vertical-align: middle;\n",
              "    }\n",
              "\n",
              "    .dataframe tbody tr th {\n",
              "        vertical-align: top;\n",
              "    }\n",
              "\n",
              "    .dataframe thead th {\n",
              "        text-align: right;\n",
              "    }\n",
              "</style>\n",
              "<table border=\"1\" class=\"dataframe\">\n",
              "  <thead>\n",
              "    <tr style=\"text-align: right;\">\n",
              "      <th></th>\n",
              "      <th>acousticness</th>\n",
              "      <th>danceability</th>\n",
              "      <th>duration_ms</th>\n",
              "      <th>energy</th>\n",
              "      <th>instrumentalness</th>\n",
              "      <th>key</th>\n",
              "      <th>liveness</th>\n",
              "      <th>loudness</th>\n",
              "      <th>mode</th>\n",
              "      <th>speechiness</th>\n",
              "      <th>tempo</th>\n",
              "      <th>time_signature</th>\n",
              "      <th>valence</th>\n",
              "      <th>target</th>\n",
              "    </tr>\n",
              "  </thead>\n",
              "  <tbody>\n",
              "    <tr>\n",
              "      <th>count</th>\n",
              "      <td>2017.000000</td>\n",
              "      <td>2017.000000</td>\n",
              "      <td>2.017000e+03</td>\n",
              "      <td>2017.000000</td>\n",
              "      <td>2017.000000</td>\n",
              "      <td>2017.000000</td>\n",
              "      <td>2017.000000</td>\n",
              "      <td>2017.000000</td>\n",
              "      <td>2017.000000</td>\n",
              "      <td>2017.000000</td>\n",
              "      <td>2017.000000</td>\n",
              "      <td>2017.000000</td>\n",
              "      <td>2017.000000</td>\n",
              "      <td>2017.000000</td>\n",
              "    </tr>\n",
              "    <tr>\n",
              "      <th>mean</th>\n",
              "      <td>0.187590</td>\n",
              "      <td>0.618422</td>\n",
              "      <td>2.463062e+05</td>\n",
              "      <td>0.681577</td>\n",
              "      <td>0.133286</td>\n",
              "      <td>5.342588</td>\n",
              "      <td>0.190844</td>\n",
              "      <td>-7.085624</td>\n",
              "      <td>0.612295</td>\n",
              "      <td>0.092664</td>\n",
              "      <td>121.603272</td>\n",
              "      <td>3.968270</td>\n",
              "      <td>0.496815</td>\n",
              "      <td>0.505702</td>\n",
              "    </tr>\n",
              "    <tr>\n",
              "      <th>std</th>\n",
              "      <td>0.259989</td>\n",
              "      <td>0.161029</td>\n",
              "      <td>8.198181e+04</td>\n",
              "      <td>0.210273</td>\n",
              "      <td>0.273162</td>\n",
              "      <td>3.648240</td>\n",
              "      <td>0.155453</td>\n",
              "      <td>3.761684</td>\n",
              "      <td>0.487347</td>\n",
              "      <td>0.089931</td>\n",
              "      <td>26.685604</td>\n",
              "      <td>0.255853</td>\n",
              "      <td>0.247195</td>\n",
              "      <td>0.500091</td>\n",
              "    </tr>\n",
              "    <tr>\n",
              "      <th>min</th>\n",
              "      <td>0.000003</td>\n",
              "      <td>0.122000</td>\n",
              "      <td>1.604200e+04</td>\n",
              "      <td>0.014800</td>\n",
              "      <td>0.000000</td>\n",
              "      <td>0.000000</td>\n",
              "      <td>0.018800</td>\n",
              "      <td>-33.097000</td>\n",
              "      <td>0.000000</td>\n",
              "      <td>0.023100</td>\n",
              "      <td>47.859000</td>\n",
              "      <td>1.000000</td>\n",
              "      <td>0.034800</td>\n",
              "      <td>0.000000</td>\n",
              "    </tr>\n",
              "    <tr>\n",
              "      <th>25%</th>\n",
              "      <td>0.009630</td>\n",
              "      <td>0.514000</td>\n",
              "      <td>2.000150e+05</td>\n",
              "      <td>0.563000</td>\n",
              "      <td>0.000000</td>\n",
              "      <td>2.000000</td>\n",
              "      <td>0.092300</td>\n",
              "      <td>-8.394000</td>\n",
              "      <td>0.000000</td>\n",
              "      <td>0.037500</td>\n",
              "      <td>100.189000</td>\n",
              "      <td>4.000000</td>\n",
              "      <td>0.295000</td>\n",
              "      <td>0.000000</td>\n",
              "    </tr>\n",
              "    <tr>\n",
              "      <th>50%</th>\n",
              "      <td>0.063300</td>\n",
              "      <td>0.631000</td>\n",
              "      <td>2.292610e+05</td>\n",
              "      <td>0.715000</td>\n",
              "      <td>0.000076</td>\n",
              "      <td>6.000000</td>\n",
              "      <td>0.127000</td>\n",
              "      <td>-6.248000</td>\n",
              "      <td>1.000000</td>\n",
              "      <td>0.054900</td>\n",
              "      <td>121.427000</td>\n",
              "      <td>4.000000</td>\n",
              "      <td>0.492000</td>\n",
              "      <td>1.000000</td>\n",
              "    </tr>\n",
              "    <tr>\n",
              "      <th>75%</th>\n",
              "      <td>0.265000</td>\n",
              "      <td>0.738000</td>\n",
              "      <td>2.703330e+05</td>\n",
              "      <td>0.846000</td>\n",
              "      <td>0.054000</td>\n",
              "      <td>9.000000</td>\n",
              "      <td>0.247000</td>\n",
              "      <td>-4.746000</td>\n",
              "      <td>1.000000</td>\n",
              "      <td>0.108000</td>\n",
              "      <td>137.849000</td>\n",
              "      <td>4.000000</td>\n",
              "      <td>0.691000</td>\n",
              "      <td>1.000000</td>\n",
              "    </tr>\n",
              "    <tr>\n",
              "      <th>max</th>\n",
              "      <td>0.995000</td>\n",
              "      <td>0.984000</td>\n",
              "      <td>1.004627e+06</td>\n",
              "      <td>0.998000</td>\n",
              "      <td>0.976000</td>\n",
              "      <td>11.000000</td>\n",
              "      <td>0.969000</td>\n",
              "      <td>-0.307000</td>\n",
              "      <td>1.000000</td>\n",
              "      <td>0.816000</td>\n",
              "      <td>219.331000</td>\n",
              "      <td>5.000000</td>\n",
              "      <td>0.992000</td>\n",
              "      <td>1.000000</td>\n",
              "    </tr>\n",
              "  </tbody>\n",
              "</table>\n",
              "</div>\n",
              "      <button class=\"colab-df-convert\" onclick=\"convertToInteractive('df-211681d7-25cb-42c7-88cf-c5a06902f36c')\"\n",
              "              title=\"Convert this dataframe to an interactive table.\"\n",
              "              style=\"display:none;\">\n",
              "        \n",
              "  <svg xmlns=\"http://www.w3.org/2000/svg\" height=\"24px\"viewBox=\"0 0 24 24\"\n",
              "       width=\"24px\">\n",
              "    <path d=\"M0 0h24v24H0V0z\" fill=\"none\"/>\n",
              "    <path d=\"M18.56 5.44l.94 2.06.94-2.06 2.06-.94-2.06-.94-.94-2.06-.94 2.06-2.06.94zm-11 1L8.5 8.5l.94-2.06 2.06-.94-2.06-.94L8.5 2.5l-.94 2.06-2.06.94zm10 10l.94 2.06.94-2.06 2.06-.94-2.06-.94-.94-2.06-.94 2.06-2.06.94z\"/><path d=\"M17.41 7.96l-1.37-1.37c-.4-.4-.92-.59-1.43-.59-.52 0-1.04.2-1.43.59L10.3 9.45l-7.72 7.72c-.78.78-.78 2.05 0 2.83L4 21.41c.39.39.9.59 1.41.59.51 0 1.02-.2 1.41-.59l7.78-7.78 2.81-2.81c.8-.78.8-2.07 0-2.86zM5.41 20L4 18.59l7.72-7.72 1.47 1.35L5.41 20z\"/>\n",
              "  </svg>\n",
              "      </button>\n",
              "      \n",
              "  <style>\n",
              "    .colab-df-container {\n",
              "      display:flex;\n",
              "      flex-wrap:wrap;\n",
              "      gap: 12px;\n",
              "    }\n",
              "\n",
              "    .colab-df-convert {\n",
              "      background-color: #E8F0FE;\n",
              "      border: none;\n",
              "      border-radius: 50%;\n",
              "      cursor: pointer;\n",
              "      display: none;\n",
              "      fill: #1967D2;\n",
              "      height: 32px;\n",
              "      padding: 0 0 0 0;\n",
              "      width: 32px;\n",
              "    }\n",
              "\n",
              "    .colab-df-convert:hover {\n",
              "      background-color: #E2EBFA;\n",
              "      box-shadow: 0px 1px 2px rgba(60, 64, 67, 0.3), 0px 1px 3px 1px rgba(60, 64, 67, 0.15);\n",
              "      fill: #174EA6;\n",
              "    }\n",
              "\n",
              "    [theme=dark] .colab-df-convert {\n",
              "      background-color: #3B4455;\n",
              "      fill: #D2E3FC;\n",
              "    }\n",
              "\n",
              "    [theme=dark] .colab-df-convert:hover {\n",
              "      background-color: #434B5C;\n",
              "      box-shadow: 0px 1px 3px 1px rgba(0, 0, 0, 0.15);\n",
              "      filter: drop-shadow(0px 1px 2px rgba(0, 0, 0, 0.3));\n",
              "      fill: #FFFFFF;\n",
              "    }\n",
              "  </style>\n",
              "\n",
              "      <script>\n",
              "        const buttonEl =\n",
              "          document.querySelector('#df-211681d7-25cb-42c7-88cf-c5a06902f36c button.colab-df-convert');\n",
              "        buttonEl.style.display =\n",
              "          google.colab.kernel.accessAllowed ? 'block' : 'none';\n",
              "\n",
              "        async function convertToInteractive(key) {\n",
              "          const element = document.querySelector('#df-211681d7-25cb-42c7-88cf-c5a06902f36c');\n",
              "          const dataTable =\n",
              "            await google.colab.kernel.invokeFunction('convertToInteractive',\n",
              "                                                     [key], {});\n",
              "          if (!dataTable) return;\n",
              "\n",
              "          const docLinkHtml = 'Like what you see? Visit the ' +\n",
              "            '<a target=\"_blank\" href=https://colab.research.google.com/notebooks/data_table.ipynb>data table notebook</a>'\n",
              "            + ' to learn more about interactive tables.';\n",
              "          element.innerHTML = '';\n",
              "          dataTable['output_type'] = 'display_data';\n",
              "          await google.colab.output.renderOutput(dataTable, element);\n",
              "          const docLink = document.createElement('div');\n",
              "          docLink.innerHTML = docLinkHtml;\n",
              "          element.appendChild(docLink);\n",
              "        }\n",
              "      </script>\n",
              "    </div>\n",
              "  </div>\n",
              "  "
            ]
          },
          "metadata": {},
          "execution_count": 303
        }
      ]
    },
    {
      "cell_type": "markdown",
      "source": [
        "# **Analizamos la correlación que existe sobre los datos de la columna**"
      ],
      "metadata": {
        "id": "0cCyQPsfuwH2"
      }
    },
    {
      "cell_type": "markdown",
      "source": [
        "Para clasificar las canciones utilizaremos los atributos  que son relevantes como variables de entrada.  Si revisamos el conjunto de datos, podemos observar\n",
        "que algunas variables no proporcionan mucha informacion sobre la  variable que queremos predecir con el clasificador, es decir sobre el target(objetivo).\n",
        "\n",
        "Por lo tanto, variables como 'song tittle', 'key', 'mode' y 'time_signature' no se consideran relevantes para el analisis ( No colabora a definir si la canción va ha ser del agrado de una persona)."
      ],
      "metadata": {
        "id": "npiL3VqLlYY_"
      }
    },
    {
      "cell_type": "code",
      "source": [
        "attrib_spotify.corr()['target']"
      ],
      "metadata": {
        "colab": {
          "base_uri": "https://localhost:8080/"
        },
        "id": "14iwLrwpvMB0",
        "outputId": "e9c140c5-d8ab-43ef-89fe-026b671baabe"
      },
      "execution_count": 304,
      "outputs": [
        {
          "output_type": "execute_result",
          "data": {
            "text/plain": [
              "acousticness       -0.129627\n",
              "danceability        0.176706\n",
              "duration_ms         0.146749\n",
              "energy              0.039688\n",
              "instrumentalness    0.152594\n",
              "key                 0.033594\n",
              "liveness            0.026364\n",
              "loudness           -0.072000\n",
              "mode               -0.072336\n",
              "speechiness         0.154006\n",
              "tempo               0.034732\n",
              "time_signature      0.040182\n",
              "valence             0.107930\n",
              "target              1.000000\n",
              "Name: target, dtype: float64"
            ]
          },
          "metadata": {},
          "execution_count": 304
        }
      ]
    },
    {
      "cell_type": "markdown",
      "source": [
        "# **Comportamiento del Clasificador**"
      ],
      "metadata": {
        "id": "_UipzwX7y3u3"
      }
    },
    {
      "cell_type": "code",
      "source": [
        "# Transformamos algunos atributos ('key' y 'mode') en variables ficticias para realizar el cálculo del clasificador.\n",
        "\n",
        "le = LabelEncoder()\n",
        "attrib_spotify['key'] = le.fit_transform(attrib_spotify['key'])\n",
        "attrib_spotify['mode'] = le.fit_transform(attrib_spotify['mode'])\n"
      ],
      "metadata": {
        "id": "0OYHmTcBy8Wx"
      },
      "execution_count": 305,
      "outputs": []
    },
    {
      "cell_type": "markdown",
      "source": [
        "# **Análisis  de las variables (atributos) relevantes como datos de entrada**"
      ],
      "metadata": {
        "id": "y-tF1ZWYWCTj"
      }
    },
    {
      "cell_type": "code",
      "source": [
        "# Separamos las variables del target\n",
        "\n",
        "variables_columns = ['acousticness', 'danceability', 'duration_ms', 'energy', 'instrumentalness', 'liveness', 'loudness','speechiness', 'tempo','valence']\n",
        "\n",
        "X, y = attrib_spotify[variables_columns], attrib_spotify['target']\n"
      ],
      "metadata": {
        "id": "05ukr3qxNnvR"
      },
      "execution_count": 306,
      "outputs": []
    },
    {
      "cell_type": "markdown",
      "source": [
        "# **KNeighborsClassifier**"
      ],
      "metadata": {
        "id": "Br991Fa4WyYw"
      }
    },
    {
      "cell_type": "code",
      "source": [
        "# Generamos un nuevo modelo knn\n",
        "\n",
        "knn2 = neighbors.KNeighborsClassifier()\n",
        "\n",
        "# Creamos un Diccionario (Hiperparametros) de todos los valores que queremos probar para n_neighbors\n",
        "\n",
        "params_grid_2 = {'n_neighbors': np.arange(1, 100)}\n",
        "\n",
        "\n",
        "# utilizamos gridsearch para probar todos los valores de n_neighbors\n",
        "# usando 10 divisiones de validaciones cruzadas.\n",
        "\n",
        "# # CV - Validacion Cruzada\n",
        "\n",
        "# # El objetivo de la validación cruzada o cross-validation es garantizar que los resultados\n",
        "# # que obtengamos sean independientes de la partición entre datos de entrenamiento y \n",
        "# #datos de validación.\n",
        "# #Consiste en repetir y calcular la media aritmética de las medidas de evaluación que obtenemos sobre\n",
        "# # diferentes particiones. En este caso, vamos a utilizar un proceso de validación cruzada con 10 interacciones. \n",
        "# # Eso significa que nuestro conjunto de datos de entrenamiento, se divide en 10 partes, entrena en 9, \n",
        "# # valida en 1 y repite el proceso 10 veces. \n",
        "\n",
        "\n",
        "knn_gscv_2 = GridSearchCV(knn2, params_grid_2, cv=10)\n",
        "\n",
        "\n",
        "# Ajustamos el modelo a los datos\n",
        "knn_gscv_2.fit(X, y)\n",
        "\n",
        "# verificamos el valor de n_neighbors de mayor performance\n",
        "\n",
        "print(knn_gscv_2.best_params_)\n",
        "print(np.round(knn_gscv_2.best_score_,2))\n",
        "\n",
        "\n"
      ],
      "metadata": {
        "colab": {
          "base_uri": "https://localhost:8080/"
        },
        "id": "Z98vIyUL4hRH",
        "outputId": "dc365f33-6a8d-4b9d-8ac2-a66f9bebba32"
      },
      "execution_count": 307,
      "outputs": [
        {
          "output_type": "stream",
          "name": "stdout",
          "text": [
            "{'n_neighbors': 41}\n",
            "0.59\n"
          ]
        }
      ]
    },
    {
      "cell_type": "markdown",
      "source": [
        "# **Ploteo**"
      ],
      "metadata": {
        "id": "6Lh1W4oA6W-l"
      }
    },
    {
      "cell_type": "code",
      "source": [
        "plt.figure(figsize=(12, 6))\n",
        "ax = plt.axes()\n",
        "ax.set_facecolor(\"lightgreen\")\n",
        "\n",
        "\n",
        "plt.plot(knn_gscv_2.cv_results_['param_n_neighbors'].data, knn_gscv_2.cv_results_['mean_test_score'])\n",
        "plt.title('Accuracy vs. K Value')\n",
        "plt.xlabel('K Value')\n",
        "plt.ylabel('Accuracy')\n",
        "\n",
        "plt.show()\n",
        "\n",
        "\n"
      ],
      "metadata": {
        "colab": {
          "base_uri": "https://localhost:8080/",
          "height": 404
        },
        "id": "EZT-C4ge6WBx",
        "outputId": "8858e5d9-1b2c-4a60-fca9-ef7905742623"
      },
      "execution_count": 308,
      "outputs": [
        {
          "output_type": "display_data",
          "data": {
            "text/plain": [
              "<Figure size 864x432 with 1 Axes>"
            ],
            "image/png": "[encoded data removed]"
          },
          "metadata": {
            "needs_background": "light"
          }
        }
      ]
    },
    {
      "cell_type": "markdown",
      "source": [
        "# **Comentario**\n",
        "\n"
      ],
      "metadata": {
        "id": "_z1hMsQqDsZy"
      }
    },
    {
      "cell_type": "markdown",
      "source": [
        "\n",
        "Utilizando las variables relevantes ( Sin considerar la columna 'Unnamed' y soslayando algunas variables mencionadas al inicio) se obtuvo un 59 % de Accuracy. Lo cual no es un resultado favorable.\n",
        "\n",
        "Por otro lado, podemos apreciar en el conjunto de datos que las variables (atributos) presentan diferentes escalas, por ende, algunas variables como 'duration_ms', 'loudness' pueden tener mas incidencia que otras. \n",
        "\n",
        "Por lo tanto, es importante que normalicemos todas las variables que consideraremos para el clasificador.\n",
        "\n"
      ],
      "metadata": {
        "id": "zPQb_zCBD0Mo"
      }
    },
    {
      "cell_type": "markdown",
      "source": [
        "#**Normalización de valores - StandardScaler()**"
      ],
      "metadata": {
        "id": "HHDEDhVaj4Ha"
      }
    },
    {
      "cell_type": "code",
      "source": [
        "# StandardScaler se usa para cambiar el tamaño de la distribución de valores para que la media de\n",
        "# los valores observados sea 0 y la desviación estándar sea 1, garatizando que el modelo no sea sensible\n",
        "# a la escala arbritaria de los datos.\n",
        "\n",
        "# Utilizamos  Standar Scaler para normalizar el dataset\n",
        "\n",
        "scaler = StandardScaler()\n",
        "\n",
        "#Separamos las variables del targets\n",
        "\n",
        "variables_columns = ['acousticness', 'danceability', 'duration_ms', 'energy', 'instrumentalness', 'liveness', 'loudness','speechiness', 'tempo','valence']\n",
        "X, y = attrib_spotify[variables_columns], attrib_spotify['target']\n",
        "\n",
        "#Fit standard scaler\n",
        "\n",
        "# Ajustamos el escalador usando los datos de entrenamiento disponibles.\n",
        "# Para la normalización, esto significa que los datos de entrenamiento se\n",
        "# utilizarán para estimar los valores mínimos y máximos observables. \n",
        "\n",
        "scaler.fit(X)\n",
        "\n",
        "# Normalizacion de las variables\n",
        "\n",
        "# transformacion de los datos, de modo que la distribución tenga un valor medio\n",
        "#  de 0 y una desviación estándar de 1.\n",
        "\n",
        "X_new = scaler.transform(X)\n",
        "X_norm = pd.DataFrame(X_new, columns=X.columns)\n",
        "X_norm"
      ],
      "metadata": {
        "colab": {
          "base_uri": "https://localhost:8080/",
          "height": 424
        },
        "id": "PR0vwIz_G9e5",
        "outputId": "dc614bd3-49df-423a-c9de-82671e2d8063"
      },
      "execution_count": 309,
      "outputs": [
        {
          "output_type": "execute_result",
          "data": {
            "text/plain": [
              "      acousticness  danceability  duration_ms    energy  instrumentalness  \\\n",
              "0        -0.682467      1.332874    -0.508851 -1.177700         -0.407864   \n",
              "1         0.043897      0.773830     0.983716 -1.534468         -0.465683   \n",
              "2        -0.589363      1.363932    -0.739362 -1.282352         -0.487200   \n",
              "3         1.602040     -0.772860    -0.572137 -1.634363          1.379429   \n",
              "4        -0.029201      0.370075     1.788484 -0.573574          1.386753   \n",
              "...            ...           ...          ...       ...               ...   \n",
              "2012     -0.717631     -0.213815     0.342817  1.191237         -0.478206   \n",
              "2013     -0.384304      1.711782    -0.782370  1.000961         -0.481941   \n",
              "2014     -0.688738      0.115400    -0.477129  1.205508         -0.473446   \n",
              "2015     -0.715399     -0.381529    -0.740667  1.476651          1.990939   \n",
              "2016     -0.710898     -1.071016    -0.509827  1.110370         -0.487915   \n",
              "\n",
              "      liveness  loudness  speechiness     tempo   valence  \n",
              "0    -0.166291 -0.454530     3.763084  1.066709 -0.853039  \n",
              "1    -0.346454 -0.881573    -0.147529  1.442323  0.368970  \n",
              "2    -0.204897 -0.016586     2.183712 -1.745166 -1.310280  \n",
              "3    -0.634715 -2.167220    -0.740350 -1.316964 -1.079636  \n",
              "4     1.596735 -1.213155    -0.258753  1.964120  1.647627  \n",
              "...        ...       ...          ...       ...       ...  \n",
              "2012 -0.397929  0.953167     2.673095 -1.747715 -1.156518  \n",
              "2013 -0.888231  1.175995     0.426383 -0.433385  1.497911  \n",
              "2014  0.148995  1.228112     0.159447  1.067459 -0.108504  \n",
              "2015 -0.640506  1.156850     0.448628  1.064798  0.510593  \n",
              "2016  0.174732  0.229907     0.537606  2.564180 -0.383658  \n",
              "\n",
              "[2017 rows x 10 columns]"
            ],
            "text/html": [
              "\n",
              "  <div id=\"df-b455bd0d-f526-4d85-89b0-d0bb300522b5\">\n",
              "    <div class=\"colab-df-container\">\n",
              "      <div>\n",
              "<style scoped>\n",
              "    .dataframe tbody tr th:only-of-type {\n",
              "        vertical-align: middle;\n",
              "    }\n",
              "\n",
              "    .dataframe tbody tr th {\n",
              "        vertical-align: top;\n",
              "    }\n",
              "\n",
              "    .dataframe thead th {\n",
              "        text-align: right;\n",
              "    }\n",
              "</style>\n",
              "<table border=\"1\" class=\"dataframe\">\n",
              "  <thead>\n",
              "    <tr style=\"text-align: right;\">\n",
              "      <th></th>\n",
              "      <th>acousticness</th>\n",
              "      <th>danceability</th>\n",
              "      <th>duration_ms</th>\n",
              "      <th>energy</th>\n",
              "      <th>instrumentalness</th>\n",
              "      <th>liveness</th>\n",
              "      <th>loudness</th>\n",
              "      <th>speechiness</th>\n",
              "      <th>tempo</th>\n",
              "      <th>valence</th>\n",
              "    </tr>\n",
              "  </thead>\n",
              "  <tbody>\n",
              "    <tr>\n",
              "      <th>0</th>\n",
              "      <td>-0.682467</td>\n",
              "      <td>1.332874</td>\n",
              "      <td>-0.508851</td>\n",
              "      <td>-1.177700</td>\n",
              "      <td>-0.407864</td>\n",
              "      <td>-0.166291</td>\n",
              "      <td>-0.454530</td>\n",
              "      <td>3.763084</td>\n",
              "      <td>1.066709</td>\n",
              "      <td>-0.853039</td>\n",
              "    </tr>\n",
              "    <tr>\n",
              "      <th>1</th>\n",
              "      <td>0.043897</td>\n",
              "      <td>0.773830</td>\n",
              "      <td>0.983716</td>\n",
              "      <td>-1.534468</td>\n",
              "      <td>-0.465683</td>\n",
              "      <td>-0.346454</td>\n",
              "      <td>-0.881573</td>\n",
              "      <td>-0.147529</td>\n",
              "      <td>1.442323</td>\n",
              "      <td>0.368970</td>\n",
              "    </tr>\n",
              "    <tr>\n",
              "      <th>2</th>\n",
              "      <td>-0.589363</td>\n",
              "      <td>1.363932</td>\n",
              "      <td>-0.739362</td>\n",
              "      <td>-1.282352</td>\n",
              "      <td>-0.487200</td>\n",
              "      <td>-0.204897</td>\n",
              "      <td>-0.016586</td>\n",
              "      <td>2.183712</td>\n",
              "      <td>-1.745166</td>\n",
              "      <td>-1.310280</td>\n",
              "    </tr>\n",
              "    <tr>\n",
              "      <th>3</th>\n",
              "      <td>1.602040</td>\n",
              "      <td>-0.772860</td>\n",
              "      <td>-0.572137</td>\n",
              "      <td>-1.634363</td>\n",
              "      <td>1.379429</td>\n",
              "      <td>-0.634715</td>\n",
              "      <td>-2.167220</td>\n",
              "      <td>-0.740350</td>\n",
              "      <td>-1.316964</td>\n",
              "      <td>-1.079636</td>\n",
              "    </tr>\n",
              "    <tr>\n",
              "      <th>4</th>\n",
              "      <td>-0.029201</td>\n",
              "      <td>0.370075</td>\n",
              "      <td>1.788484</td>\n",
              "      <td>-0.573574</td>\n",
              "      <td>1.386753</td>\n",
              "      <td>1.596735</td>\n",
              "      <td>-1.213155</td>\n",
              "      <td>-0.258753</td>\n",
              "      <td>1.964120</td>\n",
              "      <td>1.647627</td>\n",
              "    </tr>\n",
              "    <tr>\n",
              "      <th>...</th>\n",
              "      <td>...</td>\n",
              "      <td>...</td>\n",
              "      <td>...</td>\n",
              "      <td>...</td>\n",
              "      <td>...</td>\n",
              "      <td>...</td>\n",
              "      <td>...</td>\n",
              "      <td>...</td>\n",
              "      <td>...</td>\n",
              "      <td>...</td>\n",
              "    </tr>\n",
              "    <tr>\n",
              "      <th>2012</th>\n",
              "      <td>-0.717631</td>\n",
              "      <td>-0.213815</td>\n",
              "      <td>0.342817</td>\n",
              "      <td>1.191237</td>\n",
              "      <td>-0.478206</td>\n",
              "      <td>-0.397929</td>\n",
              "      <td>0.953167</td>\n",
              "      <td>2.673095</td>\n",
              "      <td>-1.747715</td>\n",
              "      <td>-1.156518</td>\n",
              "    </tr>\n",
              "    <tr>\n",
              "      <th>2013</th>\n",
              "      <td>-0.384304</td>\n",
              "      <td>1.711782</td>\n",
              "      <td>-0.782370</td>\n",
              "      <td>1.000961</td>\n",
              "      <td>-0.481941</td>\n",
              "      <td>-0.888231</td>\n",
              "      <td>1.175995</td>\n",
              "      <td>0.426383</td>\n",
              "      <td>-0.433385</td>\n",
              "      <td>1.497911</td>\n",
              "    </tr>\n",
              "    <tr>\n",
              "      <th>2014</th>\n",
              "      <td>-0.688738</td>\n",
              "      <td>0.115400</td>\n",
              "      <td>-0.477129</td>\n",
              "      <td>1.205508</td>\n",
              "      <td>-0.473446</td>\n",
              "      <td>0.148995</td>\n",
              "      <td>1.228112</td>\n",
              "      <td>0.159447</td>\n",
              "      <td>1.067459</td>\n",
              "      <td>-0.108504</td>\n",
              "    </tr>\n",
              "    <tr>\n",
              "      <th>2015</th>\n",
              "      <td>-0.715399</td>\n",
              "      <td>-0.381529</td>\n",
              "      <td>-0.740667</td>\n",
              "      <td>1.476651</td>\n",
              "      <td>1.990939</td>\n",
              "      <td>-0.640506</td>\n",
              "      <td>1.156850</td>\n",
              "      <td>0.448628</td>\n",
              "      <td>1.064798</td>\n",
              "      <td>0.510593</td>\n",
              "    </tr>\n",
              "    <tr>\n",
              "      <th>2016</th>\n",
              "      <td>-0.710898</td>\n",
              "      <td>-1.071016</td>\n",
              "      <td>-0.509827</td>\n",
              "      <td>1.110370</td>\n",
              "      <td>-0.487915</td>\n",
              "      <td>0.174732</td>\n",
              "      <td>0.229907</td>\n",
              "      <td>0.537606</td>\n",
              "      <td>2.564180</td>\n",
              "      <td>-0.383658</td>\n",
              "    </tr>\n",
              "  </tbody>\n",
              "</table>\n",
              "<p>2017 rows × 10 columns</p>\n",
              "</div>\n",
              "      <button class=\"colab-df-convert\" onclick=\"convertToInteractive('df-b455bd0d-f526-4d85-89b0-d0bb300522b5')\"\n",
              "              title=\"Convert this dataframe to an interactive table.\"\n",
              "              style=\"display:none;\">\n",
              "        \n",
              "  <svg xmlns=\"http://www.w3.org/2000/svg\" height=\"24px\"viewBox=\"0 0 24 24\"\n",
              "       width=\"24px\">\n",
              "    <path d=\"M0 0h24v24H0V0z\" fill=\"none\"/>\n",
              "    <path d=\"M18.56 5.44l.94 2.06.94-2.06 2.06-.94-2.06-.94-.94-2.06-.94 2.06-2.06.94zm-11 1L8.5 8.5l.94-2.06 2.06-.94-2.06-.94L8.5 2.5l-.94 2.06-2.06.94zm10 10l.94 2.06.94-2.06 2.06-.94-2.06-.94-.94-2.06-.94 2.06-2.06.94z\"/><path d=\"M17.41 7.96l-1.37-1.37c-.4-.4-.92-.59-1.43-.59-.52 0-1.04.2-1.43.59L10.3 9.45l-7.72 7.72c-.78.78-.78 2.05 0 2.83L4 21.41c.39.39.9.59 1.41.59.51 0 1.02-.2 1.41-.59l7.78-7.78 2.81-2.81c.8-.78.8-2.07 0-2.86zM5.41 20L4 18.59l7.72-7.72 1.47 1.35L5.41 20z\"/>\n",
              "  </svg>\n",
              "      </button>\n",
              "      \n",
              "  <style>\n",
              "    .colab-df-container {\n",
              "      display:flex;\n",
              "      flex-wrap:wrap;\n",
              "      gap: 12px;\n",
              "    }\n",
              "\n",
              "    .colab-df-convert {\n",
              "      background-color: #E8F0FE;\n",
              "      border: none;\n",
              "      border-radius: 50%;\n",
              "      cursor: pointer;\n",
              "      display: none;\n",
              "      fill: #1967D2;\n",
              "      height: 32px;\n",
              "      padding: 0 0 0 0;\n",
              "      width: 32px;\n",
              "    }\n",
              "\n",
              "    .colab-df-convert:hover {\n",
              "      background-color: #E2EBFA;\n",
              "      box-shadow: 0px 1px 2px rgba(60, 64, 67, 0.3), 0px 1px 3px 1px rgba(60, 64, 67, 0.15);\n",
              "      fill: #174EA6;\n",
              "    }\n",
              "\n",
              "    [theme=dark] .colab-df-convert {\n",
              "      background-color: #3B4455;\n",
              "      fill: #D2E3FC;\n",
              "    }\n",
              "\n",
              "    [theme=dark] .colab-df-convert:hover {\n",
              "      background-color: #434B5C;\n",
              "      box-shadow: 0px 1px 3px 1px rgba(0, 0, 0, 0.15);\n",
              "      filter: drop-shadow(0px 1px 2px rgba(0, 0, 0, 0.3));\n",
              "      fill: #FFFFFF;\n",
              "    }\n",
              "  </style>\n",
              "\n",
              "      <script>\n",
              "        const buttonEl =\n",
              "          document.querySelector('#df-b455bd0d-f526-4d85-89b0-d0bb300522b5 button.colab-df-convert');\n",
              "        buttonEl.style.display =\n",
              "          google.colab.kernel.accessAllowed ? 'block' : 'none';\n",
              "\n",
              "        async function convertToInteractive(key) {\n",
              "          const element = document.querySelector('#df-b455bd0d-f526-4d85-89b0-d0bb300522b5');\n",
              "          const dataTable =\n",
              "            await google.colab.kernel.invokeFunction('convertToInteractive',\n",
              "                                                     [key], {});\n",
              "          if (!dataTable) return;\n",
              "\n",
              "          const docLinkHtml = 'Like what you see? Visit the ' +\n",
              "            '<a target=\"_blank\" href=https://colab.research.google.com/notebooks/data_table.ipynb>data table notebook</a>'\n",
              "            + ' to learn more about interactive tables.';\n",
              "          element.innerHTML = '';\n",
              "          dataTable['output_type'] = 'display_data';\n",
              "          await google.colab.output.renderOutput(dataTable, element);\n",
              "          const docLink = document.createElement('div');\n",
              "          docLink.innerHTML = docLinkHtml;\n",
              "          element.appendChild(docLink);\n",
              "        }\n",
              "      </script>\n",
              "    </div>\n",
              "  </div>\n",
              "  "
            ]
          },
          "metadata": {},
          "execution_count": 309
        }
      ]
    },
    {
      "cell_type": "markdown",
      "source": [
        "# **Parametros Estadísticos**"
      ],
      "metadata": {
        "id": "-ppBPHFH9hWB"
      }
    },
    {
      "cell_type": "code",
      "source": [
        "X_norm.describe()"
      ],
      "metadata": {
        "colab": {
          "base_uri": "https://localhost:8080/",
          "height": 300
        },
        "id": "jdlzTrlK8TBe",
        "outputId": "c31b1224-449b-4fba-b43b-a14ccb343a26"
      },
      "execution_count": 310,
      "outputs": [
        {
          "output_type": "execute_result",
          "data": {
            "text/plain": [
              "       acousticness  danceability   duration_ms        energy  \\\n",
              "count  2.017000e+03  2.017000e+03  2.017000e+03  2.017000e+03   \n",
              "mean  -4.238333e-18  5.201590e-16 -8.548222e-17 -3.764961e-17   \n",
              "std    1.000248e+00  1.000248e+00  1.000248e+00  1.000248e+00   \n",
              "min   -7.216979e-01 -3.083576e+00 -2.809419e+00 -3.171793e+00   \n",
              "25%   -6.846597e-01 -6.486275e-01 -5.647920e-01 -5.640598e-01   \n",
              "50%   -4.781769e-01  7.813008e-02 -2.079659e-01  1.589892e-01   \n",
              "75%    2.978168e-01  7.427716e-01  2.931475e-01  7.821433e-01   \n",
              "max    3.106321e+00  2.270826e+00  9.252160e+00  1.505192e+00   \n",
              "\n",
              "       instrumentalness      liveness      loudness   speechiness  \\\n",
              "count      2.017000e+03  2.017000e+03  2.017000e+03  2.017000e+03   \n",
              "mean       1.751202e-16 -8.641795e-17  2.343468e-16  1.684324e-17   \n",
              "std        1.000248e+00  1.000248e+00  1.000248e+00  1.000248e+00   \n",
              "min       -4.880565e-01 -1.107000e+00 -6.916536e+00 -7.737170e-01   \n",
              "25%       -4.880565e-01 -6.340718e-01 -3.479027e-01 -6.135554e-01   \n",
              "50%       -4.877775e-01 -4.107981e-01  2.227279e-01 -4.200267e-01   \n",
              "75%       -2.903227e-01  3.613301e-01  6.221161e-01  1.705693e-01   \n",
              "max        3.085799e+00  5.006968e+00  1.802465e+00  8.045183e+00   \n",
              "\n",
              "              tempo       valence  \n",
              "count  2.017000e+03  2.017000e+03  \n",
              "mean  -2.842435e-16  2.870507e-17  \n",
              "std    1.000248e+00  1.000248e+00  \n",
              "min   -2.764133e+00 -1.869491e+00  \n",
              "25%   -8.026643e-01 -8.166212e-01  \n",
              "50%   -6.607136e-03 -1.948343e-02  \n",
              "75%    6.089335e-01  7.857471e-01  \n",
              "max    3.663097e+00  2.003709e+00  "
            ],
            "text/html": [
              "\n",
              "  <div id=\"df-bbffc35f-c61c-4315-a74e-1f216aa879e4\">\n",
              "    <div class=\"colab-df-container\">\n",
              "      <div>\n",
              "<style scoped>\n",
              "    .dataframe tbody tr th:only-of-type {\n",
              "        vertical-align: middle;\n",
              "    }\n",
              "\n",
              "    .dataframe tbody tr th {\n",
              "        vertical-align: top;\n",
              "    }\n",
              "\n",
              "    .dataframe thead th {\n",
              "        text-align: right;\n",
              "    }\n",
              "</style>\n",
              "<table border=\"1\" class=\"dataframe\">\n",
              "  <thead>\n",
              "    <tr style=\"text-align: right;\">\n",
              "      <th></th>\n",
              "      <th>acousticness</th>\n",
              "      <th>danceability</th>\n",
              "      <th>duration_ms</th>\n",
              "      <th>energy</th>\n",
              "      <th>instrumentalness</th>\n",
              "      <th>liveness</th>\n",
              "      <th>loudness</th>\n",
              "      <th>speechiness</th>\n",
              "      <th>tempo</th>\n",
              "      <th>valence</th>\n",
              "    </tr>\n",
              "  </thead>\n",
              "  <tbody>\n",
              "    <tr>\n",
              "      <th>count</th>\n",
              "      <td>2.017000e+03</td>\n",
              "      <td>2.017000e+03</td>\n",
              "      <td>2.017000e+03</td>\n",
              "      <td>2.017000e+03</td>\n",
              "      <td>2.017000e+03</td>\n",
              "      <td>2.017000e+03</td>\n",
              "      <td>2.017000e+03</td>\n",
              "      <td>2.017000e+03</td>\n",
              "      <td>2.017000e+03</td>\n",
              "      <td>2.017000e+03</td>\n",
              "    </tr>\n",
              "    <tr>\n",
              "      <th>mean</th>\n",
              "      <td>-4.238333e-18</td>\n",
              "      <td>5.201590e-16</td>\n",
              "      <td>-8.548222e-17</td>\n",
              "      <td>-3.764961e-17</td>\n",
              "      <td>1.751202e-16</td>\n",
              "      <td>-8.641795e-17</td>\n",
              "      <td>2.343468e-16</td>\n",
              "      <td>1.684324e-17</td>\n",
              "      <td>-2.842435e-16</td>\n",
              "      <td>2.870507e-17</td>\n",
              "    </tr>\n",
              "    <tr>\n",
              "      <th>std</th>\n",
              "      <td>1.000248e+00</td>\n",
              "      <td>1.000248e+00</td>\n",
              "      <td>1.000248e+00</td>\n",
              "      <td>1.000248e+00</td>\n",
              "      <td>1.000248e+00</td>\n",
              "      <td>1.000248e+00</td>\n",
              "      <td>1.000248e+00</td>\n",
              "      <td>1.000248e+00</td>\n",
              "      <td>1.000248e+00</td>\n",
              "      <td>1.000248e+00</td>\n",
              "    </tr>\n",
              "    <tr>\n",
              "      <th>min</th>\n",
              "      <td>-7.216979e-01</td>\n",
              "      <td>-3.083576e+00</td>\n",
              "      <td>-2.809419e+00</td>\n",
              "      <td>-3.171793e+00</td>\n",
              "      <td>-4.880565e-01</td>\n",
              "      <td>-1.107000e+00</td>\n",
              "      <td>-6.916536e+00</td>\n",
              "      <td>-7.737170e-01</td>\n",
              "      <td>-2.764133e+00</td>\n",
              "      <td>-1.869491e+00</td>\n",
              "    </tr>\n",
              "    <tr>\n",
              "      <th>25%</th>\n",
              "      <td>-6.846597e-01</td>\n",
              "      <td>-6.486275e-01</td>\n",
              "      <td>-5.647920e-01</td>\n",
              "      <td>-5.640598e-01</td>\n",
              "      <td>-4.880565e-01</td>\n",
              "      <td>-6.340718e-01</td>\n",
              "      <td>-3.479027e-01</td>\n",
              "      <td>-6.135554e-01</td>\n",
              "      <td>-8.026643e-01</td>\n",
              "      <td>-8.166212e-01</td>\n",
              "    </tr>\n",
              "    <tr>\n",
              "      <th>50%</th>\n",
              "      <td>-4.781769e-01</td>\n",
              "      <td>7.813008e-02</td>\n",
              "      <td>-2.079659e-01</td>\n",
              "      <td>1.589892e-01</td>\n",
              "      <td>-4.877775e-01</td>\n",
              "      <td>-4.107981e-01</td>\n",
              "      <td>2.227279e-01</td>\n",
              "      <td>-4.200267e-01</td>\n",
              "      <td>-6.607136e-03</td>\n",
              "      <td>-1.948343e-02</td>\n",
              "    </tr>\n",
              "    <tr>\n",
              "      <th>75%</th>\n",
              "      <td>2.978168e-01</td>\n",
              "      <td>7.427716e-01</td>\n",
              "      <td>2.931475e-01</td>\n",
              "      <td>7.821433e-01</td>\n",
              "      <td>-2.903227e-01</td>\n",
              "      <td>3.613301e-01</td>\n",
              "      <td>6.221161e-01</td>\n",
              "      <td>1.705693e-01</td>\n",
              "      <td>6.089335e-01</td>\n",
              "      <td>7.857471e-01</td>\n",
              "    </tr>\n",
              "    <tr>\n",
              "      <th>max</th>\n",
              "      <td>3.106321e+00</td>\n",
              "      <td>2.270826e+00</td>\n",
              "      <td>9.252160e+00</td>\n",
              "      <td>1.505192e+00</td>\n",
              "      <td>3.085799e+00</td>\n",
              "      <td>5.006968e+00</td>\n",
              "      <td>1.802465e+00</td>\n",
              "      <td>8.045183e+00</td>\n",
              "      <td>3.663097e+00</td>\n",
              "      <td>2.003709e+00</td>\n",
              "    </tr>\n",
              "  </tbody>\n",
              "</table>\n",
              "</div>\n",
              "      <button class=\"colab-df-convert\" onclick=\"convertToInteractive('df-bbffc35f-c61c-4315-a74e-1f216aa879e4')\"\n",
              "              title=\"Convert this dataframe to an interactive table.\"\n",
              "              style=\"display:none;\">\n",
              "        \n",
              "  <svg xmlns=\"http://www.w3.org/2000/svg\" height=\"24px\"viewBox=\"0 0 24 24\"\n",
              "       width=\"24px\">\n",
              "    <path d=\"M0 0h24v24H0V0z\" fill=\"none\"/>\n",
              "    <path d=\"M18.56 5.44l.94 2.06.94-2.06 2.06-.94-2.06-.94-.94-2.06-.94 2.06-2.06.94zm-11 1L8.5 8.5l.94-2.06 2.06-.94-2.06-.94L8.5 2.5l-.94 2.06-2.06.94zm10 10l.94 2.06.94-2.06 2.06-.94-2.06-.94-.94-2.06-.94 2.06-2.06.94z\"/><path d=\"M17.41 7.96l-1.37-1.37c-.4-.4-.92-.59-1.43-.59-.52 0-1.04.2-1.43.59L10.3 9.45l-7.72 7.72c-.78.78-.78 2.05 0 2.83L4 21.41c.39.39.9.59 1.41.59.51 0 1.02-.2 1.41-.59l7.78-7.78 2.81-2.81c.8-.78.8-2.07 0-2.86zM5.41 20L4 18.59l7.72-7.72 1.47 1.35L5.41 20z\"/>\n",
              "  </svg>\n",
              "      </button>\n",
              "      \n",
              "  <style>\n",
              "    .colab-df-container {\n",
              "      display:flex;\n",
              "      flex-wrap:wrap;\n",
              "      gap: 12px;\n",
              "    }\n",
              "\n",
              "    .colab-df-convert {\n",
              "      background-color: #E8F0FE;\n",
              "      border: none;\n",
              "      border-radius: 50%;\n",
              "      cursor: pointer;\n",
              "      display: none;\n",
              "      fill: #1967D2;\n",
              "      height: 32px;\n",
              "      padding: 0 0 0 0;\n",
              "      width: 32px;\n",
              "    }\n",
              "\n",
              "    .colab-df-convert:hover {\n",
              "      background-color: #E2EBFA;\n",
              "      box-shadow: 0px 1px 2px rgba(60, 64, 67, 0.3), 0px 1px 3px 1px rgba(60, 64, 67, 0.15);\n",
              "      fill: #174EA6;\n",
              "    }\n",
              "\n",
              "    [theme=dark] .colab-df-convert {\n",
              "      background-color: #3B4455;\n",
              "      fill: #D2E3FC;\n",
              "    }\n",
              "\n",
              "    [theme=dark] .colab-df-convert:hover {\n",
              "      background-color: #434B5C;\n",
              "      box-shadow: 0px 1px 3px 1px rgba(0, 0, 0, 0.15);\n",
              "      filter: drop-shadow(0px 1px 2px rgba(0, 0, 0, 0.3));\n",
              "      fill: #FFFFFF;\n",
              "    }\n",
              "  </style>\n",
              "\n",
              "      <script>\n",
              "        const buttonEl =\n",
              "          document.querySelector('#df-bbffc35f-c61c-4315-a74e-1f216aa879e4 button.colab-df-convert');\n",
              "        buttonEl.style.display =\n",
              "          google.colab.kernel.accessAllowed ? 'block' : 'none';\n",
              "\n",
              "        async function convertToInteractive(key) {\n",
              "          const element = document.querySelector('#df-bbffc35f-c61c-4315-a74e-1f216aa879e4');\n",
              "          const dataTable =\n",
              "            await google.colab.kernel.invokeFunction('convertToInteractive',\n",
              "                                                     [key], {});\n",
              "          if (!dataTable) return;\n",
              "\n",
              "          const docLinkHtml = 'Like what you see? Visit the ' +\n",
              "            '<a target=\"_blank\" href=https://colab.research.google.com/notebooks/data_table.ipynb>data table notebook</a>'\n",
              "            + ' to learn more about interactive tables.';\n",
              "          element.innerHTML = '';\n",
              "          dataTable['output_type'] = 'display_data';\n",
              "          await google.colab.output.renderOutput(dataTable, element);\n",
              "          const docLink = document.createElement('div');\n",
              "          docLink.innerHTML = docLinkHtml;\n",
              "          element.appendChild(docLink);\n",
              "        }\n",
              "      </script>\n",
              "    </div>\n",
              "  </div>\n",
              "  "
            ]
          },
          "metadata": {},
          "execution_count": 310
        }
      ]
    },
    {
      "cell_type": "markdown",
      "source": [
        "# **Entrenamiento del Clasificador considerando la normalización de las variables**"
      ],
      "metadata": {
        "id": "dors6IVT9893"
      }
    },
    {
      "cell_type": "code",
      "source": [
        "# Generamos un nuevo modelo knn\n",
        "knn3 = neighbors.KNeighborsClassifier()\n",
        "\n",
        "# Creamos un Diccionario  de todos los valores que queremos probar para n_neighbors\n",
        "params_grid_3 = {'n_neighbors': np.arange(1, 100)}\n",
        "\n",
        "# # utilizamos gridsearch para probar todos los valores de n_neighbors\n",
        "# usando 10 divisiones de validaciones cruzadas.\n",
        "\n",
        "\n",
        "knn_gscv_3 = GridSearchCV(knn3, params_grid_3, cv=10)\n",
        "\n",
        "# # Ajustamos el modelo a los datos\n",
        "\n",
        "knn_gscv_3.fit(X_norm,y)\n",
        "\n",
        "\n",
        "# verificamos el valor de n_neighbors de mayor performance\n",
        "\n",
        "print(knn_gscv_3.best_params_)\n",
        "print(np.round(knn_gscv_3.best_score_,3))\n",
        "\n"
      ],
      "metadata": {
        "colab": {
          "base_uri": "https://localhost:8080/"
        },
        "id": "iRTuJlbgVpDN",
        "outputId": "71f24d2c-8e23-4264-d5e7-b76ffdfde81b"
      },
      "execution_count": 311,
      "outputs": [
        {
          "output_type": "stream",
          "name": "stdout",
          "text": [
            "{'n_neighbors': 9}\n",
            "0.7\n"
          ]
        }
      ]
    },
    {
      "cell_type": "markdown",
      "source": [
        "# **Ploteo**"
      ],
      "metadata": {
        "id": "jzHHyFkWB9L4"
      }
    },
    {
      "cell_type": "code",
      "source": [
        "plt.figure(figsize=(12, 6))\n",
        "ax = plt.axes()\n",
        "ax.set_facecolor(\"lightgreen\")\n",
        "\n",
        "\n",
        "plt.plot(knn_gscv_3.cv_results_['param_n_neighbors'].data, knn_gscv_3.cv_results_['mean_test_score'])\n",
        "plt.title('Accuracy vs. K Value')\n",
        "plt.xlabel('K Value')\n",
        "plt.ylabel('Accuracy')\n",
        "\n",
        "plt.show()"
      ],
      "metadata": {
        "colab": {
          "base_uri": "https://localhost:8080/",
          "height": 404
        },
        "id": "BpWU8SQHVsyV",
        "outputId": "b67ceb73-3093-4435-ceef-ccab5b1f4c72"
      },
      "execution_count": 312,
      "outputs": [
        {
          "output_type": "display_data",
          "data": {
            "text/plain": [
              "<Figure size 864x432 with 1 Axes>"
            ],
            "image/png": "[encoded data removed]"
          },
          "metadata": {
            "needs_background": "light"
          }
        }
      ]
    },
    {
      "cell_type": "markdown",
      "source": [
        "# **Comentario**"
      ],
      "metadata": {
        "id": "IzhhbY6zCL1K"
      }
    },
    {
      "cell_type": "markdown",
      "source": [
        "Considerando las variables normalizadas, se obtiene un 70% de Accuracy. Dicho resultado es mejor en comparación con el anterior.\n",
        "\n",
        "Por ende , es importante analizar y verificar la similitud de la escala de las variables ( atributos) , porque algunas variables pueden tener más prepondarancia que otras. Quizás para tener un modelo mejor , mas consistente , se deberia considerar más variables de entrada ."
      ],
      "metadata": {
        "id": "4Y15d1XVCpfn"
      }
    }
  ]
}