{
  "nbformat": 4,
  "nbformat_minor": 0,
  "metadata": {
    "colab": {
      "provenance": [],
      "authorship_tag": "ABX9TyN3Af/IoLPAaMvt+ruDTDi0",
      "include_colab_link": true
    },
    "kernelspec": {
      "name": "python3",
      "display_name": "Python 3"
    },
    "language_info": {
      "name": "python"
    }
  },
  "cells": [
    {
      "cell_type": "markdown",
      "metadata": {
        "id": "view-in-github",
        "colab_type": "text"
      },
      "source": [
        "<a href=\"https://colab.research.google.com/github/10erick-cpu/Entregas_TP/blob/main/TP%20FINAL/TP_Final_Aprendizaje_de_Maquina_2022.ipynb\" target=\"_parent\"><img src=\"https://colab.research.google.com/assets/colab-badge.svg\" alt=\"Open In Colab\"/></a>"
      ]
    },
    {
      "cell_type": "markdown",
      "metadata": {
        "id": "9aZiwRyQWVGa"
      },
      "source": [
        "# **Trabajo Final / Curso - Aprendizaje de Máquina 2022**\n",
        "\n",
        "## **Tema - Modelos de Clasificadores**\n",
        "\n",
        "## **Profesor : Claudio Delrieux**\n",
        "\n",
        "\n",
        "## **Alumno :  Erick Macote Yparraguirre**\n",
        "\n",
        "## **Mail** : leonelerick59@gmail.com\n",
        "\n",
        "## **Fecha de Entegra : 16/11/2022**\n"
      ]
    },
    {
      "cell_type": "markdown",
      "source": [
        "# **I**. **Introducción**"
      ],
      "metadata": {
        "id": "ZWwt4tBgNs2u"
      }
    },
    {
      "cell_type": "markdown",
      "source": [
        "### **Machine Learning - Aprendizaje de Máquina**\n",
        "\n",
        "El Machine Learning (Aprendizaje de máquina) es una disciplina del campo de la Inteligencia Artificial que, a través de algoritmos, dota a los ordenadores de la capacidad de identificar patrones en datos masivos y elaborar predicciones (análisis predictivo). Esto permite a los computadores realizar tareas específicas de forma autónoma, es decir, sin necesidad de ser programados.\n",
        "\n",
        "### **Algoritmos de Machine Learning**\n",
        "\n",
        "Los tipos de implementación de machine Learning pueden clasificarse en tres categorías diferentes,siendo las dos primeras las más comunes:\n",
        "\n",
        "*   Aprendizaje supervisado\n",
        "*   Aprendizaje no supervisado\n",
        "*   Aprendizaje por refuerzo\n",
        "\n",
        "\n",
        "**Aprendizaje supervisado**: \n",
        "\n",
        "Estos algoritmos trabajan con datos “etiquetados” (labeled data), intentado encontrar una función que, dadas las variables de entrada (input data), les asigne la etiqueta de salida adecuada. El algoritmo se entrena con un “histórico” de datos y así “aprende” a asignar la etiqueta de salida adecuada a un nuevo valor, es decir, predice el valor de salida. \n",
        "\n",
        "Por ejemplo, un detector de spam, analiza el histórico de mensajes, viendo qué función puede representar, según los parámetros de entrada que se definan (el remitente, si el destinatario es individual o parte de una lista, si el asunto contiene determinados términos etc), la asignación de la etiqueta “spam” o “no es spam”. Una vez definida esta función, al introducir un nuevo mensaje no etiquetado, el algoritmo es capaz de asignarle la etiqueta correcta.\n",
        "\n",
        "Los algoritmos más habituales que aplican para el aprendizaje supervisado son:\n",
        "\n",
        "1.  Clasificación de Naïve Bayes.\n",
        "2.  Regresión por mínimos cuadrados.\n",
        "3.  Regresión Logística.\n",
        "4.  Support Vector Machines (SVM).\n",
        "5.  Métodos “Ensemble” (Conjuntos de clasificadores).\n",
        "6.  Árboles de decisión.\n",
        "\n",
        "\n",
        "**Aprendizaje no supervisado** :\n",
        "\n",
        "El aprendizaje no supervisado tiene lugar cuando no se dispone de datos “etiquetados”  para el entrenamiento. Sólo conocemos los datos de entrada, pero no existen datos de salida que correspondan a un determinado input. \n",
        "\n",
        "Por tanto, sólo podemos describir la estructura de los datos, para intentar encontrar algún tipo de organización que simplifique el análisis. Por ello, tienen un carácter exploratorio.\n",
        "\n",
        "Por ejemplo, las tareas de clustering, buscan agrupamientos basados en similitudes, pero nada garantiza que éstas tengan algún significado o utilidad. En ocasiones, al explorar los datos sin un objetivo definido, se pueden encontrar correlaciones espúreas curiosas, pero poco prácticas.\n",
        "\n",
        "El aprendizaje no supervisado se suele usar en:\n",
        "\n",
        "* Problemas de clustering\n",
        "* Agrupamientos de co-ocurrencias\n",
        "* Perfilado o profiling.\n",
        "\n",
        "Si embargo, los problemas que implican tareas de encontrar similitud, predicción de enlaces o reducción de datos, pueden ser supervisados o no.\n",
        "\n",
        "Los tipos de algoritmo más habituales en aprendizaje no supervisado son:\n",
        "\n",
        "1. Algoritmos de clustering\n",
        "2. Análisis de componentes principales\n",
        "3. Descomposición en valores singulares (singular value decomposition)\n",
        "4. Análisis de componentes principales (Independent Component Analysis)\n",
        "\n",
        "**Aprendizaje por refuerzo**: \n",
        "\n",
        "Este tipo aprendizaje se basa en mejorar la respuesta del modelo usando un proceso de retroalimentación. El algoritmo aprende observando el mundo que le rodea. Su información de entrada es el feedback o retroalimentación que obtiene del mundo exterior como respuesta a sus acciones. Por lo tanto, el sistema aprende a base de ensayo-error.\n",
        "\n",
        "No es un tipo de aprendizaje supervisado, porque no se basa estrictamente en un conjunto de datos  etiquetados, sino en la monitorización de la respuesta a las acciones tomadas. Tampoco es un aprendizaje no supervisado, ya que, cuando modelamos a nuestro «aprendiz»sabemos de antemano cuál es la recompensa esperada.  \n",
        "\n",
        "\n",
        "\n",
        "\n",
        "\n",
        "\n",
        "\n",
        "\n"
      ],
      "metadata": {
        "id": "8z41xnGVN3Ib"
      }
    },
    {
      "cell_type": "markdown",
      "source": [
        "# **II. Tema - Transacciones Fraudulentas**\n",
        "\n",
        "\n"
      ],
      "metadata": {
        "id": "4IV_PowyxXvx"
      }
    },
    {
      "cell_type": "markdown",
      "source": [
        "Uno de los principales riesgos a los que se encuentran sometidas las entidades\n",
        "financieras son los ataques de fraudes electrónicos. Billones de dólares en pérdidas son absorbidas cada año por las entidades financieras debido a transacciones fraudulentas.\n",
        "\n",
        "La necesidad de las empresas y entidades bancarias que sus usuarios gestionen\n",
        "operaciones y transacciones por internet eleva el potencial riesgo que dichos procesos sean manipulados por hackers poniendo en peligro la integridad de los datos de los usuarios y la información reservada de las entidades bancarias. \n",
        "\n",
        "El fraude contra el sistema financiero constituye un gran problema para los bancos ya que ocasionan pérdida económica, pérdida de imagen y desconfianza de los clientes.\n",
        "\n",
        "Cuando no se puede prevenir un fraude, es necesario poder detectarlo lo antes\n",
        "posible. El problema de la prevención y detección de un fraude, se magnifica por una serie de características y limitaciones. \n",
        "\n",
        "En primer lugar, se debe tener cuidado de no procesar demasiadas transacciones legítimas o bloquear incorrectamente tarjetas o cuentas genuinas. \n",
        "\n",
        "En segundo lugar, las instituciones financieras procesan un gran número de transacciones, de las cuales sólo un pequeño porcentaje es fraudulento.\n",
        "\n",
        "En tercer lugar, sólo un número limitado de transacciones pueden ser revisados por investigadores de fraudes, por lo que las instituciones financieras necesitan automatizar su proceso de detección.\n",
        "\n",
        "\n",
        "Una vez identificados los riesgos de fraude a los que se enfrentan las entidades\n",
        "financieras, es necesario contar con herramientas informáticas, que permitan identificar dentro del gran número de registros de transacciones, patrones de comportamiento que no son usuales y/o que corresponden a actividades potencialmente fraudulentas. La detección a tiempo de un fraude permite evitar daños, proteger la reputación, los activos corporativos e incrementar la confianza por parte de los clientes. \n",
        "\n",
        "**El presente trabajo** plantea modelos de clasificadores para detección de fraudes en transacciones financieras. \n"
      ],
      "metadata": {
        "id": "r7-NlI0lyNmo"
      }
    },
    {
      "cell_type": "markdown",
      "source": [
        "# **III. Objetivo**"
      ],
      "metadata": {
        "id": "dy8LJ6mJvA6_"
      }
    },
    {
      "cell_type": "markdown",
      "source": [
        "El objetivo del presente trabajo es desarrollar un clasificador que detecte cuándo una transacción es fraudulenta."
      ],
      "metadata": {
        "id": "HUW28JkTvwbw"
      }
    },
    {
      "cell_type": "markdown",
      "source": [
        "![image.png](data:image/png;base64,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)\n",
        "\n"
      ],
      "metadata": {
        "id": "JVCMv-z-vHYO"
      }
    },
    {
      "cell_type": "markdown",
      "source": [
        "# **IV. Desarrollo**"
      ],
      "metadata": {
        "id": "4xme9SpNaZOx"
      }
    },
    {
      "cell_type": "markdown",
      "source": [
        "El dataset contiene 280.000+ transacciones de tarjetas de crédito de\n",
        "usuarios en Europa durante 2013, de las cuales 492 fueron etiquetadas como fraudulentas. Se presentan 28 variables que corresponden al PCA (por razones de\n",
        "anonimización), además del timestamp y el monto de la transacción. \n",
        "\n",
        "**Notebook Asociado** :\n",
        "\n",
        "https://github.com/manlio99/Materia-deaprendizaje/blob/master/3_MidtermProjects/ProjectCCF"
      ],
      "metadata": {
        "id": "wkpXdKFaaiBQ"
      }
    },
    {
      "cell_type": "markdown",
      "metadata": {
        "id": "NTLq0iUqhPoQ"
      },
      "source": [
        "# **1. Librerias Usadas**"
      ]
    },
    {
      "cell_type": "code",
      "source": [
        "import numpy as np\n",
        "import pandas as pd\n",
        "import seaborn as sns\n",
        "import matplotlib.pyplot as plt\n",
        "\n",
        "from sklearn.preprocessing import LabelEncoder\n",
        "from sklearn.preprocessing import StandardScaler\n",
        "from sklearn.model_selection import train_test_split, cross_val_score, GridSearchCV\n",
        "from sklearn.neighbors import KNeighborsClassifier\n",
        "from sklearn.svm import SVC\n",
        "from sklearn.linear_model import LogisticRegression\n",
        "from sklearn.tree import DecisionTreeClassifier\n",
        "from sklearn.ensemble import RandomForestClassifier\n",
        "from sklearn.metrics import confusion_matrix, classification_report"
      ],
      "metadata": {
        "id": "a3N6APVblkoR"
      },
      "execution_count": 1,
      "outputs": []
    },
    {
      "cell_type": "markdown",
      "source": [
        "# **2. Datasets a utilizar**"
      ],
      "metadata": {
        "id": "4m8WCpk8mkGX"
      }
    },
    {
      "cell_type": "markdown",
      "source": [
        "## **Dataset - A**"
      ],
      "metadata": {
        "id": "uIZ_JuqHnkeH"
      }
    },
    {
      "cell_type": "code",
      "source": [
        "transactions_a = pd.read_csv(\"https://raw.githubusercontent.com/emmanueliarussi/DataScienceCapstone/master/3_MidtermProjects/ProjectCCF/data/creditcard_a.csv\")\n",
        "# transactions_a"
      ],
      "metadata": {
        "id": "tdJBz2YgmbX4"
      },
      "execution_count": 2,
      "outputs": []
    },
    {
      "cell_type": "markdown",
      "source": [
        "## **Dataset - B**"
      ],
      "metadata": {
        "id": "6PoajmqtwrmQ"
      }
    },
    {
      "cell_type": "code",
      "source": [
        "transactions_b = pd.read_csv(\"https://raw.githubusercontent.com/emmanueliarussi/DataScienceCapstone/master/3_MidtermProjects/ProjectCCF/data/creditcard_b.csv\")\n",
        "# transactions_b"
      ],
      "metadata": {
        "id": "iPw-M9K9wtfq"
      },
      "execution_count": 3,
      "outputs": []
    },
    {
      "cell_type": "markdown",
      "source": [
        "# **Concatenamos Datasets**"
      ],
      "metadata": {
        "id": "IJLQPvkzy7qv"
      }
    },
    {
      "cell_type": "code",
      "source": [
        "transactions_full = pd.concat([transactions_a, transactions_b], axis=0)\n",
        "transactions_full"
      ],
      "metadata": {
        "colab": {
          "base_uri": "https://localhost:8080/",
          "height": 488
        },
        "id": "o3xcGrWLzAkX",
        "outputId": "53228978-055d-4b55-fa28-a531999b8200"
      },
      "execution_count": 4,
      "outputs": [
        {
          "output_type": "execute_result",
          "data": {
            "text/plain": [
              "           Time         V1         V2        V3        V4        V5        V6  \\\n",
              "0           0.0  -1.359807  -0.072781  2.536347  1.378155 -0.338321  0.462388   \n",
              "1           0.0   1.191857   0.266151  0.166480  0.448154  0.060018 -0.082361   \n",
              "2           1.0  -1.358354  -1.340163  1.773209  0.379780 -0.503198  1.800499   \n",
              "3           1.0  -0.966272  -0.185226  1.792993 -0.863291 -0.010309  1.247203   \n",
              "4           2.0  -1.158233   0.877737  1.548718  0.403034 -0.407193  0.095921   \n",
              "...         ...        ...        ...       ...       ...       ...       ...   \n",
              "96541  172786.0 -11.881118  10.071785 -9.834783 -2.066656 -5.364473 -2.606837   \n",
              "96542  172787.0  -0.732789  -0.055080  2.035030 -0.738589  0.868229  1.058415   \n",
              "96543  172788.0   1.919565  -0.301254 -3.249640 -0.557828  2.630515  3.031260   \n",
              "96544  172788.0  -0.240440   0.530483  0.702510  0.689799 -0.377961  0.623708   \n",
              "96545  172792.0  -0.533413  -0.189733  0.703337 -0.506271 -0.012546 -0.649617   \n",
              "\n",
              "             V7        V8        V9  ...       V21       V22       V23  \\\n",
              "0      0.239599  0.098698  0.363787  ... -0.018307  0.277838 -0.110474   \n",
              "1     -0.078803  0.085102 -0.255425  ... -0.225775 -0.638672  0.101288   \n",
              "2      0.791461  0.247676 -1.514654  ...  0.247998  0.771679  0.909412   \n",
              "3      0.237609  0.377436 -1.387024  ... -0.108300  0.005274 -0.190321   \n",
              "4      0.592941 -0.270533  0.817739  ... -0.009431  0.798278 -0.137458   \n",
              "...         ...       ...       ...  ...       ...       ...       ...   \n",
              "96541 -4.918215  7.305334  1.914428  ...  0.213454  0.111864  1.014480   \n",
              "96542  0.024330  0.294869  0.584800  ...  0.214205  0.924384  0.012463   \n",
              "96543 -0.296827  0.708417  0.432454  ...  0.232045  0.578229 -0.037501   \n",
              "96544 -0.686180  0.679145  0.392087  ...  0.265245  0.800049 -0.163298   \n",
              "96545  1.577006 -0.414650  0.486180  ...  0.261057  0.643078  0.376777   \n",
              "\n",
              "            V24       V25       V26       V27       V28  Amount  Class  \n",
              "0      0.066928  0.128539 -0.189115  0.133558 -0.021053  149.62      0  \n",
              "1     -0.339846  0.167170  0.125895 -0.008983  0.014724    2.69      0  \n",
              "2     -0.689281 -0.327642 -0.139097 -0.055353 -0.059752  378.66      0  \n",
              "3     -1.175575  0.647376 -0.221929  0.062723  0.061458  123.50      0  \n",
              "4      0.141267 -0.206010  0.502292  0.219422  0.215153   69.99      0  \n",
              "...         ...       ...       ...       ...       ...     ...    ...  \n",
              "96541 -0.509348  1.436807  0.250034  0.943651  0.823731    0.77      0  \n",
              "96542 -1.016226 -0.606624 -0.395255  0.068472 -0.053527   24.79      0  \n",
              "96543  0.640134  0.265745 -0.087371  0.004455 -0.026561   67.88      0  \n",
              "96544  0.123205 -0.569159  0.546668  0.108821  0.104533   10.00      0  \n",
              "96545  0.008797 -0.473649 -0.818267 -0.002415  0.013649  217.00      0  \n",
              "\n",
              "[284807 rows x 31 columns]"
            ],
            "text/html": [
              "\n",
              "  <div id=\"df-40b24640-0f2a-4ea3-a53f-ca51f0612d13\">\n",
              "    <div class=\"colab-df-container\">\n",
              "      <div>\n",
              "<style scoped>\n",
              "    .dataframe tbody tr th:only-of-type {\n",
              "        vertical-align: middle;\n",
              "    }\n",
              "\n",
              "    .dataframe tbody tr th {\n",
              "        vertical-align: top;\n",
              "    }\n",
              "\n",
              "    .dataframe thead th {\n",
              "        text-align: right;\n",
              "    }\n",
              "</style>\n",
              "<table border=\"1\" class=\"dataframe\">\n",
              "  <thead>\n",
              "    <tr style=\"text-align: right;\">\n",
              "      <th></th>\n",
              "      <th>Time</th>\n",
              "      <th>V1</th>\n",
              "      <th>V2</th>\n",
              "      <th>V3</th>\n",
              "      <th>V4</th>\n",
              "      <th>V5</th>\n",
              "      <th>V6</th>\n",
              "      <th>V7</th>\n",
              "      <th>V8</th>\n",
              "      <th>V9</th>\n",
              "      <th>...</th>\n",
              "      <th>V21</th>\n",
              "      <th>V22</th>\n",
              "      <th>V23</th>\n",
              "      <th>V24</th>\n",
              "      <th>V25</th>\n",
              "      <th>V26</th>\n",
              "      <th>V27</th>\n",
              "      <th>V28</th>\n",
              "      <th>Amount</th>\n",
              "      <th>Class</th>\n",
              "    </tr>\n",
              "  </thead>\n",
              "  <tbody>\n",
              "    <tr>\n",
              "      <th>0</th>\n",
              "      <td>0.0</td>\n",
              "      <td>-1.359807</td>\n",
              "      <td>-0.072781</td>\n",
              "      <td>2.536347</td>\n",
              "      <td>1.378155</td>\n",
              "      <td>-0.338321</td>\n",
              "      <td>0.462388</td>\n",
              "      <td>0.239599</td>\n",
              "      <td>0.098698</td>\n",
              "      <td>0.363787</td>\n",
              "      <td>...</td>\n",
              "      <td>-0.018307</td>\n",
              "      <td>0.277838</td>\n",
              "      <td>-0.110474</td>\n",
              "      <td>0.066928</td>\n",
              "      <td>0.128539</td>\n",
              "      <td>-0.189115</td>\n",
              "      <td>0.133558</td>\n",
              "      <td>-0.021053</td>\n",
              "      <td>149.62</td>\n",
              "      <td>0</td>\n",
              "    </tr>\n",
              "    <tr>\n",
              "      <th>1</th>\n",
              "      <td>0.0</td>\n",
              "      <td>1.191857</td>\n",
              "      <td>0.266151</td>\n",
              "      <td>0.166480</td>\n",
              "      <td>0.448154</td>\n",
              "      <td>0.060018</td>\n",
              "      <td>-0.082361</td>\n",
              "      <td>-0.078803</td>\n",
              "      <td>0.085102</td>\n",
              "      <td>-0.255425</td>\n",
              "      <td>...</td>\n",
              "      <td>-0.225775</td>\n",
              "      <td>-0.638672</td>\n",
              "      <td>0.101288</td>\n",
              "      <td>-0.339846</td>\n",
              "      <td>0.167170</td>\n",
              "      <td>0.125895</td>\n",
              "      <td>-0.008983</td>\n",
              "      <td>0.014724</td>\n",
              "      <td>2.69</td>\n",
              "      <td>0</td>\n",
              "    </tr>\n",
              "    <tr>\n",
              "      <th>2</th>\n",
              "      <td>1.0</td>\n",
              "      <td>-1.358354</td>\n",
              "      <td>-1.340163</td>\n",
              "      <td>1.773209</td>\n",
              "      <td>0.379780</td>\n",
              "      <td>-0.503198</td>\n",
              "      <td>1.800499</td>\n",
              "      <td>0.791461</td>\n",
              "      <td>0.247676</td>\n",
              "      <td>-1.514654</td>\n",
              "      <td>...</td>\n",
              "      <td>0.247998</td>\n",
              "      <td>0.771679</td>\n",
              "      <td>0.909412</td>\n",
              "      <td>-0.689281</td>\n",
              "      <td>-0.327642</td>\n",
              "      <td>-0.139097</td>\n",
              "      <td>-0.055353</td>\n",
              "      <td>-0.059752</td>\n",
              "      <td>378.66</td>\n",
              "      <td>0</td>\n",
              "    </tr>\n",
              "    <tr>\n",
              "      <th>3</th>\n",
              "      <td>1.0</td>\n",
              "      <td>-0.966272</td>\n",
              "      <td>-0.185226</td>\n",
              "      <td>1.792993</td>\n",
              "      <td>-0.863291</td>\n",
              "      <td>-0.010309</td>\n",
              "      <td>1.247203</td>\n",
              "      <td>0.237609</td>\n",
              "      <td>0.377436</td>\n",
              "      <td>-1.387024</td>\n",
              "      <td>...</td>\n",
              "      <td>-0.108300</td>\n",
              "      <td>0.005274</td>\n",
              "      <td>-0.190321</td>\n",
              "      <td>-1.175575</td>\n",
              "      <td>0.647376</td>\n",
              "      <td>-0.221929</td>\n",
              "      <td>0.062723</td>\n",
              "      <td>0.061458</td>\n",
              "      <td>123.50</td>\n",
              "      <td>0</td>\n",
              "    </tr>\n",
              "    <tr>\n",
              "      <th>4</th>\n",
              "      <td>2.0</td>\n",
              "      <td>-1.158233</td>\n",
              "      <td>0.877737</td>\n",
              "      <td>1.548718</td>\n",
              "      <td>0.403034</td>\n",
              "      <td>-0.407193</td>\n",
              "      <td>0.095921</td>\n",
              "      <td>0.592941</td>\n",
              "      <td>-0.270533</td>\n",
              "      <td>0.817739</td>\n",
              "      <td>...</td>\n",
              "      <td>-0.009431</td>\n",
              "      <td>0.798278</td>\n",
              "      <td>-0.137458</td>\n",
              "      <td>0.141267</td>\n",
              "      <td>-0.206010</td>\n",
              "      <td>0.502292</td>\n",
              "      <td>0.219422</td>\n",
              "      <td>0.215153</td>\n",
              "      <td>69.99</td>\n",
              "      <td>0</td>\n",
              "    </tr>\n",
              "    <tr>\n",
              "      <th>...</th>\n",
              "      <td>...</td>\n",
              "      <td>...</td>\n",
              "      <td>...</td>\n",
              "      <td>...</td>\n",
              "      <td>...</td>\n",
              "      <td>...</td>\n",
              "      <td>...</td>\n",
              "      <td>...</td>\n",
              "      <td>...</td>\n",
              "      <td>...</td>\n",
              "      <td>...</td>\n",
              "      <td>...</td>\n",
              "      <td>...</td>\n",
              "      <td>...</td>\n",
              "      <td>...</td>\n",
              "      <td>...</td>\n",
              "      <td>...</td>\n",
              "      <td>...</td>\n",
              "      <td>...</td>\n",
              "      <td>...</td>\n",
              "      <td>...</td>\n",
              "    </tr>\n",
              "    <tr>\n",
              "      <th>96541</th>\n",
              "      <td>172786.0</td>\n",
              "      <td>-11.881118</td>\n",
              "      <td>10.071785</td>\n",
              "      <td>-9.834783</td>\n",
              "      <td>-2.066656</td>\n",
              "      <td>-5.364473</td>\n",
              "      <td>-2.606837</td>\n",
              "      <td>-4.918215</td>\n",
              "      <td>7.305334</td>\n",
              "      <td>1.914428</td>\n",
              "      <td>...</td>\n",
              "      <td>0.213454</td>\n",
              "      <td>0.111864</td>\n",
              "      <td>1.014480</td>\n",
              "      <td>-0.509348</td>\n",
              "      <td>1.436807</td>\n",
              "      <td>0.250034</td>\n",
              "      <td>0.943651</td>\n",
              "      <td>0.823731</td>\n",
              "      <td>0.77</td>\n",
              "      <td>0</td>\n",
              "    </tr>\n",
              "    <tr>\n",
              "      <th>96542</th>\n",
              "      <td>172787.0</td>\n",
              "      <td>-0.732789</td>\n",
              "      <td>-0.055080</td>\n",
              "      <td>2.035030</td>\n",
              "      <td>-0.738589</td>\n",
              "      <td>0.868229</td>\n",
              "      <td>1.058415</td>\n",
              "      <td>0.024330</td>\n",
              "      <td>0.294869</td>\n",
              "      <td>0.584800</td>\n",
              "      <td>...</td>\n",
              "      <td>0.214205</td>\n",
              "      <td>0.924384</td>\n",
              "      <td>0.012463</td>\n",
              "      <td>-1.016226</td>\n",
              "      <td>-0.606624</td>\n",
              "      <td>-0.395255</td>\n",
              "      <td>0.068472</td>\n",
              "      <td>-0.053527</td>\n",
              "      <td>24.79</td>\n",
              "      <td>0</td>\n",
              "    </tr>\n",
              "    <tr>\n",
              "      <th>96543</th>\n",
              "      <td>172788.0</td>\n",
              "      <td>1.919565</td>\n",
              "      <td>-0.301254</td>\n",
              "      <td>-3.249640</td>\n",
              "      <td>-0.557828</td>\n",
              "      <td>2.630515</td>\n",
              "      <td>3.031260</td>\n",
              "      <td>-0.296827</td>\n",
              "      <td>0.708417</td>\n",
              "      <td>0.432454</td>\n",
              "      <td>...</td>\n",
              "      <td>0.232045</td>\n",
              "      <td>0.578229</td>\n",
              "      <td>-0.037501</td>\n",
              "      <td>0.640134</td>\n",
              "      <td>0.265745</td>\n",
              "      <td>-0.087371</td>\n",
              "      <td>0.004455</td>\n",
              "      <td>-0.026561</td>\n",
              "      <td>67.88</td>\n",
              "      <td>0</td>\n",
              "    </tr>\n",
              "    <tr>\n",
              "      <th>96544</th>\n",
              "      <td>172788.0</td>\n",
              "      <td>-0.240440</td>\n",
              "      <td>0.530483</td>\n",
              "      <td>0.702510</td>\n",
              "      <td>0.689799</td>\n",
              "      <td>-0.377961</td>\n",
              "      <td>0.623708</td>\n",
              "      <td>-0.686180</td>\n",
              "      <td>0.679145</td>\n",
              "      <td>0.392087</td>\n",
              "      <td>...</td>\n",
              "      <td>0.265245</td>\n",
              "      <td>0.800049</td>\n",
              "      <td>-0.163298</td>\n",
              "      <td>0.123205</td>\n",
              "      <td>-0.569159</td>\n",
              "      <td>0.546668</td>\n",
              "      <td>0.108821</td>\n",
              "      <td>0.104533</td>\n",
              "      <td>10.00</td>\n",
              "      <td>0</td>\n",
              "    </tr>\n",
              "    <tr>\n",
              "      <th>96545</th>\n",
              "      <td>172792.0</td>\n",
              "      <td>-0.533413</td>\n",
              "      <td>-0.189733</td>\n",
              "      <td>0.703337</td>\n",
              "      <td>-0.506271</td>\n",
              "      <td>-0.012546</td>\n",
              "      <td>-0.649617</td>\n",
              "      <td>1.577006</td>\n",
              "      <td>-0.414650</td>\n",
              "      <td>0.486180</td>\n",
              "      <td>...</td>\n",
              "      <td>0.261057</td>\n",
              "      <td>0.643078</td>\n",
              "      <td>0.376777</td>\n",
              "      <td>0.008797</td>\n",
              "      <td>-0.473649</td>\n",
              "      <td>-0.818267</td>\n",
              "      <td>-0.002415</td>\n",
              "      <td>0.013649</td>\n",
              "      <td>217.00</td>\n",
              "      <td>0</td>\n",
              "    </tr>\n",
              "  </tbody>\n",
              "</table>\n",
              "<p>284807 rows × 31 columns</p>\n",
              "</div>\n",
              "      <button class=\"colab-df-convert\" onclick=\"convertToInteractive('df-40b24640-0f2a-4ea3-a53f-ca51f0612d13')\"\n",
              "              title=\"Convert this dataframe to an interactive table.\"\n",
              "              style=\"display:none;\">\n",
              "        \n",
              "  <svg xmlns=\"http://www.w3.org/2000/svg\" height=\"24px\"viewBox=\"0 0 24 24\"\n",
              "       width=\"24px\">\n",
              "    <path d=\"M0 0h24v24H0V0z\" fill=\"none\"/>\n",
              "    <path d=\"M18.56 5.44l.94 2.06.94-2.06 2.06-.94-2.06-.94-.94-2.06-.94 2.06-2.06.94zm-11 1L8.5 8.5l.94-2.06 2.06-.94-2.06-.94L8.5 2.5l-.94 2.06-2.06.94zm10 10l.94 2.06.94-2.06 2.06-.94-2.06-.94-.94-2.06-.94 2.06-2.06.94z\"/><path d=\"M17.41 7.96l-1.37-1.37c-.4-.4-.92-.59-1.43-.59-.52 0-1.04.2-1.43.59L10.3 9.45l-7.72 7.72c-.78.78-.78 2.05 0 2.83L4 21.41c.39.39.9.59 1.41.59.51 0 1.02-.2 1.41-.59l7.78-7.78 2.81-2.81c.8-.78.8-2.07 0-2.86zM5.41 20L4 18.59l7.72-7.72 1.47 1.35L5.41 20z\"/>\n",
              "  </svg>\n",
              "      </button>\n",
              "      \n",
              "  <style>\n",
              "    .colab-df-container {\n",
              "      display:flex;\n",
              "      flex-wrap:wrap;\n",
              "      gap: 12px;\n",
              "    }\n",
              "\n",
              "    .colab-df-convert {\n",
              "      background-color: #E8F0FE;\n",
              "      border: none;\n",
              "      border-radius: 50%;\n",
              "      cursor: pointer;\n",
              "      display: none;\n",
              "      fill: #1967D2;\n",
              "      height: 32px;\n",
              "      padding: 0 0 0 0;\n",
              "      width: 32px;\n",
              "    }\n",
              "\n",
              "    .colab-df-convert:hover {\n",
              "      background-color: #E2EBFA;\n",
              "      box-shadow: 0px 1px 2px rgba(60, 64, 67, 0.3), 0px 1px 3px 1px rgba(60, 64, 67, 0.15);\n",
              "      fill: #174EA6;\n",
              "    }\n",
              "\n",
              "    [theme=dark] .colab-df-convert {\n",
              "      background-color: #3B4455;\n",
              "      fill: #D2E3FC;\n",
              "    }\n",
              "\n",
              "    [theme=dark] .colab-df-convert:hover {\n",
              "      background-color: #434B5C;\n",
              "      box-shadow: 0px 1px 3px 1px rgba(0, 0, 0, 0.15);\n",
              "      filter: drop-shadow(0px 1px 2px rgba(0, 0, 0, 0.3));\n",
              "      fill: #FFFFFF;\n",
              "    }\n",
              "  </style>\n",
              "\n",
              "      <script>\n",
              "        const buttonEl =\n",
              "          document.querySelector('#df-40b24640-0f2a-4ea3-a53f-ca51f0612d13 button.colab-df-convert');\n",
              "        buttonEl.style.display =\n",
              "          google.colab.kernel.accessAllowed ? 'block' : 'none';\n",
              "\n",
              "        async function convertToInteractive(key) {\n",
              "          const element = document.querySelector('#df-40b24640-0f2a-4ea3-a53f-ca51f0612d13');\n",
              "          const dataTable =\n",
              "            await google.colab.kernel.invokeFunction('convertToInteractive',\n",
              "                                                     [key], {});\n",
              "          if (!dataTable) return;\n",
              "\n",
              "          const docLinkHtml = 'Like what you see? Visit the ' +\n",
              "            '<a target=\"_blank\" href=https://colab.research.google.com/notebooks/data_table.ipynb>data table notebook</a>'\n",
              "            + ' to learn more about interactive tables.';\n",
              "          element.innerHTML = '';\n",
              "          dataTable['output_type'] = 'display_data';\n",
              "          await google.colab.output.renderOutput(dataTable, element);\n",
              "          const docLink = document.createElement('div');\n",
              "          docLink.innerHTML = docLinkHtml;\n",
              "          element.appendChild(docLink);\n",
              "        }\n",
              "      </script>\n",
              "    </div>\n",
              "  </div>\n",
              "  "
            ]
          },
          "metadata": {},
          "execution_count": 4
        }
      ]
    },
    {
      "cell_type": "markdown",
      "source": [
        "# **Parámetros Estadísticos**"
      ],
      "metadata": {
        "id": "wCcfcwfrzrC_"
      }
    },
    {
      "cell_type": "code",
      "source": [
        "transactions_full.describe()"
      ],
      "metadata": {
        "colab": {
          "base_uri": "https://localhost:8080/",
          "height": 394
        },
        "id": "ZEG-6llYztHm",
        "outputId": "e9e26e79-1717-4829-ad56-d90f8660b7ec"
      },
      "execution_count": 5,
      "outputs": [
        {
          "output_type": "execute_result",
          "data": {
            "text/plain": [
              "                Time            V1            V2            V3            V4  \\\n",
              "count  284807.000000  2.848070e+05  2.848070e+05  2.848070e+05  2.848070e+05   \n",
              "mean    94813.859575  1.168375e-15  3.416908e-16 -1.379537e-15  2.074095e-15   \n",
              "std     47488.145955  1.958696e+00  1.651309e+00  1.516255e+00  1.415869e+00   \n",
              "min         0.000000 -5.640751e+01 -7.271573e+01 -4.832559e+01 -5.683171e+00   \n",
              "25%     54201.500000 -9.203734e-01 -5.985499e-01 -8.903648e-01 -8.486401e-01   \n",
              "50%     84692.000000  1.810880e-02  6.548556e-02  1.798463e-01 -1.984653e-02   \n",
              "75%    139320.500000  1.315642e+00  8.037239e-01  1.027196e+00  7.433413e-01   \n",
              "max    172792.000000  2.454930e+00  2.205773e+01  9.382558e+00  1.687534e+01   \n",
              "\n",
              "                 V5            V6            V7            V8            V9  \\\n",
              "count  2.848070e+05  2.848070e+05  2.848070e+05  2.848070e+05  2.848070e+05   \n",
              "mean   9.604066e-16  1.487313e-15 -5.556467e-16  1.213481e-16 -2.406331e-15   \n",
              "std    1.380247e+00  1.332271e+00  1.237094e+00  1.194353e+00  1.098632e+00   \n",
              "min   -1.137433e+02 -2.616051e+01 -4.355724e+01 -7.321672e+01 -1.343407e+01   \n",
              "25%   -6.915971e-01 -7.682956e-01 -5.540759e-01 -2.086297e-01 -6.430976e-01   \n",
              "50%   -5.433583e-02 -2.741871e-01  4.010308e-02  2.235804e-02 -5.142873e-02   \n",
              "75%    6.119264e-01  3.985649e-01  5.704361e-01  3.273459e-01  5.971390e-01   \n",
              "max    3.480167e+01  7.330163e+01  1.205895e+02  2.000721e+01  1.559499e+01   \n",
              "\n",
              "       ...           V21           V22           V23           V24  \\\n",
              "count  ...  2.848070e+05  2.848070e+05  2.848070e+05  2.848070e+05   \n",
              "mean   ...  1.654067e-16 -3.568593e-16  2.578648e-16  4.473266e-15   \n",
              "std    ...  7.345240e-01  7.257016e-01  6.244603e-01  6.056471e-01   \n",
              "min    ... -3.483038e+01 -1.093314e+01 -4.480774e+01 -2.836627e+00   \n",
              "25%    ... -2.283949e-01 -5.423504e-01 -1.618463e-01 -3.545861e-01   \n",
              "50%    ... -2.945017e-02  6.781943e-03 -1.119293e-02  4.097606e-02   \n",
              "75%    ...  1.863772e-01  5.285536e-01  1.476421e-01  4.395266e-01   \n",
              "max    ...  2.720284e+01  1.050309e+01  2.252841e+01  4.584549e+00   \n",
              "\n",
              "                V25           V26           V27           V28         Amount  \\\n",
              "count  2.848070e+05  2.848070e+05  2.848070e+05  2.848070e+05  284807.000000   \n",
              "mean   5.340915e-16  1.683437e-15 -3.660091e-16 -1.227390e-16      88.349619   \n",
              "std    5.212781e-01  4.822270e-01  4.036325e-01  3.300833e-01     250.120109   \n",
              "min   -1.029540e+01 -2.604551e+00 -2.256568e+01 -1.543008e+01       0.000000   \n",
              "25%   -3.171451e-01 -3.269839e-01 -7.083953e-02 -5.295979e-02       5.600000   \n",
              "50%    1.659350e-02 -5.213911e-02  1.342146e-03  1.124383e-02      22.000000   \n",
              "75%    3.507156e-01  2.409522e-01  9.104512e-02  7.827995e-02      77.165000   \n",
              "max    7.519589e+00  3.517346e+00  3.161220e+01  3.384781e+01   25691.160000   \n",
              "\n",
              "               Class  \n",
              "count  284807.000000  \n",
              "mean        0.001727  \n",
              "std         0.041527  \n",
              "min         0.000000  \n",
              "25%         0.000000  \n",
              "50%         0.000000  \n",
              "75%         0.000000  \n",
              "max         1.000000  \n",
              "\n",
              "[8 rows x 31 columns]"
            ],
            "text/html": [
              "\n",
              "  <div id=\"df-8efedfa2-c775-4f5d-bc1f-abea47229e87\">\n",
              "    <div class=\"colab-df-container\">\n",
              "      <div>\n",
              "<style scoped>\n",
              "    .dataframe tbody tr th:only-of-type {\n",
              "        vertical-align: middle;\n",
              "    }\n",
              "\n",
              "    .dataframe tbody tr th {\n",
              "        vertical-align: top;\n",
              "    }\n",
              "\n",
              "    .dataframe thead th {\n",
              "        text-align: right;\n",
              "    }\n",
              "</style>\n",
              "<table border=\"1\" class=\"dataframe\">\n",
              "  <thead>\n",
              "    <tr style=\"text-align: right;\">\n",
              "      <th></th>\n",
              "      <th>Time</th>\n",
              "      <th>V1</th>\n",
              "      <th>V2</th>\n",
              "      <th>V3</th>\n",
              "      <th>V4</th>\n",
              "      <th>V5</th>\n",
              "      <th>V6</th>\n",
              "      <th>V7</th>\n",
              "      <th>V8</th>\n",
              "      <th>V9</th>\n",
              "      <th>...</th>\n",
              "      <th>V21</th>\n",
              "      <th>V22</th>\n",
              "      <th>V23</th>\n",
              "      <th>V24</th>\n",
              "      <th>V25</th>\n",
              "      <th>V26</th>\n",
              "      <th>V27</th>\n",
              "      <th>V28</th>\n",
              "      <th>Amount</th>\n",
              "      <th>Class</th>\n",
              "    </tr>\n",
              "  </thead>\n",
              "  <tbody>\n",
              "    <tr>\n",
              "      <th>count</th>\n",
              "      <td>284807.000000</td>\n",
              "      <td>2.848070e+05</td>\n",
              "      <td>2.848070e+05</td>\n",
              "      <td>2.848070e+05</td>\n",
              "      <td>2.848070e+05</td>\n",
              "      <td>2.848070e+05</td>\n",
              "      <td>2.848070e+05</td>\n",
              "      <td>2.848070e+05</td>\n",
              "      <td>2.848070e+05</td>\n",
              "      <td>2.848070e+05</td>\n",
              "      <td>...</td>\n",
              "      <td>2.848070e+05</td>\n",
              "      <td>2.848070e+05</td>\n",
              "      <td>2.848070e+05</td>\n",
              "      <td>2.848070e+05</td>\n",
              "      <td>2.848070e+05</td>\n",
              "      <td>2.848070e+05</td>\n",
              "      <td>2.848070e+05</td>\n",
              "      <td>2.848070e+05</td>\n",
              "      <td>284807.000000</td>\n",
              "      <td>284807.000000</td>\n",
              "    </tr>\n",
              "    <tr>\n",
              "      <th>mean</th>\n",
              "      <td>94813.859575</td>\n",
              "      <td>1.168375e-15</td>\n",
              "      <td>3.416908e-16</td>\n",
              "      <td>-1.379537e-15</td>\n",
              "      <td>2.074095e-15</td>\n",
              "      <td>9.604066e-16</td>\n",
              "      <td>1.487313e-15</td>\n",
              "      <td>-5.556467e-16</td>\n",
              "      <td>1.213481e-16</td>\n",
              "      <td>-2.406331e-15</td>\n",
              "      <td>...</td>\n",
              "      <td>1.654067e-16</td>\n",
              "      <td>-3.568593e-16</td>\n",
              "      <td>2.578648e-16</td>\n",
              "      <td>4.473266e-15</td>\n",
              "      <td>5.340915e-16</td>\n",
              "      <td>1.683437e-15</td>\n",
              "      <td>-3.660091e-16</td>\n",
              "      <td>-1.227390e-16</td>\n",
              "      <td>88.349619</td>\n",
              "      <td>0.001727</td>\n",
              "    </tr>\n",
              "    <tr>\n",
              "      <th>std</th>\n",
              "      <td>47488.145955</td>\n",
              "      <td>1.958696e+00</td>\n",
              "      <td>1.651309e+00</td>\n",
              "      <td>1.516255e+00</td>\n",
              "      <td>1.415869e+00</td>\n",
              "      <td>1.380247e+00</td>\n",
              "      <td>1.332271e+00</td>\n",
              "      <td>1.237094e+00</td>\n",
              "      <td>1.194353e+00</td>\n",
              "      <td>1.098632e+00</td>\n",
              "      <td>...</td>\n",
              "      <td>7.345240e-01</td>\n",
              "      <td>7.257016e-01</td>\n",
              "      <td>6.244603e-01</td>\n",
              "      <td>6.056471e-01</td>\n",
              "      <td>5.212781e-01</td>\n",
              "      <td>4.822270e-01</td>\n",
              "      <td>4.036325e-01</td>\n",
              "      <td>3.300833e-01</td>\n",
              "      <td>250.120109</td>\n",
              "      <td>0.041527</td>\n",
              "    </tr>\n",
              "    <tr>\n",
              "      <th>min</th>\n",
              "      <td>0.000000</td>\n",
              "      <td>-5.640751e+01</td>\n",
              "      <td>-7.271573e+01</td>\n",
              "      <td>-4.832559e+01</td>\n",
              "      <td>-5.683171e+00</td>\n",
              "      <td>-1.137433e+02</td>\n",
              "      <td>-2.616051e+01</td>\n",
              "      <td>-4.355724e+01</td>\n",
              "      <td>-7.321672e+01</td>\n",
              "      <td>-1.343407e+01</td>\n",
              "      <td>...</td>\n",
              "      <td>-3.483038e+01</td>\n",
              "      <td>-1.093314e+01</td>\n",
              "      <td>-4.480774e+01</td>\n",
              "      <td>-2.836627e+00</td>\n",
              "      <td>-1.029540e+01</td>\n",
              "      <td>-2.604551e+00</td>\n",
              "      <td>-2.256568e+01</td>\n",
              "      <td>-1.543008e+01</td>\n",
              "      <td>0.000000</td>\n",
              "      <td>0.000000</td>\n",
              "    </tr>\n",
              "    <tr>\n",
              "      <th>25%</th>\n",
              "      <td>54201.500000</td>\n",
              "      <td>-9.203734e-01</td>\n",
              "      <td>-5.985499e-01</td>\n",
              "      <td>-8.903648e-01</td>\n",
              "      <td>-8.486401e-01</td>\n",
              "      <td>-6.915971e-01</td>\n",
              "      <td>-7.682956e-01</td>\n",
              "      <td>-5.540759e-01</td>\n",
              "      <td>-2.086297e-01</td>\n",
              "      <td>-6.430976e-01</td>\n",
              "      <td>...</td>\n",
              "      <td>-2.283949e-01</td>\n",
              "      <td>-5.423504e-01</td>\n",
              "      <td>-1.618463e-01</td>\n",
              "      <td>-3.545861e-01</td>\n",
              "      <td>-3.171451e-01</td>\n",
              "      <td>-3.269839e-01</td>\n",
              "      <td>-7.083953e-02</td>\n",
              "      <td>-5.295979e-02</td>\n",
              "      <td>5.600000</td>\n",
              "      <td>0.000000</td>\n",
              "    </tr>\n",
              "    <tr>\n",
              "      <th>50%</th>\n",
              "      <td>84692.000000</td>\n",
              "      <td>1.810880e-02</td>\n",
              "      <td>6.548556e-02</td>\n",
              "      <td>1.798463e-01</td>\n",
              "      <td>-1.984653e-02</td>\n",
              "      <td>-5.433583e-02</td>\n",
              "      <td>-2.741871e-01</td>\n",
              "      <td>4.010308e-02</td>\n",
              "      <td>2.235804e-02</td>\n",
              "      <td>-5.142873e-02</td>\n",
              "      <td>...</td>\n",
              "      <td>-2.945017e-02</td>\n",
              "      <td>6.781943e-03</td>\n",
              "      <td>-1.119293e-02</td>\n",
              "      <td>4.097606e-02</td>\n",
              "      <td>1.659350e-02</td>\n",
              "      <td>-5.213911e-02</td>\n",
              "      <td>1.342146e-03</td>\n",
              "      <td>1.124383e-02</td>\n",
              "      <td>22.000000</td>\n",
              "      <td>0.000000</td>\n",
              "    </tr>\n",
              "    <tr>\n",
              "      <th>75%</th>\n",
              "      <td>139320.500000</td>\n",
              "      <td>1.315642e+00</td>\n",
              "      <td>8.037239e-01</td>\n",
              "      <td>1.027196e+00</td>\n",
              "      <td>7.433413e-01</td>\n",
              "      <td>6.119264e-01</td>\n",
              "      <td>3.985649e-01</td>\n",
              "      <td>5.704361e-01</td>\n",
              "      <td>3.273459e-01</td>\n",
              "      <td>5.971390e-01</td>\n",
              "      <td>...</td>\n",
              "      <td>1.863772e-01</td>\n",
              "      <td>5.285536e-01</td>\n",
              "      <td>1.476421e-01</td>\n",
              "      <td>4.395266e-01</td>\n",
              "      <td>3.507156e-01</td>\n",
              "      <td>2.409522e-01</td>\n",
              "      <td>9.104512e-02</td>\n",
              "      <td>7.827995e-02</td>\n",
              "      <td>77.165000</td>\n",
              "      <td>0.000000</td>\n",
              "    </tr>\n",
              "    <tr>\n",
              "      <th>max</th>\n",
              "      <td>172792.000000</td>\n",
              "      <td>2.454930e+00</td>\n",
              "      <td>2.205773e+01</td>\n",
              "      <td>9.382558e+00</td>\n",
              "      <td>1.687534e+01</td>\n",
              "      <td>3.480167e+01</td>\n",
              "      <td>7.330163e+01</td>\n",
              "      <td>1.205895e+02</td>\n",
              "      <td>2.000721e+01</td>\n",
              "      <td>1.559499e+01</td>\n",
              "      <td>...</td>\n",
              "      <td>2.720284e+01</td>\n",
              "      <td>1.050309e+01</td>\n",
              "      <td>2.252841e+01</td>\n",
              "      <td>4.584549e+00</td>\n",
              "      <td>7.519589e+00</td>\n",
              "      <td>3.517346e+00</td>\n",
              "      <td>3.161220e+01</td>\n",
              "      <td>3.384781e+01</td>\n",
              "      <td>25691.160000</td>\n",
              "      <td>1.000000</td>\n",
              "    </tr>\n",
              "  </tbody>\n",
              "</table>\n",
              "<p>8 rows × 31 columns</p>\n",
              "</div>\n",
              "      <button class=\"colab-df-convert\" onclick=\"convertToInteractive('df-8efedfa2-c775-4f5d-bc1f-abea47229e87')\"\n",
              "              title=\"Convert this dataframe to an interactive table.\"\n",
              "              style=\"display:none;\">\n",
              "        \n",
              "  <svg xmlns=\"http://www.w3.org/2000/svg\" height=\"24px\"viewBox=\"0 0 24 24\"\n",
              "       width=\"24px\">\n",
              "    <path d=\"M0 0h24v24H0V0z\" fill=\"none\"/>\n",
              "    <path d=\"M18.56 5.44l.94 2.06.94-2.06 2.06-.94-2.06-.94-.94-2.06-.94 2.06-2.06.94zm-11 1L8.5 8.5l.94-2.06 2.06-.94-2.06-.94L8.5 2.5l-.94 2.06-2.06.94zm10 10l.94 2.06.94-2.06 2.06-.94-2.06-.94-.94-2.06-.94 2.06-2.06.94z\"/><path d=\"M17.41 7.96l-1.37-1.37c-.4-.4-.92-.59-1.43-.59-.52 0-1.04.2-1.43.59L10.3 9.45l-7.72 7.72c-.78.78-.78 2.05 0 2.83L4 21.41c.39.39.9.59 1.41.59.51 0 1.02-.2 1.41-.59l7.78-7.78 2.81-2.81c.8-.78.8-2.07 0-2.86zM5.41 20L4 18.59l7.72-7.72 1.47 1.35L5.41 20z\"/>\n",
              "  </svg>\n",
              "      </button>\n",
              "      \n",
              "  <style>\n",
              "    .colab-df-container {\n",
              "      display:flex;\n",
              "      flex-wrap:wrap;\n",
              "      gap: 12px;\n",
              "    }\n",
              "\n",
              "    .colab-df-convert {\n",
              "      background-color: #E8F0FE;\n",
              "      border: none;\n",
              "      border-radius: 50%;\n",
              "      cursor: pointer;\n",
              "      display: none;\n",
              "      fill: #1967D2;\n",
              "      height: 32px;\n",
              "      padding: 0 0 0 0;\n",
              "      width: 32px;\n",
              "    }\n",
              "\n",
              "    .colab-df-convert:hover {\n",
              "      background-color: #E2EBFA;\n",
              "      box-shadow: 0px 1px 2px rgba(60, 64, 67, 0.3), 0px 1px 3px 1px rgba(60, 64, 67, 0.15);\n",
              "      fill: #174EA6;\n",
              "    }\n",
              "\n",
              "    [theme=dark] .colab-df-convert {\n",
              "      background-color: #3B4455;\n",
              "      fill: #D2E3FC;\n",
              "    }\n",
              "\n",
              "    [theme=dark] .colab-df-convert:hover {\n",
              "      background-color: #434B5C;\n",
              "      box-shadow: 0px 1px 3px 1px rgba(0, 0, 0, 0.15);\n",
              "      filter: drop-shadow(0px 1px 2px rgba(0, 0, 0, 0.3));\n",
              "      fill: #FFFFFF;\n",
              "    }\n",
              "  </style>\n",
              "\n",
              "      <script>\n",
              "        const buttonEl =\n",
              "          document.querySelector('#df-8efedfa2-c775-4f5d-bc1f-abea47229e87 button.colab-df-convert');\n",
              "        buttonEl.style.display =\n",
              "          google.colab.kernel.accessAllowed ? 'block' : 'none';\n",
              "\n",
              "        async function convertToInteractive(key) {\n",
              "          const element = document.querySelector('#df-8efedfa2-c775-4f5d-bc1f-abea47229e87');\n",
              "          const dataTable =\n",
              "            await google.colab.kernel.invokeFunction('convertToInteractive',\n",
              "                                                     [key], {});\n",
              "          if (!dataTable) return;\n",
              "\n",
              "          const docLinkHtml = 'Like what you see? Visit the ' +\n",
              "            '<a target=\"_blank\" href=https://colab.research.google.com/notebooks/data_table.ipynb>data table notebook</a>'\n",
              "            + ' to learn more about interactive tables.';\n",
              "          element.innerHTML = '';\n",
              "          dataTable['output_type'] = 'display_data';\n",
              "          await google.colab.output.renderOutput(dataTable, element);\n",
              "          const docLink = document.createElement('div');\n",
              "          docLink.innerHTML = docLinkHtml;\n",
              "          element.appendChild(docLink);\n",
              "        }\n",
              "      </script>\n",
              "    </div>\n",
              "  </div>\n",
              "  "
            ]
          },
          "metadata": {},
          "execution_count": 5
        }
      ]
    },
    {
      "cell_type": "markdown",
      "source": [
        "# **Información del Dataframe**"
      ],
      "metadata": {
        "id": "5q1LI6XjaccE"
      }
    },
    {
      "cell_type": "markdown",
      "source": [
        "El método info() nos proporciona información sobre el DataFrame.\n",
        "\n",
        "Dicha información contiene el número de columnas, las etiquetas de las columnas, los tipos de datos de las columnas, el uso de la memoria, el índice de rango y el número de celdas en cada columna (valores no nulos)."
      ],
      "metadata": {
        "id": "GXYzzus21puX"
      }
    },
    {
      "cell_type": "code",
      "source": [
        "inf = transactions_full.info()\n",
        "inf"
      ],
      "metadata": {
        "colab": {
          "base_uri": "https://localhost:8080/"
        },
        "id": "wDhEN-Pb0EJU",
        "outputId": "fb916f4f-7656-4574-df37-ab79561ee5cb"
      },
      "execution_count": 6,
      "outputs": [
        {
          "output_type": "stream",
          "name": "stdout",
          "text": [
            "<class 'pandas.core.frame.DataFrame'>\n",
            "Int64Index: 284807 entries, 0 to 96545\n",
            "Data columns (total 31 columns):\n",
            " #   Column  Non-Null Count   Dtype  \n",
            "---  ------  --------------   -----  \n",
            " 0   Time    284807 non-null  float64\n",
            " 1   V1      284807 non-null  float64\n",
            " 2   V2      284807 non-null  float64\n",
            " 3   V3      284807 non-null  float64\n",
            " 4   V4      284807 non-null  float64\n",
            " 5   V5      284807 non-null  float64\n",
            " 6   V6      284807 non-null  float64\n",
            " 7   V7      284807 non-null  float64\n",
            " 8   V8      284807 non-null  float64\n",
            " 9   V9      284807 non-null  float64\n",
            " 10  V10     284807 non-null  float64\n",
            " 11  V11     284807 non-null  float64\n",
            " 12  V12     284807 non-null  float64\n",
            " 13  V13     284807 non-null  float64\n",
            " 14  V14     284807 non-null  float64\n",
            " 15  V15     284807 non-null  float64\n",
            " 16  V16     284807 non-null  float64\n",
            " 17  V17     284807 non-null  float64\n",
            " 18  V18     284807 non-null  float64\n",
            " 19  V19     284807 non-null  float64\n",
            " 20  V20     284807 non-null  float64\n",
            " 21  V21     284807 non-null  float64\n",
            " 22  V22     284807 non-null  float64\n",
            " 23  V23     284807 non-null  float64\n",
            " 24  V24     284807 non-null  float64\n",
            " 25  V25     284807 non-null  float64\n",
            " 26  V26     284807 non-null  float64\n",
            " 27  V27     284807 non-null  float64\n",
            " 28  V28     284807 non-null  float64\n",
            " 29  Amount  284807 non-null  float64\n",
            " 30  Class   284807 non-null  int64  \n",
            "dtypes: float64(30), int64(1)\n",
            "memory usage: 69.5 MB\n"
          ]
        }
      ]
    },
    {
      "cell_type": "markdown",
      "source": [
        "### **Verificamos si hay valores nulos en el Dataset a analizar**"
      ],
      "metadata": {
        "id": "VqHV5KhwUD15"
      }
    },
    {
      "cell_type": "code",
      "source": [
        "# La función pandas.isnull devuelve una estructura con las mismas dimensiones \n",
        "# que la que se entrega como argumento sustituyendo cada valor por el booleano \n",
        "#'True' si el correspondiente elemento es un valor nulo,y por el booleano 'False' \n",
        "# en caso contrario.\n",
        "\n",
        "# sum() se calcula como True=1 y False=0, se puede contar el número de valores\n",
        "#  faltantes en cada fila y columna llamando a sum()desde el resultado de isnull().\n",
        "\n",
        "transactions_full.isnull().sum()"
      ],
      "metadata": {
        "colab": {
          "base_uri": "https://localhost:8080/"
        },
        "id": "RULJYomc447J",
        "outputId": "befef4ef-3526-4537-dd0f-7d6dc5449288"
      },
      "execution_count": 7,
      "outputs": [
        {
          "output_type": "execute_result",
          "data": {
            "text/plain": [
              "Time      0\n",
              "V1        0\n",
              "V2        0\n",
              "V3        0\n",
              "V4        0\n",
              "V5        0\n",
              "V6        0\n",
              "V7        0\n",
              "V8        0\n",
              "V9        0\n",
              "V10       0\n",
              "V11       0\n",
              "V12       0\n",
              "V13       0\n",
              "V14       0\n",
              "V15       0\n",
              "V16       0\n",
              "V17       0\n",
              "V18       0\n",
              "V19       0\n",
              "V20       0\n",
              "V21       0\n",
              "V22       0\n",
              "V23       0\n",
              "V24       0\n",
              "V25       0\n",
              "V26       0\n",
              "V27       0\n",
              "V28       0\n",
              "Amount    0\n",
              "Class     0\n",
              "dtype: int64"
            ]
          },
          "metadata": {},
          "execution_count": 7
        }
      ]
    },
    {
      "cell_type": "markdown",
      "source": [
        "### **Comentario**"
      ],
      "metadata": {
        "id": "isHsQ9gn39Kn"
      }
    },
    {
      "cell_type": "markdown",
      "source": [
        "Podemos apreciar que no existen valores nulos en el dataset, por ende no es necesario completar o excluir datos. El dataset no nos da el nombre de las características (features), por lo que no podemos asumir cuál es la importancia de cada variable. \n",
        "\n",
        "Las unicas características (features) conocidas son  **time** y  **amount**, donde:\n",
        "\n",
        "**Time** :  Indica los segundos transcurridos entre cada transacción, que es una indicación potencial cuando se esta produciendo un fraude. \n",
        "\n",
        "**Amount** : Muestra el monto de la transacción."
      ],
      "metadata": {
        "id": "V3SYezwY4Q84"
      }
    },
    {
      "cell_type": "markdown",
      "source": [
        "# **Verificamos como se distribuye la clase entre casos relacionados con \"fraude\" y \"no fraude\"**"
      ],
      "metadata": {
        "id": "dfO0U1hjbmov"
      }
    },
    {
      "cell_type": "code",
      "source": [
        "transactions_full.Class.value_counts()"
      ],
      "metadata": {
        "colab": {
          "base_uri": "https://localhost:8080/"
        },
        "id": "NPEzxp-u3_2T",
        "outputId": "2059370c-4e1e-49a0-b048-66d158ace542"
      },
      "execution_count": 8,
      "outputs": [
        {
          "output_type": "execute_result",
          "data": {
            "text/plain": [
              "0    284315\n",
              "1       492\n",
              "Name: Class, dtype: int64"
            ]
          },
          "metadata": {},
          "execution_count": 8
        }
      ]
    },
    {
      "cell_type": "markdown",
      "source": [
        "# **Comentario**"
      ],
      "metadata": {
        "id": "uRlcvVsWdlAl"
      }
    },
    {
      "cell_type": "markdown",
      "source": [
        "Monto (Amount) -  Casos :\n",
        "\n",
        "('0' - Sin fraude) es > que el  ('1' - Fraude), \n",
        "\n",
        "\n",
        "por lo tanto, se debe tener cuidado con la división de datos, de lo contrario existe la posibilidad de que el modelo no aprenda cómo identificar casos de fraude.\n"
      ],
      "metadata": {
        "id": "7KBx7uUTd0LK"
      }
    },
    {
      "cell_type": "markdown",
      "source": [
        "## **Verificamos cómo es la distribución probabilística de los montos (amount) de las transacciones.**"
      ],
      "metadata": {
        "id": "rFepOtcA507u"
      }
    },
    {
      "cell_type": "code",
      "source": [
        "plt.figure(figsize=(14,8))\n",
        "plt.grid()\n",
        "\n",
        "ax = plt.gca()\n",
        "ax.set_facecolor('lightcyan')\n",
        "ax.set_title(\"Probabilistic distribution of transactions amounts\",fontsize='16')\n",
        "ax.set_xlabel('Amount',fontsize='14')\n",
        "ax.set_ylabel('Density',fontsize='14')\n",
        "\n",
        "sns.distplot(transactions_full.Amount)\n",
        "transactions_full.describe()['Amount'].mean\n",
        "\n"
      ],
      "metadata": {
        "colab": {
          "base_uri": "https://localhost:8080/",
          "height": 730
        },
        "id": "LWEYDDbhdx2W",
        "outputId": "f33756b6-d466-4897-f67d-3bc69125c134"
      },
      "execution_count": 9,
      "outputs": [
        {
          "output_type": "stream",
          "name": "stderr",
          "text": [
            "/usr/local/lib/python3.7/dist-packages/seaborn/distributions.py:2619: FutureWarning: `distplot` is a deprecated function and will be removed in a future version. Please adapt your code to use either `displot` (a figure-level function with similar flexibility) or `histplot` (an axes-level function for histograms).\n",
            "  warnings.warn(msg, FutureWarning)\n"
          ]
        },
        {
          "output_type": "execute_result",
          "data": {
            "text/plain": [
              "<bound method NDFrame._add_numeric_operations.<locals>.mean of count    284807.000000\n",
              "mean         88.349619\n",
              "std         250.120109\n",
              "min           0.000000\n",
              "25%           5.600000\n",
              "50%          22.000000\n",
              "75%          77.165000\n",
              "max       25691.160000\n",
              "Name: Amount, dtype: float64>"
            ]
          },
          "metadata": {},
          "execution_count": 9
        },
        {
          "output_type": "display_data",
          "data": {
            "text/plain": [
              "<Figure size 1008x576 with 1 Axes>"
            ],
            "image/png": "[encoded data removed]"
          },
          "metadata": {
            "needs_background": "light"
          }
        }
      ]
    },
    {
      "cell_type": "markdown",
      "source": [
        "# **Comentario**\n"
      ],
      "metadata": {
        "id": "pwue--fU860w"
      }
    },
    {
      "cell_type": "markdown",
      "source": [
        "Gran parte del monto (amount) de las transacciones es de aproximadamente 88. Podemos ver la relación entre el monto (amount) y los casos de fraude."
      ],
      "metadata": {
        "id": "Tz5LmvBL8-hA"
      }
    },
    {
      "cell_type": "markdown",
      "source": [
        "# **Recuento de  fraudes vs Amount ( montos)**"
      ],
      "metadata": {
        "id": "paRhdfmSEPVU"
      }
    },
    {
      "cell_type": "markdown",
      "source": [
        "## **Plot a histogram**"
      ],
      "metadata": {
        "id": "IYmgsVH8fyye"
      }
    },
    {
      "cell_type": "code",
      "source": [
        "plt.figure(figsize=(14,8))\n",
        "\n",
        "ax = plt.gca()\n",
        "ax.set_facecolor('lightgreen')\n",
        "ax.set_title(\"Frauds Vs. Amount\",fontsize='16')\n",
        "ax.set_xlabel('Amount',fontsize='14')\n",
        "ax.set_ylabel('Frauds',fontsize='14')\n",
        "\n",
        "transactions_full[transactions_full['Class']==1]['Amount'].hist()"
      ],
      "metadata": {
        "colab": {
          "base_uri": "https://localhost:8080/",
          "height": 536
        },
        "id": "GRs5VWVn890t",
        "outputId": "d3471b70-b7db-43e8-b7fd-e446956422b2"
      },
      "execution_count": 10,
      "outputs": [
        {
          "output_type": "execute_result",
          "data": {
            "text/plain": [
              "<matplotlib.axes._subplots.AxesSubplot at 0x7f11401db410>"
            ]
          },
          "metadata": {},
          "execution_count": 10
        },
        {
          "output_type": "display_data",
          "data": {
            "text/plain": [
              "<Figure size 1008x576 with 1 Axes>"
            ],
            "image/png": "[encoded data removed]"
          },
          "metadata": {
            "needs_background": "light"
          }
        }
      ]
    },
    {
      "cell_type": "markdown",
      "source": [
        "## **Observamos en valores por de debajo de 500**"
      ],
      "metadata": {
        "id": "8ng8QhA3jBeV"
      }
    },
    {
      "cell_type": "code",
      "source": [
        "plt.figure(figsize=(14,8))\n",
        "\n",
        "\n",
        "ax = plt.gca()\n",
        "ax.set_facecolor('lightsalmon')\n",
        "ax.set_title(\"Amount < 500 \",fontsize='16')\n",
        "ax.set_xlabel('Amount',fontsize='14')\n",
        "ax.set_ylabel('Frauds',fontsize='14')\n",
        "\n",
        "transactions_full[(transactions_full['Class']==1) & (transactions_full['Amount']<500)]['Amount'].hist(bins=30)"
      ],
      "metadata": {
        "colab": {
          "base_uri": "https://localhost:8080/",
          "height": 536
        },
        "id": "nkRIqDROl2wv",
        "outputId": "e8d9afa6-1e1f-4692-9b2b-df382f229294"
      },
      "execution_count": 11,
      "outputs": [
        {
          "output_type": "execute_result",
          "data": {
            "text/plain": [
              "<matplotlib.axes._subplots.AxesSubplot at 0x7f113fc85b90>"
            ]
          },
          "metadata": {},
          "execution_count": 11
        },
        {
          "output_type": "display_data",
          "data": {
            "text/plain": [
              "<Figure size 1008x576 with 1 Axes>"
            ],
            "image/png": "[encoded data removed]"
          },
          "metadata": {
            "needs_background": "light"
          }
        }
      ]
    },
    {
      "cell_type": "markdown",
      "source": [
        "# **Comentario**"
      ],
      "metadata": {
        "id": "iiTYJZA0okz2"
      }
    },
    {
      "cell_type": "markdown",
      "source": [
        "Como podemos apreciar, la gran cantidad de fraudes ocurre con valores por debajo de 100. Este comportamiento es consistente, ya que los valores pequeños no llaman la atención del sistema.\n",
        "\n",
        "Por otro lado, es posible analizar la relación entre los fraudes y el tiempo transcurrido en cada transacción."
      ],
      "metadata": {
        "id": "twCFWAF0ph8n"
      }
    },
    {
      "cell_type": "markdown",
      "source": [
        "# **Analizamos como es la distribución probabilística del tiempo de las transacciones**."
      ],
      "metadata": {
        "id": "tAGnalMOrz4W"
      }
    },
    {
      "cell_type": "code",
      "source": [
        "plt.figure(figsize=(14,8))\n",
        "plt.grid()\n",
        "\n",
        "ax = plt.gca()\n",
        "ax.set_facecolor('greenyellow')\n",
        "\n",
        "ax.set_title(\"Probabilistic distribution of transactions time\",fontsize='16')\n",
        "ax.set_xlabel('Time',fontsize='14')\n",
        "ax.set_ylabel('Density',fontsize='14')\n",
        "\n",
        "sns.distplot(transactions_full.Time)\n",
        "transactions_full.describe()['Time'].mean"
      ],
      "metadata": {
        "colab": {
          "base_uri": "https://localhost:8080/",
          "height": 730
        },
        "id": "Ggvotq5Boobm",
        "outputId": "a302dcb9-bd2e-4000-d0fc-53bf266eb4e2"
      },
      "execution_count": 12,
      "outputs": [
        {
          "output_type": "stream",
          "name": "stderr",
          "text": [
            "/usr/local/lib/python3.7/dist-packages/seaborn/distributions.py:2619: FutureWarning: `distplot` is a deprecated function and will be removed in a future version. Please adapt your code to use either `displot` (a figure-level function with similar flexibility) or `histplot` (an axes-level function for histograms).\n",
            "  warnings.warn(msg, FutureWarning)\n"
          ]
        },
        {
          "output_type": "execute_result",
          "data": {
            "text/plain": [
              "<bound method NDFrame._add_numeric_operations.<locals>.mean of count    284807.000000\n",
              "mean      94813.859575\n",
              "std       47488.145955\n",
              "min           0.000000\n",
              "25%       54201.500000\n",
              "50%       84692.000000\n",
              "75%      139320.500000\n",
              "max      172792.000000\n",
              "Name: Time, dtype: float64>"
            ]
          },
          "metadata": {},
          "execution_count": 12
        },
        {
          "output_type": "display_data",
          "data": {
            "text/plain": [
              "<Figure size 1008x576 with 1 Axes>"
            ],
            "image/png": "[encoded data removed]"
          },
          "metadata": {
            "needs_background": "light"
          }
        }
      ]
    },
    {
      "cell_type": "markdown",
      "source": [
        "# **Recuento de Frauds Vs. Time**"
      ],
      "metadata": {
        "id": "8wBvrMzlviiE"
      }
    },
    {
      "cell_type": "code",
      "source": [
        "plt.figure(figsize=(14,8))\n",
        "\n",
        "\n",
        "ax = plt.gca()\n",
        "ax.set_facecolor('springgreen')\n",
        "ax.set_title(\"Frauds Vs. Time\",fontsize='16')\n",
        "ax.set_xlabel('Time',fontsize='14')\n",
        "ax.set_ylabel('Frauds',fontsize='14')\n",
        "\n",
        "\n",
        "\n",
        "transactions_full[transactions_full['Class']==1]['Time'].hist(bins=20)"
      ],
      "metadata": {
        "colab": {
          "base_uri": "https://localhost:8080/",
          "height": 536
        },
        "id": "zno1m5cTvorU",
        "outputId": "90a42927-527e-443e-d96e-0b303d05b482"
      },
      "execution_count": 13,
      "outputs": [
        {
          "output_type": "execute_result",
          "data": {
            "text/plain": [
              "<matplotlib.axes._subplots.AxesSubplot at 0x7f113fa714d0>"
            ]
          },
          "metadata": {},
          "execution_count": 13
        },
        {
          "output_type": "display_data",
          "data": {
            "text/plain": [
              "<Figure size 1008x576 with 1 Axes>"
            ],
            "image/png": "[encoded data removed]"
          },
          "metadata": {
            "needs_background": "light"
          }
        }
      ]
    },
    {
      "cell_type": "markdown",
      "source": [
        "# **Comentario**"
      ],
      "metadata": {
        "id": "2vYAbwR8z41x"
      }
    },
    {
      "cell_type": "markdown",
      "source": [
        "Se puede apreciar que el tiempo no parece estar fuertemente correlacionado con los casos de fraude. La distribución probabilistica tampoco aporta mucho .  Con lo cual, podemos dejar para mas adelante esta información.\n"
      ],
      "metadata": {
        "id": "Vw4CmO2Yz8NI"
      }
    },
    {
      "cell_type": "markdown",
      "source": [
        "# **Preprocesamiento de datos**"
      ],
      "metadata": {
        "id": "ia17iiY1aKKp"
      }
    },
    {
      "cell_type": "markdown",
      "source": [
        "## **Estandarización de los Datos**\n",
        "\n"
      ],
      "metadata": {
        "id": "_iSWeNJCUBEG"
      }
    },
    {
      "cell_type": "markdown",
      "source": [
        "El rango de 'Amount' es demasiado grande, así como el de 'Time'. Procedemos a reducirlo usando la estandarización."
      ],
      "metadata": {
        "id": "ZOHQnyykc2Mk"
      }
    },
    {
      "cell_type": "code",
      "source": [
        "scaler = StandardScaler()\n",
        "\n",
        "transactions_full['Amout Normalized'] = scaler.fit_transform(transactions_full['Amount'].values.reshape(-1, 1))\n",
        "transactions_full['Time Normalized'] = scaler.fit_transform(transactions_full['Time'].values.reshape(-1, 1))\n",
        "\n",
        "transactions_full = transactions_full.drop(['Amount', 'Time'], axis=1)"
      ],
      "metadata": {
        "id": "jzc6X1ndz7oy"
      },
      "execution_count": 14,
      "outputs": []
    },
    {
      "cell_type": "markdown",
      "source": [
        "# **Dataset Estandarizado**"
      ],
      "metadata": {
        "id": "EUSKB1qNeFc7"
      }
    },
    {
      "cell_type": "code",
      "source": [
        "# Mostramos el nuevo dataset\n",
        "\n",
        "transactions_full.head(20)"
      ],
      "metadata": {
        "colab": {
          "base_uri": "https://localhost:8080/",
          "height": 787
        },
        "id": "MMLvbePeeKLm",
        "outputId": "f3cee1dd-7486-42e6-b41b-101a65ad4a52"
      },
      "execution_count": 15,
      "outputs": [
        {
          "output_type": "execute_result",
          "data": {
            "text/plain": [
              "          V1        V2        V3        V4        V5        V6        V7  \\\n",
              "0  -1.359807 -0.072781  2.536347  1.378155 -0.338321  0.462388  0.239599   \n",
              "1   1.191857  0.266151  0.166480  0.448154  0.060018 -0.082361 -0.078803   \n",
              "2  -1.358354 -1.340163  1.773209  0.379780 -0.503198  1.800499  0.791461   \n",
              "3  -0.966272 -0.185226  1.792993 -0.863291 -0.010309  1.247203  0.237609   \n",
              "4  -1.158233  0.877737  1.548718  0.403034 -0.407193  0.095921  0.592941   \n",
              "5  -0.425966  0.960523  1.141109 -0.168252  0.420987 -0.029728  0.476201   \n",
              "6   1.229658  0.141004  0.045371  1.202613  0.191881  0.272708 -0.005159   \n",
              "7  -0.644269  1.417964  1.074380 -0.492199  0.948934  0.428118  1.120631   \n",
              "8  -0.894286  0.286157 -0.113192 -0.271526  2.669599  3.721818  0.370145   \n",
              "9  -0.338262  1.119593  1.044367 -0.222187  0.499361 -0.246761  0.651583   \n",
              "10  1.449044 -1.176339  0.913860 -1.375667 -1.971383 -0.629152 -1.423236   \n",
              "11  0.384978  0.616109 -0.874300 -0.094019  2.924584  3.317027  0.470455   \n",
              "12  1.249999 -1.221637  0.383930 -1.234899 -1.485419 -0.753230 -0.689405   \n",
              "13  1.069374  0.287722  0.828613  2.712520 -0.178398  0.337544 -0.096717   \n",
              "14 -2.791855 -0.327771  1.641750  1.767473 -0.136588  0.807596 -0.422911   \n",
              "15 -0.752417  0.345485  2.057323 -1.468643 -1.158394 -0.077850 -0.608581   \n",
              "16  1.103215 -0.040296  1.267332  1.289091 -0.735997  0.288069 -0.586057   \n",
              "17 -0.436905  0.918966  0.924591 -0.727219  0.915679 -0.127867  0.707642   \n",
              "18 -5.401258 -5.450148  1.186305  1.736239  3.049106 -1.763406 -1.559738   \n",
              "19  1.492936 -1.029346  0.454795 -1.438026 -1.555434 -0.720961 -1.080664   \n",
              "\n",
              "          V8        V9       V10  ...       V22       V23       V24       V25  \\\n",
              "0   0.098698  0.363787  0.090794  ...  0.277838 -0.110474  0.066928  0.128539   \n",
              "1   0.085102 -0.255425 -0.166974  ... -0.638672  0.101288 -0.339846  0.167170   \n",
              "2   0.247676 -1.514654  0.207643  ...  0.771679  0.909412 -0.689281 -0.327642   \n",
              "3   0.377436 -1.387024 -0.054952  ...  0.005274 -0.190321 -1.175575  0.647376   \n",
              "4  -0.270533  0.817739  0.753074  ...  0.798278 -0.137458  0.141267 -0.206010   \n",
              "5   0.260314 -0.568671 -0.371407  ... -0.559825 -0.026398 -0.371427 -0.232794   \n",
              "6   0.081213  0.464960 -0.099254  ... -0.270710 -0.154104 -0.780055  0.750137   \n",
              "7  -3.807864  0.615375  1.249376  ... -1.015455  0.057504 -0.649709 -0.415267   \n",
              "8   0.851084 -0.392048 -0.410430  ... -0.268092 -0.204233  1.011592  0.373205   \n",
              "9   0.069539 -0.736727 -0.366846  ... -0.633753 -0.120794 -0.385050 -0.069733   \n",
              "10  0.048456 -1.720408  1.626659  ...  0.313894  0.027740  0.500512  0.251367   \n",
              "11  0.538247 -0.558895  0.309755  ...  0.238422  0.009130  0.996710 -0.767315   \n",
              "12 -0.227487 -2.094011  1.323729  ... -0.483285  0.084668  0.392831  0.161135   \n",
              "13  0.115982 -0.221083  0.460230  ...  0.074412 -0.071407  0.104744  0.548265   \n",
              "14 -1.907107  0.755713  1.151087  ...  0.222182  1.020586  0.028317 -0.232746   \n",
              "15  0.003603 -0.436167  0.747731  ...  1.353650 -0.256573 -0.065084 -0.039124   \n",
              "16  0.189380  0.782333 -0.267975  ...  0.196002  0.013802  0.103758  0.364298   \n",
              "17  0.087962 -0.665271 -0.737980  ... -0.672638 -0.156858 -0.888386 -0.342413   \n",
              "18  0.160842  1.233090  0.345173  ...  0.984460  2.458589  0.042119 -0.481631   \n",
              "19 -0.053127 -1.978682  1.638076  ... -0.175074  0.040002  0.295814  0.332931   \n",
              "\n",
              "         V26       V27       V28  Class  Amout Normalized  Time Normalized  \n",
              "0  -0.189115  0.133558 -0.021053      0          0.244964        -1.996583  \n",
              "1   0.125895 -0.008983  0.014724      0         -0.342475        -1.996583  \n",
              "2  -0.139097 -0.055353 -0.059752      0          1.160686        -1.996562  \n",
              "3  -0.221929  0.062723  0.061458      0          0.140534        -1.996562  \n",
              "4   0.502292  0.219422  0.215153      0         -0.073403        -1.996541  \n",
              "5   0.105915  0.253844  0.081080      0         -0.338556        -1.996541  \n",
              "6  -0.257237  0.034507  0.005168      0         -0.333279        -1.996499  \n",
              "7  -0.051634 -1.206921 -1.085339      0         -0.190107        -1.996436  \n",
              "8  -0.384157  0.011747  0.142404      0          0.019392        -1.996436  \n",
              "9   0.094199  0.246219  0.083076      0         -0.338516        -1.996394  \n",
              "10 -0.129478  0.042850  0.016253      0         -0.322044        -1.996372  \n",
              "11 -0.492208  0.042472 -0.054337      0         -0.313289        -1.996372  \n",
              "12 -0.354990  0.026416  0.042422      0          0.132538        -1.996372  \n",
              "13  0.104094  0.021491  0.021293      0         -0.243282        -1.996351  \n",
              "14 -0.235557 -0.164778 -0.030154      0         -0.118142        -1.996330  \n",
              "15 -0.087086 -0.180998  0.129394      0         -0.289300        -1.996330  \n",
              "16 -0.382261  0.092809  0.037051      0         -0.301294        -1.996330  \n",
              "17 -0.049027  0.079692  0.131024      0         -0.349671        -1.996309  \n",
              "18 -0.621272  0.392053  0.949594      0         -0.166119        -1.996288  \n",
              "19 -0.220385  0.022298  0.007602      0         -0.333239        -1.996267  \n",
              "\n",
              "[20 rows x 31 columns]"
            ],
            "text/html": [
              "\n",
              "  <div id=\"df-a68c7285-fd88-4d5d-93f4-94e19096ae94\">\n",
              "    <div class=\"colab-df-container\">\n",
              "      <div>\n",
              "<style scoped>\n",
              "    .dataframe tbody tr th:only-of-type {\n",
              "        vertical-align: middle;\n",
              "    }\n",
              "\n",
              "    .dataframe tbody tr th {\n",
              "        vertical-align: top;\n",
              "    }\n",
              "\n",
              "    .dataframe thead th {\n",
              "        text-align: right;\n",
              "    }\n",
              "</style>\n",
              "<table border=\"1\" class=\"dataframe\">\n",
              "  <thead>\n",
              "    <tr style=\"text-align: right;\">\n",
              "      <th></th>\n",
              "      <th>V1</th>\n",
              "      <th>V2</th>\n",
              "      <th>V3</th>\n",
              "      <th>V4</th>\n",
              "      <th>V5</th>\n",
              "      <th>V6</th>\n",
              "      <th>V7</th>\n",
              "      <th>V8</th>\n",
              "      <th>V9</th>\n",
              "      <th>V10</th>\n",
              "      <th>...</th>\n",
              "      <th>V22</th>\n",
              "      <th>V23</th>\n",
              "      <th>V24</th>\n",
              "      <th>V25</th>\n",
              "      <th>V26</th>\n",
              "      <th>V27</th>\n",
              "      <th>V28</th>\n",
              "      <th>Class</th>\n",
              "      <th>Amout Normalized</th>\n",
              "      <th>Time Normalized</th>\n",
              "    </tr>\n",
              "  </thead>\n",
              "  <tbody>\n",
              "    <tr>\n",
              "      <th>0</th>\n",
              "      <td>-1.359807</td>\n",
              "      <td>-0.072781</td>\n",
              "      <td>2.536347</td>\n",
              "      <td>1.378155</td>\n",
              "      <td>-0.338321</td>\n",
              "      <td>0.462388</td>\n",
              "      <td>0.239599</td>\n",
              "      <td>0.098698</td>\n",
              "      <td>0.363787</td>\n",
              "      <td>0.090794</td>\n",
              "      <td>...</td>\n",
              "      <td>0.277838</td>\n",
              "      <td>-0.110474</td>\n",
              "      <td>0.066928</td>\n",
              "      <td>0.128539</td>\n",
              "      <td>-0.189115</td>\n",
              "      <td>0.133558</td>\n",
              "      <td>-0.021053</td>\n",
              "      <td>0</td>\n",
              "      <td>0.244964</td>\n",
              "      <td>-1.996583</td>\n",
              "    </tr>\n",
              "    <tr>\n",
              "      <th>1</th>\n",
              "      <td>1.191857</td>\n",
              "      <td>0.266151</td>\n",
              "      <td>0.166480</td>\n",
              "      <td>0.448154</td>\n",
              "      <td>0.060018</td>\n",
              "      <td>-0.082361</td>\n",
              "      <td>-0.078803</td>\n",
              "      <td>0.085102</td>\n",
              "      <td>-0.255425</td>\n",
              "      <td>-0.166974</td>\n",
              "      <td>...</td>\n",
              "      <td>-0.638672</td>\n",
              "      <td>0.101288</td>\n",
              "      <td>-0.339846</td>\n",
              "      <td>0.167170</td>\n",
              "      <td>0.125895</td>\n",
              "      <td>-0.008983</td>\n",
              "      <td>0.014724</td>\n",
              "      <td>0</td>\n",
              "      <td>-0.342475</td>\n",
              "      <td>-1.996583</td>\n",
              "    </tr>\n",
              "    <tr>\n",
              "      <th>2</th>\n",
              "      <td>-1.358354</td>\n",
              "      <td>-1.340163</td>\n",
              "      <td>1.773209</td>\n",
              "      <td>0.379780</td>\n",
              "      <td>-0.503198</td>\n",
              "      <td>1.800499</td>\n",
              "      <td>0.791461</td>\n",
              "      <td>0.247676</td>\n",
              "      <td>-1.514654</td>\n",
              "      <td>0.207643</td>\n",
              "      <td>...</td>\n",
              "      <td>0.771679</td>\n",
              "      <td>0.909412</td>\n",
              "      <td>-0.689281</td>\n",
              "      <td>-0.327642</td>\n",
              "      <td>-0.139097</td>\n",
              "      <td>-0.055353</td>\n",
              "      <td>-0.059752</td>\n",
              "      <td>0</td>\n",
              "      <td>1.160686</td>\n",
              "      <td>-1.996562</td>\n",
              "    </tr>\n",
              "    <tr>\n",
              "      <th>3</th>\n",
              "      <td>-0.966272</td>\n",
              "      <td>-0.185226</td>\n",
              "      <td>1.792993</td>\n",
              "      <td>-0.863291</td>\n",
              "      <td>-0.010309</td>\n",
              "      <td>1.247203</td>\n",
              "      <td>0.237609</td>\n",
              "      <td>0.377436</td>\n",
              "      <td>-1.387024</td>\n",
              "      <td>-0.054952</td>\n",
              "      <td>...</td>\n",
              "      <td>0.005274</td>\n",
              "      <td>-0.190321</td>\n",
              "      <td>-1.175575</td>\n",
              "      <td>0.647376</td>\n",
              "      <td>-0.221929</td>\n",
              "      <td>0.062723</td>\n",
              "      <td>0.061458</td>\n",
              "      <td>0</td>\n",
              "      <td>0.140534</td>\n",
              "      <td>-1.996562</td>\n",
              "    </tr>\n",
              "    <tr>\n",
              "      <th>4</th>\n",
              "      <td>-1.158233</td>\n",
              "      <td>0.877737</td>\n",
              "      <td>1.548718</td>\n",
              "      <td>0.403034</td>\n",
              "      <td>-0.407193</td>\n",
              "      <td>0.095921</td>\n",
              "      <td>0.592941</td>\n",
              "      <td>-0.270533</td>\n",
              "      <td>0.817739</td>\n",
              "      <td>0.753074</td>\n",
              "      <td>...</td>\n",
              "      <td>0.798278</td>\n",
              "      <td>-0.137458</td>\n",
              "      <td>0.141267</td>\n",
              "      <td>-0.206010</td>\n",
              "      <td>0.502292</td>\n",
              "      <td>0.219422</td>\n",
              "      <td>0.215153</td>\n",
              "      <td>0</td>\n",
              "      <td>-0.073403</td>\n",
              "      <td>-1.996541</td>\n",
              "    </tr>\n",
              "    <tr>\n",
              "      <th>5</th>\n",
              "      <td>-0.425966</td>\n",
              "      <td>0.960523</td>\n",
              "      <td>1.141109</td>\n",
              "      <td>-0.168252</td>\n",
              "      <td>0.420987</td>\n",
              "      <td>-0.029728</td>\n",
              "      <td>0.476201</td>\n",
              "      <td>0.260314</td>\n",
              "      <td>-0.568671</td>\n",
              "      <td>-0.371407</td>\n",
              "      <td>...</td>\n",
              "      <td>-0.559825</td>\n",
              "      <td>-0.026398</td>\n",
              "      <td>-0.371427</td>\n",
              "      <td>-0.232794</td>\n",
              "      <td>0.105915</td>\n",
              "      <td>0.253844</td>\n",
              "      <td>0.081080</td>\n",
              "      <td>0</td>\n",
              "      <td>-0.338556</td>\n",
              "      <td>-1.996541</td>\n",
              "    </tr>\n",
              "    <tr>\n",
              "      <th>6</th>\n",
              "      <td>1.229658</td>\n",
              "      <td>0.141004</td>\n",
              "      <td>0.045371</td>\n",
              "      <td>1.202613</td>\n",
              "      <td>0.191881</td>\n",
              "      <td>0.272708</td>\n",
              "      <td>-0.005159</td>\n",
              "      <td>0.081213</td>\n",
              "      <td>0.464960</td>\n",
              "      <td>-0.099254</td>\n",
              "      <td>...</td>\n",
              "      <td>-0.270710</td>\n",
              "      <td>-0.154104</td>\n",
              "      <td>-0.780055</td>\n",
              "      <td>0.750137</td>\n",
              "      <td>-0.257237</td>\n",
              "      <td>0.034507</td>\n",
              "      <td>0.005168</td>\n",
              "      <td>0</td>\n",
              "      <td>-0.333279</td>\n",
              "      <td>-1.996499</td>\n",
              "    </tr>\n",
              "    <tr>\n",
              "      <th>7</th>\n",
              "      <td>-0.644269</td>\n",
              "      <td>1.417964</td>\n",
              "      <td>1.074380</td>\n",
              "      <td>-0.492199</td>\n",
              "      <td>0.948934</td>\n",
              "      <td>0.428118</td>\n",
              "      <td>1.120631</td>\n",
              "      <td>-3.807864</td>\n",
              "      <td>0.615375</td>\n",
              "      <td>1.249376</td>\n",
              "      <td>...</td>\n",
              "      <td>-1.015455</td>\n",
              "      <td>0.057504</td>\n",
              "      <td>-0.649709</td>\n",
              "      <td>-0.415267</td>\n",
              "      <td>-0.051634</td>\n",
              "      <td>-1.206921</td>\n",
              "      <td>-1.085339</td>\n",
              "      <td>0</td>\n",
              "      <td>-0.190107</td>\n",
              "      <td>-1.996436</td>\n",
              "    </tr>\n",
              "    <tr>\n",
              "      <th>8</th>\n",
              "      <td>-0.894286</td>\n",
              "      <td>0.286157</td>\n",
              "      <td>-0.113192</td>\n",
              "      <td>-0.271526</td>\n",
              "      <td>2.669599</td>\n",
              "      <td>3.721818</td>\n",
              "      <td>0.370145</td>\n",
              "      <td>0.851084</td>\n",
              "      <td>-0.392048</td>\n",
              "      <td>-0.410430</td>\n",
              "      <td>...</td>\n",
              "      <td>-0.268092</td>\n",
              "      <td>-0.204233</td>\n",
              "      <td>1.011592</td>\n",
              "      <td>0.373205</td>\n",
              "      <td>-0.384157</td>\n",
              "      <td>0.011747</td>\n",
              "      <td>0.142404</td>\n",
              "      <td>0</td>\n",
              "      <td>0.019392</td>\n",
              "      <td>-1.996436</td>\n",
              "    </tr>\n",
              "    <tr>\n",
              "      <th>9</th>\n",
              "      <td>-0.338262</td>\n",
              "      <td>1.119593</td>\n",
              "      <td>1.044367</td>\n",
              "      <td>-0.222187</td>\n",
              "      <td>0.499361</td>\n",
              "      <td>-0.246761</td>\n",
              "      <td>0.651583</td>\n",
              "      <td>0.069539</td>\n",
              "      <td>-0.736727</td>\n",
              "      <td>-0.366846</td>\n",
              "      <td>...</td>\n",
              "      <td>-0.633753</td>\n",
              "      <td>-0.120794</td>\n",
              "      <td>-0.385050</td>\n",
              "      <td>-0.069733</td>\n",
              "      <td>0.094199</td>\n",
              "      <td>0.246219</td>\n",
              "      <td>0.083076</td>\n",
              "      <td>0</td>\n",
              "      <td>-0.338516</td>\n",
              "      <td>-1.996394</td>\n",
              "    </tr>\n",
              "    <tr>\n",
              "      <th>10</th>\n",
              "      <td>1.449044</td>\n",
              "      <td>-1.176339</td>\n",
              "      <td>0.913860</td>\n",
              "      <td>-1.375667</td>\n",
              "      <td>-1.971383</td>\n",
              "      <td>-0.629152</td>\n",
              "      <td>-1.423236</td>\n",
              "      <td>0.048456</td>\n",
              "      <td>-1.720408</td>\n",
              "      <td>1.626659</td>\n",
              "      <td>...</td>\n",
              "      <td>0.313894</td>\n",
              "      <td>0.027740</td>\n",
              "      <td>0.500512</td>\n",
              "      <td>0.251367</td>\n",
              "      <td>-0.129478</td>\n",
              "      <td>0.042850</td>\n",
              "      <td>0.016253</td>\n",
              "      <td>0</td>\n",
              "      <td>-0.322044</td>\n",
              "      <td>-1.996372</td>\n",
              "    </tr>\n",
              "    <tr>\n",
              "      <th>11</th>\n",
              "      <td>0.384978</td>\n",
              "      <td>0.616109</td>\n",
              "      <td>-0.874300</td>\n",
              "      <td>-0.094019</td>\n",
              "      <td>2.924584</td>\n",
              "      <td>3.317027</td>\n",
              "      <td>0.470455</td>\n",
              "      <td>0.538247</td>\n",
              "      <td>-0.558895</td>\n",
              "      <td>0.309755</td>\n",
              "      <td>...</td>\n",
              "      <td>0.238422</td>\n",
              "      <td>0.009130</td>\n",
              "      <td>0.996710</td>\n",
              "      <td>-0.767315</td>\n",
              "      <td>-0.492208</td>\n",
              "      <td>0.042472</td>\n",
              "      <td>-0.054337</td>\n",
              "      <td>0</td>\n",
              "      <td>-0.313289</td>\n",
              "      <td>-1.996372</td>\n",
              "    </tr>\n",
              "    <tr>\n",
              "      <th>12</th>\n",
              "      <td>1.249999</td>\n",
              "      <td>-1.221637</td>\n",
              "      <td>0.383930</td>\n",
              "      <td>-1.234899</td>\n",
              "      <td>-1.485419</td>\n",
              "      <td>-0.753230</td>\n",
              "      <td>-0.689405</td>\n",
              "      <td>-0.227487</td>\n",
              "      <td>-2.094011</td>\n",
              "      <td>1.323729</td>\n",
              "      <td>...</td>\n",
              "      <td>-0.483285</td>\n",
              "      <td>0.084668</td>\n",
              "      <td>0.392831</td>\n",
              "      <td>0.161135</td>\n",
              "      <td>-0.354990</td>\n",
              "      <td>0.026416</td>\n",
              "      <td>0.042422</td>\n",
              "      <td>0</td>\n",
              "      <td>0.132538</td>\n",
              "      <td>-1.996372</td>\n",
              "    </tr>\n",
              "    <tr>\n",
              "      <th>13</th>\n",
              "      <td>1.069374</td>\n",
              "      <td>0.287722</td>\n",
              "      <td>0.828613</td>\n",
              "      <td>2.712520</td>\n",
              "      <td>-0.178398</td>\n",
              "      <td>0.337544</td>\n",
              "      <td>-0.096717</td>\n",
              "      <td>0.115982</td>\n",
              "      <td>-0.221083</td>\n",
              "      <td>0.460230</td>\n",
              "      <td>...</td>\n",
              "      <td>0.074412</td>\n",
              "      <td>-0.071407</td>\n",
              "      <td>0.104744</td>\n",
              "      <td>0.548265</td>\n",
              "      <td>0.104094</td>\n",
              "      <td>0.021491</td>\n",
              "      <td>0.021293</td>\n",
              "      <td>0</td>\n",
              "      <td>-0.243282</td>\n",
              "      <td>-1.996351</td>\n",
              "    </tr>\n",
              "    <tr>\n",
              "      <th>14</th>\n",
              "      <td>-2.791855</td>\n",
              "      <td>-0.327771</td>\n",
              "      <td>1.641750</td>\n",
              "      <td>1.767473</td>\n",
              "      <td>-0.136588</td>\n",
              "      <td>0.807596</td>\n",
              "      <td>-0.422911</td>\n",
              "      <td>-1.907107</td>\n",
              "      <td>0.755713</td>\n",
              "      <td>1.151087</td>\n",
              "      <td>...</td>\n",
              "      <td>0.222182</td>\n",
              "      <td>1.020586</td>\n",
              "      <td>0.028317</td>\n",
              "      <td>-0.232746</td>\n",
              "      <td>-0.235557</td>\n",
              "      <td>-0.164778</td>\n",
              "      <td>-0.030154</td>\n",
              "      <td>0</td>\n",
              "      <td>-0.118142</td>\n",
              "      <td>-1.996330</td>\n",
              "    </tr>\n",
              "    <tr>\n",
              "      <th>15</th>\n",
              "      <td>-0.752417</td>\n",
              "      <td>0.345485</td>\n",
              "      <td>2.057323</td>\n",
              "      <td>-1.468643</td>\n",
              "      <td>-1.158394</td>\n",
              "      <td>-0.077850</td>\n",
              "      <td>-0.608581</td>\n",
              "      <td>0.003603</td>\n",
              "      <td>-0.436167</td>\n",
              "      <td>0.747731</td>\n",
              "      <td>...</td>\n",
              "      <td>1.353650</td>\n",
              "      <td>-0.256573</td>\n",
              "      <td>-0.065084</td>\n",
              "      <td>-0.039124</td>\n",
              "      <td>-0.087086</td>\n",
              "      <td>-0.180998</td>\n",
              "      <td>0.129394</td>\n",
              "      <td>0</td>\n",
              "      <td>-0.289300</td>\n",
              "      <td>-1.996330</td>\n",
              "    </tr>\n",
              "    <tr>\n",
              "      <th>16</th>\n",
              "      <td>1.103215</td>\n",
              "      <td>-0.040296</td>\n",
              "      <td>1.267332</td>\n",
              "      <td>1.289091</td>\n",
              "      <td>-0.735997</td>\n",
              "      <td>0.288069</td>\n",
              "      <td>-0.586057</td>\n",
              "      <td>0.189380</td>\n",
              "      <td>0.782333</td>\n",
              "      <td>-0.267975</td>\n",
              "      <td>...</td>\n",
              "      <td>0.196002</td>\n",
              "      <td>0.013802</td>\n",
              "      <td>0.103758</td>\n",
              "      <td>0.364298</td>\n",
              "      <td>-0.382261</td>\n",
              "      <td>0.092809</td>\n",
              "      <td>0.037051</td>\n",
              "      <td>0</td>\n",
              "      <td>-0.301294</td>\n",
              "      <td>-1.996330</td>\n",
              "    </tr>\n",
              "    <tr>\n",
              "      <th>17</th>\n",
              "      <td>-0.436905</td>\n",
              "      <td>0.918966</td>\n",
              "      <td>0.924591</td>\n",
              "      <td>-0.727219</td>\n",
              "      <td>0.915679</td>\n",
              "      <td>-0.127867</td>\n",
              "      <td>0.707642</td>\n",
              "      <td>0.087962</td>\n",
              "      <td>-0.665271</td>\n",
              "      <td>-0.737980</td>\n",
              "      <td>...</td>\n",
              "      <td>-0.672638</td>\n",
              "      <td>-0.156858</td>\n",
              "      <td>-0.888386</td>\n",
              "      <td>-0.342413</td>\n",
              "      <td>-0.049027</td>\n",
              "      <td>0.079692</td>\n",
              "      <td>0.131024</td>\n",
              "      <td>0</td>\n",
              "      <td>-0.349671</td>\n",
              "      <td>-1.996309</td>\n",
              "    </tr>\n",
              "    <tr>\n",
              "      <th>18</th>\n",
              "      <td>-5.401258</td>\n",
              "      <td>-5.450148</td>\n",
              "      <td>1.186305</td>\n",
              "      <td>1.736239</td>\n",
              "      <td>3.049106</td>\n",
              "      <td>-1.763406</td>\n",
              "      <td>-1.559738</td>\n",
              "      <td>0.160842</td>\n",
              "      <td>1.233090</td>\n",
              "      <td>0.345173</td>\n",
              "      <td>...</td>\n",
              "      <td>0.984460</td>\n",
              "      <td>2.458589</td>\n",
              "      <td>0.042119</td>\n",
              "      <td>-0.481631</td>\n",
              "      <td>-0.621272</td>\n",
              "      <td>0.392053</td>\n",
              "      <td>0.949594</td>\n",
              "      <td>0</td>\n",
              "      <td>-0.166119</td>\n",
              "      <td>-1.996288</td>\n",
              "    </tr>\n",
              "    <tr>\n",
              "      <th>19</th>\n",
              "      <td>1.492936</td>\n",
              "      <td>-1.029346</td>\n",
              "      <td>0.454795</td>\n",
              "      <td>-1.438026</td>\n",
              "      <td>-1.555434</td>\n",
              "      <td>-0.720961</td>\n",
              "      <td>-1.080664</td>\n",
              "      <td>-0.053127</td>\n",
              "      <td>-1.978682</td>\n",
              "      <td>1.638076</td>\n",
              "      <td>...</td>\n",
              "      <td>-0.175074</td>\n",
              "      <td>0.040002</td>\n",
              "      <td>0.295814</td>\n",
              "      <td>0.332931</td>\n",
              "      <td>-0.220385</td>\n",
              "      <td>0.022298</td>\n",
              "      <td>0.007602</td>\n",
              "      <td>0</td>\n",
              "      <td>-0.333239</td>\n",
              "      <td>-1.996267</td>\n",
              "    </tr>\n",
              "  </tbody>\n",
              "</table>\n",
              "<p>20 rows × 31 columns</p>\n",
              "</div>\n",
              "      <button class=\"colab-df-convert\" onclick=\"convertToInteractive('df-a68c7285-fd88-4d5d-93f4-94e19096ae94')\"\n",
              "              title=\"Convert this dataframe to an interactive table.\"\n",
              "              style=\"display:none;\">\n",
              "        \n",
              "  <svg xmlns=\"http://www.w3.org/2000/svg\" height=\"24px\"viewBox=\"0 0 24 24\"\n",
              "       width=\"24px\">\n",
              "    <path d=\"M0 0h24v24H0V0z\" fill=\"none\"/>\n",
              "    <path d=\"M18.56 5.44l.94 2.06.94-2.06 2.06-.94-2.06-.94-.94-2.06-.94 2.06-2.06.94zm-11 1L8.5 8.5l.94-2.06 2.06-.94-2.06-.94L8.5 2.5l-.94 2.06-2.06.94zm10 10l.94 2.06.94-2.06 2.06-.94-2.06-.94-.94-2.06-.94 2.06-2.06.94z\"/><path d=\"M17.41 7.96l-1.37-1.37c-.4-.4-.92-.59-1.43-.59-.52 0-1.04.2-1.43.59L10.3 9.45l-7.72 7.72c-.78.78-.78 2.05 0 2.83L4 21.41c.39.39.9.59 1.41.59.51 0 1.02-.2 1.41-.59l7.78-7.78 2.81-2.81c.8-.78.8-2.07 0-2.86zM5.41 20L4 18.59l7.72-7.72 1.47 1.35L5.41 20z\"/>\n",
              "  </svg>\n",
              "      </button>\n",
              "      \n",
              "  <style>\n",
              "    .colab-df-container {\n",
              "      display:flex;\n",
              "      flex-wrap:wrap;\n",
              "      gap: 12px;\n",
              "    }\n",
              "\n",
              "    .colab-df-convert {\n",
              "      background-color: #E8F0FE;\n",
              "      border: none;\n",
              "      border-radius: 50%;\n",
              "      cursor: pointer;\n",
              "      display: none;\n",
              "      fill: #1967D2;\n",
              "      height: 32px;\n",
              "      padding: 0 0 0 0;\n",
              "      width: 32px;\n",
              "    }\n",
              "\n",
              "    .colab-df-convert:hover {\n",
              "      background-color: #E2EBFA;\n",
              "      box-shadow: 0px 1px 2px rgba(60, 64, 67, 0.3), 0px 1px 3px 1px rgba(60, 64, 67, 0.15);\n",
              "      fill: #174EA6;\n",
              "    }\n",
              "\n",
              "    [theme=dark] .colab-df-convert {\n",
              "      background-color: #3B4455;\n",
              "      fill: #D2E3FC;\n",
              "    }\n",
              "\n",
              "    [theme=dark] .colab-df-convert:hover {\n",
              "      background-color: #434B5C;\n",
              "      box-shadow: 0px 1px 3px 1px rgba(0, 0, 0, 0.15);\n",
              "      filter: drop-shadow(0px 1px 2px rgba(0, 0, 0, 0.3));\n",
              "      fill: #FFFFFF;\n",
              "    }\n",
              "  </style>\n",
              "\n",
              "      <script>\n",
              "        const buttonEl =\n",
              "          document.querySelector('#df-a68c7285-fd88-4d5d-93f4-94e19096ae94 button.colab-df-convert');\n",
              "        buttonEl.style.display =\n",
              "          google.colab.kernel.accessAllowed ? 'block' : 'none';\n",
              "\n",
              "        async function convertToInteractive(key) {\n",
              "          const element = document.querySelector('#df-a68c7285-fd88-4d5d-93f4-94e19096ae94');\n",
              "          const dataTable =\n",
              "            await google.colab.kernel.invokeFunction('convertToInteractive',\n",
              "                                                     [key], {});\n",
              "          if (!dataTable) return;\n",
              "\n",
              "          const docLinkHtml = 'Like what you see? Visit the ' +\n",
              "            '<a target=\"_blank\" href=https://colab.research.google.com/notebooks/data_table.ipynb>data table notebook</a>'\n",
              "            + ' to learn more about interactive tables.';\n",
              "          element.innerHTML = '';\n",
              "          dataTable['output_type'] = 'display_data';\n",
              "          await google.colab.output.renderOutput(dataTable, element);\n",
              "          const docLink = document.createElement('div');\n",
              "          docLink.innerHTML = docLinkHtml;\n",
              "          element.appendChild(docLink);\n",
              "        }\n",
              "      </script>\n",
              "    </div>\n",
              "  </div>\n",
              "  "
            ]
          },
          "metadata": {},
          "execution_count": 15
        }
      ]
    },
    {
      "cell_type": "markdown",
      "source": [
        "\n",
        "# **Comentario**\n",
        "\n",
        "\n"
      ],
      "metadata": {
        "id": "b1p5Hya-eoP0"
      }
    },
    {
      "cell_type": "markdown",
      "source": [
        "El dataset está muy desbalanceado lo que significa que hay una cantidad mucho mayor de casos que no son fraudes que de fraudes. \n",
        "\n",
        "Si separamos el dataset de forma aleatoria, existe la posibilidad de que nuestro modelo tenga overfitting, es decir, asumirá que gran parte de las predicciones no seran fraudulentas. \n",
        "\n",
        "\n",
        "Para superar este problema, crearemos un dataset que contenga el 50 % de los casos de fraude y el 50 % de los casos sin fraude."
      ],
      "metadata": {
        "id": "NJkwvKmli9p8"
      }
    },
    {
      "cell_type": "markdown",
      "source": [
        "# **Recuento - Amount of fraud cases**"
      ],
      "metadata": {
        "id": "uLq3E_unj3Dk"
      }
    },
    {
      "cell_type": "code",
      "source": [
        "\n",
        "plt.figure(figsize=(14,8))\n",
        "\n",
        "ax = plt.gca()\n",
        "ax.set_facecolor('springgreen')\n",
        "ax.set_title(\"Count the amount of fraud cases\",fontsize='16')\n",
        "ax.set_xlabel('Class',fontsize='14')\n",
        "ax.set_ylabel('Count',fontsize='14')\n",
        "\n",
        "\n",
        "\n",
        "\n",
        "\n",
        "sns.countplot(transactions_full['Class'])\n",
        "print('Fraud cases:', transactions_full['Class'].value_counts()[1])"
      ],
      "metadata": {
        "colab": {
          "base_uri": "https://localhost:8080/",
          "height": 591
        },
        "id": "jBW2l9WlfLuC",
        "outputId": "5386491f-e4fb-4d40-d49b-b51323bf9441"
      },
      "execution_count": 16,
      "outputs": [
        {
          "output_type": "stream",
          "name": "stderr",
          "text": [
            "/usr/local/lib/python3.7/dist-packages/seaborn/_decorators.py:43: FutureWarning: Pass the following variable as a keyword arg: x. From version 0.12, the only valid positional argument will be `data`, and passing other arguments without an explicit keyword will result in an error or misinterpretation.\n",
            "  FutureWarning\n"
          ]
        },
        {
          "output_type": "stream",
          "name": "stdout",
          "text": [
            "Fraud cases: 492\n"
          ]
        },
        {
          "output_type": "display_data",
          "data": {
            "text/plain": [
              "<Figure size 1008x576 with 1 Axes>"
            ],
            "image/png": "[encoded data removed]"
          },
          "metadata": {
            "needs_background": "light"
          }
        }
      ]
    },
    {
      "cell_type": "markdown",
      "source": [
        "# **Comentario**"
      ],
      "metadata": {
        "id": "dkuMhl4mkYGh"
      }
    },
    {
      "cell_type": "markdown",
      "source": [
        "Tenemos 492 casos de fraude, por lo que vamos a seleccionar 492 casos que no son fraudulentos al azar. \n",
        "Con este nuevo conjunto de datos entrenaremos el modelo, sin embargo, mantendremos el conjunto de datos original para fines de prueba."
      ],
      "metadata": {
        "id": "L-u45gG4kcI0"
      }
    },
    {
      "cell_type": "markdown",
      "source": [
        "## **Casos no fraudulentos al azar** - **Training model**"
      ],
      "metadata": {
        "id": "ckQ1CFpIg-Pk"
      }
    },
    {
      "cell_type": "code",
      "source": [
        "# Mezclamos el datset antes de obtener los casos no fraudulentos\n",
        "\n",
        "transactions_full = transactions_full.sample(frac=1)\n",
        "\n",
        "# Separamos los casos fraudulentos de los que no lo son por igual\n",
        "\n",
        "fraud = transactions_full.loc[transactions_full['Class']==1]\n",
        "non_fraud = transactions_full.loc[transactions_full['Class']==0][:492]\n",
        "\n",
        "# Concantenamos las dos partes en un solo dataframe\n",
        "equal_df = pd.concat([fraud, non_fraud])\n",
        "\n",
        "\n",
        "# Mezclamos el nuevo dataset\n",
        "equal_df = equal_df.sample(frac=1)\n",
        "\n",
        "# Mostramos el nuevo dataset\n",
        "equal_df.head(10)"
      ],
      "metadata": {
        "id": "WGyMGwTGkbb9",
        "colab": {
          "base_uri": "https://localhost:8080/",
          "height": 474
        },
        "outputId": "33d8d7e1-fdb4-4663-a829-f08fd84e0659"
      },
      "execution_count": 17,
      "outputs": [
        {
          "output_type": "execute_result",
          "data": {
            "text/plain": [
              "               V1         V2         V3        V4         V5        V6  \\\n",
              "60602   -1.641610  -1.018992   2.633276  0.753570  -0.481149  0.910166   \n",
              "35939    2.085234   0.250090  -1.741164  0.368436   0.612229 -0.759028   \n",
              "35764   -6.877435  -0.171172  -1.375130  5.379756  -0.355443  0.002724   \n",
              "15451  -20.532751  12.373989 -23.009003  6.144821 -15.587296 -4.384491   \n",
              "68522    0.206075   1.387360  -1.045287  4.228686  -1.647549 -0.180897   \n",
              "150665  -6.750509   5.367416 -10.054635  9.064478  -7.968118 -2.263798   \n",
              "1617    -5.313774   2.664274  -4.250707  0.394707  -0.391383  0.683526   \n",
              "150833   0.016996   1.552978  -1.168447  0.287129   1.480784  0.155190   \n",
              "87810    2.091900  -0.757459  -1.192258 -0.755458  -0.620324 -0.322077   \n",
              "10498   -0.469327   1.111453   2.041003  1.731595   0.135147 -0.093625   \n",
              "\n",
              "               V7         V8        V9        V10  ...       V22       V23  \\\n",
              "60602    0.640774   0.332591  0.889957  -0.914183  ... -0.442212  0.352313   \n",
              "35939    0.275934  -0.304238  0.298246  -0.418402  ... -0.862317  0.303309   \n",
              "35764   -2.795648   2.841856 -1.840124   1.827233  ... -1.633252 -2.105953   \n",
              "15451  -15.939003  13.696416 -3.948455  -8.789723  ... -1.466115 -0.856779   \n",
              "68522   -2.943678   0.859156 -1.181743  -3.096504  ...  0.344930 -0.203799   \n",
              "150665 -10.317566   4.237666 -5.324109 -11.092392  ... -0.348740  0.425001   \n",
              "1617    -5.133671  -7.907790  0.215475  -2.297734  ... -2.716383  0.483559   \n",
              "150833   0.477174  -2.800498  0.302342  -0.262970  ... -0.288760 -0.281359   \n",
              "87810   -1.082511   0.117200 -0.140927   0.249311  ...  0.831939  0.142007   \n",
              "10498    0.266155   0.082988  0.580255  -0.164563  ...  0.592670 -0.053596   \n",
              "\n",
              "             V24       V25       V26       V27       V28  Class  \\\n",
              "60602  -0.070863  0.595080 -0.520436 -0.187897 -0.134070      0   \n",
              "35939   0.416278 -0.191477  0.176681 -0.054168 -0.028948      0   \n",
              "35764   0.930572 -0.198266  0.008515  0.922431 -0.960180      0   \n",
              "15451   0.125777  1.402587 -0.223755  1.574249  0.469201      1   \n",
              "68522   0.376640  0.715485  0.226003  0.628545  0.319918      1   \n",
              "150665  0.674909 -0.784208 -0.247422  1.159581  0.197818      1   \n",
              "1617    0.079235  0.311065  0.555544  0.176740  0.362907      1   \n",
              "150833  0.241589  1.116110 -0.465509  0.264506  0.264794      0   \n",
              "87810   0.592615 -0.196143 -0.136676  0.020182 -0.015470      1   \n",
              "10498   0.320748 -0.369121 -0.136605 -0.100845  0.039347      1   \n",
              "\n",
              "        Amout Normalized  Time Normalized  \n",
              "60602           0.737049        -0.956343  \n",
              "35939          -0.342475         1.029293  \n",
              "35764          -0.353229         1.027798  \n",
              "15451           0.046539        -1.431536  \n",
              "68522          -0.350191        -0.879860  \n",
              "150665          0.484969        -0.020171  \n",
              "1617           -0.349231         0.711361  \n",
              "150833         -0.209298        -0.016022  \n",
              "87810          -0.273468         1.517626  \n",
              "10498          -0.337517        -1.633755  \n",
              "\n",
              "[10 rows x 31 columns]"
            ],
            "text/html": [
              "\n",
              "  <div id=\"df-8991f4ad-35cf-4c6b-8067-b8c81011d79f\">\n",
              "    <div class=\"colab-df-container\">\n",
              "      <div>\n",
              "<style scoped>\n",
              "    .dataframe tbody tr th:only-of-type {\n",
              "        vertical-align: middle;\n",
              "    }\n",
              "\n",
              "    .dataframe tbody tr th {\n",
              "        vertical-align: top;\n",
              "    }\n",
              "\n",
              "    .dataframe thead th {\n",
              "        text-align: right;\n",
              "    }\n",
              "</style>\n",
              "<table border=\"1\" class=\"dataframe\">\n",
              "  <thead>\n",
              "    <tr style=\"text-align: right;\">\n",
              "      <th></th>\n",
              "      <th>V1</th>\n",
              "      <th>V2</th>\n",
              "      <th>V3</th>\n",
              "      <th>V4</th>\n",
              "      <th>V5</th>\n",
              "      <th>V6</th>\n",
              "      <th>V7</th>\n",
              "      <th>V8</th>\n",
              "      <th>V9</th>\n",
              "      <th>V10</th>\n",
              "      <th>...</th>\n",
              "      <th>V22</th>\n",
              "      <th>V23</th>\n",
              "      <th>V24</th>\n",
              "      <th>V25</th>\n",
              "      <th>V26</th>\n",
              "      <th>V27</th>\n",
              "      <th>V28</th>\n",
              "      <th>Class</th>\n",
              "      <th>Amout Normalized</th>\n",
              "      <th>Time Normalized</th>\n",
              "    </tr>\n",
              "  </thead>\n",
              "  <tbody>\n",
              "    <tr>\n",
              "      <th>60602</th>\n",
              "      <td>-1.641610</td>\n",
              "      <td>-1.018992</td>\n",
              "      <td>2.633276</td>\n",
              "      <td>0.753570</td>\n",
              "      <td>-0.481149</td>\n",
              "      <td>0.910166</td>\n",
              "      <td>0.640774</td>\n",
              "      <td>0.332591</td>\n",
              "      <td>0.889957</td>\n",
              "      <td>-0.914183</td>\n",
              "      <td>...</td>\n",
              "      <td>-0.442212</td>\n",
              "      <td>0.352313</td>\n",
              "      <td>-0.070863</td>\n",
              "      <td>0.595080</td>\n",
              "      <td>-0.520436</td>\n",
              "      <td>-0.187897</td>\n",
              "      <td>-0.134070</td>\n",
              "      <td>0</td>\n",
              "      <td>0.737049</td>\n",
              "      <td>-0.956343</td>\n",
              "    </tr>\n",
              "    <tr>\n",
              "      <th>35939</th>\n",
              "      <td>2.085234</td>\n",
              "      <td>0.250090</td>\n",
              "      <td>-1.741164</td>\n",
              "      <td>0.368436</td>\n",
              "      <td>0.612229</td>\n",
              "      <td>-0.759028</td>\n",
              "      <td>0.275934</td>\n",
              "      <td>-0.304238</td>\n",
              "      <td>0.298246</td>\n",
              "      <td>-0.418402</td>\n",
              "      <td>...</td>\n",
              "      <td>-0.862317</td>\n",
              "      <td>0.303309</td>\n",
              "      <td>0.416278</td>\n",
              "      <td>-0.191477</td>\n",
              "      <td>0.176681</td>\n",
              "      <td>-0.054168</td>\n",
              "      <td>-0.028948</td>\n",
              "      <td>0</td>\n",
              "      <td>-0.342475</td>\n",
              "      <td>1.029293</td>\n",
              "    </tr>\n",
              "    <tr>\n",
              "      <th>35764</th>\n",
              "      <td>-6.877435</td>\n",
              "      <td>-0.171172</td>\n",
              "      <td>-1.375130</td>\n",
              "      <td>5.379756</td>\n",
              "      <td>-0.355443</td>\n",
              "      <td>0.002724</td>\n",
              "      <td>-2.795648</td>\n",
              "      <td>2.841856</td>\n",
              "      <td>-1.840124</td>\n",
              "      <td>1.827233</td>\n",
              "      <td>...</td>\n",
              "      <td>-1.633252</td>\n",
              "      <td>-2.105953</td>\n",
              "      <td>0.930572</td>\n",
              "      <td>-0.198266</td>\n",
              "      <td>0.008515</td>\n",
              "      <td>0.922431</td>\n",
              "      <td>-0.960180</td>\n",
              "      <td>0</td>\n",
              "      <td>-0.353229</td>\n",
              "      <td>1.027798</td>\n",
              "    </tr>\n",
              "    <tr>\n",
              "      <th>15451</th>\n",
              "      <td>-20.532751</td>\n",
              "      <td>12.373989</td>\n",
              "      <td>-23.009003</td>\n",
              "      <td>6.144821</td>\n",
              "      <td>-15.587296</td>\n",
              "      <td>-4.384491</td>\n",
              "      <td>-15.939003</td>\n",
              "      <td>13.696416</td>\n",
              "      <td>-3.948455</td>\n",
              "      <td>-8.789723</td>\n",
              "      <td>...</td>\n",
              "      <td>-1.466115</td>\n",
              "      <td>-0.856779</td>\n",
              "      <td>0.125777</td>\n",
              "      <td>1.402587</td>\n",
              "      <td>-0.223755</td>\n",
              "      <td>1.574249</td>\n",
              "      <td>0.469201</td>\n",
              "      <td>1</td>\n",
              "      <td>0.046539</td>\n",
              "      <td>-1.431536</td>\n",
              "    </tr>\n",
              "    <tr>\n",
              "      <th>68522</th>\n",
              "      <td>0.206075</td>\n",
              "      <td>1.387360</td>\n",
              "      <td>-1.045287</td>\n",
              "      <td>4.228686</td>\n",
              "      <td>-1.647549</td>\n",
              "      <td>-0.180897</td>\n",
              "      <td>-2.943678</td>\n",
              "      <td>0.859156</td>\n",
              "      <td>-1.181743</td>\n",
              "      <td>-3.096504</td>\n",
              "      <td>...</td>\n",
              "      <td>0.344930</td>\n",
              "      <td>-0.203799</td>\n",
              "      <td>0.376640</td>\n",
              "      <td>0.715485</td>\n",
              "      <td>0.226003</td>\n",
              "      <td>0.628545</td>\n",
              "      <td>0.319918</td>\n",
              "      <td>1</td>\n",
              "      <td>-0.350191</td>\n",
              "      <td>-0.879860</td>\n",
              "    </tr>\n",
              "    <tr>\n",
              "      <th>150665</th>\n",
              "      <td>-6.750509</td>\n",
              "      <td>5.367416</td>\n",
              "      <td>-10.054635</td>\n",
              "      <td>9.064478</td>\n",
              "      <td>-7.968118</td>\n",
              "      <td>-2.263798</td>\n",
              "      <td>-10.317566</td>\n",
              "      <td>4.237666</td>\n",
              "      <td>-5.324109</td>\n",
              "      <td>-11.092392</td>\n",
              "      <td>...</td>\n",
              "      <td>-0.348740</td>\n",
              "      <td>0.425001</td>\n",
              "      <td>0.674909</td>\n",
              "      <td>-0.784208</td>\n",
              "      <td>-0.247422</td>\n",
              "      <td>1.159581</td>\n",
              "      <td>0.197818</td>\n",
              "      <td>1</td>\n",
              "      <td>0.484969</td>\n",
              "      <td>-0.020171</td>\n",
              "    </tr>\n",
              "    <tr>\n",
              "      <th>1617</th>\n",
              "      <td>-5.313774</td>\n",
              "      <td>2.664274</td>\n",
              "      <td>-4.250707</td>\n",
              "      <td>0.394707</td>\n",
              "      <td>-0.391383</td>\n",
              "      <td>0.683526</td>\n",
              "      <td>-5.133671</td>\n",
              "      <td>-7.907790</td>\n",
              "      <td>0.215475</td>\n",
              "      <td>-2.297734</td>\n",
              "      <td>...</td>\n",
              "      <td>-2.716383</td>\n",
              "      <td>0.483559</td>\n",
              "      <td>0.079235</td>\n",
              "      <td>0.311065</td>\n",
              "      <td>0.555544</td>\n",
              "      <td>0.176740</td>\n",
              "      <td>0.362907</td>\n",
              "      <td>1</td>\n",
              "      <td>-0.349231</td>\n",
              "      <td>0.711361</td>\n",
              "    </tr>\n",
              "    <tr>\n",
              "      <th>150833</th>\n",
              "      <td>0.016996</td>\n",
              "      <td>1.552978</td>\n",
              "      <td>-1.168447</td>\n",
              "      <td>0.287129</td>\n",
              "      <td>1.480784</td>\n",
              "      <td>0.155190</td>\n",
              "      <td>0.477174</td>\n",
              "      <td>-2.800498</td>\n",
              "      <td>0.302342</td>\n",
              "      <td>-0.262970</td>\n",
              "      <td>...</td>\n",
              "      <td>-0.288760</td>\n",
              "      <td>-0.281359</td>\n",
              "      <td>0.241589</td>\n",
              "      <td>1.116110</td>\n",
              "      <td>-0.465509</td>\n",
              "      <td>0.264506</td>\n",
              "      <td>0.264794</td>\n",
              "      <td>0</td>\n",
              "      <td>-0.209298</td>\n",
              "      <td>-0.016022</td>\n",
              "    </tr>\n",
              "    <tr>\n",
              "      <th>87810</th>\n",
              "      <td>2.091900</td>\n",
              "      <td>-0.757459</td>\n",
              "      <td>-1.192258</td>\n",
              "      <td>-0.755458</td>\n",
              "      <td>-0.620324</td>\n",
              "      <td>-0.322077</td>\n",
              "      <td>-1.082511</td>\n",
              "      <td>0.117200</td>\n",
              "      <td>-0.140927</td>\n",
              "      <td>0.249311</td>\n",
              "      <td>...</td>\n",
              "      <td>0.831939</td>\n",
              "      <td>0.142007</td>\n",
              "      <td>0.592615</td>\n",
              "      <td>-0.196143</td>\n",
              "      <td>-0.136676</td>\n",
              "      <td>0.020182</td>\n",
              "      <td>-0.015470</td>\n",
              "      <td>1</td>\n",
              "      <td>-0.273468</td>\n",
              "      <td>1.517626</td>\n",
              "    </tr>\n",
              "    <tr>\n",
              "      <th>10498</th>\n",
              "      <td>-0.469327</td>\n",
              "      <td>1.111453</td>\n",
              "      <td>2.041003</td>\n",
              "      <td>1.731595</td>\n",
              "      <td>0.135147</td>\n",
              "      <td>-0.093625</td>\n",
              "      <td>0.266155</td>\n",
              "      <td>0.082988</td>\n",
              "      <td>0.580255</td>\n",
              "      <td>-0.164563</td>\n",
              "      <td>...</td>\n",
              "      <td>0.592670</td>\n",
              "      <td>-0.053596</td>\n",
              "      <td>0.320748</td>\n",
              "      <td>-0.369121</td>\n",
              "      <td>-0.136605</td>\n",
              "      <td>-0.100845</td>\n",
              "      <td>0.039347</td>\n",
              "      <td>1</td>\n",
              "      <td>-0.337517</td>\n",
              "      <td>-1.633755</td>\n",
              "    </tr>\n",
              "  </tbody>\n",
              "</table>\n",
              "<p>10 rows × 31 columns</p>\n",
              "</div>\n",
              "      <button class=\"colab-df-convert\" onclick=\"convertToInteractive('df-8991f4ad-35cf-4c6b-8067-b8c81011d79f')\"\n",
              "              title=\"Convert this dataframe to an interactive table.\"\n",
              "              style=\"display:none;\">\n",
              "        \n",
              "  <svg xmlns=\"http://www.w3.org/2000/svg\" height=\"24px\"viewBox=\"0 0 24 24\"\n",
              "       width=\"24px\">\n",
              "    <path d=\"M0 0h24v24H0V0z\" fill=\"none\"/>\n",
              "    <path d=\"M18.56 5.44l.94 2.06.94-2.06 2.06-.94-2.06-.94-.94-2.06-.94 2.06-2.06.94zm-11 1L8.5 8.5l.94-2.06 2.06-.94-2.06-.94L8.5 2.5l-.94 2.06-2.06.94zm10 10l.94 2.06.94-2.06 2.06-.94-2.06-.94-.94-2.06-.94 2.06-2.06.94z\"/><path d=\"M17.41 7.96l-1.37-1.37c-.4-.4-.92-.59-1.43-.59-.52 0-1.04.2-1.43.59L10.3 9.45l-7.72 7.72c-.78.78-.78 2.05 0 2.83L4 21.41c.39.39.9.59 1.41.59.51 0 1.02-.2 1.41-.59l7.78-7.78 2.81-2.81c.8-.78.8-2.07 0-2.86zM5.41 20L4 18.59l7.72-7.72 1.47 1.35L5.41 20z\"/>\n",
              "  </svg>\n",
              "      </button>\n",
              "      \n",
              "  <style>\n",
              "    .colab-df-container {\n",
              "      display:flex;\n",
              "      flex-wrap:wrap;\n",
              "      gap: 12px;\n",
              "    }\n",
              "\n",
              "    .colab-df-convert {\n",
              "      background-color: #E8F0FE;\n",
              "      border: none;\n",
              "      border-radius: 50%;\n",
              "      cursor: pointer;\n",
              "      display: none;\n",
              "      fill: #1967D2;\n",
              "      height: 32px;\n",
              "      padding: 0 0 0 0;\n",
              "      width: 32px;\n",
              "    }\n",
              "\n",
              "    .colab-df-convert:hover {\n",
              "      background-color: #E2EBFA;\n",
              "      box-shadow: 0px 1px 2px rgba(60, 64, 67, 0.3), 0px 1px 3px 1px rgba(60, 64, 67, 0.15);\n",
              "      fill: #174EA6;\n",
              "    }\n",
              "\n",
              "    [theme=dark] .colab-df-convert {\n",
              "      background-color: #3B4455;\n",
              "      fill: #D2E3FC;\n",
              "    }\n",
              "\n",
              "    [theme=dark] .colab-df-convert:hover {\n",
              "      background-color: #434B5C;\n",
              "      box-shadow: 0px 1px 3px 1px rgba(0, 0, 0, 0.15);\n",
              "      filter: drop-shadow(0px 1px 2px rgba(0, 0, 0, 0.3));\n",
              "      fill: #FFFFFF;\n",
              "    }\n",
              "  </style>\n",
              "\n",
              "      <script>\n",
              "        const buttonEl =\n",
              "          document.querySelector('#df-8991f4ad-35cf-4c6b-8067-b8c81011d79f button.colab-df-convert');\n",
              "        buttonEl.style.display =\n",
              "          google.colab.kernel.accessAllowed ? 'block' : 'none';\n",
              "\n",
              "        async function convertToInteractive(key) {\n",
              "          const element = document.querySelector('#df-8991f4ad-35cf-4c6b-8067-b8c81011d79f');\n",
              "          const dataTable =\n",
              "            await google.colab.kernel.invokeFunction('convertToInteractive',\n",
              "                                                     [key], {});\n",
              "          if (!dataTable) return;\n",
              "\n",
              "          const docLinkHtml = 'Like what you see? Visit the ' +\n",
              "            '<a target=\"_blank\" href=https://colab.research.google.com/notebooks/data_table.ipynb>data table notebook</a>'\n",
              "            + ' to learn more about interactive tables.';\n",
              "          element.innerHTML = '';\n",
              "          dataTable['output_type'] = 'display_data';\n",
              "          await google.colab.output.renderOutput(dataTable, element);\n",
              "          const docLink = document.createElement('div');\n",
              "          docLink.innerHTML = docLinkHtml;\n",
              "          element.appendChild(docLink);\n",
              "        }\n",
              "      </script>\n",
              "    </div>\n",
              "  </div>\n",
              "  "
            ]
          },
          "metadata": {},
          "execution_count": 17
        }
      ]
    },
    {
      "cell_type": "markdown",
      "source": [
        "# **Información del nuevo Dataset**"
      ],
      "metadata": {
        "id": "OItGrCwNihn8"
      }
    },
    {
      "cell_type": "code",
      "source": [
        "equal_df.info()"
      ],
      "metadata": {
        "colab": {
          "base_uri": "https://localhost:8080/"
        },
        "id": "47cbTXQMiimL",
        "outputId": "8b5cebc8-6be3-4954-d5e2-cc71c569d502"
      },
      "execution_count": 18,
      "outputs": [
        {
          "output_type": "stream",
          "name": "stdout",
          "text": [
            "<class 'pandas.core.frame.DataFrame'>\n",
            "Int64Index: 984 entries, 60602 to 150601\n",
            "Data columns (total 31 columns):\n",
            " #   Column            Non-Null Count  Dtype  \n",
            "---  ------            --------------  -----  \n",
            " 0   V1                984 non-null    float64\n",
            " 1   V2                984 non-null    float64\n",
            " 2   V3                984 non-null    float64\n",
            " 3   V4                984 non-null    float64\n",
            " 4   V5                984 non-null    float64\n",
            " 5   V6                984 non-null    float64\n",
            " 6   V7                984 non-null    float64\n",
            " 7   V8                984 non-null    float64\n",
            " 8   V9                984 non-null    float64\n",
            " 9   V10               984 non-null    float64\n",
            " 10  V11               984 non-null    float64\n",
            " 11  V12               984 non-null    float64\n",
            " 12  V13               984 non-null    float64\n",
            " 13  V14               984 non-null    float64\n",
            " 14  V15               984 non-null    float64\n",
            " 15  V16               984 non-null    float64\n",
            " 16  V17               984 non-null    float64\n",
            " 17  V18               984 non-null    float64\n",
            " 18  V19               984 non-null    float64\n",
            " 19  V20               984 non-null    float64\n",
            " 20  V21               984 non-null    float64\n",
            " 21  V22               984 non-null    float64\n",
            " 22  V23               984 non-null    float64\n",
            " 23  V24               984 non-null    float64\n",
            " 24  V25               984 non-null    float64\n",
            " 25  V26               984 non-null    float64\n",
            " 26  V27               984 non-null    float64\n",
            " 27  V28               984 non-null    float64\n",
            " 28  Class             984 non-null    int64  \n",
            " 29  Amout Normalized  984 non-null    float64\n",
            " 30  Time Normalized   984 non-null    float64\n",
            "dtypes: float64(30), int64(1)\n",
            "memory usage: 246.0 KB\n"
          ]
        }
      ]
    },
    {
      "cell_type": "markdown",
      "source": [
        "# **Distribución de la Clase**"
      ],
      "metadata": {
        "id": "DcSfh8tZkCJh"
      }
    },
    {
      "cell_type": "code",
      "source": [
        "# Verificamos como esta distribuida la classe\n",
        "\n",
        "\n",
        "plt.figure(figsize=(14,8))\n",
        "\n",
        "ax = plt.gca()\n",
        "ax.set_facecolor('lightcyan')\n",
        "\n",
        "# ax.set_title(\"Count the amount of fraud cases\",fontsize='16')\n",
        "ax.set_xlabel('Class',fontsize='14')\n",
        "ax.set_ylabel('Count',fontsize='14')\n",
        "\n",
        "\n",
        "\n",
        "sns.countplot(equal_df['Class'])"
      ],
      "metadata": {
        "colab": {
          "base_uri": "https://localhost:8080/",
          "height": 573
        },
        "id": "D1cPIqlbkMFt",
        "outputId": "d4b42f49-acd2-412e-f015-7aba8dbd8515"
      },
      "execution_count": 19,
      "outputs": [
        {
          "output_type": "stream",
          "name": "stderr",
          "text": [
            "/usr/local/lib/python3.7/dist-packages/seaborn/_decorators.py:43: FutureWarning: Pass the following variable as a keyword arg: x. From version 0.12, the only valid positional argument will be `data`, and passing other arguments without an explicit keyword will result in an error or misinterpretation.\n",
            "  FutureWarning\n"
          ]
        },
        {
          "output_type": "execute_result",
          "data": {
            "text/plain": [
              "<matplotlib.axes._subplots.AxesSubplot at 0x7f113fc70910>"
            ]
          },
          "metadata": {},
          "execution_count": 19
        },
        {
          "output_type": "display_data",
          "data": {
            "text/plain": [
              "<Figure size 1008x576 with 1 Axes>"
            ],
            "image/png": "[encoded data removed]"
          },
          "metadata": {
            "needs_background": "light"
          }
        }
      ]
    },
    {
      "cell_type": "markdown",
      "source": [
        "# **Comentario**"
      ],
      "metadata": {
        "id": "ocqiNJj7qcCQ"
      }
    },
    {
      "cell_type": "markdown",
      "source": [
        "Tenemos un nuevo dataset igualmente distribuido para entrenar y probar nuestro modelo. Sin embargo, como podemos imaginar, aunque el problema de overfitting se puede superar, descartamos una gran cantidad de información sobre casos  no fraudulentos, por lo que existe la posibilidad de que nuestro modelo tenga un bajo rendimiento."
      ],
      "metadata": {
        "id": "5dms_zvqrCR2"
      }
    },
    {
      "cell_type": "code",
      "source": [
        "# Dividimos los datps\n",
        "\n",
        "X = equal_df.drop('Class', axis=1)\n",
        "y = equal_df['Class']\n",
        "\n",
        "X_train, X_test, y_train, y_test = train_test_split(X, y, test_size=0.25, random_state=42)\n",
        "\n",
        "# Convertimos el dataframe en array\n",
        "\n",
        "X_train = X_train.values\n",
        "X_test = X_test.values\n",
        "y_train = y_train.values\n",
        "y_test = y_test.values"
      ],
      "metadata": {
        "id": "PDV_3zjUqeyd"
      },
      "execution_count": 20,
      "outputs": []
    },
    {
      "cell_type": "markdown",
      "source": [
        "## **Design Classifiers**"
      ],
      "metadata": {
        "id": "cvxKMpscsoO2"
      }
    },
    {
      "cell_type": "markdown",
      "source": [
        "Ahora que hemos dividido nuestro dataset, entrenamos algunos tipos de clasificadores y seleccionaremos el mejor enfoque para nuestro problema.\n",
        "\n",
        "Verificaremos KNN, Árbol de decisión, Máquina de vectores de soporte y Regresión logística. Para obtener mejores resultados, utilizaremos GridSearch para encontrar los mejores hiperparámetros."
      ],
      "metadata": {
        "id": "wG_J1lKnsqXu"
      }
    },
    {
      "cell_type": "code",
      "source": [
        "# Clasificadores\n",
        "\n",
        "models = [('KNN', KNeighborsClassifier()),\n",
        "          ('Logistic Regression', LogisticRegression()),\n",
        "          ('Decision Trees', DecisionTreeClassifier()),\n",
        "          ('Random Forest Classifier', RandomForestClassifier()),\n",
        "          ('Suport Vector Machine', SVC())]\n",
        "\n",
        "# Modelos de Training y Test\n",
        "results, names = [], []\n",
        "\n",
        "for name, model in models:\n",
        "    scores = cross_val_score(model, X_train, y_train, cv=5)\n",
        "    names.append(name)\n",
        "    print(str(name) +':'+ str(scores.mean()*100)+'%')"
      ],
      "metadata": {
        "colab": {
          "base_uri": "https://localhost:8080/"
        },
        "id": "q0co-_FMspnY",
        "outputId": "905a4c8a-d971-4d1c-a5e3-f86b640a8a07"
      },
      "execution_count": 21,
      "outputs": [
        {
          "output_type": "stream",
          "name": "stdout",
          "text": [
            "KNN:92.68615554329841%\n",
            "Logistic Regression:94.44567015995588%\n",
            "Decision Trees:90.38150395293252%\n",
            "Random Forest Classifier:93.63577863577865%\n",
            "Suport Vector Machine:93.22853465710608%\n"
          ]
        }
      ]
    },
    {
      "cell_type": "markdown",
      "source": [
        "## **Comentario**"
      ],
      "metadata": {
        "id": "jb_0hq9Zv1qW"
      }
    },
    {
      "cell_type": "markdown",
      "source": [
        "Como podemos apreciar, el Logistic Classifier obtuvo la mejor performance  utilizando cross validation. Luego, usaremos GridSearch para ver si podemos aumentar dicha puntuación (score)."
      ],
      "metadata": {
        "id": "vUTYI2PXv6ur"
      }
    },
    {
      "cell_type": "markdown",
      "source": [
        "## **Hiperparametros - Logistic Regression**"
      ],
      "metadata": {
        "id": "JIvTsYfBwZU6"
      }
    },
    {
      "cell_type": "code",
      "source": [
        "# Hiperparametros para Logistic Regression\n",
        "\n",
        "params_lg = {'penalty': ['l1', 'l2'], \n",
        "             'C': [0.001, 0.01, 0.1, 1, 10, 100, 1000]}\n",
        "\n",
        "lg_grid = GridSearchCV(LogisticRegression(), params_lg, cv=5);\n",
        "\n",
        "lg_grid.fit(X_train, y_train);"
      ],
      "metadata": {
        "colab": {
          "base_uri": "https://localhost:8080/"
        },
        "id": "Za8QZX9gv52U",
        "outputId": "650ec1c1-d984-4572-c24d-171524eb68d0"
      },
      "execution_count": 22,
      "outputs": [
        {
          "output_type": "stream",
          "name": "stderr",
          "text": [
            "/usr/local/lib/python3.7/dist-packages/sklearn/linear_model/_logistic.py:818: ConvergenceWarning: lbfgs failed to converge (status=1):\n",
            "STOP: TOTAL NO. of ITERATIONS REACHED LIMIT.\n",
            "\n",
            "Increase the number of iterations (max_iter) or scale the data as shown in:\n",
            "    https://scikit-learn.org/stable/modules/preprocessing.html\n",
            "Please also refer to the documentation for alternative solver options:\n",
            "    https://scikit-learn.org/stable/modules/linear_model.html#logistic-regression\n",
            "  extra_warning_msg=_LOGISTIC_SOLVER_CONVERGENCE_MSG,\n",
            "/usr/local/lib/python3.7/dist-packages/sklearn/linear_model/_logistic.py:818: ConvergenceWarning: lbfgs failed to converge (status=1):\n",
            "STOP: TOTAL NO. of ITERATIONS REACHED LIMIT.\n",
            "\n",
            "Increase the number of iterations (max_iter) or scale the data as shown in:\n",
            "    https://scikit-learn.org/stable/modules/preprocessing.html\n",
            "Please also refer to the documentation for alternative solver options:\n",
            "    https://scikit-learn.org/stable/modules/linear_model.html#logistic-regression\n",
            "  extra_warning_msg=_LOGISTIC_SOLVER_CONVERGENCE_MSG,\n",
            "/usr/local/lib/python3.7/dist-packages/sklearn/linear_model/_logistic.py:818: ConvergenceWarning: lbfgs failed to converge (status=1):\n",
            "STOP: TOTAL NO. of ITERATIONS REACHED LIMIT.\n",
            "\n",
            "Increase the number of iterations (max_iter) or scale the data as shown in:\n",
            "    https://scikit-learn.org/stable/modules/preprocessing.html\n",
            "Please also refer to the documentation for alternative solver options:\n",
            "    https://scikit-learn.org/stable/modules/linear_model.html#logistic-regression\n",
            "  extra_warning_msg=_LOGISTIC_SOLVER_CONVERGENCE_MSG,\n",
            "/usr/local/lib/python3.7/dist-packages/sklearn/linear_model/_logistic.py:818: ConvergenceWarning: lbfgs failed to converge (status=1):\n",
            "STOP: TOTAL NO. of ITERATIONS REACHED LIMIT.\n",
            "\n",
            "Increase the number of iterations (max_iter) or scale the data as shown in:\n",
            "    https://scikit-learn.org/stable/modules/preprocessing.html\n",
            "Please also refer to the documentation for alternative solver options:\n",
            "    https://scikit-learn.org/stable/modules/linear_model.html#logistic-regression\n",
            "  extra_warning_msg=_LOGISTIC_SOLVER_CONVERGENCE_MSG,\n",
            "/usr/local/lib/python3.7/dist-packages/sklearn/linear_model/_logistic.py:818: ConvergenceWarning: lbfgs failed to converge (status=1):\n",
            "STOP: TOTAL NO. of ITERATIONS REACHED LIMIT.\n",
            "\n",
            "Increase the number of iterations (max_iter) or scale the data as shown in:\n",
            "    https://scikit-learn.org/stable/modules/preprocessing.html\n",
            "Please also refer to the documentation for alternative solver options:\n",
            "    https://scikit-learn.org/stable/modules/linear_model.html#logistic-regression\n",
            "  extra_warning_msg=_LOGISTIC_SOLVER_CONVERGENCE_MSG,\n",
            "/usr/local/lib/python3.7/dist-packages/sklearn/linear_model/_logistic.py:818: ConvergenceWarning: lbfgs failed to converge (status=1):\n",
            "STOP: TOTAL NO. of ITERATIONS REACHED LIMIT.\n",
            "\n",
            "Increase the number of iterations (max_iter) or scale the data as shown in:\n",
            "    https://scikit-learn.org/stable/modules/preprocessing.html\n",
            "Please also refer to the documentation for alternative solver options:\n",
            "    https://scikit-learn.org/stable/modules/linear_model.html#logistic-regression\n",
            "  extra_warning_msg=_LOGISTIC_SOLVER_CONVERGENCE_MSG,\n",
            "/usr/local/lib/python3.7/dist-packages/sklearn/linear_model/_logistic.py:818: ConvergenceWarning: lbfgs failed to converge (status=1):\n",
            "STOP: TOTAL NO. of ITERATIONS REACHED LIMIT.\n",
            "\n",
            "Increase the number of iterations (max_iter) or scale the data as shown in:\n",
            "    https://scikit-learn.org/stable/modules/preprocessing.html\n",
            "Please also refer to the documentation for alternative solver options:\n",
            "    https://scikit-learn.org/stable/modules/linear_model.html#logistic-regression\n",
            "  extra_warning_msg=_LOGISTIC_SOLVER_CONVERGENCE_MSG,\n",
            "/usr/local/lib/python3.7/dist-packages/sklearn/linear_model/_logistic.py:818: ConvergenceWarning: lbfgs failed to converge (status=1):\n",
            "STOP: TOTAL NO. of ITERATIONS REACHED LIMIT.\n",
            "\n",
            "Increase the number of iterations (max_iter) or scale the data as shown in:\n",
            "    https://scikit-learn.org/stable/modules/preprocessing.html\n",
            "Please also refer to the documentation for alternative solver options:\n",
            "    https://scikit-learn.org/stable/modules/linear_model.html#logistic-regression\n",
            "  extra_warning_msg=_LOGISTIC_SOLVER_CONVERGENCE_MSG,\n",
            "/usr/local/lib/python3.7/dist-packages/sklearn/linear_model/_logistic.py:818: ConvergenceWarning: lbfgs failed to converge (status=1):\n",
            "STOP: TOTAL NO. of ITERATIONS REACHED LIMIT.\n",
            "\n",
            "Increase the number of iterations (max_iter) or scale the data as shown in:\n",
            "    https://scikit-learn.org/stable/modules/preprocessing.html\n",
            "Please also refer to the documentation for alternative solver options:\n",
            "    https://scikit-learn.org/stable/modules/linear_model.html#logistic-regression\n",
            "  extra_warning_msg=_LOGISTIC_SOLVER_CONVERGENCE_MSG,\n",
            "/usr/local/lib/python3.7/dist-packages/sklearn/linear_model/_logistic.py:818: ConvergenceWarning: lbfgs failed to converge (status=1):\n",
            "STOP: TOTAL NO. of ITERATIONS REACHED LIMIT.\n",
            "\n",
            "Increase the number of iterations (max_iter) or scale the data as shown in:\n",
            "    https://scikit-learn.org/stable/modules/preprocessing.html\n",
            "Please also refer to the documentation for alternative solver options:\n",
            "    https://scikit-learn.org/stable/modules/linear_model.html#logistic-regression\n",
            "  extra_warning_msg=_LOGISTIC_SOLVER_CONVERGENCE_MSG,\n",
            "/usr/local/lib/python3.7/dist-packages/sklearn/linear_model/_logistic.py:818: ConvergenceWarning: lbfgs failed to converge (status=1):\n",
            "STOP: TOTAL NO. of ITERATIONS REACHED LIMIT.\n",
            "\n",
            "Increase the number of iterations (max_iter) or scale the data as shown in:\n",
            "    https://scikit-learn.org/stable/modules/preprocessing.html\n",
            "Please also refer to the documentation for alternative solver options:\n",
            "    https://scikit-learn.org/stable/modules/linear_model.html#logistic-regression\n",
            "  extra_warning_msg=_LOGISTIC_SOLVER_CONVERGENCE_MSG,\n",
            "/usr/local/lib/python3.7/dist-packages/sklearn/model_selection/_validation.py:372: FitFailedWarning: \n",
            "35 fits failed out of a total of 70.\n",
            "The score on these train-test partitions for these parameters will be set to nan.\n",
            "If these failures are not expected, you can try to debug them by setting error_score='raise'.\n",
            "\n",
            "Below are more details about the failures:\n",
            "--------------------------------------------------------------------------------\n",
            "35 fits failed with the following error:\n",
            "Traceback (most recent call last):\n",
            "  File \"/usr/local/lib/python3.7/dist-packages/sklearn/model_selection/_validation.py\", line 680, in _fit_and_score\n",
            "    estimator.fit(X_train, y_train, **fit_params)\n",
            "  File \"/usr/local/lib/python3.7/dist-packages/sklearn/linear_model/_logistic.py\", line 1461, in fit\n",
            "    solver = _check_solver(self.solver, self.penalty, self.dual)\n",
            "  File \"/usr/local/lib/python3.7/dist-packages/sklearn/linear_model/_logistic.py\", line 449, in _check_solver\n",
            "    % (solver, penalty)\n",
            "ValueError: Solver lbfgs supports only 'l2' or 'none' penalties, got l1 penalty.\n",
            "\n",
            "  warnings.warn(some_fits_failed_message, FitFailedWarning)\n",
            "/usr/local/lib/python3.7/dist-packages/sklearn/model_selection/_search.py:972: UserWarning: One or more of the test scores are non-finite: [       nan 0.90924802        nan 0.9336367         nan 0.94447509\n",
            "        nan 0.9444567         nan 0.93769075        nan 0.941754\n",
            "        nan 0.93903291]\n",
            "  category=UserWarning,\n"
          ]
        }
      ]
    },
    {
      "cell_type": "markdown",
      "source": [
        "# **Mejor Estimator**"
      ],
      "metadata": {
        "id": "kFLYKDV-6FTv"
      }
    },
    {
      "cell_type": "code",
      "source": [
        "# Mejor Estimador\n",
        "\n",
        "lg_grid.best_estimator_"
      ],
      "metadata": {
        "colab": {
          "base_uri": "https://localhost:8080/"
        },
        "id": "4iWXTbIvwPt9",
        "outputId": "ab880f22-0dab-40dc-cba8-25913c308a48"
      },
      "execution_count": 23,
      "outputs": [
        {
          "output_type": "execute_result",
          "data": {
            "text/plain": [
              "LogisticRegression(C=0.1)"
            ]
          },
          "metadata": {},
          "execution_count": 23
        }
      ]
    },
    {
      "cell_type": "markdown",
      "source": [
        "# **Mejor Score**"
      ],
      "metadata": {
        "id": "bwpDVAU46O-l"
      }
    },
    {
      "cell_type": "code",
      "source": [
        "# Mejor Score\n",
        "\n",
        "lg_grid.best_score_"
      ],
      "metadata": {
        "colab": {
          "base_uri": "https://localhost:8080/"
        },
        "id": "eidNsN936RwC",
        "outputId": "f371d4e0-7dd9-47be-d7a0-2473d8947794"
      },
      "execution_count": 24,
      "outputs": [
        {
          "output_type": "execute_result",
          "data": {
            "text/plain": [
              "0.9444750873322303"
            ]
          },
          "metadata": {},
          "execution_count": 24
        }
      ]
    },
    {
      "cell_type": "markdown",
      "source": [
        "## **Mejores Parametros**"
      ],
      "metadata": {
        "id": "vn8NwkOE8kNj"
      }
    },
    {
      "cell_type": "code",
      "source": [
        "lg_grid.best_params_"
      ],
      "metadata": {
        "colab": {
          "base_uri": "https://localhost:8080/"
        },
        "id": "6QRcflrr8oDp",
        "outputId": "87ba46c5-99c2-471c-9d44-e65f9dfa5dd9"
      },
      "execution_count": 25,
      "outputs": [
        {
          "output_type": "execute_result",
          "data": {
            "text/plain": [
              "{'C': 0.1, 'penalty': 'l2'}"
            ]
          },
          "metadata": {},
          "execution_count": 25
        }
      ]
    },
    {
      "cell_type": "markdown",
      "source": [
        "## **Comentario**"
      ],
      "metadata": {
        "id": "OfYVkhma9PhE"
      }
    },
    {
      "cell_type": "markdown",
      "source": [
        "El mejor estimador que obtuvimos tiene la misma performance que antes."
      ],
      "metadata": {
        "id": "lE0MdcVx9UZt"
      }
    },
    {
      "cell_type": "code",
      "source": [
        "# Scoring\n",
        "\n",
        "lg_best = lg_grid.best_estimator_\n",
        "\n",
        "predictions = lg_best.predict(X_test)\n",
        "\n",
        "print(classification_report(y_test, predictions))\n",
        "print(confusion_matrix(y_test, predictions))"
      ],
      "metadata": {
        "colab": {
          "base_uri": "https://localhost:8080/"
        },
        "id": "OHQykw2F9TuT",
        "outputId": "acf66ab7-cd6b-4793-e0af-581c4d4a7595"
      },
      "execution_count": 26,
      "outputs": [
        {
          "output_type": "stream",
          "name": "stdout",
          "text": [
            "              precision    recall  f1-score   support\n",
            "\n",
            "           0       0.91      0.97      0.94       121\n",
            "           1       0.97      0.91      0.94       125\n",
            "\n",
            "    accuracy                           0.94       246\n",
            "   macro avg       0.94      0.94      0.94       246\n",
            "weighted avg       0.94      0.94      0.94       246\n",
            "\n",
            "[[117   4]\n",
            " [ 11 114]]\n"
          ]
        }
      ]
    },
    {
      "cell_type": "markdown",
      "source": [
        "## **Comentario**"
      ],
      "metadata": {
        "id": "SWunHnUy_z13"
      }
    },
    {
      "cell_type": "markdown",
      "source": [
        "Como podemos ver, el modelo predice muy bien el fraude, donde solo se pierden 2 casos de fraude."
      ],
      "metadata": {
        "id": "6w8C74IZ__CK"
      }
    },
    {
      "cell_type": "markdown",
      "source": [
        "## **Otra forma de Obtener la Matriz de confusión y las métricas**"
      ],
      "metadata": {
        "id": "R6bwPzdPMyhm"
      }
    },
    {
      "cell_type": "code",
      "source": [
        "predictions = lg_best.predict(X_test)\n",
        "\n",
        "\n",
        "label_encoder = LabelEncoder()\n",
        "y_train = label_encoder.fit_transform(y_train)\n",
        "y_test = label_encoder.fit_transform(y_test)\n",
        "\n",
        "\n",
        "\n",
        "plt.figure(figsize = (8,6))\n",
        "confusion_matrix1 = pd.crosstab(label_encoder.inverse_transform(y_test), label_encoder.inverse_transform(predictions), rownames=['Y_test'], colnames=['Y_pred'])\n",
        "\n",
        "sns.heatmap(confusion_matrix1, annot=True,cmap = 'Spectral')\n",
        "plt.title(\"Matriz de confusión\")\n",
        "\n",
        "plt.show()\n",
        "\n",
        "\n",
        "######## Componentes de la Matriz de Confusión ########\n",
        "\n",
        "def print_confusion_matrix(y_test, predictions):\n",
        "    cm = confusion_matrix(y_test, predictions)\n",
        "    print('True positive = ', cm[0][0])\n",
        "    print('False positive = ', cm[0][1])\n",
        "    print('False negative = ', cm[1][0])\n",
        "    print('True negative = ', cm[1][1])\n",
        "\n",
        "\n",
        "print_confusion_matrix(y_test, predictions)\n",
        "\n",
        "\n",
        "#############################################################\n",
        "\n",
        "\n",
        "target_names = ['0', '1']\n",
        "print('\\nMatriz de Confusión:',confusion_matrix(y_test, predictions))\n",
        "print(classification_report(y_test, predictions, target_names=target_names))"
      ],
      "metadata": {
        "colab": {
          "base_uri": "https://localhost:8080/",
          "height": 683
        },
        "id": "X6betl7eJnVO",
        "outputId": "8993afe2-0be2-4662-9b6a-bb3c12f0daeb"
      },
      "execution_count": 27,
      "outputs": [
        {
          "output_type": "display_data",
          "data": {
            "text/plain": [
              "<Figure size 576x432 with 2 Axes>"
            ],
            "image/png": "[encoded data removed]"
          },
          "metadata": {
            "needs_background": "light"
          }
        },
        {
          "output_type": "stream",
          "name": "stdout",
          "text": [
            "True positive =  117\n",
            "False positive =  4\n",
            "False negative =  11\n",
            "True negative =  114\n",
            "\n",
            "Matriz de Confusión: [[117   4]\n",
            " [ 11 114]]\n",
            "              precision    recall  f1-score   support\n",
            "\n",
            "           0       0.91      0.97      0.94       121\n",
            "           1       0.97      0.91      0.94       125\n",
            "\n",
            "    accuracy                           0.94       246\n",
            "   macro avg       0.94      0.94      0.94       246\n",
            "weighted avg       0.94      0.94      0.94       246\n",
            "\n"
          ]
        }
      ]
    }
  ]
}